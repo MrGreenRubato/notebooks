{
 "cells": [
  {
   "cell_type": "markdown",
   "metadata": {},
   "source": [
    "# Multiclass Classification and Neural Networks.\n",
    "usefull links : [http://scikit-learn.org/stable/auto_examples/classification/plot_digits_classification.html] \n"
   ]
  },
  {
   "cell_type": "code",
   "execution_count": 1,
   "metadata": {
    "collapsed": false,
    "scrolled": false
   },
   "outputs": [],
   "source": [
    "from sklearn import datasets\n",
    "from matplotlib import pyplot as plt\n",
    "%matplotlib inline\n",
    "import numpy as np"
   ]
  },
  {
   "cell_type": "code",
   "execution_count": 2,
   "metadata": {
    "collapsed": false
   },
   "outputs": [
    {
     "name": "stdout",
     "output_type": "stream",
     "text": [
      "[X] downloading data...\n"
     ]
    }
   ],
   "source": [
    "\n",
    "print(\"[X] downloading data...\")\n",
    "mnist = datasets.fetch_mldata(\"MNIST Original\")"
   ]
  },
  {
   "cell_type": "code",
   "execution_count": 3,
   "metadata": {
    "collapsed": false
   },
   "outputs": [
    {
     "name": "stdout",
     "output_type": "stream",
     "text": [
      "mnist data shape :  (70000, 784)\n",
      "mnist target shape :  (70000,)\n",
      "target [ 0.  0.  0. ...,  9.  9.  9.]\n",
      "d [0 0 0 ..., 9 9 9]\n"
     ]
    },
    {
     "data": {
      "text/plain": [
       "array([6903, 7877, 6990, 7141, 6824, 6313, 6876, 7293, 6825, 6958])"
      ]
     },
     "execution_count": 3,
     "metadata": {},
     "output_type": "execute_result"
    }
   ],
   "source": [
    "print('mnist data shape : ', mnist.data.shape)\n",
    "print('mnist target shape : ', mnist.target.shape)\n",
    "print('target', mnist.target)\n",
    "w,d = np.unique(mnist.target, return_inverse=True)\n",
    "print('d', d)\n",
    "np.bincount(d)\n"
   ]
  },
  {
   "cell_type": "code",
   "execution_count": 5,
   "metadata": {
    "collapsed": false
   },
   "outputs": [
    {
     "data": {
      "image/png": "[encoded data removed]",
      "text/plain": [
       "<matplotlib.figure.Figure at 0x114dd54a8>"
      ]
     },
     "metadata": {},
     "output_type": "display_data"
    }
   ],
   "source": [
    "n_digits = 10\n",
    "n_display_digits = 5\n",
    "for col in range(n_digits):\n",
    "    for row in range(n_display_digits):\n",
    "        plt.subplot(n_display_digits,n_digits,(col)+ n_digits*row+1)\n",
    "        img = mnist.data[3000+col*6000+row].reshape(28,28)\n",
    "        plt.axis('off')\n",
    "        plt.imshow(img,cmap=plt.cm.gray_r, interpolation='nearest')\n",
    "\n",
    "plt.show()"
   ]
  },
  {
   "cell_type": "markdown",
   "metadata": {},
   "source": [
    "## Let's try to do this multiclass classification manually\n"
   ]
  },
  {
   "cell_type": "code",
   "execution_count": 35,
   "metadata": {
    "collapsed": false
   },
   "outputs": [
    {
     "name": "stdout",
     "output_type": "stream",
     "text": [
      "X_train size : (700, 784)\n",
      "[ 2.  3.  4.  1.  8.  7.  2.  1.  2.  2.  7.  6.  8.  5.  1.  2.  3.  0.\n",
      "  3.  9.  8.  1.  7.  2.  6.  8.  1.  0.  3.  5.  3.  2.  5.  5.  1.  1.\n",
      "  7.  6.  5.  1.  6.  3.  6.  4.  6.  4.  4.  3.  0.  0.  7.  5.  9.  6.\n",
      "  2.  2.  7.  0.  4.  6.  3.  5.  0.  9.  0.  2.  3.  1.  2.  0.  8.  2.\n",
      "  5.  0.  7.  1.  7.  1.  6.  0.  6.  0.  2.  6.  7.  7.  7.  1.  3.  7.\n",
      "  1.  2.  0.  2.  1.  1.  2.  5.  1.  0.  5.  5.  1.  3.  4.  9.  1.  4.\n",
      "  6.  6.  7.  2.  4.  4.  0.  2.  9.  4.  4.  6.  9.  8.  7.  7.  9.  2.\n",
      "  6.  5.  1.  7.  9.  7.  1.  7.  2.  1.  5.  1.  9.  1.  2.  0.  5.  0.\n",
      "  5.  8.  8.  5.  3.  2.  0.  7.  0.  6.  9.  0.  5.  1.  0.  5.  9.  1.\n",
      "  1.  1.  2.  4.  0.  0.  7.  4.  2.  8.  6.  3.  9.  9.  1.  7.  2.  1.\n",
      "  5.  4.  6.  2.  7.  2.  1.  6.  1.  2.  2.  9.  6.  1.  6.  1.  5.  3.\n",
      "  3.  2.  8.  8.  5.  8.  8.  4.  3.  4.  7.  0.  4.  8.  5.  1.  1.  8.\n",
      "  0.  0.  0.  3.  4.  6.  8.  9.  4.  6.  3.  1.  5.  9.  5.  5.  2.  5.\n",
      "  5.  6.  4.  9.  6.  6.  1.  3.  1.  4.  7.  5.  2.  6.  8.  9.  8.  6.\n",
      "  8.  9.  2.  4.  2.  4.  1.  8.  2.  7.  6.  4.  3.  9.  6.  5.  1.  9.\n",
      "  2.  1.  6.  4.  9.  3.  9.  6.  0.  4.  0.  4.  5.  6.  2.  7.  0.  9.\n",
      "  8.  3.  7.  3.  1.  3.  7.  1.  9.  7.  2.  8.  2.  9.  9.  0.  3.  1.\n",
      "  7.  4.  2.  4.  0.  3.  8.  7.  1.  6.  2.  3.  7.  6.  4.  1.  7.  1.\n",
      "  5.  3.  3.  1.  4.  5.  5.  2.  5.  2.  5.  7.  0.  4.  8.  6.  8.  0.\n",
      "  7.  4.  2.  1.  7.  0.  6.  1.  0.  3.  9.  3.  9.  3.  3.  9.  0.  1.\n",
      "  0.  5.  3.  0.  1.  8.  8.  5.  0.  0.  8.  0.  1.  4.  7.  1.  3.  3.\n",
      "  6.  7.  2.  2.  3.  1.  1.  3.  8.  1.  1.  6.  4.  1.  2.  7.  9.  0.\n",
      "  9.  8.  2.  7.  5.  0.  3.  9.  9.  3.  4.  7.  9.  8.  4.  7.  8.  8.\n",
      "  5.  4.  3.  4.  5.  7.  7.  8.  4.  6.  1.  1.  8.  8.  1.  6.  7.  1.\n",
      "  4.  6.  5.  2.  7.  9.  4.  7.  9.  6.  5.  0.  9.  0.  6.  5.  1.  6.\n",
      "  9.  8.  5.  8.  9.  1.  3.  0.  6.  7.  8.  2.  2.  1.  6.  4.  1.  7.\n",
      "  4.  3.  2.  9.  8.  8.  0.  3.  9.  9.  7.  1.  5.  2.  5.  7.  7.  6.\n",
      "  6.  7.  7.  3.  7.  7.  5.  1.  2.  7.  4.  1.  1.  1.  3.  2.  5.  4.\n",
      "  5.  2.  4.  1.  5.  2.  5.  2.  4.  0.  8.  0.  6.  2.  7.  3.  1.  9.\n",
      "  1.  3.  4.  9.  6.  2.  7.  1.  9.  6.  1.  7.  1.  6.  3.  7.  4.  6.\n",
      "  7.  9.  0.  8.  3.  1.  0.  5.  2.  4.  7.  4.  2.  5.  4.  2.  1.  2.\n",
      "  4.  1.  2.  2.  5.  2.  6.  1.  7.  3.  4.  3.  8.  7.  9.  2.  3.  9.\n",
      "  1.  9.  4.  7.  9.  5.  9.  4.  0.  3.  8.  1.  5.  8.  1.  3.  1.  1.\n",
      "  2.  1.  5.  6.  4.  2.  9.  3.  7.  1.  1.  8.  1.  2.  5.  1.  8.  8.\n",
      "  8.  7.  2.  1.  3.  9.  2.  0.  4.  5.  8.  5.  9.  7.  4.  2.  9.  6.\n",
      "  1.  0.  7.  7.  9.  4.  4.  7.  5.  4.  9.  0.  8.  2.  3.  4.  1.  9.\n",
      "  5.  8.  1.  7.  7.  4.  5.  7.  7.  0.  2.  0.  0.  7.  0.  4.  9.  8.\n",
      "  9.  1.  5.  8.  7.  6.  8.  4.  8.  9.  0.  9.  4.  9.  0.  9.  4.  3.\n",
      "  6.  8.  2.  2.  1.  9.  6.  1.  0.  3.  0.  1.  7.  6.  2.  8.]\n"
     ]
    }
   ],
   "source": [
    "from sklearn.cross_validation import train_test_split\n",
    "\n",
    "#Temporarily reduce the training set to speed up execution while testing...\n",
    "X_train, X_test, y_train, y_test = train_test_split(mnist.data, mnist.target, test_size = 0.99)\n",
    "print('X_train size :', X_train.shape)\n",
    "\n",
    "print(y_train)"
   ]
  },
  {
   "cell_type": "markdown",
   "metadata": {},
   "source": [
    "The code of these functions should be in a py file to avoid duplication..."
   ]
  },
  {
   "cell_type": "code",
   "execution_count": 36,
   "metadata": {
    "collapsed": false
   },
   "outputs": [],
   "source": [
    "from scipy.special import expit\n",
    "\n",
    "# Split Cost and Gradient : easier to use on personnal descent algo, and required for optimize.fmin function\n",
    "# finally split Cost and Gradient : easier to use on personnal descent algo, and required for optimize.fmin function\n",
    "def computeCostBFGS(theta, X, y):\n",
    "    # y MUST be a column vector.\n",
    "    y.shape = (y.size,1)\n",
    "\n",
    "    # Number of samples (training examples)\n",
    "    m = y.shape[0]\n",
    "    \n",
    "    theta.shape = (theta.size, 1)\n",
    "\n",
    "    # logistic regression with sigmoid\n",
    "    H = expit(np.dot(X,theta))\n",
    "    \n",
    "    #print('H:', H)\n",
    "    \n",
    "    #print('H:', H)\n",
    "    J = np.sum(-y*(np.log(H)) - (1-y)*np.log(1-H)) / m\n",
    "    \n",
    "    theta.shape = (1,theta.size)\n",
    "    theta = np.ndarray.flatten(theta[0])\n",
    "    \n",
    "    #print('J:', J)\n",
    "\n",
    "    return J\n",
    "\n",
    "\n",
    "def computeGradientBFGS(theta, X, y):\n",
    "    # y MUST be a column vector.\n",
    "    y.shape = (y.size,1)\n",
    "\n",
    "    # Number of samples (training examples)\n",
    "    m = y.shape[0]\n",
    "\n",
    "    theta.shape = (theta.size, 1)\n",
    "\n",
    "    # logistic regression with sigmoid\n",
    "    H = expit(np.dot(X,theta))\n",
    "    \n",
    "    grad = np.dot( ((H-y) / m).transpose(), X) / m\n",
    "    grad.shape = (grad.size, 1)\n",
    "    theta.shape = (theta.size)\n",
    "    theta = np.ndarray.flatten(theta)\n",
    "    grad = np.ndarray.flatten(grad)\n",
    "    \n",
    "    return grad\n"
   ]
  },
  {
   "cell_type": "code",
   "execution_count": 37,
   "metadata": {
    "collapsed": false
   },
   "outputs": [
    {
     "name": "stdout",
     "output_type": "stream",
     "text": [
      "X shape (700, 785)\n",
      "y :  [ 2.  3.  4.  1.  8.  7.  2.  1.  2.  2.  7.  6.  8.  5.  1.  2.  3.  0.\n",
      "  3.  9.  8.  1.  7.  2.  6.  8.  1.  0.  3.  5.  3.  2.  5.  5.  1.  1.\n",
      "  7.  6.  5.  1.  6.  3.  6.  4.  6.  4.  4.  3.  0.  0.  7.  5.  9.  6.\n",
      "  2.  2.  7.  0.  4.  6.  3.  5.  0.  9.  0.  2.  3.  1.  2.  0.  8.  2.\n",
      "  5.  0.  7.  1.  7.  1.  6.  0.  6.  0.  2.  6.  7.  7.  7.  1.  3.  7.\n",
      "  1.  2.  0.  2.  1.  1.  2.  5.  1.  0.  5.  5.  1.  3.  4.  9.  1.  4.\n",
      "  6.  6.  7.  2.  4.  4.  0.  2.  9.  4.  4.  6.  9.  8.  7.  7.  9.  2.\n",
      "  6.  5.  1.  7.  9.  7.  1.  7.  2.  1.  5.  1.  9.  1.  2.  0.  5.  0.\n",
      "  5.  8.  8.  5.  3.  2.  0.  7.  0.  6.  9.  0.  5.  1.  0.  5.  9.  1.\n",
      "  1.  1.  2.  4.  0.  0.  7.  4.  2.  8.  6.  3.  9.  9.  1.  7.  2.  1.\n",
      "  5.  4.  6.  2.  7.  2.  1.  6.  1.  2.  2.  9.  6.  1.  6.  1.  5.  3.\n",
      "  3.  2.  8.  8.  5.  8.  8.  4.  3.  4.  7.  0.  4.  8.  5.  1.  1.  8.\n",
      "  0.  0.  0.  3.  4.  6.  8.  9.  4.  6.  3.  1.  5.  9.  5.  5.  2.  5.\n",
      "  5.  6.  4.  9.  6.  6.  1.  3.  1.  4.  7.  5.  2.  6.  8.  9.  8.  6.\n",
      "  8.  9.  2.  4.  2.  4.  1.  8.  2.  7.  6.  4.  3.  9.  6.  5.  1.  9.\n",
      "  2.  1.  6.  4.  9.  3.  9.  6.  0.  4.  0.  4.  5.  6.  2.  7.  0.  9.\n",
      "  8.  3.  7.  3.  1.  3.  7.  1.  9.  7.  2.  8.  2.  9.  9.  0.  3.  1.\n",
      "  7.  4.  2.  4.  0.  3.  8.  7.  1.  6.  2.  3.  7.  6.  4.  1.  7.  1.\n",
      "  5.  3.  3.  1.  4.  5.  5.  2.  5.  2.  5.  7.  0.  4.  8.  6.  8.  0.\n",
      "  7.  4.  2.  1.  7.  0.  6.  1.  0.  3.  9.  3.  9.  3.  3.  9.  0.  1.\n",
      "  0.  5.  3.  0.  1.  8.  8.  5.  0.  0.  8.  0.  1.  4.  7.  1.  3.  3.\n",
      "  6.  7.  2.  2.  3.  1.  1.  3.  8.  1.  1.  6.  4.  1.  2.  7.  9.  0.\n",
      "  9.  8.  2.  7.  5.  0.  3.  9.  9.  3.  4.  7.  9.  8.  4.  7.  8.  8.\n",
      "  5.  4.  3.  4.  5.  7.  7.  8.  4.  6.  1.  1.  8.  8.  1.  6.  7.  1.\n",
      "  4.  6.  5.  2.  7.  9.  4.  7.  9.  6.  5.  0.  9.  0.  6.  5.  1.  6.\n",
      "  9.  8.  5.  8.  9.  1.  3.  0.  6.  7.  8.  2.  2.  1.  6.  4.  1.  7.\n",
      "  4.  3.  2.  9.  8.  8.  0.  3.  9.  9.  7.  1.  5.  2.  5.  7.  7.  6.\n",
      "  6.  7.  7.  3.  7.  7.  5.  1.  2.  7.  4.  1.  1.  1.  3.  2.  5.  4.\n",
      "  5.  2.  4.  1.  5.  2.  5.  2.  4.  0.  8.  0.  6.  2.  7.  3.  1.  9.\n",
      "  1.  3.  4.  9.  6.  2.  7.  1.  9.  6.  1.  7.  1.  6.  3.  7.  4.  6.\n",
      "  7.  9.  0.  8.  3.  1.  0.  5.  2.  4.  7.  4.  2.  5.  4.  2.  1.  2.\n",
      "  4.  1.  2.  2.  5.  2.  6.  1.  7.  3.  4.  3.  8.  7.  9.  2.  3.  9.\n",
      "  1.  9.  4.  7.  9.  5.  9.  4.  0.  3.  8.  1.  5.  8.  1.  3.  1.  1.\n",
      "  2.  1.  5.  6.  4.  2.  9.  3.  7.  1.  1.  8.  1.  2.  5.  1.  8.  8.\n",
      "  8.  7.  2.  1.  3.  9.  2.  0.  4.  5.  8.  5.  9.  7.  4.  2.  9.  6.\n",
      "  1.  0.  7.  7.  9.  4.  4.  7.  5.  4.  9.  0.  8.  2.  3.  4.  1.  9.\n",
      "  5.  8.  1.  7.  7.  4.  5.  7.  7.  0.  2.  0.  0.  7.  0.  4.  9.  8.\n",
      "  9.  1.  5.  8.  7.  6.  8.  4.  8.  9.  0.  9.  4.  9.  0.  9.  4.  3.\n",
      "  6.  8.  2.  2.  1.  9.  6.  1.  0.  3.  0.  1.  7.  6.  2.  8.]\n",
      "==== Initial Cost : 0.69314718056\n",
      "= grad shape :  (785,)\n",
      "Cost : 0.0066761846252\n",
      "Cost evolution [0.20558100478732802, 0.039693147135272222, 0.023474507872626695, 0.016936997272371031, 0.013348534404401501, 0.011063320467948348, 0.0094731914218861117, 0.0082992935805275784, 0.0073951464046554498, 0.006676184625201506]\n"
     ]
    },
    {
     "data": {
      "image/png": "[encoded data removed]",
      "text/plain": [
       "<matplotlib.figure.Figure at 0x10eabfff2b0>"
      ]
     },
     "metadata": {},
     "output_type": "display_data"
    },
    {
     "name": "stdout",
     "output_type": "stream",
     "text": [
      "==== Initial Cost : 0.69314718056\n",
      "= grad shape :  (785,)\n",
      "Cost : 0.0835525770104\n",
      "Cost evolution [0.36675952556602015, 0.21275940153986186, 0.16292277996678128, 0.13627464078444859, 0.11968508415629048, 0.10824729496234917, 0.09979323838037378, 0.093227157734772886, 0.087936714943851663, 0.083552577010439416]\n"
     ]
    },
    {
     "data": {
      "image/png": "[encoded data removed]",
      "text/plain": [
       "<matplotlib.figure.Figure at 0x10eaa70f550>"
      ]
     },
     "metadata": {},
     "output_type": "display_data"
    },
    {
     "name": "stdout",
     "output_type": "stream",
     "text": [
      "==== Initial Cost : 0.69314718056\n",
      "= grad shape :  (785,)\n",
      "Cost : 0.141226079266\n",
      "Cost evolution [0.41419264771737851, 0.29326585824826112, 0.2426337542295782, 0.21177420304980379, 0.19106932516548705, 0.17605362305020078, 0.16452620133330476, 0.15529892303405377, 0.14767684190489958, 0.14122607926556]\n"
     ]
    },
    {
     "data": {
      "image/png": "[encoded data removed]",
      "text/plain": [
       "<matplotlib.figure.Figure at 0x10eaaf8ee10>"
      ]
     },
     "metadata": {},
     "output_type": "display_data"
    },
    {
     "name": "stdout",
     "output_type": "stream",
     "text": [
      "==== Initial Cost : 0.69314718056\n",
      "= grad shape :  (785,)\n",
      "Cost : 0.124702629712\n",
      "Cost evolution [0.36824587231199968, 0.25737741209307802, 0.21675659774251191, 0.18976181449759763, 0.17090884018323746, 0.15701532022995249, 0.14629723509813117, 0.13772071365681823, 0.13065650638327653, 0.12470262971209808]\n"
     ]
    },
    {
     "data": {
      "image/png": "[encoded data removed]",
      "text/plain": [
       "<matplotlib.figure.Figure at 0x10ea7f751d0>"
      ]
     },
     "metadata": {},
     "output_type": "display_data"
    },
    {
     "name": "stdout",
     "output_type": "stream",
     "text": [
      "==== Initial Cost : 0.69314718056\n",
      "= grad shape :  (785,)\n",
      "Cost : 0.121413145793\n",
      "Cost evolution [0.37783496760520829, 0.25411981893184538, 0.20924325536015378, 0.18205232279883002, 0.16395902668308546, 0.15096527685040115, 0.14108551775900249, 0.13324544749696315, 0.1268179346474162, 0.12141314579266263]\n"
     ]
    },
    {
     "data": {
      "image/png": "[encoded data removed]",
      "text/plain": [
       "<matplotlib.figure.Figure at 0x10eaadd5198>"
      ]
     },
     "metadata": {},
     "output_type": "display_data"
    },
    {
     "name": "stdout",
     "output_type": "stream",
     "text": [
      "==== Initial Cost : 0.69314718056\n",
      "= grad shape :  (785,)\n",
      "Cost : 0.163915294566\n",
      "Cost evolution [0.36595666552872158, 0.27434245152804171, 0.24584480670761708, 0.22495557579202069, 0.209045600283389, 0.19647238104839843, 0.18621582025806308, 0.1776299149546019, 0.17029192568072316, 0.16391529456624149]\n"
     ]
    },
    {
     "data": {
      "image/png": "[encoded data removed]",
      "text/plain": [
       "<matplotlib.figure.Figure at 0x10eac1bbba8>"
      ]
     },
     "metadata": {},
     "output_type": "display_data"
    },
    {
     "name": "stdout",
     "output_type": "stream",
     "text": [
      "==== Initial Cost : 0.69314718056\n",
      "= grad shape :  (785,)\n",
      "Cost : 0.101892506544\n",
      "Cost evolution [0.3707490778812787, 0.24460109840419617, 0.19608887754217533, 0.16615805523922761, 0.1464115354000711, 0.13245153714220437, 0.12201933433024921, 0.11388275279497077, 0.10732244704456645, 0.10189250654358986]\n"
     ]
    },
    {
     "data": {
      "image/png": "[encoded data removed]",
      "text/plain": [
       "<matplotlib.figure.Figure at 0x10eaa69e780>"
      ]
     },
     "metadata": {},
     "output_type": "display_data"
    },
    {
     "name": "stdout",
     "output_type": "stream",
     "text": [
      "==== Initial Cost : 0.69314718056\n",
      "= grad shape :  (785,)\n",
      "Cost : 0.112272815838\n",
      "Cost evolution [0.38396976121311216, 0.25171696360505769, 0.20185298516461528, 0.17281402168968588, 0.15408049979018532, 0.14095269763764945, 0.13117244378520898, 0.12354543852457019, 0.11738585214782137, 0.11227281583791401]\n"
     ]
    },
    {
     "data": {
      "image/png": "[encoded data removed]",
      "text/plain": [
       "<matplotlib.figure.Figure at 0x10eac1e4518>"
      ]
     },
     "metadata": {},
     "output_type": "display_data"
    },
    {
     "name": "stdout",
     "output_type": "stream",
     "text": [
      "==== Initial Cost : 0.69314718056\n",
      "= grad shape :  (785,)\n",
      "Cost : 0.209620488307\n",
      "Cost evolution [0.38539749462577916, 0.30926118366240873, 0.28540026431088061, 0.26689762452092436, 0.25228150384190207, 0.24049436525205595, 0.23078769858347478, 0.22263603878618735, 0.21566861265055512, 0.20962048830663566]\n"
     ]
    },
    {
     "data": {
      "image/png": "[encoded data removed]",
      "text/plain": [
       "<matplotlib.figure.Figure at 0x10ea8a8b630>"
      ]
     },
     "metadata": {},
     "output_type": "display_data"
    },
    {
     "name": "stdout",
     "output_type": "stream",
     "text": [
      "==== Initial Cost : 0.69314718056\n",
      "= grad shape :  (785,)\n",
      "Cost : 0.180505417203\n",
      "Cost evolution [0.37657299916377318, 0.28157559530145088, 0.25229123042832341, 0.23301291043389882, 0.21910738453440287, 0.20835849385068789, 0.19963606591965116, 0.19231404421609305, 0.18601733709008361, 0.18050541720315688]\n"
     ]
    },
    {
     "data": {
      "image/png": "[encoded data removed]",
      "text/plain": [
       "<matplotlib.figure.Figure at 0x10eac1bb3c8>"
      ]
     },
     "metadata": {},
     "output_type": "display_data"
    },
    {
     "name": "stdout",
     "output_type": "stream",
     "text": [
      "All_Theta:  [  3.51830252e-06   0.00000000e+00   0.00000000e+00 ...,   0.00000000e+00\n",
      "   0.00000000e+00   0.00000000e+00]\n"
     ]
    }
   ],
   "source": [
    "# m : number of training samples\n",
    "# n : number of features\n",
    "m, n = X_train.shape\n",
    "\n",
    "# add this dummy parameter to X\n",
    "ones = np.ones((m, 1))\n",
    "X = np.hstack((ones, X_train))\n",
    "print('X shape', X.shape)\n",
    "\n",
    "all_theta = np.array([])\n",
    "\n",
    "print('y : ', y_train.transpose())\n",
    "\n",
    "# One vs all algorith\n",
    "for value in range(10):\n",
    "    y = np.copy(y_train)\n",
    "    y[y!=value] = 0\n",
    "    y[y==value] = 1\n",
    "    # prior to computing the cost, we must initialize theta (weights, params...) to a zero matrix (could be also a random matrix)\n",
    "    # we have n+1 parameters because of the \"dummy parameter\"\n",
    "    theta = np.zeros(n+1)\n",
    "\n",
    "    #print('y : ', y)\n",
    "    #print('Theta: ', theta)\n",
    "    #cost, grad = computeCostOptim(theta, X, y)\n",
    "    cost = computeCostBFGS(theta, X, y)\n",
    "    grad = computeGradientBFGS(theta, X, y)\n",
    "    print('==== Initial Cost :', cost)\n",
    "    #print('==== Initial Gradient :', grad)\n",
    "    print('= grad shape : ', grad.shape)\n",
    "    alpha = 0.001\n",
    "    cost_evolution = []\n",
    "    # Number of samples (training examples)\n",
    "    m = y.shape[0]\n",
    "\n",
    "    for i in range(100):\n",
    "        theta = theta - alpha*grad\n",
    "        #print('theta :', theta)\n",
    "        if i%10 == 0:\n",
    "            #cost, grad = gradientDescent(theta, X, y, m, True)\n",
    "            cost = computeCostBFGS(theta, X, y)\n",
    "            grad = computeGradientBFGS(theta, X, y)\n",
    "            cost_evolution.append(cost)\n",
    "        else:\n",
    "            #cost, grad = gradientDescent(theta, X, y, m, False)\n",
    "            grad = computeGradientBFGS(theta, X, y)\n",
    "\n",
    "    all_theta = np.hstack((all_theta, theta))\n",
    "    #print('Theta: ', theta)\n",
    "    print('Cost :', cost)\n",
    "    print('Cost evolution', cost_evolution)\n",
    "    plt.plot(range(len(cost_evolution)), cost_evolution)\n",
    "    plt.xlim((0,len(cost_evolution)))\n",
    "    plt.ylim((0, 1))\n",
    "    plt.show()\n",
    "\n",
    "print('All_Theta: ', all_theta.transpose())\n",
    "    \n"
   ]
  },
  {
   "cell_type": "code",
   "execution_count": null,
   "metadata": {
    "collapsed": true
   },
   "outputs": [],
   "source": []
  },
  {
   "cell_type": "code",
   "execution_count": 38,
   "metadata": {
    "collapsed": false
   },
   "outputs": [
    {
     "name": "stdout",
     "output_type": "stream",
     "text": [
      "y train [ 2.  3.  4.  1.  8.  7.  2.  1.  2.  2.  7.  6.  8.  5.  1.  2.  3.  0.\n",
      "  3.  9.  8.  1.  7.  2.  6.  8.  1.  0.  3.  5.  3.  2.  5.  5.  1.  1.\n",
      "  7.  6.  5.  1.  6.  3.  6.  4.  6.  4.  4.  3.  0.  0.  7.  5.  9.  6.\n",
      "  2.  2.  7.  0.  4.  6.  3.  5.  0.  9.  0.  2.  3.  1.  2.  0.  8.  2.\n",
      "  5.  0.  7.  1.  7.  1.  6.  0.  6.  0.  2.  6.  7.  7.  7.  1.  3.  7.\n",
      "  1.  2.  0.  2.  1.  1.  2.  5.  1.  0.  5.  5.  1.  3.  4.  9.  1.  4.\n",
      "  6.  6.  7.  2.  4.  4.  0.  2.  9.  4.  4.  6.  9.  8.  7.  7.  9.  2.\n",
      "  6.  5.  1.  7.  9.  7.  1.  7.  2.  1.  5.  1.  9.  1.  2.  0.  5.  0.\n",
      "  5.  8.  8.  5.  3.  2.  0.  7.  0.  6.  9.  0.  5.  1.  0.  5.  9.  1.\n",
      "  1.  1.  2.  4.  0.  0.  7.  4.  2.  8.  6.  3.  9.  9.  1.  7.  2.  1.\n",
      "  5.  4.  6.  2.  7.  2.  1.  6.  1.  2.  2.  9.  6.  1.  6.  1.  5.  3.\n",
      "  3.  2.  8.  8.  5.  8.  8.  4.  3.  4.  7.  0.  4.  8.  5.  1.  1.  8.\n",
      "  0.  0.  0.  3.  4.  6.  8.  9.  4.  6.  3.  1.  5.  9.  5.  5.  2.  5.\n",
      "  5.  6.  4.  9.  6.  6.  1.  3.  1.  4.  7.  5.  2.  6.  8.  9.  8.  6.\n",
      "  8.  9.  2.  4.  2.  4.  1.  8.  2.  7.  6.  4.  3.  9.  6.  5.  1.  9.\n",
      "  2.  1.  6.  4.  9.  3.  9.  6.  0.  4.  0.  4.  5.  6.  2.  7.  0.  9.\n",
      "  8.  3.  7.  3.  1.  3.  7.  1.  9.  7.  2.  8.  2.  9.  9.  0.  3.  1.\n",
      "  7.  4.  2.  4.  0.  3.  8.  7.  1.  6.  2.  3.  7.  6.  4.  1.  7.  1.\n",
      "  5.  3.  3.  1.  4.  5.  5.  2.  5.  2.  5.  7.  0.  4.  8.  6.  8.  0.\n",
      "  7.  4.  2.  1.  7.  0.  6.  1.  0.  3.  9.  3.  9.  3.  3.  9.  0.  1.\n",
      "  0.  5.  3.  0.  1.  8.  8.  5.  0.  0.  8.  0.  1.  4.  7.  1.  3.  3.\n",
      "  6.  7.  2.  2.  3.  1.  1.  3.  8.  1.  1.  6.  4.  1.  2.  7.  9.  0.\n",
      "  9.  8.  2.  7.  5.  0.  3.  9.  9.  3.  4.  7.  9.  8.  4.  7.  8.  8.\n",
      "  5.  4.  3.  4.  5.  7.  7.  8.  4.  6.  1.  1.  8.  8.  1.  6.  7.  1.\n",
      "  4.  6.  5.  2.  7.  9.  4.  7.  9.  6.  5.  0.  9.  0.  6.  5.  1.  6.\n",
      "  9.  8.  5.  8.  9.  1.  3.  0.  6.  7.  8.  2.  2.  1.  6.  4.  1.  7.\n",
      "  4.  3.  2.  9.  8.  8.  0.  3.  9.  9.  7.  1.  5.  2.  5.  7.  7.  6.\n",
      "  6.  7.  7.  3.  7.  7.  5.  1.  2.  7.  4.  1.  1.  1.  3.  2.  5.  4.\n",
      "  5.  2.  4.  1.  5.  2.  5.  2.  4.  0.  8.  0.  6.  2.  7.  3.  1.  9.\n",
      "  1.  3.  4.  9.  6.  2.  7.  1.  9.  6.  1.  7.  1.  6.  3.  7.  4.  6.\n",
      "  7.  9.  0.  8.  3.  1.  0.  5.  2.  4.  7.  4.  2.  5.  4.  2.  1.  2.\n",
      "  4.  1.  2.  2.  5.  2.  6.  1.  7.  3.  4.  3.  8.  7.  9.  2.  3.  9.\n",
      "  1.  9.  4.  7.  9.  5.  9.  4.  0.  3.  8.  1.  5.  8.  1.  3.  1.  1.\n",
      "  2.  1.  5.  6.  4.  2.  9.  3.  7.  1.  1.  8.  1.  2.  5.  1.  8.  8.\n",
      "  8.  7.  2.  1.  3.  9.  2.  0.  4.  5.  8.  5.  9.  7.  4.  2.  9.  6.\n",
      "  1.  0.  7.  7.  9.  4.  4.  7.  5.  4.  9.  0.  8.  2.  3.  4.  1.  9.\n",
      "  5.  8.  1.  7.  7.  4.  5.  7.  7.  0.  2.  0.  0.  7.  0.  4.  9.  8.\n",
      "  9.  1.  5.  8.  7.  6.  8.  4.  8.  9.  0.  9.  4.  9.  0.  9.  4.  3.\n",
      "  6.  8.  2.  2.  1.  9.  6.  1.  0.  3.  0.  1.  7.  6.  2.  8.]\n",
      "Optimization terminated successfully.\n",
      "         Current function value: nan\n",
      "         Iterations: 15\n",
      "         Function evaluations: 76\n",
      "         Gradient evaluations: 126\n",
      "         Hessian evaluations: 0\n"
     ]
    },
    {
     "name": "stderr",
     "output_type": "stream",
     "text": [
      "C:\\Users\\nmauger\\AppData\\Local\\Continuum\\Anaconda3\\lib\\site-packages\\ipykernel\\__main__.py:20: RuntimeWarning: divide by zero encountered in log\n",
      "C:\\Users\\nmauger\\AppData\\Local\\Continuum\\Anaconda3\\lib\\site-packages\\ipykernel\\__main__.py:20: RuntimeWarning: invalid value encountered in multiply\n",
      "C:\\Users\\nmauger\\AppData\\Local\\Continuum\\Anaconda3\\lib\\site-packages\\ipykernel\\__main__.py:20: RuntimeWarning: divide by zero encountered in log\n",
      "C:\\Users\\nmauger\\AppData\\Local\\Continuum\\Anaconda3\\lib\\site-packages\\ipykernel\\__main__.py:20: RuntimeWarning: invalid value encountered in multiply\n",
      "C:\\Users\\nmauger\\AppData\\Local\\Continuum\\Anaconda3\\lib\\site-packages\\ipykernel\\__main__.py:20: RuntimeWarning: divide by zero encountered in log\n",
      "C:\\Users\\nmauger\\AppData\\Local\\Continuum\\Anaconda3\\lib\\site-packages\\ipykernel\\__main__.py:20: RuntimeWarning: invalid value encountered in multiply\n",
      "C:\\Users\\nmauger\\AppData\\Local\\Continuum\\Anaconda3\\lib\\site-packages\\ipykernel\\__main__.py:20: RuntimeWarning: divide by zero encountered in log\n",
      "C:\\Users\\nmauger\\AppData\\Local\\Continuum\\Anaconda3\\lib\\site-packages\\ipykernel\\__main__.py:20: RuntimeWarning: invalid value encountered in multiply\n",
      "C:\\Users\\nmauger\\AppData\\Local\\Continuum\\Anaconda3\\lib\\site-packages\\ipykernel\\__main__.py:20: RuntimeWarning: divide by zero encountered in log\n",
      "C:\\Users\\nmauger\\AppData\\Local\\Continuum\\Anaconda3\\lib\\site-packages\\ipykernel\\__main__.py:20: RuntimeWarning: invalid value encountered in multiply\n"
     ]
    },
    {
     "name": "stdout",
     "output_type": "stream",
     "text": [
      "Optimization terminated successfully.\n",
      "         Current function value: 0.000003\n",
      "         Iterations: 19\n",
      "         Function evaluations: 20\n",
      "         Gradient evaluations: 292\n",
      "         Hessian evaluations: 0\n"
     ]
    },
    {
     "name": "stderr",
     "output_type": "stream",
     "text": [
      "C:\\Users\\nmauger\\AppData\\Local\\Continuum\\Anaconda3\\lib\\site-packages\\ipykernel\\__main__.py:20: RuntimeWarning: divide by zero encountered in log\n",
      "C:\\Users\\nmauger\\AppData\\Local\\Continuum\\Anaconda3\\lib\\site-packages\\ipykernel\\__main__.py:20: RuntimeWarning: invalid value encountered in multiply\n",
      "C:\\Users\\nmauger\\AppData\\Local\\Continuum\\Anaconda3\\lib\\site-packages\\ipykernel\\__main__.py:20: RuntimeWarning: divide by zero encountered in log\n",
      "C:\\Users\\nmauger\\AppData\\Local\\Continuum\\Anaconda3\\lib\\site-packages\\ipykernel\\__main__.py:20: RuntimeWarning: invalid value encountered in multiply\n",
      "C:\\Users\\nmauger\\AppData\\Local\\Continuum\\Anaconda3\\lib\\site-packages\\ipykernel\\__main__.py:20: RuntimeWarning: divide by zero encountered in log\n",
      "C:\\Users\\nmauger\\AppData\\Local\\Continuum\\Anaconda3\\lib\\site-packages\\ipykernel\\__main__.py:20: RuntimeWarning: invalid value encountered in multiply\n",
      "C:\\Users\\nmauger\\AppData\\Local\\Continuum\\Anaconda3\\lib\\site-packages\\ipykernel\\__main__.py:20: RuntimeWarning: divide by zero encountered in log\n",
      "C:\\Users\\nmauger\\AppData\\Local\\Continuum\\Anaconda3\\lib\\site-packages\\ipykernel\\__main__.py:20: RuntimeWarning: invalid value encountered in multiply\n",
      "C:\\Users\\nmauger\\AppData\\Local\\Continuum\\Anaconda3\\lib\\site-packages\\ipykernel\\__main__.py:20: RuntimeWarning: divide by zero encountered in log\n",
      "C:\\Users\\nmauger\\AppData\\Local\\Continuum\\Anaconda3\\lib\\site-packages\\ipykernel\\__main__.py:20: RuntimeWarning: invalid value encountered in multiply\n",
      "C:\\Users\\nmauger\\AppData\\Local\\Continuum\\Anaconda3\\lib\\site-packages\\ipykernel\\__main__.py:20: RuntimeWarning: divide by zero encountered in log\n",
      "C:\\Users\\nmauger\\AppData\\Local\\Continuum\\Anaconda3\\lib\\site-packages\\ipykernel\\__main__.py:20: RuntimeWarning: invalid value encountered in multiply\n",
      "C:\\Users\\nmauger\\AppData\\Local\\Continuum\\Anaconda3\\lib\\site-packages\\ipykernel\\__main__.py:20: RuntimeWarning: divide by zero encountered in log\n",
      "C:\\Users\\nmauger\\AppData\\Local\\Continuum\\Anaconda3\\lib\\site-packages\\ipykernel\\__main__.py:20: RuntimeWarning: invalid value encountered in multiply\n",
      "C:\\Users\\nmauger\\AppData\\Local\\Continuum\\Anaconda3\\lib\\site-packages\\ipykernel\\__main__.py:20: RuntimeWarning: divide by zero encountered in log\n",
      "C:\\Users\\nmauger\\AppData\\Local\\Continuum\\Anaconda3\\lib\\site-packages\\ipykernel\\__main__.py:20: RuntimeWarning: invalid value encountered in multiply\n",
      "C:\\Users\\nmauger\\AppData\\Local\\Continuum\\Anaconda3\\lib\\site-packages\\ipykernel\\__main__.py:20: RuntimeWarning: divide by zero encountered in log\n",
      "C:\\Users\\nmauger\\AppData\\Local\\Continuum\\Anaconda3\\lib\\site-packages\\ipykernel\\__main__.py:20: RuntimeWarning: invalid value encountered in multiply\n",
      "C:\\Users\\nmauger\\AppData\\Local\\Continuum\\Anaconda3\\lib\\site-packages\\ipykernel\\__main__.py:20: RuntimeWarning: divide by zero encountered in log\n",
      "C:\\Users\\nmauger\\AppData\\Local\\Continuum\\Anaconda3\\lib\\site-packages\\ipykernel\\__main__.py:20: RuntimeWarning: invalid value encountered in multiply\n",
      "C:\\Users\\nmauger\\AppData\\Local\\Continuum\\Anaconda3\\lib\\site-packages\\ipykernel\\__main__.py:20: RuntimeWarning: divide by zero encountered in log\n",
      "C:\\Users\\nmauger\\AppData\\Local\\Continuum\\Anaconda3\\lib\\site-packages\\ipykernel\\__main__.py:20: RuntimeWarning: invalid value encountered in multiply\n",
      "C:\\Users\\nmauger\\AppData\\Local\\Continuum\\Anaconda3\\lib\\site-packages\\ipykernel\\__main__.py:20: RuntimeWarning: divide by zero encountered in log\n",
      "C:\\Users\\nmauger\\AppData\\Local\\Continuum\\Anaconda3\\lib\\site-packages\\ipykernel\\__main__.py:20: RuntimeWarning: invalid value encountered in multiply\n",
      "C:\\Users\\nmauger\\AppData\\Local\\Continuum\\Anaconda3\\lib\\site-packages\\ipykernel\\__main__.py:20: RuntimeWarning: divide by zero encountered in log\n",
      "C:\\Users\\nmauger\\AppData\\Local\\Continuum\\Anaconda3\\lib\\site-packages\\ipykernel\\__main__.py:20: RuntimeWarning: invalid value encountered in multiply\n"
     ]
    },
    {
     "name": "stdout",
     "output_type": "stream",
     "text": [
      "Optimization terminated successfully.\n",
      "         Current function value: nan\n",
      "         Iterations: 17\n",
      "         Function evaluations: 198\n",
      "         Gradient evaluations: 374\n",
      "         Hessian evaluations: 0\n",
      "Optimization terminated successfully.\n",
      "         Current function value: 0.009249\n",
      "         Iterations: 8\n",
      "         Function evaluations: 9\n",
      "         Gradient evaluations: 48\n",
      "         Hessian evaluations: 0\n",
      "Optimization terminated successfully.\n",
      "         Current function value: 0.000004\n",
      "         Iterations: 17\n",
      "         Function evaluations: 18\n",
      "         Gradient evaluations: 202\n",
      "         Hessian evaluations: 0\n",
      "Optimization terminated successfully.\n",
      "         Current function value: 0.086393\n",
      "         Iterations: 6\n",
      "         Function evaluations: 7\n",
      "         Gradient evaluations: 32\n",
      "         Hessian evaluations: 0\n",
      "Optimization terminated successfully.\n",
      "         Current function value: 0.000002\n",
      "         Iterations: 17\n",
      "         Function evaluations: 18\n",
      "         Gradient evaluations: 166\n",
      "         Hessian evaluations: 0\n",
      "Optimization terminated successfully.\n",
      "         Current function value: nan\n",
      "         Iterations: 18\n",
      "         Function evaluations: 48\n",
      "         Gradient evaluations: 251\n",
      "         Hessian evaluations: 0\n",
      "Optimization terminated successfully.\n",
      "         Current function value: 0.330273\n",
      "         Iterations: 2\n",
      "         Function evaluations: 3\n",
      "         Gradient evaluations: 8\n",
      "         Hessian evaluations: 0\n",
      "Optimization terminated successfully.\n",
      "         Current function value: 0.123797\n",
      "         Iterations: 6\n",
      "         Function evaluations: 7\n",
      "         Gradient evaluations: 28\n",
      "         Hessian evaluations: 0\n",
      "SOLUTION :  [  1.53759276e-05   0.00000000e+00   0.00000000e+00 ...,   0.00000000e+00\n",
      "   0.00000000e+00   0.00000000e+00]\n"
     ]
    },
    {
     "name": "stderr",
     "output_type": "stream",
     "text": [
      "C:\\Users\\nmauger\\AppData\\Local\\Continuum\\Anaconda3\\lib\\site-packages\\ipykernel\\__main__.py:20: RuntimeWarning: divide by zero encountered in log\n",
      "C:\\Users\\nmauger\\AppData\\Local\\Continuum\\Anaconda3\\lib\\site-packages\\ipykernel\\__main__.py:20: RuntimeWarning: invalid value encountered in multiply\n",
      "C:\\Users\\nmauger\\AppData\\Local\\Continuum\\Anaconda3\\lib\\site-packages\\ipykernel\\__main__.py:20: RuntimeWarning: divide by zero encountered in log\n",
      "C:\\Users\\nmauger\\AppData\\Local\\Continuum\\Anaconda3\\lib\\site-packages\\ipykernel\\__main__.py:20: RuntimeWarning: invalid value encountered in multiply\n",
      "C:\\Users\\nmauger\\AppData\\Local\\Continuum\\Anaconda3\\lib\\site-packages\\ipykernel\\__main__.py:20: RuntimeWarning: divide by zero encountered in log\n",
      "C:\\Users\\nmauger\\AppData\\Local\\Continuum\\Anaconda3\\lib\\site-packages\\ipykernel\\__main__.py:20: RuntimeWarning: invalid value encountered in multiply\n"
     ]
    }
   ],
   "source": [
    "m, n = X_train.shape\n",
    "\n",
    "print('y train', y_train)\n",
    "\n",
    "all_theta = np.array([])\n",
    "\n",
    "# One vs all algorith\n",
    "for value in range(10):\n",
    "    y = np.copy(y_train)\n",
    "    y[y!=value] = 0\n",
    "    y[y==value] = 1\n",
    "\n",
    "    # prior to computing the cost, we must initialize theta (weights, params...) to a zero matrix (could be also a random matrix)\n",
    "    # we have n+1 parameters because of the \"dummy parameter\"\n",
    "    theta = np.zeros(n+1)\n",
    "\n",
    "    # add this dummy parameter to X\n",
    "    ones = np.ones((m, 1))\n",
    "    X = np.hstack((ones, X_train))\n",
    "\n",
    "\n",
    "    from scipy import optimize\n",
    "\n",
    "    # prior to computing the cost, we must initialize theta (weights, params...) to a zero matrix (could be also a random matrix)\n",
    "    # we have n+1 parameters because of the \"dummy parameter\"\n",
    "    init_theta = np.zeros((n+1))\n",
    "    theta = optimize.fmin_ncg(computeCostBFGS, x0=init_theta, args=(X,y), fprime=computeGradientBFGS)\n",
    "    #print('SOLUTION : ', theta)\n",
    "    all_theta = np.hstack((all_theta, theta))\n",
    "    \n",
    "print('SOLUTION : ', all_theta)\n"
   ]
  },
  {
   "cell_type": "code",
   "execution_count": null,
   "metadata": {
    "collapsed": true
   },
   "outputs": [],
   "source": []
  },
  {
   "cell_type": "code",
   "execution_count": null,
   "metadata": {
    "collapsed": true
   },
   "outputs": [],
   "source": []
  }
 ],
 "metadata": {
  "kernelspec": {
   "display_name": "Python 3",
   "language": "python",
   "name": "python3"
  },
  "language_info": {
   "codemirror_mode": {
    "name": "ipython",
    "version": 3
   },
   "file_extension": ".py",
   "mimetype": "text/x-python",
   "name": "python",
   "nbconvert_exporter": "python",
   "pygments_lexer": "ipython3",
   "version": "3.5.1"
  }
 },
 "nbformat": 4,
 "nbformat_minor": 0
}
