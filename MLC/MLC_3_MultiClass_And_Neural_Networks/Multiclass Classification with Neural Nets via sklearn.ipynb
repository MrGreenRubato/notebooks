{
 "cells": [
  {
   "cell_type": "markdown",
   "metadata": {},
   "source": [
    "# Multiclass Classification with Neural Nets via sklearn"
   ]
  },
  {
   "cell_type": "code",
   "execution_count": 1,
   "metadata": {
    "collapsed": false
   },
   "outputs": [
    {
     "name": "stdout",
     "output_type": "stream",
     "text": [
      "0.18\n",
      "1.11.1\n",
      "3.5.1 |Anaconda custom (x86_64)| (default, Dec  7 2015, 11:24:55) \n",
      "[GCC 4.2.1 (Apple Inc. build 5577)]\n"
     ]
    }
   ],
   "source": [
    "from sklearn import datasets\n",
    "from matplotlib import pyplot as plt\n",
    "%matplotlib inline\n",
    "import numpy as np\n",
    "import sklearn as sk\n",
    "import sys\n",
    "\n",
    "print(sk.__version__)\n",
    "print(np.__version__)\n",
    "print(sys.version)"
   ]
  },
  {
   "cell_type": "code",
   "execution_count": 7,
   "metadata": {
    "collapsed": false
   },
   "outputs": [
    {
     "name": "stdout",
     "output_type": "stream",
     "text": [
      "[X] downloading data...\n"
     ]
    }
   ],
   "source": [
    "print(\"[X] downloading data...\")\n",
    "mnist = datasets.fetch_mldata(\"MNIST Original\")"
   ]
  },
  {
   "cell_type": "code",
   "execution_count": 8,
   "metadata": {
    "collapsed": false
   },
   "outputs": [
    {
     "name": "stdout",
     "output_type": "stream",
     "text": [
      "X_train size : (59500, 784)\n"
     ]
    }
   ],
   "source": [
    "from sklearn.model_selection import train_test_split\n",
    "\n",
    "#Temporarily reduce the training set to speed up execution while testing...\n",
    "X_train, X_test, y_train, y_test = train_test_split(mnist.data, mnist.target, test_size = 0.15)\n",
    "print('X_train size :', X_train.shape)\n"
   ]
  },
  {
   "cell_type": "markdown",
   "metadata": {},
   "source": [
    "## A size of 500 seems better that 2500 (and it is faster...). overfitting ???"
   ]
  },
  {
   "cell_type": "code",
   "execution_count": 4,
   "metadata": {
    "collapsed": false
   },
   "outputs": [],
   "source": [
    "from sklearn.neural_network import MLPClassifier\n",
    "\n",
    "mlp = MLPClassifier(hidden_layer_sizes=(500,), max_iter=250, alpha=1e-4,\n",
    "                    solver='lbfgs', verbose=10, tol=1e-4, random_state=1,\n",
    "                    learning_rate_init=.1)\n",
    "\n",
    "#notes :\n",
    "#layersize = 100, max_iter = 50  ==> 0.87 / 0.87 (train/test)\n",
    "#layersize = 100, max_iter = 100  ==> 0.93 / 0.92 (train/test)\n",
    "#layersize = 500, max_iter = 250  ==> 1.00 / 0.97 (train/test) (10 minutes)\n"
   ]
  },
  {
   "cell_type": "code",
   "execution_count": 6,
   "metadata": {
    "collapsed": false
   },
   "outputs": [
    {
     "data": {
      "text/plain": [
       "MLPClassifier(activation='relu', alpha=0.0001, batch_size='auto', beta_1=0.9,\n",
       "       beta_2=0.999, early_stopping=False, epsilon=1e-08,\n",
       "       hidden_layer_sizes=(500,), learning_rate='constant',\n",
       "       learning_rate_init=0.1, max_iter=250, momentum=0.9,\n",
       "       nesterovs_momentum=True, power_t=0.5, random_state=1, shuffle=True,\n",
       "       solver='lbfgs', tol=0.0001, validation_fraction=0.1, verbose=10,\n",
       "       warm_start=False)"
      ]
     },
     "execution_count": 6,
     "metadata": {},
     "output_type": "execute_result"
    }
   ],
   "source": [
    "mlp.fit(X_train, y_train)"
   ]
  },
  {
   "cell_type": "code",
   "execution_count": 9,
   "metadata": {
    "collapsed": false
   },
   "outputs": [
    {
     "name": "stdout",
     "output_type": "stream",
     "text": [
      "Training score:  0.995226890756\n",
      "Test score:  0.995333333333\n"
     ]
    }
   ],
   "source": [
    "print('Training score: ', mlp.score(X_train, y_train))\n",
    "print('Test score: ', mlp.score(X_test, y_test))"
   ]
  },
  {
   "cell_type": "code",
   "execution_count": 13,
   "metadata": {
    "collapsed": false
   },
   "outputs": [
    {
     "name": "stdout",
     "output_type": "stream",
     "text": [
      "**** WRONG ****\n",
      "proba img :  [[  1.09633406e-49   1.48108566e-46   5.50199317e-41   1.80029839e-34\n",
      "    3.00101206e-27   1.00000000e+00   1.01420571e-49   8.71760410e-18\n",
      "    1.23200960e-11   1.59253844e-22]]\n",
      "guessed: 5\n"
     ]
    },
    {
     "data": {
      "image/png": "[encoded data removed]",
      "text/plain": [
       "<matplotlib.figure.Figure at 0x112374278>"
      ]
     },
     "metadata": {},
     "output_type": "display_data"
    },
    {
     "name": "stdout",
     "output_type": "stream",
     "text": [
      "***************\n",
      "**** WRONG ****\n",
      "proba img :  [[  2.52385200e-08   2.08280332e-22   9.99996671e-01   3.14047013e-06\n",
      "    6.88533397e-35   1.47590433e-07   4.82871592e-41   1.10145264e-10\n",
      "    1.10745013e-08   4.77246194e-09]]\n",
      "guessed: 2\n"
     ]
    },
    {
     "data": {
      "image/png": "[encoded data removed]",
      "text/plain": [
       "<matplotlib.figure.Figure at 0x1126a1f60>"
      ]
     },
     "metadata": {},
     "output_type": "display_data"
    },
    {
     "name": "stdout",
     "output_type": "stream",
     "text": [
      "***************\n",
      "**** WRONG ****\n",
      "proba img :  [[  2.76963180e-14   5.57925351e-43   1.92586233e-22   3.69069216e-36\n",
      "    7.78093457e-32   1.75849944e-06   9.99982951e-01   1.70793680e-18\n",
      "    1.52902599e-05   1.76260774e-25]]\n",
      "guessed: 6\n"
     ]
    },
    {
     "data": {
      "image/png": "[encoded data removed]",
      "text/plain": [
       "<matplotlib.figure.Figure at 0x112676ef0>"
      ]
     },
     "metadata": {},
     "output_type": "display_data"
    },
    {
     "name": "stdout",
     "output_type": "stream",
     "text": [
      "***************\n",
      "**** WRONG ****\n",
      "proba img :  [[  2.76963180e-14   5.57925351e-43   1.92586233e-22   3.69069216e-36\n",
      "    7.78093457e-32   1.75849944e-06   9.99982951e-01   1.70793680e-18\n",
      "    1.52902599e-05   1.76260774e-25]]\n",
      "guessed: 6\n"
     ]
    },
    {
     "data": {
      "image/png": "[encoded data removed]",
      "text/plain": [
       "<matplotlib.figure.Figure at 0x11261be48>"
      ]
     },
     "metadata": {},
     "output_type": "display_data"
    },
    {
     "name": "stdout",
     "output_type": "stream",
     "text": [
      "***************\n",
      "**** WRONG ****\n",
      "proba img :  [[  1.81688992e-36   1.06362082e-43   2.08235481e-39   5.70194610e-16\n",
      "    1.82248298e-21   5.76916739e-16   2.70250395e-39   8.19293512e-37\n",
      "    1.35708122e-05   9.99986429e-01]]\n",
      "guessed: 9\n"
     ]
    },
    {
     "data": {
      "image/png": "[encoded data removed]",
      "text/plain": [
       "<matplotlib.figure.Figure at 0x109447748>"
      ]
     },
     "metadata": {},
     "output_type": "display_data"
    },
    {
     "name": "stdout",
     "output_type": "stream",
     "text": [
      "***************\n",
      "**** WRONG ****\n",
      "proba img :  [[  1.09633406e-49   1.48108566e-46   5.50199317e-41   1.80029839e-34\n",
      "    3.00101206e-27   1.00000000e+00   1.01420571e-49   8.71760410e-18\n",
      "    1.23200960e-11   1.59253844e-22]]\n",
      "guessed: 5\n"
     ]
    },
    {
     "data": {
      "image/png": "[encoded data removed]",
      "text/plain": [
       "<matplotlib.figure.Figure at 0x112afd748>"
      ]
     },
     "metadata": {},
     "output_type": "display_data"
    },
    {
     "name": "stdout",
     "output_type": "stream",
     "text": [
      "***************\n",
      "**** WRONG ****\n",
      "proba img :  [[  2.76963180e-14   5.57925351e-43   1.92586233e-22   3.69069216e-36\n",
      "    7.78093457e-32   1.75849944e-06   9.99982951e-01   1.70793680e-18\n",
      "    1.52902599e-05   1.76260774e-25]]\n",
      "guessed: 6\n"
     ]
    },
    {
     "data": {
      "image/png": "[encoded data removed]",
      "text/plain": [
       "<matplotlib.figure.Figure at 0x1123b0c18>"
      ]
     },
     "metadata": {},
     "output_type": "display_data"
    },
    {
     "name": "stdout",
     "output_type": "stream",
     "text": [
      "***************\n",
      "guessed percentage: 0.993\n"
     ]
    }
   ],
   "source": [
    "def getRandomDigitFrom(n):\n",
    "    r = np.random.randint(0,1000)\n",
    "    img = mnist.data[3000+n*6000+r].reshape(28,28)    \n",
    "    return img\n",
    "\n",
    "#iterate until something wrong is found\n",
    "digit_to_find = 8\n",
    "errors = 0\n",
    "nb_tests = 1000\n",
    "for i in range(nb_tests):\n",
    "    img = getRandomDigitFrom(digit_to_find)\n",
    "    img = img.reshape(1,-1)\n",
    "    proba_img = mlp.predict_proba(img)\n",
    "    guessed = np.argmax(proba_img)\n",
    "    if ( guessed != digit_to_find):\n",
    "        errors = errors + 1\n",
    "        print('**** WRONG ****')\n",
    "        print('proba img : ', proba_img)\n",
    "        print('guessed:', guessed)\n",
    "        img = img.reshape(28,28)\n",
    "        plt.axis('off')\n",
    "        plt.imshow(img,cmap=plt.cm.gray_r, interpolation='nearest')\n",
    "        plt.show()\n",
    "        print('***************')\n",
    "        \n",
    "print('guessed percentage:', (nb_tests-errors)/nb_tests)\n",
    "\n"
   ]
  },
  {
   "cell_type": "code",
   "execution_count": null,
   "metadata": {
    "collapsed": true
   },
   "outputs": [],
   "source": [
    "### From scikit-learn documentation... odd result..."
   ]
  },
  {
   "cell_type": "code",
   "execution_count": 14,
   "metadata": {
    "collapsed": false
   },
   "outputs": [
    {
     "data": {
      "image/png": "[encoded data removed]",
      "text/plain": [
       "<matplotlib.figure.Figure at 0x1123a4908>"
      ]
     },
     "metadata": {},
     "output_type": "display_data"
    }
   ],
   "source": [
    "\n",
    "fig, axes = plt.subplots(4, 4)\n",
    "# use global min / max to ensure all weights are shown on the same scale\n",
    "vmin, vmax = mlp.coefs_[0].min(), mlp.coefs_[0].max()\n",
    "for coef, ax in zip(mlp.coefs_[0].T, axes.ravel()):\n",
    "    ax.matshow(coef.reshape(28, 28), cmap=plt.cm.gray, vmin=.5 * vmin,\n",
    "               vmax=.5 * vmax)\n",
    "    ax.set_xticks(())\n",
    "    ax.set_yticks(())\n",
    "\n",
    "plt.show()"
   ]
  },
  {
   "cell_type": "code",
   "execution_count": null,
   "metadata": {
    "collapsed": true
   },
   "outputs": [],
   "source": []
  }
 ],
 "metadata": {
  "kernelspec": {
   "display_name": "Python 3",
   "language": "python",
   "name": "python3"
  },
  "language_info": {
   "codemirror_mode": {
    "name": "ipython",
    "version": 3
   },
   "file_extension": ".py",
   "mimetype": "text/x-python",
   "name": "python",
   "nbconvert_exporter": "python",
   "pygments_lexer": "ipython3",
   "version": "3.5.1"
  }
 },
 "nbformat": 4,
 "nbformat_minor": 0
}
