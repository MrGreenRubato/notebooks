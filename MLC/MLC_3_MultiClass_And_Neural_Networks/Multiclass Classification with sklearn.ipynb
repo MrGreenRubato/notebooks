{
 "cells": [
  {
   "cell_type": "markdown",
   "metadata": {},
   "source": [
    "# Multiclass Classification with sklearn\n"
   ]
  },
  {
   "cell_type": "code",
   "execution_count": 1,
   "metadata": {
    "collapsed": true
   },
   "outputs": [],
   "source": [
    "from sklearn import datasets\n",
    "from matplotlib import pyplot as plt\n",
    "%matplotlib inline\n",
    "import numpy as np"
   ]
  },
  {
   "cell_type": "code",
   "execution_count": 2,
   "metadata": {
    "collapsed": false
   },
   "outputs": [
    {
     "name": "stdout",
     "output_type": "stream",
     "text": [
      "[X] downloading data...\n"
     ]
    }
   ],
   "source": [
    "print(\"[X] downloading data...\")\n",
    "mnist = datasets.fetch_mldata(\"MNIST Original\")"
   ]
  },
  {
   "cell_type": "code",
   "execution_count": 3,
   "metadata": {
    "collapsed": false
   },
   "outputs": [
    {
     "name": "stdout",
     "output_type": "stream",
     "text": [
      "X_train size : (52500, 784)\n"
     ]
    }
   ],
   "source": [
    "from sklearn.cross_validation import train_test_split\n",
    "\n",
    "#Temporarily reduce the training set to speed up execution while testing...\n",
    "X_train, X_test, y_train, y_test = train_test_split(mnist.data, mnist.target, test_size = 0.25)\n",
    "print('X_train size :', X_train.shape)\n"
   ]
  },
  {
   "cell_type": "code",
   "execution_count": null,
   "metadata": {
    "collapsed": false
   },
   "outputs": [],
   "source": [
    "from sklearn.linear_model import LogisticRegression\n",
    "\n",
    "Lambda = 1\n",
    "\n",
    "#lr = LogisticRegression(solver='lbfgs', C=1/Lambda)  # C = 1/lambda (default = 1, if lower, regularization is stronger)\n",
    "\n",
    "test_scores_for_all = np.array([])\n",
    "train_scores_for_all = np.array([])\n",
    "\n",
    "lr_all = [0,0,0,0,0,0,0,0,0,0]\n",
    "\n",
    "# One vs all algorithm\n",
    "for value in range(10):\n",
    "    y = np.copy(y_train)\n",
    "    y[y_train==value] = 1\n",
    "    y[y_train!=value] = 0\n",
    "\n",
    "    lr_all[value] = LogisticRegression(solver='lbfgs', C=1/Lambda)  # C = 1/lambda (default = 1, if lower, regularization is stronger)\n",
    "    lr_all[value].fit(X_train,y)\n",
    "    lr_all[value].get_params()\n",
    "\n",
    "    #print('Coeff = {}, intercept = {}'.format(lr.coef_[0], lr.intercept_ ))\n",
    "    print('intercept = {}'.format(lr_all[value].intercept_ ))\n",
    "    #lr_all = np.append(lr_all, np.copy(lr))\n",
    "    print('intercept = {}'.format(lr_all[value].intercept_ ))\n",
    "    print('*** LR ALL ***')\n",
    "    for i in range(value+1):\n",
    "        print('lr_all[{}] = {}'.format(i, lr_all[i].intercept_))\n",
    "    \n",
    "    train_score = lr_all[value].score(X_train, y)\n",
    "    train_scores_for_all = np.append(train_scores_for_all, train_score)\n",
    "    print('Score on training set : ', lr_all[value].score(X_train,y))\n",
    "    \n",
    "    y_test_one = np.copy(y_test)\n",
    "    y_test_one[y_test==value] = 1\n",
    "    y_test_one[y_test!=value] = 0\n",
    " \n",
    "    test_score = lr_all[value].score(X_test,y_test_one)\n",
    "    test_scores_for_all = np.append(test_scores_for_all, test_score)\n",
    "    \n",
    "    print('Score on test set : ', test_score)\n",
    "\n",
    "for value in range(10):\n",
    "    print('lr all[x]', lr_all[value].intercept_)\n",
    "    print('Test score for {} : {}'.format(value, test_scores_for_all[value]))\n",
    "\n",
    "print('Mean performace on training set : ', np.mean(train_scores_for_all))\n",
    "print('Mean performance on test set : ', np.mean(test_scores_for_all))\n",
    "\n",
    "#Note: for 15% datatest, score for training set is 98% and test set : 97.5%\n",
    "    "
   ]
  },
  {
   "cell_type": "markdown",
   "metadata": {},
   "source": [
    "## Predict values\n"
   ]
  },
  {
   "cell_type": "code",
   "execution_count": null,
   "metadata": {
    "collapsed": false
   },
   "outputs": [],
   "source": [
    "def getRandomDigitFrom(n):\n",
    "    r = np.random.randint(0,1000)\n",
    "    img = mnist.data[3000+n*6000+r].reshape(28,28)    \n",
    "    return img\n",
    "\n",
    "guesses = np.array([])\n",
    "confusion = np.empty((0,2))\n",
    "not_found = np.array([])\n",
    "\n",
    "for ntest in range(10000):\n",
    "    digit_to_guess = np.random.randint(0,10)\n",
    "    img = getRandomDigitFrom(digit_to_guess)\n",
    "    #plt.axis('off')\n",
    "    #plt.imshow(img,cmap=plt.cm.gray_r, interpolation='nearest')\n",
    "    #plt.show()\n",
    "    img = img.reshape(1,-1)\n",
    "    guessed = 0\n",
    "    wrong_digit = -1\n",
    "    #print('This is a ', digit_to_guess)\n",
    "    for i in range(len(lr_all)):\n",
    "        test = lr_all[i].predict(img) \n",
    "\n",
    "        if test:\n",
    "            #print('I guess this is a ', i)\n",
    "            if ( digit_to_guess == i):\n",
    "                #print('GUESSED !!!')\n",
    "                guessed = 1\n",
    "            else:\n",
    "                wrong_digit = i\n",
    "    \n",
    "    guesses = np.append(guesses, guessed)\n",
    "    if(guessed == 0):\n",
    "        if wrong_digit >= 0:\n",
    "            conf = np.sort(np.array([digit_to_guess, wrong_digit]))\n",
    "            confusion = np.vstack((confusion, conf))\n",
    "        else:\n",
    "            not_found = np.append(not_found,digit_to_guess)\n",
    "        \n",
    "       \n",
    "    \n",
    "w,d = np.unique(guesses, return_inverse=True)\n",
    "#print('confusion: ', confusion)\n",
    "#print('d', d)\n",
    "print('total : ', np.bincount(d))\n",
    "print('perf = {}%'.format(np.bincount(d)[1] / (np.bincount(d)[0] + np.bincount(d)[1]) *100))\n",
    "\n",
    "# Stats on most not found digits:\n",
    "not_found_qty = np.bincount(list(not_found))\n",
    "fig, ax = plt.subplots()\n",
    "plt.bar(range(10), not_found_qty, align='center')\n",
    "plt.xlim(-1,10)\n",
    "ax.set_xticks(range(10))\n",
    "plt.show()\n",
    "\n",
    "not_found_idx = np.ma.argsort(not_found_qty)[::-1]\n",
    "for i in range(not_found_idx.size):\n",
    "    print('{} has been missed {} times'.format(not_found_idx[i], not_found_qty[not_found_idx[i]]))\n",
    "\n",
    "\n",
    "#Stats on confusion:\n",
    "print('Confusion :')\n",
    "plt.scatter(confusion[:,0], confusion[:,1], alpha=0.01)\n",
    "plt.scatter(confusion[:,1], confusion[:,0], alpha=0.01)\n",
    "plt.show()\n",
    "\n",
    "\n"
   ]
  },
  {
   "cell_type": "markdown",
   "metadata": {
    "collapsed": true
   },
   "source": [
    "\n",
    "## Better than using logistic regression, use SVM / SVC"
   ]
  },
  {
   "cell_type": "code",
   "execution_count": 4,
   "metadata": {
    "collapsed": false
   },
   "outputs": [],
   "source": [
    "from sklearn import svm\n",
    "classifier = svm.SVC(C=100, gamma=0.001, kernel='poly', probability=True )"
   ]
  },
  {
   "cell_type": "code",
   "execution_count": 5,
   "metadata": {
    "collapsed": false
   },
   "outputs": [
    {
     "data": {
      "text/plain": [
       "SVC(C=100, cache_size=200, class_weight=None, coef0=0.0,\n",
       "  decision_function_shape=None, degree=3, gamma=0.001, kernel='poly',\n",
       "  max_iter=-1, probability=True, random_state=None, shrinking=True,\n",
       "  tol=0.001, verbose=False)"
      ]
     },
     "execution_count": 5,
     "metadata": {},
     "output_type": "execute_result"
    }
   ],
   "source": [
    "classifier.fit(X_train, y_train)"
   ]
  },
  {
   "cell_type": "code",
   "execution_count": 7,
   "metadata": {
    "collapsed": false
   },
   "outputs": [
    {
     "name": "stdout",
     "output_type": "stream",
     "text": [
      "total :  [  28 5972]\n",
      "[  28 5972]\n",
      "perf = 99.53333333333333%\n",
      "Confusion :\n"
     ]
    },
    {
     "data": {
      "image/png": "[encoded data removed]",
      "text/plain": [
       "<matplotlib.figure.Figure at 0x2bf8006b438>"
      ]
     },
     "metadata": {},
     "output_type": "display_data"
    }
   ],
   "source": [
    "def getRandomDigitFrom(n):\n",
    "    r = np.random.randint(0,1000)\n",
    "    img = mnist.data[3000+n*6000+r].reshape(28,28)    \n",
    "    return img\n",
    "\n",
    "guesses = np.array([])\n",
    "confusion = np.empty((0,2))\n",
    "not_found = np.array([])\n",
    "\n",
    "for ntest in range(6000):\n",
    "    digit_to_guess = np.random.randint(0,10)\n",
    "    img = getRandomDigitFrom(digit_to_guess)\n",
    "    #plt.axis('off')\n",
    "    #plt.imshow(img,cmap=plt.cm.gray_r, interpolation='nearest')\n",
    "    #plt.show()\n",
    "    img = img.reshape(1,-1)\n",
    "    guessed = 0\n",
    "    wrong_digit = -1\n",
    "    #print('This is a ', digit_to_guess)\n",
    "    test = classifier.predict(img)\n",
    "\n",
    "    #print('guessed : ', test)\n",
    "    if test == digit_to_guess:\n",
    "        guessed = 1\n",
    "    else:\n",
    "        wrong_digit = test\n",
    "    \n",
    "    guesses = np.append(guesses, guessed)\n",
    "    if(guessed == 0):\n",
    "        if wrong_digit >= 0:\n",
    "            conf = np.sort(np.array([digit_to_guess, wrong_digit]))\n",
    "            confusion = np.vstack((confusion, conf))\n",
    "        else:\n",
    "            not_found = np.append(not_found,digit_to_guess)\n",
    "        \n",
    "       \n",
    "    \n",
    "w,d = np.unique(guesses, return_inverse=True)\n",
    "#print('confusion: ', confusion)\n",
    "#print('d', d)\n",
    "print('total : ', np.bincount(d))\n",
    "print(np.bincount(d))\n",
    "if np.bincount(d).size == 1:\n",
    "    print('perf = 100%')\n",
    "else:\n",
    "    print('perf = {}%'.format(np.bincount(d)[1] / (np.bincount(d)[0] + np.bincount(d)[1]) *100))\n",
    "\n",
    "# Stats on most not found digits:\n",
    "not_found_qty = np.bincount(list(not_found))\n",
    "#print('not found qty',not_found_qty)\n",
    "\n",
    "if not_found_qty.size > 0:\n",
    "    fig, ax = plt.subplots()\n",
    "    plt.bar(range(10), not_found_qty, align='center')\n",
    "    plt.xlim(-1,10)\n",
    "    ax.set_xticks(range(10))\n",
    "    plt.show()\n",
    "\n",
    "not_found_idx = np.ma.argsort(not_found_qty)[::-1]\n",
    "#print('not found index',not_found_idx)\n",
    "for i in range(not_found_idx.size):\n",
    "    print('{} has been missed {} times'.format(not_found_idx[i], not_found_qty[not_found_idx[i]]))\n",
    "\n",
    "\n",
    "#Stats on confusion:\n",
    "print('Confusion :')\n",
    "plt.scatter(confusion[:,0], confusion[:,1], alpha=0.05)\n",
    "plt.scatter(confusion[:,1], confusion[:,0], alpha=0.05)\n",
    "plt.show()\n",
    "\n",
    "# on 15% training \n",
    "# C=1000, gamma = 0.001 => 92% perf\n",
    "# C=100, gamma = 0.001 => 92% perf \n",
    "# C=10, gamma = 0.001 => 91.6%\n",
    "# C=1, gamma = 0.001 => 92.2%\n",
    "# C=0.01, gamma = 0.001 => 92%\n",
    "\n",
    "# C=1, gamma = 1 => 92% perf\n",
    "# C=1, gamma = 1000 => 91%\n",
    "# C=1, gamma = 0.000001 => 92%\n",
    "\n",
    "# SO... no real difference... \n",
    "# Sigmoid => 24% !??\n",
    "# Poly => 93% !!!\n",
    "\n",
    "#Poly !! (on 15% data)\n",
    "# C=1, gamma = 0.000001 => 96% !!\n",
    "# C=1, gamma = 0.001 => 96.5% !!\n",
    "# C=100, gamma = 0.001 => 96.8% !!\n",
    "# on 30% Data :\n",
    "# C=100, gamma = 0.001 => 98.5% !! => When classifier.score is used, we get 97%, because in my case, I also use indifferently trained data, that biaised the results\n",
    "# C=100, gamma = 0.001 + 75% data => 99.5% !!! score 97.8% \n",
    "# C=100, gamma = 0.001 => Score 97.8\n"
   ]
  },
  {
   "cell_type": "code",
   "execution_count": 9,
   "metadata": {
    "collapsed": false
   },
   "outputs": [
    {
     "data": {
      "text/plain": [
       "1.0"
      ]
     },
     "execution_count": 9,
     "metadata": {},
     "output_type": "execute_result"
    }
   ],
   "source": [
    "classifier.score(X_train, y_train)"
   ]
  },
  {
   "cell_type": "code",
   "execution_count": 10,
   "metadata": {
    "collapsed": false
   },
   "outputs": [
    {
     "data": {
      "text/plain": [
       "0.97822857142857145"
      ]
     },
     "execution_count": 10,
     "metadata": {},
     "output_type": "execute_result"
    }
   ],
   "source": [
    "classifier.score(X_test, y_test)\n"
   ]
  },
  {
   "cell_type": "code",
   "execution_count": 21,
   "metadata": {
    "collapsed": false
   },
   "outputs": [
    {
     "data": {
      "image/png": "[encoded data removed]",
      "text/plain": [
       "<matplotlib.figure.Figure at 0x2bf80c35518>"
      ]
     },
     "metadata": {},
     "output_type": "display_data"
    },
    {
     "name": "stdout",
     "output_type": "stream",
     "text": [
      "proba img :  [[ 0.00238421  0.68634654  0.00515044  0.00150117  0.00100029  0.16871632\n",
      "   0.03777855  0.00335596  0.09255981  0.00120672]]\n"
     ]
    }
   ],
   "source": [
    "img = getRandomDigitFrom(5)\n",
    "plt.axis('off')\n",
    "plt.imshow(img,cmap=plt.cm.gray_r, interpolation='nearest')\n",
    "plt.show()\n",
    "img = img.reshape(1,-1)\n",
    "\n",
    "proba_img = classifier.predict_proba(img)\n",
    "print('proba img : ', proba_img)\n",
    "\n",
    "\n"
   ]
  },
  {
   "cell_type": "code",
   "execution_count": null,
   "metadata": {
    "collapsed": true
   },
   "outputs": [],
   "source": []
  }
 ],
 "metadata": {
  "kernelspec": {
   "display_name": "Python 3",
   "language": "python",
   "name": "python3"
  },
  "language_info": {
   "codemirror_mode": {
    "name": "ipython",
    "version": 3
   },
   "file_extension": ".py",
   "mimetype": "text/x-python",
   "name": "python",
   "nbconvert_exporter": "python",
   "pygments_lexer": "ipython3",
   "version": "3.5.1"
  }
 },
 "nbformat": 4,
 "nbformat_minor": 0
}
