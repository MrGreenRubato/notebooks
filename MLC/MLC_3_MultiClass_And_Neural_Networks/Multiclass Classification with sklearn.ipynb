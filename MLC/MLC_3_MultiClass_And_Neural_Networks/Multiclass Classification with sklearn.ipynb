{
 "cells": [
  {
   "cell_type": "markdown",
   "metadata": {},
   "source": [
    "# Multiclass Classification with sklearn\n"
   ]
  },
  {
   "cell_type": "code",
   "execution_count": 1,
   "metadata": {
    "collapsed": true
   },
   "outputs": [],
   "source": [
    "from sklearn import datasets\n",
    "from matplotlib import pyplot as plt\n",
    "%matplotlib inline\n",
    "import numpy as np"
   ]
  },
  {
   "cell_type": "code",
   "execution_count": 2,
   "metadata": {
    "collapsed": false
   },
   "outputs": [
    {
     "name": "stdout",
     "output_type": "stream",
     "text": [
      "[X] downloading data...\n"
     ]
    }
   ],
   "source": [
    "print(\"[X] downloading data...\")\n",
    "mnist = datasets.fetch_mldata(\"MNIST Original\")"
   ]
  },
  {
   "cell_type": "code",
   "execution_count": 90,
   "metadata": {
    "collapsed": false
   },
   "outputs": [
    {
     "name": "stdout",
     "output_type": "stream",
     "text": [
      "X_train size : (59500, 784)\n"
     ]
    }
   ],
   "source": [
    "from sklearn.cross_validation import train_test_split\n",
    "\n",
    "#Temporarily reduce the training set to speed up execution while testing...\n",
    "X_train, X_test, y_train, y_test = train_test_split(mnist.data, mnist.target, test_size = 0.15)\n",
    "print('X_train size :', X_train.shape)"
   ]
  },
  {
   "cell_type": "code",
   "execution_count": 91,
   "metadata": {
    "collapsed": false
   },
   "outputs": [
    {
     "name": "stdout",
     "output_type": "stream",
     "text": [
      "intercept = [-0.00221116]\n",
      "intercept = [-0.00221116]\n",
      "*** LR ALL ***\n",
      "lr_all[0] = [-0.00221116]\n",
      "Score on training set :  0.993764705882\n",
      "Score on test set :  0.989619047619\n",
      "intercept = [-0.00050453]\n",
      "intercept = [-0.00050453]\n",
      "*** LR ALL ***\n",
      "lr_all[0] = [-0.00221116]\n",
      "lr_all[1] = [-0.00050453]\n",
      "Score on training set :  0.994168067227\n",
      "Score on test set :  0.990380952381\n",
      "intercept = [-0.00201164]\n",
      "intercept = [-0.00201164]\n",
      "*** LR ALL ***\n",
      "lr_all[0] = [-0.00221116]\n",
      "lr_all[1] = [-0.00050453]\n",
      "lr_all[2] = [-0.00201164]\n",
      "Score on training set :  0.982168067227\n",
      "Score on test set :  0.978285714286\n",
      "intercept = [-0.00215078]\n",
      "intercept = [-0.00215078]\n",
      "*** LR ALL ***\n",
      "lr_all[0] = [-0.00221116]\n",
      "lr_all[1] = [-0.00050453]\n",
      "lr_all[2] = [-0.00201164]\n",
      "lr_all[3] = [-0.00215078]\n",
      "Score on training set :  0.975865546218\n",
      "Score on test set :  0.972857142857\n",
      "intercept = [-0.00189944]\n",
      "intercept = [-0.00189944]\n",
      "*** LR ALL ***\n",
      "lr_all[0] = [-0.00221116]\n",
      "lr_all[1] = [-0.00050453]\n",
      "lr_all[2] = [-0.00201164]\n",
      "lr_all[3] = [-0.00215078]\n",
      "lr_all[4] = [-0.00189944]\n",
      "Score on training set :  0.986403361345\n",
      "Score on test set :  0.982666666667\n",
      "intercept = [  9.98604935e-05]\n",
      "intercept = [  9.98604935e-05]\n",
      "*** LR ALL ***\n",
      "lr_all[0] = [-0.00221116]\n",
      "lr_all[1] = [-0.00050453]\n",
      "lr_all[2] = [-0.00201164]\n",
      "lr_all[3] = [-0.00215078]\n",
      "lr_all[4] = [-0.00189944]\n",
      "lr_all[5] = [  9.98604935e-05]\n",
      "Score on training set :  0.977428571429\n",
      "Score on test set :  0.978380952381\n",
      "intercept = [-0.00309506]\n",
      "intercept = [-0.00309506]\n",
      "*** LR ALL ***\n",
      "lr_all[0] = [-0.00221116]\n",
      "lr_all[1] = [-0.00050453]\n",
      "lr_all[2] = [-0.00201164]\n",
      "lr_all[3] = [-0.00215078]\n",
      "lr_all[4] = [-0.00189944]\n",
      "lr_all[5] = [  9.98604935e-05]\n",
      "lr_all[6] = [-0.00309506]\n",
      "Score on training set :  0.988672268908\n",
      "Score on test set :  0.986666666667\n",
      "intercept = [-0.00067597]\n",
      "intercept = [-0.00067597]\n",
      "*** LR ALL ***\n",
      "lr_all[0] = [-0.00221116]\n",
      "lr_all[1] = [-0.00050453]\n",
      "lr_all[2] = [-0.00201164]\n",
      "lr_all[3] = [-0.00215078]\n",
      "lr_all[4] = [-0.00189944]\n",
      "lr_all[5] = [  9.98604935e-05]\n",
      "lr_all[6] = [-0.00309506]\n",
      "lr_all[7] = [-0.00067597]\n",
      "Score on training set :  0.986924369748\n",
      "Score on test set :  0.982666666667\n",
      "intercept = [-0.00435629]\n",
      "intercept = [-0.00435629]\n",
      "*** LR ALL ***\n",
      "lr_all[0] = [-0.00221116]\n",
      "lr_all[1] = [-0.00050453]\n",
      "lr_all[2] = [-0.00201164]\n",
      "lr_all[3] = [-0.00215078]\n",
      "lr_all[4] = [-0.00189944]\n",
      "lr_all[5] = [  9.98604935e-05]\n",
      "lr_all[6] = [-0.00309506]\n",
      "lr_all[7] = [-0.00067597]\n",
      "lr_all[8] = [-0.00435629]\n",
      "Score on training set :  0.95112605042\n",
      "Score on test set :  0.947142857143\n",
      "intercept = [-0.00243374]\n",
      "intercept = [-0.00243374]\n",
      "*** LR ALL ***\n",
      "lr_all[0] = [-0.00221116]\n",
      "lr_all[1] = [-0.00050453]\n",
      "lr_all[2] = [-0.00201164]\n",
      "lr_all[3] = [-0.00215078]\n",
      "lr_all[4] = [-0.00189944]\n",
      "lr_all[5] = [  9.98604935e-05]\n",
      "lr_all[6] = [-0.00309506]\n",
      "lr_all[7] = [-0.00067597]\n",
      "lr_all[8] = [-0.00435629]\n",
      "lr_all[9] = [-0.00243374]\n",
      "Score on training set :  0.963092436975\n",
      "Score on test set :  0.962857142857\n",
      "lr all[x] [-0.00221116]\n",
      "Test score for 0 : 0.9896190476190476\n",
      "lr all[x] [-0.00050453]\n",
      "Test score for 1 : 0.9903809523809524\n",
      "lr all[x] [-0.00201164]\n",
      "Test score for 2 : 0.9782857142857143\n",
      "lr all[x] [-0.00215078]\n",
      "Test score for 3 : 0.9728571428571429\n",
      "lr all[x] [-0.00189944]\n",
      "Test score for 4 : 0.9826666666666667\n",
      "lr all[x] [  9.98604935e-05]\n",
      "Test score for 5 : 0.9783809523809524\n",
      "lr all[x] [-0.00309506]\n",
      "Test score for 6 : 0.9866666666666667\n",
      "lr all[x] [-0.00067597]\n",
      "Test score for 7 : 0.9826666666666667\n",
      "lr all[x] [-0.00435629]\n",
      "Test score for 8 : 0.9471428571428572\n",
      "lr all[x] [-0.00243374]\n",
      "Test score for 9 : 0.9628571428571429\n",
      "Mean performace on training set :  0.979961344538\n",
      "Mean performance on test set :  0.977152380952\n"
     ]
    }
   ],
   "source": [
    "from sklearn.linear_model import LogisticRegression\n",
    "\n",
    "Lambda = 1\n",
    "\n",
    "#lr = LogisticRegression(solver='lbfgs', C=1/Lambda)  # C = 1/lambda (default = 1, if lower, regularization is stronger)\n",
    "\n",
    "test_scores_for_all = np.array([])\n",
    "train_scores_for_all = np.array([])\n",
    "\n",
    "lr_all = [0,0,0,0,0,0,0,0,0,0]\n",
    "\n",
    "# One vs all algorithm\n",
    "for value in range(10):\n",
    "    y = np.copy(y_train)\n",
    "    y[y_train==value] = 1\n",
    "    y[y_train!=value] = 0\n",
    "\n",
    "    lr_all[value] = LogisticRegression(solver='lbfgs', C=1/Lambda)  # C = 1/lambda (default = 1, if lower, regularization is stronger)\n",
    "    lr_all[value].fit(X_train,y)\n",
    "    lr_all[value].get_params()\n",
    "\n",
    "    #print('Coeff = {}, intercept = {}'.format(lr.coef_[0], lr.intercept_ ))\n",
    "    print('intercept = {}'.format(lr_all[value].intercept_ ))\n",
    "    #lr_all = np.append(lr_all, np.copy(lr))\n",
    "    print('intercept = {}'.format(lr_all[value].intercept_ ))\n",
    "    print('*** LR ALL ***')\n",
    "    for i in range(value+1):\n",
    "        print('lr_all[{}] = {}'.format(i, lr_all[i].intercept_))\n",
    "    \n",
    "    train_score = lr_all[value].score(X_train, y)\n",
    "    train_scores_for_all = np.append(train_scores_for_all, train_score)\n",
    "    print('Score on training set : ', lr_all[value].score(X_train,y))\n",
    "    \n",
    "    y_test_one = np.copy(y_test)\n",
    "    y_test_one[y_test==value] = 1\n",
    "    y_test_one[y_test!=value] = 0\n",
    " \n",
    "    test_score = lr_all[value].score(X_test,y_test_one)\n",
    "    test_scores_for_all = np.append(test_scores_for_all, test_score)\n",
    "    \n",
    "    print('Score on test set : ', test_score)\n",
    "\n",
    "for value in range(10):\n",
    "    print('lr all[x]', lr_all[value].intercept_)\n",
    "    print('Test score for {} : {}'.format(value, test_scores_for_all[value]))\n",
    "\n",
    "print('Mean performace on training set : ', np.mean(train_scores_for_all))\n",
    "print('Mean performance on test set : ', np.mean(test_scores_for_all))\n",
    "\n",
    "\n",
    "    "
   ]
  },
  {
   "cell_type": "markdown",
   "metadata": {},
   "source": [
    "## Predict values\n"
   ]
  },
  {
   "cell_type": "code",
   "execution_count": 89,
   "metadata": {
    "collapsed": false
   },
   "outputs": [
    {
     "data": {
      "image/png": "[encoded data removed]",
      "text/plain": [
       "<matplotlib.figure.Figure at 0x233482e25c0>"
      ]
     },
     "metadata": {},
     "output_type": "display_data"
    },
    {
     "name": "stdout",
     "output_type": "stream",
     "text": [
      "This is a  0\n",
      "[ 1.]\n",
      "I guess this is a  0\n",
      "GUESSED !!!\n",
      "[ 0.]\n",
      "[ 0.]\n",
      "[ 0.]\n",
      "[ 0.]\n",
      "[ 0.]\n",
      "[ 0.]\n",
      "[ 0.]\n",
      "[ 0.]\n",
      "[ 0.]\n",
      "== [ 1.]\n"
     ]
    },
    {
     "data": {
      "image/png": "[encoded data removed]",
      "text/plain": [
       "<matplotlib.figure.Figure at 0x233481dfb00>"
      ]
     },
     "metadata": {},
     "output_type": "display_data"
    },
    {
     "name": "stdout",
     "output_type": "stream",
     "text": [
      "This is a  2\n",
      "[ 0.]\n",
      "[ 0.]\n",
      "[ 1.]\n",
      "I guess this is a  2\n",
      "GUESSED !!!\n",
      "[ 0.]\n",
      "[ 0.]\n",
      "[ 0.]\n",
      "[ 0.]\n",
      "[ 0.]\n",
      "[ 0.]\n",
      "[ 0.]\n",
      "== [ 1.  1.]\n"
     ]
    },
    {
     "data": {
      "image/png": "[encoded data removed]",
      "text/plain": [
       "<matplotlib.figure.Figure at 0x2334563f630>"
      ]
     },
     "metadata": {},
     "output_type": "display_data"
    },
    {
     "name": "stdout",
     "output_type": "stream",
     "text": [
      "This is a  5\n",
      "[ 0.]\n",
      "[ 0.]\n",
      "[ 0.]\n",
      "[ 0.]\n",
      "[ 0.]\n",
      "[ 1.]\n",
      "I guess this is a  5\n",
      "GUESSED !!!\n",
      "[ 0.]\n",
      "[ 0.]\n",
      "[ 1.]\n",
      "I guess this is a  8\n",
      "[ 0.]\n",
      "== [ 1.  1.  1.]\n"
     ]
    },
    {
     "data": {
      "image/png": "[encoded data removed]",
      "text/plain": [
       "<matplotlib.figure.Figure at 0x23348134898>"
      ]
     },
     "metadata": {},
     "output_type": "display_data"
    },
    {
     "name": "stdout",
     "output_type": "stream",
     "text": [
      "This is a  1\n",
      "[ 0.]\n",
      "[ 1.]\n",
      "I guess this is a  1\n",
      "GUESSED !!!\n",
      "[ 0.]\n",
      "[ 0.]\n",
      "[ 0.]\n",
      "[ 0.]\n",
      "[ 0.]\n",
      "[ 0.]\n",
      "[ 0.]\n",
      "[ 0.]\n",
      "== [ 1.  1.  1.  1.]\n"
     ]
    },
    {
     "data": {
      "image/png": "[encoded data removed]",
      "text/plain": [
       "<matplotlib.figure.Figure at 0x23346f334a8>"
      ]
     },
     "metadata": {},
     "output_type": "display_data"
    },
    {
     "name": "stdout",
     "output_type": "stream",
     "text": [
      "This is a  0\n",
      "[ 1.]\n",
      "I guess this is a  0\n",
      "GUESSED !!!\n",
      "[ 0.]\n",
      "[ 0.]\n",
      "[ 0.]\n",
      "[ 0.]\n",
      "[ 0.]\n",
      "[ 0.]\n",
      "[ 0.]\n",
      "[ 0.]\n",
      "[ 0.]\n",
      "== [ 1.  1.  1.  1.  1.]\n"
     ]
    },
    {
     "data": {
      "image/png": "[encoded data removed]",
      "text/plain": [
       "<matplotlib.figure.Figure at 0x23347f25208>"
      ]
     },
     "metadata": {},
     "output_type": "display_data"
    },
    {
     "name": "stdout",
     "output_type": "stream",
     "text": [
      "This is a  5\n",
      "[ 0.]\n",
      "[ 0.]\n",
      "[ 0.]\n",
      "[ 0.]\n",
      "[ 0.]\n",
      "[ 0.]\n",
      "[ 0.]\n",
      "[ 0.]\n",
      "[ 0.]\n",
      "[ 0.]\n",
      "== [ 1.  1.  1.  1.  1.  0.]\n"
     ]
    },
    {
     "data": {
      "image/png": "[encoded data removed]",
      "text/plain": [
       "<matplotlib.figure.Figure at 0x23346f1a6d8>"
      ]
     },
     "metadata": {},
     "output_type": "display_data"
    },
    {
     "name": "stdout",
     "output_type": "stream",
     "text": [
      "This is a  6\n",
      "[ 0.]\n",
      "[ 0.]\n",
      "[ 0.]\n",
      "[ 0.]\n",
      "[ 0.]\n",
      "[ 0.]\n",
      "[ 1.]\n",
      "I guess this is a  6\n",
      "GUESSED !!!\n",
      "[ 0.]\n",
      "[ 0.]\n",
      "[ 0.]\n",
      "== [ 1.  1.  1.  1.  1.  0.  1.]\n"
     ]
    },
    {
     "data": {
      "image/png": "[encoded data removed]",
      "text/plain": [
       "<matplotlib.figure.Figure at 0x2334806e128>"
      ]
     },
     "metadata": {},
     "output_type": "display_data"
    },
    {
     "name": "stdout",
     "output_type": "stream",
     "text": [
      "This is a  8\n",
      "[ 0.]\n",
      "[ 0.]\n",
      "[ 0.]\n",
      "[ 0.]\n",
      "[ 0.]\n",
      "[ 0.]\n",
      "[ 0.]\n",
      "[ 0.]\n",
      "[ 1.]\n",
      "I guess this is a  8\n",
      "GUESSED !!!\n",
      "[ 0.]\n",
      "== [ 1.  1.  1.  1.  1.  0.  1.  1.]\n"
     ]
    },
    {
     "data": {
      "image/png": "[encoded data removed]",
      "text/plain": [
       "<matplotlib.figure.Figure at 0x23347ff6198>"
      ]
     },
     "metadata": {},
     "output_type": "display_data"
    },
    {
     "name": "stdout",
     "output_type": "stream",
     "text": [
      "This is a  1\n",
      "[ 0.]\n",
      "[ 1.]\n",
      "I guess this is a  1\n",
      "GUESSED !!!\n",
      "[ 0.]\n",
      "[ 0.]\n",
      "[ 0.]\n",
      "[ 0.]\n",
      "[ 0.]\n",
      "[ 0.]\n",
      "[ 0.]\n",
      "[ 0.]\n",
      "== [ 1.  1.  1.  1.  1.  0.  1.  1.  1.]\n"
     ]
    },
    {
     "data": {
      "image/png": "[encoded data removed]",
      "text/plain": [
       "<matplotlib.figure.Figure at 0x2334828b2e8>"
      ]
     },
     "metadata": {},
     "output_type": "display_data"
    },
    {
     "name": "stdout",
     "output_type": "stream",
     "text": [
      "This is a  4\n",
      "[ 0.]\n",
      "[ 0.]\n",
      "[ 0.]\n",
      "[ 0.]\n",
      "[ 0.]\n",
      "[ 0.]\n",
      "[ 1.]\n",
      "I guess this is a  6\n",
      "[ 0.]\n",
      "[ 0.]\n",
      "[ 0.]\n",
      "== [ 1.  1.  1.  1.  1.  0.  1.  1.  1.  0.]\n"
     ]
    },
    {
     "data": {
      "image/png": "[encoded data removed]",
      "text/plain": [
       "<matplotlib.figure.Figure at 0x233481f10b8>"
      ]
     },
     "metadata": {},
     "output_type": "display_data"
    },
    {
     "name": "stdout",
     "output_type": "stream",
     "text": [
      "This is a  4\n",
      "[ 0.]\n",
      "[ 0.]\n",
      "[ 1.]\n",
      "I guess this is a  2\n",
      "[ 0.]\n",
      "[ 1.]\n",
      "I guess this is a  4\n",
      "GUESSED !!!\n",
      "[ 0.]\n",
      "[ 0.]\n",
      "[ 0.]\n",
      "[ 0.]\n",
      "[ 0.]\n",
      "== [ 1.  1.  1.  1.  1.  0.  1.  1.  1.  0.  1.]\n"
     ]
    },
    {
     "data": {
      "image/png": "[encoded data removed]",
      "text/plain": [
       "<matplotlib.figure.Figure at 0x2334932ec50>"
      ]
     },
     "metadata": {},
     "output_type": "display_data"
    },
    {
     "name": "stdout",
     "output_type": "stream",
     "text": [
      "This is a  0\n",
      "[ 1.]\n",
      "I guess this is a  0\n",
      "GUESSED !!!\n",
      "[ 0.]\n",
      "[ 0.]\n",
      "[ 0.]\n",
      "[ 0.]\n",
      "[ 0.]\n",
      "[ 0.]\n",
      "[ 0.]\n",
      "[ 0.]\n",
      "[ 0.]\n",
      "== [ 1.  1.  1.  1.  1.  0.  1.  1.  1.  0.  1.  1.]\n"
     ]
    },
    {
     "data": {
      "image/png": "[encoded data removed]",
      "text/plain": [
       "<matplotlib.figure.Figure at 0x23348202160>"
      ]
     },
     "metadata": {},
     "output_type": "display_data"
    },
    {
     "name": "stdout",
     "output_type": "stream",
     "text": [
      "This is a  3\n",
      "[ 0.]\n",
      "[ 0.]\n",
      "[ 0.]\n",
      "[ 1.]\n",
      "I guess this is a  3\n",
      "GUESSED !!!\n",
      "[ 0.]\n",
      "[ 0.]\n",
      "[ 0.]\n",
      "[ 0.]\n",
      "[ 0.]\n",
      "[ 0.]\n",
      "== [ 1.  1.  1.  1.  1.  0.  1.  1.  1.  0.  1.  1.  1.]\n"
     ]
    },
    {
     "data": {
      "image/png": "[encoded data removed]",
      "text/plain": [
       "<matplotlib.figure.Figure at 0x233480b9400>"
      ]
     },
     "metadata": {},
     "output_type": "display_data"
    },
    {
     "name": "stdout",
     "output_type": "stream",
     "text": [
      "This is a  1\n",
      "[ 0.]\n",
      "[ 1.]\n",
      "I guess this is a  1\n",
      "GUESSED !!!\n",
      "[ 0.]\n",
      "[ 0.]\n",
      "[ 0.]\n",
      "[ 0.]\n",
      "[ 0.]\n",
      "[ 0.]\n",
      "[ 0.]\n",
      "[ 0.]\n",
      "== [ 1.  1.  1.  1.  1.  0.  1.  1.  1.  0.  1.  1.  1.  1.]\n"
     ]
    },
    {
     "data": {
      "image/png": "[encoded data removed]",
      "text/plain": [
       "<matplotlib.figure.Figure at 0x233481c0588>"
      ]
     },
     "metadata": {},
     "output_type": "display_data"
    },
    {
     "name": "stdout",
     "output_type": "stream",
     "text": [
      "This is a  4\n",
      "[ 0.]\n",
      "[ 0.]\n",
      "[ 0.]\n",
      "[ 0.]\n",
      "[ 1.]\n",
      "I guess this is a  4\n",
      "GUESSED !!!\n",
      "[ 0.]\n",
      "[ 0.]\n",
      "[ 0.]\n",
      "[ 0.]\n",
      "[ 0.]\n",
      "== [ 1.  1.  1.  1.  1.  0.  1.  1.  1.  0.  1.  1.  1.  1.  1.]\n"
     ]
    },
    {
     "data": {
      "image/png": "[encoded data removed]",
      "text/plain": [
       "<matplotlib.figure.Figure at 0x233481debe0>"
      ]
     },
     "metadata": {},
     "output_type": "display_data"
    },
    {
     "name": "stdout",
     "output_type": "stream",
     "text": [
      "This is a  6\n",
      "[ 0.]\n",
      "[ 0.]\n",
      "[ 0.]\n",
      "[ 0.]\n",
      "[ 0.]\n",
      "[ 0.]\n",
      "[ 1.]\n",
      "I guess this is a  6\n",
      "GUESSED !!!\n",
      "[ 0.]\n",
      "[ 0.]\n",
      "[ 0.]\n",
      "== [ 1.  1.  1.  1.  1.  0.  1.  1.  1.  0.  1.  1.  1.  1.  1.  1.]\n"
     ]
    },
    {
     "data": {
      "image/png": "[encoded data removed]",
      "text/plain": [
       "<matplotlib.figure.Figure at 0x23347f63ac8>"
      ]
     },
     "metadata": {},
     "output_type": "display_data"
    },
    {
     "name": "stdout",
     "output_type": "stream",
     "text": [
      "This is a  3\n",
      "[ 0.]\n",
      "[ 0.]\n",
      "[ 0.]\n",
      "[ 1.]\n",
      "I guess this is a  3\n",
      "GUESSED !!!\n",
      "[ 0.]\n",
      "[ 0.]\n",
      "[ 0.]\n",
      "[ 0.]\n",
      "[ 0.]\n",
      "[ 0.]\n",
      "== [ 1.  1.  1.  1.  1.  0.  1.  1.  1.  0.  1.  1.  1.  1.  1.  1.  1.]\n"
     ]
    },
    {
     "data": {
      "image/png": "[encoded data removed]",
      "text/plain": [
       "<matplotlib.figure.Figure at 0x23345732358>"
      ]
     },
     "metadata": {},
     "output_type": "display_data"
    },
    {
     "name": "stdout",
     "output_type": "stream",
     "text": [
      "This is a  6\n",
      "[ 0.]\n",
      "[ 0.]\n",
      "[ 1.]\n",
      "I guess this is a  2\n",
      "[ 0.]\n",
      "[ 0.]\n",
      "[ 0.]\n",
      "[ 1.]\n",
      "I guess this is a  6\n",
      "GUESSED !!!\n",
      "[ 0.]\n",
      "[ 0.]\n",
      "[ 0.]\n",
      "== [ 1.  1.  1.  1.  1.  0.  1.  1.  1.  0.  1.  1.  1.  1.  1.  1.  1.  1.]\n"
     ]
    },
    {
     "data": {
      "image/png": "[encoded data removed]",
      "text/plain": [
       "<matplotlib.figure.Figure at 0x233481ae2e8>"
      ]
     },
     "metadata": {},
     "output_type": "display_data"
    },
    {
     "name": "stdout",
     "output_type": "stream",
     "text": [
      "This is a  6\n",
      "[ 0.]\n",
      "[ 0.]\n",
      "[ 0.]\n",
      "[ 0.]\n",
      "[ 0.]\n",
      "[ 0.]\n",
      "[ 1.]\n",
      "I guess this is a  6\n",
      "GUESSED !!!\n",
      "[ 0.]\n",
      "[ 0.]\n",
      "[ 0.]\n",
      "== [ 1.  1.  1.  1.  1.  0.  1.  1.  1.  0.  1.  1.  1.  1.  1.  1.  1.  1.\n",
      "  1.]\n"
     ]
    },
    {
     "data": {
      "image/png": "[encoded data removed]",
      "text/plain": [
       "<matplotlib.figure.Figure at 0x233482b4518>"
      ]
     },
     "metadata": {},
     "output_type": "display_data"
    },
    {
     "name": "stdout",
     "output_type": "stream",
     "text": [
      "This is a  0\n",
      "[ 1.]\n",
      "I guess this is a  0\n",
      "GUESSED !!!\n",
      "[ 0.]\n",
      "[ 0.]\n",
      "[ 0.]\n",
      "[ 0.]\n",
      "[ 0.]\n",
      "[ 0.]\n",
      "[ 0.]\n",
      "[ 0.]\n",
      "[ 0.]\n",
      "== [ 1.  1.  1.  1.  1.  0.  1.  1.  1.  0.  1.  1.  1.  1.  1.  1.  1.  1.\n",
      "  1.  1.]\n"
     ]
    },
    {
     "data": {
      "image/png": "[encoded data removed]",
      "text/plain": [
       "<matplotlib.figure.Figure at 0x233481c6c18>"
      ]
     },
     "metadata": {},
     "output_type": "display_data"
    },
    {
     "name": "stdout",
     "output_type": "stream",
     "text": [
      "This is a  5\n",
      "[ 0.]\n",
      "[ 0.]\n",
      "[ 0.]\n",
      "[ 0.]\n",
      "[ 0.]\n",
      "[ 0.]\n",
      "[ 0.]\n",
      "[ 0.]\n",
      "[ 0.]\n",
      "[ 0.]\n",
      "== [ 1.  1.  1.  1.  1.  0.  1.  1.  1.  0.  1.  1.  1.  1.  1.  1.  1.  1.\n",
      "  1.  1.  0.]\n"
     ]
    },
    {
     "data": {
      "image/png": "[encoded data removed]",
      "text/plain": [
       "<matplotlib.figure.Figure at 0x233481086d8>"
      ]
     },
     "metadata": {},
     "output_type": "display_data"
    },
    {
     "name": "stdout",
     "output_type": "stream",
     "text": [
      "This is a  4\n",
      "[ 0.]\n",
      "[ 0.]\n",
      "[ 0.]\n",
      "[ 0.]\n",
      "[ 1.]\n",
      "I guess this is a  4\n",
      "GUESSED !!!\n",
      "[ 0.]\n",
      "[ 0.]\n",
      "[ 0.]\n",
      "[ 0.]\n",
      "[ 0.]\n",
      "== [ 1.  1.  1.  1.  1.  0.  1.  1.  1.  0.  1.  1.  1.  1.  1.  1.  1.  1.\n",
      "  1.  1.  0.  1.]\n"
     ]
    },
    {
     "data": {
      "image/png": "[encoded data removed]",
      "text/plain": [
       "<matplotlib.figure.Figure at 0x233480a04e0>"
      ]
     },
     "metadata": {},
     "output_type": "display_data"
    },
    {
     "name": "stdout",
     "output_type": "stream",
     "text": [
      "This is a  9\n",
      "[ 0.]\n",
      "[ 0.]\n",
      "[ 0.]\n",
      "[ 0.]\n",
      "[ 0.]\n",
      "[ 0.]\n",
      "[ 0.]\n",
      "[ 0.]\n",
      "[ 0.]\n",
      "[ 1.]\n",
      "I guess this is a  9\n",
      "GUESSED !!!\n",
      "== [ 1.  1.  1.  1.  1.  0.  1.  1.  1.  0.  1.  1.  1.  1.  1.  1.  1.  1.\n",
      "  1.  1.  0.  1.  1.]\n"
     ]
    },
    {
     "data": {
      "image/png": "[encoded data removed]",
      "text/plain": [
       "<matplotlib.figure.Figure at 0x23347f9f710>"
      ]
     },
     "metadata": {},
     "output_type": "display_data"
    },
    {
     "name": "stdout",
     "output_type": "stream",
     "text": [
      "This is a  5\n",
      "[ 0.]\n",
      "[ 0.]\n",
      "[ 0.]\n",
      "[ 0.]\n",
      "[ 0.]\n",
      "[ 1.]\n",
      "I guess this is a  5\n",
      "GUESSED !!!\n",
      "[ 0.]\n",
      "[ 0.]\n",
      "[ 0.]\n",
      "[ 0.]\n",
      "== [ 1.  1.  1.  1.  1.  0.  1.  1.  1.  0.  1.  1.  1.  1.  1.  1.  1.  1.\n",
      "  1.  1.  0.  1.  1.  1.]\n"
     ]
    },
    {
     "data": {
      "image/png": "[encoded data removed]",
      "text/plain": [
       "<matplotlib.figure.Figure at 0x23347f91080>"
      ]
     },
     "metadata": {},
     "output_type": "display_data"
    },
    {
     "name": "stdout",
     "output_type": "stream",
     "text": [
      "This is a  5\n",
      "[ 0.]\n",
      "[ 0.]\n",
      "[ 0.]\n",
      "[ 0.]\n",
      "[ 0.]\n",
      "[ 0.]\n",
      "[ 0.]\n",
      "[ 0.]\n",
      "[ 0.]\n",
      "[ 0.]\n",
      "== [ 1.  1.  1.  1.  1.  0.  1.  1.  1.  0.  1.  1.  1.  1.  1.  1.  1.  1.\n",
      "  1.  1.  0.  1.  1.  1.  0.]\n"
     ]
    },
    {
     "data": {
      "image/png": "[encoded data removed]",
      "text/plain": [
       "<matplotlib.figure.Figure at 0x23347f6c320>"
      ]
     },
     "metadata": {},
     "output_type": "display_data"
    },
    {
     "name": "stdout",
     "output_type": "stream",
     "text": [
      "This is a  3\n",
      "[ 0.]\n",
      "[ 0.]\n",
      "[ 0.]\n",
      "[ 1.]\n",
      "I guess this is a  3\n",
      "GUESSED !!!\n",
      "[ 0.]\n",
      "[ 0.]\n",
      "[ 0.]\n",
      "[ 0.]\n",
      "[ 0.]\n",
      "[ 0.]\n",
      "== [ 1.  1.  1.  1.  1.  0.  1.  1.  1.  0.  1.  1.  1.  1.  1.  1.  1.  1.\n",
      "  1.  1.  0.  1.  1.  1.  0.  1.]\n"
     ]
    },
    {
     "data": {
      "image/png": "[encoded data removed]",
      "text/plain": [
       "<matplotlib.figure.Figure at 0x2333c180358>"
      ]
     },
     "metadata": {},
     "output_type": "display_data"
    },
    {
     "name": "stdout",
     "output_type": "stream",
     "text": [
      "This is a  3\n",
      "[ 0.]\n",
      "[ 0.]\n",
      "[ 0.]\n",
      "[ 0.]\n",
      "[ 0.]\n",
      "[ 1.]\n",
      "I guess this is a  5\n",
      "[ 0.]\n",
      "[ 0.]\n",
      "[ 0.]\n",
      "[ 0.]\n",
      "== [ 1.  1.  1.  1.  1.  0.  1.  1.  1.  0.  1.  1.  1.  1.  1.  1.  1.  1.\n",
      "  1.  1.  0.  1.  1.  1.  0.  1.  0.]\n"
     ]
    },
    {
     "data": {
      "image/png": "[encoded data removed]",
      "text/plain": [
       "<matplotlib.figure.Figure at 0x23345532898>"
      ]
     },
     "metadata": {},
     "output_type": "display_data"
    },
    {
     "name": "stdout",
     "output_type": "stream",
     "text": [
      "This is a  8\n",
      "[ 0.]\n",
      "[ 0.]\n",
      "[ 0.]\n",
      "[ 0.]\n",
      "[ 0.]\n",
      "[ 0.]\n",
      "[ 0.]\n",
      "[ 0.]\n",
      "[ 1.]\n",
      "I guess this is a  8\n",
      "GUESSED !!!\n",
      "[ 0.]\n",
      "== [ 1.  1.  1.  1.  1.  0.  1.  1.  1.  0.  1.  1.  1.  1.  1.  1.  1.  1.\n",
      "  1.  1.  0.  1.  1.  1.  0.  1.  0.  1.]\n"
     ]
    },
    {
     "data": {
      "image/png": "[encoded data removed]",
      "text/plain": [
       "<matplotlib.figure.Figure at 0x23348194e10>"
      ]
     },
     "metadata": {},
     "output_type": "display_data"
    },
    {
     "name": "stdout",
     "output_type": "stream",
     "text": [
      "This is a  9\n",
      "[ 0.]\n",
      "[ 0.]\n",
      "[ 0.]\n",
      "[ 0.]\n",
      "[ 0.]\n",
      "[ 0.]\n",
      "[ 0.]\n",
      "[ 0.]\n",
      "[ 0.]\n",
      "[ 1.]\n",
      "I guess this is a  9\n",
      "GUESSED !!!\n",
      "== [ 1.  1.  1.  1.  1.  0.  1.  1.  1.  0.  1.  1.  1.  1.  1.  1.  1.  1.\n",
      "  1.  1.  0.  1.  1.  1.  0.  1.  0.  1.  1.]\n"
     ]
    },
    {
     "data": {
      "image/png": "[encoded data removed]",
      "text/plain": [
       "<matplotlib.figure.Figure at 0x2334804cbe0>"
      ]
     },
     "metadata": {},
     "output_type": "display_data"
    },
    {
     "name": "stdout",
     "output_type": "stream",
     "text": [
      "This is a  0\n",
      "[ 1.]\n",
      "I guess this is a  0\n",
      "GUESSED !!!\n",
      "[ 0.]\n",
      "[ 0.]\n",
      "[ 0.]\n",
      "[ 0.]\n",
      "[ 0.]\n",
      "[ 0.]\n",
      "[ 0.]\n",
      "[ 0.]\n",
      "[ 0.]\n",
      "== [ 1.  1.  1.  1.  1.  0.  1.  1.  1.  0.  1.  1.  1.  1.  1.  1.  1.  1.\n",
      "  1.  1.  0.  1.  1.  1.  0.  1.  0.  1.  1.  1.]\n"
     ]
    },
    {
     "data": {
      "image/png": "[encoded data removed]",
      "text/plain": [
       "<matplotlib.figure.Figure at 0x23348258e10>"
      ]
     },
     "metadata": {},
     "output_type": "display_data"
    },
    {
     "name": "stdout",
     "output_type": "stream",
     "text": [
      "This is a  2\n",
      "[ 0.]\n",
      "[ 0.]\n",
      "[ 1.]\n",
      "I guess this is a  2\n",
      "GUESSED !!!\n",
      "[ 0.]\n",
      "[ 0.]\n",
      "[ 0.]\n",
      "[ 0.]\n",
      "[ 0.]\n",
      "[ 0.]\n",
      "[ 0.]\n",
      "== [ 1.  1.  1.  1.  1.  0.  1.  1.  1.  0.  1.  1.  1.  1.  1.  1.  1.  1.\n",
      "  1.  1.  0.  1.  1.  1.  0.  1.  0.  1.  1.  1.  1.]\n"
     ]
    },
    {
     "data": {
      "image/png": "[encoded data removed]",
      "text/plain": [
       "<matplotlib.figure.Figure at 0x2334801c048>"
      ]
     },
     "metadata": {},
     "output_type": "display_data"
    },
    {
     "name": "stdout",
     "output_type": "stream",
     "text": [
      "This is a  9\n",
      "[ 0.]\n",
      "[ 0.]\n",
      "[ 0.]\n",
      "[ 0.]\n",
      "[ 0.]\n",
      "[ 0.]\n",
      "[ 0.]\n",
      "[ 0.]\n",
      "[ 0.]\n",
      "[ 1.]\n",
      "I guess this is a  9\n",
      "GUESSED !!!\n",
      "== [ 1.  1.  1.  1.  1.  0.  1.  1.  1.  0.  1.  1.  1.  1.  1.  1.  1.  1.\n",
      "  1.  1.  0.  1.  1.  1.  0.  1.  0.  1.  1.  1.  1.  1.]\n"
     ]
    },
    {
     "data": {
      "image/png": "[encoded data removed]",
      "text/plain": [
       "<matplotlib.figure.Figure at 0x233481e4b00>"
      ]
     },
     "metadata": {},
     "output_type": "display_data"
    },
    {
     "name": "stdout",
     "output_type": "stream",
     "text": [
      "This is a  6\n",
      "[ 0.]\n",
      "[ 0.]\n",
      "[ 0.]\n",
      "[ 0.]\n",
      "[ 0.]\n",
      "[ 0.]\n",
      "[ 1.]\n",
      "I guess this is a  6\n",
      "GUESSED !!!\n",
      "[ 0.]\n",
      "[ 0.]\n",
      "[ 0.]\n",
      "== [ 1.  1.  1.  1.  1.  0.  1.  1.  1.  0.  1.  1.  1.  1.  1.  1.  1.  1.\n",
      "  1.  1.  0.  1.  1.  1.  0.  1.  0.  1.  1.  1.  1.  1.  1.]\n"
     ]
    },
    {
     "data": {
      "image/png": "[encoded data removed]",
      "text/plain": [
       "<matplotlib.figure.Figure at 0x2334824b2e8>"
      ]
     },
     "metadata": {},
     "output_type": "display_data"
    },
    {
     "name": "stdout",
     "output_type": "stream",
     "text": [
      "This is a  1\n",
      "[ 0.]\n",
      "[ 1.]\n",
      "I guess this is a  1\n",
      "GUESSED !!!\n",
      "[ 0.]\n",
      "[ 0.]\n",
      "[ 0.]\n",
      "[ 0.]\n",
      "[ 0.]\n",
      "[ 0.]\n",
      "[ 0.]\n",
      "[ 0.]\n",
      "== [ 1.  1.  1.  1.  1.  0.  1.  1.  1.  0.  1.  1.  1.  1.  1.  1.  1.  1.\n",
      "  1.  1.  0.  1.  1.  1.  0.  1.  0.  1.  1.  1.  1.  1.  1.  1.]\n"
     ]
    },
    {
     "data": {
      "image/png": "[encoded data removed]",
      "text/plain": [
       "<matplotlib.figure.Figure at 0x23349350ba8>"
      ]
     },
     "metadata": {},
     "output_type": "display_data"
    },
    {
     "name": "stdout",
     "output_type": "stream",
     "text": [
      "This is a  9\n",
      "[ 0.]\n",
      "[ 0.]\n",
      "[ 0.]\n",
      "[ 0.]\n",
      "[ 0.]\n",
      "[ 0.]\n",
      "[ 0.]\n",
      "[ 0.]\n",
      "[ 0.]\n",
      "[ 1.]\n",
      "I guess this is a  9\n",
      "GUESSED !!!\n",
      "== [ 1.  1.  1.  1.  1.  0.  1.  1.  1.  0.  1.  1.  1.  1.  1.  1.  1.  1.\n",
      "  1.  1.  0.  1.  1.  1.  0.  1.  0.  1.  1.  1.  1.  1.  1.  1.  1.]\n"
     ]
    },
    {
     "data": {
      "image/png": "[encoded data removed]",
      "text/plain": [
       "<matplotlib.figure.Figure at 0x233481d8b38>"
      ]
     },
     "metadata": {},
     "output_type": "display_data"
    },
    {
     "name": "stdout",
     "output_type": "stream",
     "text": [
      "This is a  2\n",
      "[ 0.]\n",
      "[ 0.]\n",
      "[ 1.]\n",
      "I guess this is a  2\n",
      "GUESSED !!!\n",
      "[ 0.]\n",
      "[ 0.]\n",
      "[ 0.]\n",
      "[ 0.]\n",
      "[ 0.]\n",
      "[ 0.]\n",
      "[ 0.]\n",
      "== [ 1.  1.  1.  1.  1.  0.  1.  1.  1.  0.  1.  1.  1.  1.  1.  1.  1.  1.\n",
      "  1.  1.  0.  1.  1.  1.  0.  1.  0.  1.  1.  1.  1.  1.  1.  1.  1.  1.]\n"
     ]
    },
    {
     "data": {
      "image/png": "[encoded data removed]",
      "text/plain": [
       "<matplotlib.figure.Figure at 0x23349340f98>"
      ]
     },
     "metadata": {},
     "output_type": "display_data"
    },
    {
     "name": "stdout",
     "output_type": "stream",
     "text": [
      "This is a  5\n",
      "[ 0.]\n",
      "[ 0.]\n",
      "[ 0.]\n",
      "[ 0.]\n",
      "[ 0.]\n",
      "[ 1.]\n",
      "I guess this is a  5\n",
      "GUESSED !!!\n",
      "[ 0.]\n",
      "[ 0.]\n",
      "[ 0.]\n",
      "[ 0.]\n",
      "== [ 1.  1.  1.  1.  1.  0.  1.  1.  1.  0.  1.  1.  1.  1.  1.  1.  1.  1.\n",
      "  1.  1.  0.  1.  1.  1.  0.  1.  0.  1.  1.  1.  1.  1.  1.  1.  1.  1.\n",
      "  1.]\n"
     ]
    },
    {
     "data": {
      "image/png": "[encoded data removed]",
      "text/plain": [
       "<matplotlib.figure.Figure at 0x23347f70898>"
      ]
     },
     "metadata": {},
     "output_type": "display_data"
    },
    {
     "name": "stdout",
     "output_type": "stream",
     "text": [
      "This is a  8\n",
      "[ 0.]\n",
      "[ 0.]\n",
      "[ 0.]\n",
      "[ 0.]\n",
      "[ 0.]\n",
      "[ 0.]\n",
      "[ 0.]\n",
      "[ 0.]\n",
      "[ 0.]\n",
      "[ 0.]\n",
      "== [ 1.  1.  1.  1.  1.  0.  1.  1.  1.  0.  1.  1.  1.  1.  1.  1.  1.  1.\n",
      "  1.  1.  0.  1.  1.  1.  0.  1.  0.  1.  1.  1.  1.  1.  1.  1.  1.  1.\n",
      "  1.  0.]\n"
     ]
    },
    {
     "data": {
      "image/png": "[encoded data removed]",
      "text/plain": [
       "<matplotlib.figure.Figure at 0x233456f5550>"
      ]
     },
     "metadata": {},
     "output_type": "display_data"
    },
    {
     "name": "stdout",
     "output_type": "stream",
     "text": [
      "This is a  1\n",
      "[ 0.]\n",
      "[ 1.]\n",
      "I guess this is a  1\n",
      "GUESSED !!!\n",
      "[ 0.]\n",
      "[ 0.]\n",
      "[ 0.]\n",
      "[ 0.]\n",
      "[ 0.]\n",
      "[ 0.]\n",
      "[ 0.]\n",
      "[ 0.]\n",
      "== [ 1.  1.  1.  1.  1.  0.  1.  1.  1.  0.  1.  1.  1.  1.  1.  1.  1.  1.\n",
      "  1.  1.  0.  1.  1.  1.  0.  1.  0.  1.  1.  1.  1.  1.  1.  1.  1.  1.\n",
      "  1.  0.  1.]\n"
     ]
    },
    {
     "data": {
      "image/png": "[encoded data removed]",
      "text/plain": [
       "<matplotlib.figure.Figure at 0x23347ff4a90>"
      ]
     },
     "metadata": {},
     "output_type": "display_data"
    },
    {
     "name": "stdout",
     "output_type": "stream",
     "text": [
      "This is a  9\n",
      "[ 0.]\n",
      "[ 0.]\n",
      "[ 0.]\n",
      "[ 0.]\n",
      "[ 0.]\n",
      "[ 0.]\n",
      "[ 0.]\n",
      "[ 0.]\n",
      "[ 0.]\n",
      "[ 1.]\n",
      "I guess this is a  9\n",
      "GUESSED !!!\n",
      "== [ 1.  1.  1.  1.  1.  0.  1.  1.  1.  0.  1.  1.  1.  1.  1.  1.  1.  1.\n",
      "  1.  1.  0.  1.  1.  1.  0.  1.  0.  1.  1.  1.  1.  1.  1.  1.  1.  1.\n",
      "  1.  0.  1.  1.]\n"
     ]
    },
    {
     "data": {
      "image/png": "[encoded data removed]",
      "text/plain": [
       "<matplotlib.figure.Figure at 0x23347ffbf28>"
      ]
     },
     "metadata": {},
     "output_type": "display_data"
    },
    {
     "name": "stdout",
     "output_type": "stream",
     "text": [
      "This is a  9\n",
      "[ 0.]\n",
      "[ 0.]\n",
      "[ 0.]\n",
      "[ 0.]\n",
      "[ 0.]\n",
      "[ 0.]\n",
      "[ 0.]\n",
      "[ 0.]\n",
      "[ 0.]\n",
      "[ 1.]\n",
      "I guess this is a  9\n",
      "GUESSED !!!\n",
      "== [ 1.  1.  1.  1.  1.  0.  1.  1.  1.  0.  1.  1.  1.  1.  1.  1.  1.  1.\n",
      "  1.  1.  0.  1.  1.  1.  0.  1.  0.  1.  1.  1.  1.  1.  1.  1.  1.  1.\n",
      "  1.  0.  1.  1.  1.]\n"
     ]
    },
    {
     "data": {
      "image/png": "[encoded data removed]",
      "text/plain": [
       "<matplotlib.figure.Figure at 0x23348165128>"
      ]
     },
     "metadata": {},
     "output_type": "display_data"
    },
    {
     "name": "stdout",
     "output_type": "stream",
     "text": [
      "This is a  7\n",
      "[ 0.]\n",
      "[ 0.]\n",
      "[ 0.]\n",
      "[ 0.]\n",
      "[ 0.]\n",
      "[ 0.]\n",
      "[ 0.]\n",
      "[ 1.]\n",
      "I guess this is a  7\n",
      "GUESSED !!!\n",
      "[ 0.]\n",
      "[ 0.]\n",
      "== [ 1.  1.  1.  1.  1.  0.  1.  1.  1.  0.  1.  1.  1.  1.  1.  1.  1.  1.\n",
      "  1.  1.  0.  1.  1.  1.  0.  1.  0.  1.  1.  1.  1.  1.  1.  1.  1.  1.\n",
      "  1.  0.  1.  1.  1.  1.]\n"
     ]
    },
    {
     "data": {
      "image/png": "[encoded data removed]",
      "text/plain": [
       "<matplotlib.figure.Figure at 0x233481beef0>"
      ]
     },
     "metadata": {},
     "output_type": "display_data"
    },
    {
     "name": "stdout",
     "output_type": "stream",
     "text": [
      "This is a  2\n",
      "[ 0.]\n",
      "[ 0.]\n",
      "[ 1.]\n",
      "I guess this is a  2\n",
      "GUESSED !!!\n",
      "[ 1.]\n",
      "I guess this is a  3\n",
      "[ 0.]\n",
      "[ 0.]\n",
      "[ 0.]\n",
      "[ 1.]\n",
      "I guess this is a  7\n",
      "[ 0.]\n",
      "[ 0.]\n",
      "== [ 1.  1.  1.  1.  1.  0.  1.  1.  1.  0.  1.  1.  1.  1.  1.  1.  1.  1.\n",
      "  1.  1.  0.  1.  1.  1.  0.  1.  0.  1.  1.  1.  1.  1.  1.  1.  1.  1.\n",
      "  1.  0.  1.  1.  1.  1.  1.]\n"
     ]
    },
    {
     "data": {
      "image/png": "[encoded data removed]",
      "text/plain": [
       "<matplotlib.figure.Figure at 0x23347fa46d8>"
      ]
     },
     "metadata": {},
     "output_type": "display_data"
    },
    {
     "name": "stdout",
     "output_type": "stream",
     "text": [
      "This is a  3\n",
      "[ 0.]\n",
      "[ 0.]\n",
      "[ 0.]\n",
      "[ 0.]\n",
      "[ 0.]\n",
      "[ 0.]\n",
      "[ 0.]\n",
      "[ 0.]\n",
      "[ 0.]\n",
      "[ 0.]\n",
      "== [ 1.  1.  1.  1.  1.  0.  1.  1.  1.  0.  1.  1.  1.  1.  1.  1.  1.  1.\n",
      "  1.  1.  0.  1.  1.  1.  0.  1.  0.  1.  1.  1.  1.  1.  1.  1.  1.  1.\n",
      "  1.  0.  1.  1.  1.  1.  1.  0.]\n"
     ]
    },
    {
     "data": {
      "image/png": "[encoded data removed]",
      "text/plain": [
       "<matplotlib.figure.Figure at 0x23347f917f0>"
      ]
     },
     "metadata": {},
     "output_type": "display_data"
    },
    {
     "name": "stdout",
     "output_type": "stream",
     "text": [
      "This is a  5\n",
      "[ 0.]\n",
      "[ 0.]\n",
      "[ 0.]\n",
      "[ 0.]\n",
      "[ 0.]\n",
      "[ 1.]\n",
      "I guess this is a  5\n",
      "GUESSED !!!\n",
      "[ 0.]\n",
      "[ 0.]\n",
      "[ 0.]\n",
      "[ 0.]\n",
      "== [ 1.  1.  1.  1.  1.  0.  1.  1.  1.  0.  1.  1.  1.  1.  1.  1.  1.  1.\n",
      "  1.  1.  0.  1.  1.  1.  0.  1.  0.  1.  1.  1.  1.  1.  1.  1.  1.  1.\n",
      "  1.  0.  1.  1.  1.  1.  1.  0.  1.]\n"
     ]
    },
    {
     "data": {
      "image/png": "[encoded data removed]",
      "text/plain": [
       "<matplotlib.figure.Figure at 0x23347fa62b0>"
      ]
     },
     "metadata": {},
     "output_type": "display_data"
    },
    {
     "name": "stdout",
     "output_type": "stream",
     "text": [
      "This is a  6\n",
      "[ 0.]\n",
      "[ 0.]\n",
      "[ 0.]\n",
      "[ 0.]\n",
      "[ 0.]\n",
      "[ 0.]\n",
      "[ 1.]\n",
      "I guess this is a  6\n",
      "GUESSED !!!\n",
      "[ 0.]\n",
      "[ 1.]\n",
      "I guess this is a  8\n",
      "[ 0.]\n",
      "== [ 1.  1.  1.  1.  1.  0.  1.  1.  1.  0.  1.  1.  1.  1.  1.  1.  1.  1.\n",
      "  1.  1.  0.  1.  1.  1.  0.  1.  0.  1.  1.  1.  1.  1.  1.  1.  1.  1.\n",
      "  1.  0.  1.  1.  1.  1.  1.  0.  1.  1.]\n"
     ]
    },
    {
     "data": {
      "image/png": "[encoded data removed]",
      "text/plain": [
       "<matplotlib.figure.Figure at 0x23348136550>"
      ]
     },
     "metadata": {},
     "output_type": "display_data"
    },
    {
     "name": "stdout",
     "output_type": "stream",
     "text": [
      "This is a  7\n",
      "[ 0.]\n",
      "[ 0.]\n",
      "[ 0.]\n",
      "[ 0.]\n",
      "[ 0.]\n",
      "[ 0.]\n",
      "[ 0.]\n",
      "[ 1.]\n",
      "I guess this is a  7\n",
      "GUESSED !!!\n",
      "[ 0.]\n",
      "[ 0.]\n",
      "== [ 1.  1.  1.  1.  1.  0.  1.  1.  1.  0.  1.  1.  1.  1.  1.  1.  1.  1.\n",
      "  1.  1.  0.  1.  1.  1.  0.  1.  0.  1.  1.  1.  1.  1.  1.  1.  1.  1.\n",
      "  1.  0.  1.  1.  1.  1.  1.  0.  1.  1.  1.]\n"
     ]
    },
    {
     "data": {
      "image/png": "[encoded data removed]",
      "text/plain": [
       "<matplotlib.figure.Figure at 0x23348345358>"
      ]
     },
     "metadata": {},
     "output_type": "display_data"
    },
    {
     "name": "stdout",
     "output_type": "stream",
     "text": [
      "This is a  6\n",
      "[ 0.]\n",
      "[ 0.]\n",
      "[ 0.]\n",
      "[ 0.]\n",
      "[ 0.]\n",
      "[ 0.]\n",
      "[ 1.]\n",
      "I guess this is a  6\n",
      "GUESSED !!!\n",
      "[ 0.]\n",
      "[ 0.]\n",
      "[ 0.]\n",
      "== [ 1.  1.  1.  1.  1.  0.  1.  1.  1.  0.  1.  1.  1.  1.  1.  1.  1.  1.\n",
      "  1.  1.  0.  1.  1.  1.  0.  1.  0.  1.  1.  1.  1.  1.  1.  1.  1.  1.\n",
      "  1.  0.  1.  1.  1.  1.  1.  0.  1.  1.  1.  1.]\n"
     ]
    },
    {
     "data": {
      "image/png": "[encoded data removed]",
      "text/plain": [
       "<matplotlib.figure.Figure at 0x23347f63198>"
      ]
     },
     "metadata": {},
     "output_type": "display_data"
    },
    {
     "name": "stdout",
     "output_type": "stream",
     "text": [
      "This is a  9\n",
      "[ 0.]\n",
      "[ 0.]\n",
      "[ 0.]\n",
      "[ 0.]\n",
      "[ 0.]\n",
      "[ 0.]\n",
      "[ 0.]\n",
      "[ 1.]\n",
      "I guess this is a  7\n",
      "[ 0.]\n",
      "[ 0.]\n",
      "== [ 1.  1.  1.  1.  1.  0.  1.  1.  1.  0.  1.  1.  1.  1.  1.  1.  1.  1.\n",
      "  1.  1.  0.  1.  1.  1.  0.  1.  0.  1.  1.  1.  1.  1.  1.  1.  1.  1.\n",
      "  1.  0.  1.  1.  1.  1.  1.  0.  1.  1.  1.  1.  0.]\n"
     ]
    },
    {
     "data": {
      "image/png": "[encoded data removed]",
      "text/plain": [
       "<matplotlib.figure.Figure at 0x23348288b70>"
      ]
     },
     "metadata": {},
     "output_type": "display_data"
    },
    {
     "name": "stdout",
     "output_type": "stream",
     "text": [
      "This is a  5\n",
      "[ 0.]\n",
      "[ 0.]\n",
      "[ 0.]\n",
      "[ 0.]\n",
      "[ 0.]\n",
      "[ 0.]\n",
      "[ 0.]\n",
      "[ 0.]\n",
      "[ 0.]\n",
      "[ 0.]\n",
      "== [ 1.  1.  1.  1.  1.  0.  1.  1.  1.  0.  1.  1.  1.  1.  1.  1.  1.  1.\n",
      "  1.  1.  0.  1.  1.  1.  0.  1.  0.  1.  1.  1.  1.  1.  1.  1.  1.  1.\n",
      "  1.  0.  1.  1.  1.  1.  1.  0.  1.  1.  1.  1.  0.  0.]\n"
     ]
    },
    {
     "data": {
      "image/png": "[encoded data removed]",
      "text/plain": [
       "<matplotlib.figure.Figure at 0x233480eb208>"
      ]
     },
     "metadata": {},
     "output_type": "display_data"
    },
    {
     "name": "stdout",
     "output_type": "stream",
     "text": [
      "This is a  2\n",
      "[ 0.]\n",
      "[ 0.]\n",
      "[ 1.]\n",
      "I guess this is a  2\n",
      "GUESSED !!!\n",
      "[ 0.]\n",
      "[ 0.]\n",
      "[ 0.]\n",
      "[ 0.]\n",
      "[ 0.]\n",
      "[ 0.]\n",
      "[ 0.]\n",
      "== [ 1.  1.  1.  1.  1.  0.  1.  1.  1.  0.  1.  1.  1.  1.  1.  1.  1.  1.\n",
      "  1.  1.  0.  1.  1.  1.  0.  1.  0.  1.  1.  1.  1.  1.  1.  1.  1.  1.\n",
      "  1.  0.  1.  1.  1.  1.  1.  0.  1.  1.  1.  1.  0.  0.  1.]\n"
     ]
    },
    {
     "data": {
      "image/png": "[encoded data removed]",
      "text/plain": [
       "<matplotlib.figure.Figure at 0x2334818c5f8>"
      ]
     },
     "metadata": {},
     "output_type": "display_data"
    },
    {
     "name": "stdout",
     "output_type": "stream",
     "text": [
      "This is a  8\n",
      "[ 0.]\n",
      "[ 0.]\n",
      "[ 0.]\n",
      "[ 0.]\n",
      "[ 0.]\n",
      "[ 0.]\n",
      "[ 0.]\n",
      "[ 0.]\n",
      "[ 1.]\n",
      "I guess this is a  8\n",
      "GUESSED !!!\n",
      "[ 0.]\n",
      "== [ 1.  1.  1.  1.  1.  0.  1.  1.  1.  0.  1.  1.  1.  1.  1.  1.  1.  1.\n",
      "  1.  1.  0.  1.  1.  1.  0.  1.  0.  1.  1.  1.  1.  1.  1.  1.  1.  1.\n",
      "  1.  0.  1.  1.  1.  1.  1.  0.  1.  1.  1.  1.  0.  0.  1.  1.]\n"
     ]
    },
    {
     "data": {
      "image/png": "[encoded data removed]",
      "text/plain": [
       "<matplotlib.figure.Figure at 0x23348050160>"
      ]
     },
     "metadata": {},
     "output_type": "display_data"
    },
    {
     "name": "stdout",
     "output_type": "stream",
     "text": [
      "This is a  1\n",
      "[ 0.]\n",
      "[ 1.]\n",
      "I guess this is a  1\n",
      "GUESSED !!!\n",
      "[ 0.]\n",
      "[ 0.]\n",
      "[ 0.]\n",
      "[ 0.]\n",
      "[ 0.]\n",
      "[ 0.]\n",
      "[ 0.]\n",
      "[ 0.]\n",
      "== [ 1.  1.  1.  1.  1.  0.  1.  1.  1.  0.  1.  1.  1.  1.  1.  1.  1.  1.\n",
      "  1.  1.  0.  1.  1.  1.  0.  1.  0.  1.  1.  1.  1.  1.  1.  1.  1.  1.\n",
      "  1.  0.  1.  1.  1.  1.  1.  0.  1.  1.  1.  1.  0.  0.  1.  1.  1.]\n"
     ]
    },
    {
     "data": {
      "image/png": "[encoded data removed]",
      "text/plain": [
       "<matplotlib.figure.Figure at 0x23348338ef0>"
      ]
     },
     "metadata": {},
     "output_type": "display_data"
    },
    {
     "name": "stdout",
     "output_type": "stream",
     "text": [
      "This is a  2\n",
      "[ 0.]\n",
      "[ 0.]\n",
      "[ 1.]\n",
      "I guess this is a  2\n",
      "GUESSED !!!\n",
      "[ 0.]\n",
      "[ 0.]\n",
      "[ 0.]\n",
      "[ 0.]\n",
      "[ 0.]\n",
      "[ 0.]\n",
      "[ 0.]\n",
      "== [ 1.  1.  1.  1.  1.  0.  1.  1.  1.  0.  1.  1.  1.  1.  1.  1.  1.  1.\n",
      "  1.  1.  0.  1.  1.  1.  0.  1.  0.  1.  1.  1.  1.  1.  1.  1.  1.  1.\n",
      "  1.  0.  1.  1.  1.  1.  1.  0.  1.  1.  1.  1.  0.  0.  1.  1.  1.  1.]\n"
     ]
    },
    {
     "data": {
      "image/png": "[encoded data removed]",
      "text/plain": [
       "<matplotlib.figure.Figure at 0x233481e5908>"
      ]
     },
     "metadata": {},
     "output_type": "display_data"
    },
    {
     "name": "stdout",
     "output_type": "stream",
     "text": [
      "This is a  2\n",
      "[ 0.]\n",
      "[ 0.]\n",
      "[ 1.]\n",
      "I guess this is a  2\n",
      "GUESSED !!!\n",
      "[ 0.]\n",
      "[ 0.]\n",
      "[ 0.]\n",
      "[ 0.]\n",
      "[ 0.]\n",
      "[ 0.]\n",
      "[ 0.]\n",
      "== [ 1.  1.  1.  1.  1.  0.  1.  1.  1.  0.  1.  1.  1.  1.  1.  1.  1.  1.\n",
      "  1.  1.  0.  1.  1.  1.  0.  1.  0.  1.  1.  1.  1.  1.  1.  1.  1.  1.\n",
      "  1.  0.  1.  1.  1.  1.  1.  0.  1.  1.  1.  1.  0.  0.  1.  1.  1.  1.\n",
      "  1.]\n"
     ]
    },
    {
     "data": {
      "image/png": "[encoded data removed]",
      "text/plain": [
       "<matplotlib.figure.Figure at 0x233482fcf60>"
      ]
     },
     "metadata": {},
     "output_type": "display_data"
    },
    {
     "name": "stdout",
     "output_type": "stream",
     "text": [
      "This is a  4\n",
      "[ 0.]\n",
      "[ 0.]\n",
      "[ 0.]\n",
      "[ 0.]\n",
      "[ 1.]\n",
      "I guess this is a  4\n",
      "GUESSED !!!\n",
      "[ 0.]\n",
      "[ 0.]\n",
      "[ 0.]\n",
      "[ 0.]\n",
      "[ 0.]\n",
      "== [ 1.  1.  1.  1.  1.  0.  1.  1.  1.  0.  1.  1.  1.  1.  1.  1.  1.  1.\n",
      "  1.  1.  0.  1.  1.  1.  0.  1.  0.  1.  1.  1.  1.  1.  1.  1.  1.  1.\n",
      "  1.  0.  1.  1.  1.  1.  1.  0.  1.  1.  1.  1.  0.  0.  1.  1.  1.  1.\n",
      "  1.  1.]\n"
     ]
    },
    {
     "data": {
      "image/png": "[encoded data removed]",
      "text/plain": [
       "<matplotlib.figure.Figure at 0x233481effd0>"
      ]
     },
     "metadata": {},
     "output_type": "display_data"
    },
    {
     "name": "stdout",
     "output_type": "stream",
     "text": [
      "This is a  4\n",
      "[ 0.]\n",
      "[ 0.]\n",
      "[ 0.]\n",
      "[ 0.]\n",
      "[ 0.]\n",
      "[ 0.]\n",
      "[ 0.]\n",
      "[ 0.]\n",
      "[ 0.]\n",
      "[ 0.]\n",
      "== [ 1.  1.  1.  1.  1.  0.  1.  1.  1.  0.  1.  1.  1.  1.  1.  1.  1.  1.\n",
      "  1.  1.  0.  1.  1.  1.  0.  1.  0.  1.  1.  1.  1.  1.  1.  1.  1.  1.\n",
      "  1.  0.  1.  1.  1.  1.  1.  0.  1.  1.  1.  1.  0.  0.  1.  1.  1.  1.\n",
      "  1.  1.  0.]\n"
     ]
    },
    {
     "data": {
      "image/png": "[encoded data removed]",
      "text/plain": [
       "<matplotlib.figure.Figure at 0x2334932c048>"
      ]
     },
     "metadata": {},
     "output_type": "display_data"
    },
    {
     "name": "stdout",
     "output_type": "stream",
     "text": [
      "This is a  1\n",
      "[ 0.]\n",
      "[ 1.]\n",
      "I guess this is a  1\n",
      "GUESSED !!!\n",
      "[ 0.]\n",
      "[ 0.]\n",
      "[ 0.]\n",
      "[ 0.]\n",
      "[ 0.]\n",
      "[ 0.]\n",
      "[ 0.]\n",
      "[ 0.]\n",
      "== [ 1.  1.  1.  1.  1.  0.  1.  1.  1.  0.  1.  1.  1.  1.  1.  1.  1.  1.\n",
      "  1.  1.  0.  1.  1.  1.  0.  1.  0.  1.  1.  1.  1.  1.  1.  1.  1.  1.\n",
      "  1.  0.  1.  1.  1.  1.  1.  0.  1.  1.  1.  1.  0.  0.  1.  1.  1.  1.\n",
      "  1.  1.  0.  1.]\n"
     ]
    },
    {
     "data": {
      "image/png": "[encoded data removed]",
      "text/plain": [
       "<matplotlib.figure.Figure at 0x233480c4400>"
      ]
     },
     "metadata": {},
     "output_type": "display_data"
    },
    {
     "name": "stdout",
     "output_type": "stream",
     "text": [
      "This is a  8\n",
      "[ 0.]\n",
      "[ 0.]\n",
      "[ 0.]\n",
      "[ 0.]\n",
      "[ 0.]\n",
      "[ 0.]\n",
      "[ 0.]\n",
      "[ 0.]\n",
      "[ 1.]\n",
      "I guess this is a  8\n",
      "GUESSED !!!\n",
      "[ 0.]\n",
      "== [ 1.  1.  1.  1.  1.  0.  1.  1.  1.  0.  1.  1.  1.  1.  1.  1.  1.  1.\n",
      "  1.  1.  0.  1.  1.  1.  0.  1.  0.  1.  1.  1.  1.  1.  1.  1.  1.  1.\n",
      "  1.  0.  1.  1.  1.  1.  1.  0.  1.  1.  1.  1.  0.  0.  1.  1.  1.  1.\n",
      "  1.  1.  0.  1.  1.]\n"
     ]
    },
    {
     "data": {
      "image/png": "[encoded data removed]",
      "text/plain": [
       "<matplotlib.figure.Figure at 0x233481e1b38>"
      ]
     },
     "metadata": {},
     "output_type": "display_data"
    },
    {
     "name": "stdout",
     "output_type": "stream",
     "text": [
      "This is a  9\n",
      "[ 0.]\n",
      "[ 0.]\n",
      "[ 0.]\n",
      "[ 0.]\n",
      "[ 0.]\n",
      "[ 0.]\n",
      "[ 0.]\n",
      "[ 0.]\n",
      "[ 0.]\n",
      "[ 0.]\n",
      "== [ 1.  1.  1.  1.  1.  0.  1.  1.  1.  0.  1.  1.  1.  1.  1.  1.  1.  1.\n",
      "  1.  1.  0.  1.  1.  1.  0.  1.  0.  1.  1.  1.  1.  1.  1.  1.  1.  1.\n",
      "  1.  0.  1.  1.  1.  1.  1.  0.  1.  1.  1.  1.  0.  0.  1.  1.  1.  1.\n",
      "  1.  1.  0.  1.  1.  0.]\n"
     ]
    },
    {
     "data": {
      "image/png": "[encoded data removed]",
      "text/plain": [
       "<matplotlib.figure.Figure at 0x23347f63be0>"
      ]
     },
     "metadata": {},
     "output_type": "display_data"
    },
    {
     "name": "stdout",
     "output_type": "stream",
     "text": [
      "This is a  6\n",
      "[ 0.]\n",
      "[ 0.]\n",
      "[ 0.]\n",
      "[ 0.]\n",
      "[ 0.]\n",
      "[ 1.]\n",
      "I guess this is a  5\n",
      "[ 0.]\n",
      "[ 0.]\n",
      "[ 0.]\n",
      "[ 0.]\n",
      "== [ 1.  1.  1.  1.  1.  0.  1.  1.  1.  0.  1.  1.  1.  1.  1.  1.  1.  1.\n",
      "  1.  1.  0.  1.  1.  1.  0.  1.  0.  1.  1.  1.  1.  1.  1.  1.  1.  1.\n",
      "  1.  0.  1.  1.  1.  1.  1.  0.  1.  1.  1.  1.  0.  0.  1.  1.  1.  1.\n",
      "  1.  1.  0.  1.  1.  0.  0.]\n"
     ]
    },
    {
     "data": {
      "image/png": "[encoded data removed]",
      "text/plain": [
       "<matplotlib.figure.Figure at 0x2334810ca20>"
      ]
     },
     "metadata": {},
     "output_type": "display_data"
    },
    {
     "name": "stdout",
     "output_type": "stream",
     "text": [
      "This is a  1\n",
      "[ 0.]\n",
      "[ 1.]\n",
      "I guess this is a  1\n",
      "GUESSED !!!\n",
      "[ 0.]\n",
      "[ 0.]\n",
      "[ 0.]\n",
      "[ 0.]\n",
      "[ 0.]\n",
      "[ 0.]\n",
      "[ 0.]\n",
      "[ 0.]\n",
      "== [ 1.  1.  1.  1.  1.  0.  1.  1.  1.  0.  1.  1.  1.  1.  1.  1.  1.  1.\n",
      "  1.  1.  0.  1.  1.  1.  0.  1.  0.  1.  1.  1.  1.  1.  1.  1.  1.  1.\n",
      "  1.  0.  1.  1.  1.  1.  1.  0.  1.  1.  1.  1.  0.  0.  1.  1.  1.  1.\n",
      "  1.  1.  0.  1.  1.  0.  0.  1.]\n"
     ]
    },
    {
     "data": {
      "image/png": "[encoded data removed]",
      "text/plain": [
       "<matplotlib.figure.Figure at 0x23347fd5f60>"
      ]
     },
     "metadata": {},
     "output_type": "display_data"
    },
    {
     "name": "stdout",
     "output_type": "stream",
     "text": [
      "This is a  5\n",
      "[ 0.]\n",
      "[ 0.]\n",
      "[ 0.]\n",
      "[ 1.]\n",
      "I guess this is a  3\n",
      "[ 0.]\n",
      "[ 0.]\n",
      "[ 0.]\n",
      "[ 0.]\n",
      "[ 0.]\n",
      "[ 0.]\n",
      "== [ 1.  1.  1.  1.  1.  0.  1.  1.  1.  0.  1.  1.  1.  1.  1.  1.  1.  1.\n",
      "  1.  1.  0.  1.  1.  1.  0.  1.  0.  1.  1.  1.  1.  1.  1.  1.  1.  1.\n",
      "  1.  0.  1.  1.  1.  1.  1.  0.  1.  1.  1.  1.  0.  0.  1.  1.  1.  1.\n",
      "  1.  1.  0.  1.  1.  0.  0.  1.  0.]\n"
     ]
    },
    {
     "data": {
      "image/png": "[encoded data removed]",
      "text/plain": [
       "<matplotlib.figure.Figure at 0x23348266b38>"
      ]
     },
     "metadata": {},
     "output_type": "display_data"
    },
    {
     "name": "stdout",
     "output_type": "stream",
     "text": [
      "This is a  8\n",
      "[ 0.]\n",
      "[ 0.]\n",
      "[ 0.]\n",
      "[ 0.]\n",
      "[ 0.]\n",
      "[ 0.]\n",
      "[ 0.]\n",
      "[ 0.]\n",
      "[ 1.]\n",
      "I guess this is a  8\n",
      "GUESSED !!!\n",
      "[ 0.]\n",
      "== [ 1.  1.  1.  1.  1.  0.  1.  1.  1.  0.  1.  1.  1.  1.  1.  1.  1.  1.\n",
      "  1.  1.  0.  1.  1.  1.  0.  1.  0.  1.  1.  1.  1.  1.  1.  1.  1.  1.\n",
      "  1.  0.  1.  1.  1.  1.  1.  0.  1.  1.  1.  1.  0.  0.  1.  1.  1.  1.\n",
      "  1.  1.  0.  1.  1.  0.  0.  1.  0.  1.]\n"
     ]
    },
    {
     "data": {
      "image/png": "[encoded data removed]",
      "text/plain": [
       "<matplotlib.figure.Figure at 0x23348169160>"
      ]
     },
     "metadata": {},
     "output_type": "display_data"
    },
    {
     "name": "stdout",
     "output_type": "stream",
     "text": [
      "This is a  3\n",
      "[ 0.]\n",
      "[ 0.]\n",
      "[ 0.]\n",
      "[ 1.]\n",
      "I guess this is a  3\n",
      "GUESSED !!!\n",
      "[ 0.]\n",
      "[ 0.]\n",
      "[ 0.]\n",
      "[ 0.]\n",
      "[ 0.]\n",
      "[ 0.]\n",
      "== [ 1.  1.  1.  1.  1.  0.  1.  1.  1.  0.  1.  1.  1.  1.  1.  1.  1.  1.\n",
      "  1.  1.  0.  1.  1.  1.  0.  1.  0.  1.  1.  1.  1.  1.  1.  1.  1.  1.\n",
      "  1.  0.  1.  1.  1.  1.  1.  0.  1.  1.  1.  1.  0.  0.  1.  1.  1.  1.\n",
      "  1.  1.  0.  1.  1.  0.  0.  1.  0.  1.  1.]\n"
     ]
    },
    {
     "data": {
      "image/png": "[encoded data removed]",
      "text/plain": [
       "<matplotlib.figure.Figure at 0x2334814a470>"
      ]
     },
     "metadata": {},
     "output_type": "display_data"
    },
    {
     "name": "stdout",
     "output_type": "stream",
     "text": [
      "This is a  7\n",
      "[ 0.]\n",
      "[ 0.]\n",
      "[ 0.]\n",
      "[ 0.]\n",
      "[ 0.]\n",
      "[ 0.]\n",
      "[ 0.]\n",
      "[ 1.]\n",
      "I guess this is a  7\n",
      "GUESSED !!!\n",
      "[ 0.]\n",
      "[ 0.]\n",
      "== [ 1.  1.  1.  1.  1.  0.  1.  1.  1.  0.  1.  1.  1.  1.  1.  1.  1.  1.\n",
      "  1.  1.  0.  1.  1.  1.  0.  1.  0.  1.  1.  1.  1.  1.  1.  1.  1.  1.\n",
      "  1.  0.  1.  1.  1.  1.  1.  0.  1.  1.  1.  1.  0.  0.  1.  1.  1.  1.\n",
      "  1.  1.  0.  1.  1.  0.  0.  1.  0.  1.  1.  1.]\n"
     ]
    },
    {
     "data": {
      "image/png": "[encoded data removed]",
      "text/plain": [
       "<matplotlib.figure.Figure at 0x233481294a8>"
      ]
     },
     "metadata": {},
     "output_type": "display_data"
    },
    {
     "name": "stdout",
     "output_type": "stream",
     "text": [
      "This is a  4\n",
      "[ 0.]\n",
      "[ 0.]\n",
      "[ 0.]\n",
      "[ 0.]\n",
      "[ 1.]\n",
      "I guess this is a  4\n",
      "GUESSED !!!\n",
      "[ 0.]\n",
      "[ 0.]\n",
      "[ 0.]\n",
      "[ 0.]\n",
      "[ 1.]\n",
      "I guess this is a  9\n",
      "== [ 1.  1.  1.  1.  1.  0.  1.  1.  1.  0.  1.  1.  1.  1.  1.  1.  1.  1.\n",
      "  1.  1.  0.  1.  1.  1.  0.  1.  0.  1.  1.  1.  1.  1.  1.  1.  1.  1.\n",
      "  1.  0.  1.  1.  1.  1.  1.  0.  1.  1.  1.  1.  0.  0.  1.  1.  1.  1.\n",
      "  1.  1.  0.  1.  1.  0.  0.  1.  0.  1.  1.  1.  1.]\n"
     ]
    },
    {
     "data": {
      "image/png": "[encoded data removed]",
      "text/plain": [
       "<matplotlib.figure.Figure at 0x23348122978>"
      ]
     },
     "metadata": {},
     "output_type": "display_data"
    },
    {
     "name": "stdout",
     "output_type": "stream",
     "text": [
      "This is a  5\n",
      "[ 0.]\n",
      "[ 0.]\n",
      "[ 0.]\n",
      "[ 0.]\n",
      "[ 0.]\n",
      "[ 1.]\n",
      "I guess this is a  5\n",
      "GUESSED !!!\n",
      "[ 0.]\n",
      "[ 0.]\n",
      "[ 0.]\n",
      "[ 0.]\n",
      "== [ 1.  1.  1.  1.  1.  0.  1.  1.  1.  0.  1.  1.  1.  1.  1.  1.  1.  1.\n",
      "  1.  1.  0.  1.  1.  1.  0.  1.  0.  1.  1.  1.  1.  1.  1.  1.  1.  1.\n",
      "  1.  0.  1.  1.  1.  1.  1.  0.  1.  1.  1.  1.  0.  0.  1.  1.  1.  1.\n",
      "  1.  1.  0.  1.  1.  0.  0.  1.  0.  1.  1.  1.  1.  1.]\n"
     ]
    },
    {
     "data": {
      "image/png": "[encoded data removed]",
      "text/plain": [
       "<matplotlib.figure.Figure at 0x233481697f0>"
      ]
     },
     "metadata": {},
     "output_type": "display_data"
    },
    {
     "name": "stdout",
     "output_type": "stream",
     "text": [
      "This is a  3\n",
      "[ 0.]\n",
      "[ 0.]\n",
      "[ 0.]\n",
      "[ 1.]\n",
      "I guess this is a  3\n",
      "GUESSED !!!\n",
      "[ 0.]\n",
      "[ 0.]\n",
      "[ 0.]\n",
      "[ 0.]\n",
      "[ 0.]\n",
      "[ 0.]\n",
      "== [ 1.  1.  1.  1.  1.  0.  1.  1.  1.  0.  1.  1.  1.  1.  1.  1.  1.  1.\n",
      "  1.  1.  0.  1.  1.  1.  0.  1.  0.  1.  1.  1.  1.  1.  1.  1.  1.  1.\n",
      "  1.  0.  1.  1.  1.  1.  1.  0.  1.  1.  1.  1.  0.  0.  1.  1.  1.  1.\n",
      "  1.  1.  0.  1.  1.  0.  0.  1.  0.  1.  1.  1.  1.  1.  1.]\n"
     ]
    },
    {
     "data": {
      "image/png": "[encoded data removed]",
      "text/plain": [
       "<matplotlib.figure.Figure at 0x23347f91be0>"
      ]
     },
     "metadata": {},
     "output_type": "display_data"
    },
    {
     "name": "stdout",
     "output_type": "stream",
     "text": [
      "This is a  4\n",
      "[ 0.]\n",
      "[ 0.]\n",
      "[ 0.]\n",
      "[ 0.]\n",
      "[ 1.]\n",
      "I guess this is a  4\n",
      "GUESSED !!!\n",
      "[ 0.]\n",
      "[ 0.]\n",
      "[ 0.]\n",
      "[ 0.]\n",
      "[ 0.]\n",
      "== [ 1.  1.  1.  1.  1.  0.  1.  1.  1.  0.  1.  1.  1.  1.  1.  1.  1.  1.\n",
      "  1.  1.  0.  1.  1.  1.  0.  1.  0.  1.  1.  1.  1.  1.  1.  1.  1.  1.\n",
      "  1.  0.  1.  1.  1.  1.  1.  0.  1.  1.  1.  1.  0.  0.  1.  1.  1.  1.\n",
      "  1.  1.  0.  1.  1.  0.  0.  1.  0.  1.  1.  1.  1.  1.  1.  1.]\n"
     ]
    },
    {
     "data": {
      "image/png": "[encoded data removed]",
      "text/plain": [
       "<matplotlib.figure.Figure at 0x233480a01d0>"
      ]
     },
     "metadata": {},
     "output_type": "display_data"
    },
    {
     "name": "stdout",
     "output_type": "stream",
     "text": [
      "This is a  9\n",
      "[ 0.]\n",
      "[ 0.]\n",
      "[ 0.]\n",
      "[ 0.]\n",
      "[ 0.]\n",
      "[ 0.]\n",
      "[ 0.]\n",
      "[ 0.]\n",
      "[ 0.]\n",
      "[ 1.]\n",
      "I guess this is a  9\n",
      "GUESSED !!!\n",
      "== [ 1.  1.  1.  1.  1.  0.  1.  1.  1.  0.  1.  1.  1.  1.  1.  1.  1.  1.\n",
      "  1.  1.  0.  1.  1.  1.  0.  1.  0.  1.  1.  1.  1.  1.  1.  1.  1.  1.\n",
      "  1.  0.  1.  1.  1.  1.  1.  0.  1.  1.  1.  1.  0.  0.  1.  1.  1.  1.\n",
      "  1.  1.  0.  1.  1.  0.  0.  1.  0.  1.  1.  1.  1.  1.  1.  1.  1.]\n"
     ]
    },
    {
     "data": {
      "image/png": "[encoded data removed]",
      "text/plain": [
       "<matplotlib.figure.Figure at 0x23346f30358>"
      ]
     },
     "metadata": {},
     "output_type": "display_data"
    },
    {
     "name": "stdout",
     "output_type": "stream",
     "text": [
      "This is a  9\n",
      "[ 0.]\n",
      "[ 0.]\n",
      "[ 0.]\n",
      "[ 1.]\n",
      "I guess this is a  3\n",
      "[ 0.]\n",
      "[ 0.]\n",
      "[ 0.]\n",
      "[ 0.]\n",
      "[ 0.]\n",
      "[ 1.]\n",
      "I guess this is a  9\n",
      "GUESSED !!!\n",
      "== [ 1.  1.  1.  1.  1.  0.  1.  1.  1.  0.  1.  1.  1.  1.  1.  1.  1.  1.\n",
      "  1.  1.  0.  1.  1.  1.  0.  1.  0.  1.  1.  1.  1.  1.  1.  1.  1.  1.\n",
      "  1.  0.  1.  1.  1.  1.  1.  0.  1.  1.  1.  1.  0.  0.  1.  1.  1.  1.\n",
      "  1.  1.  0.  1.  1.  0.  0.  1.  0.  1.  1.  1.  1.  1.  1.  1.  1.  1.]\n"
     ]
    },
    {
     "data": {
      "image/png": "[encoded data removed]",
      "text/plain": [
       "<matplotlib.figure.Figure at 0x233480a4be0>"
      ]
     },
     "metadata": {},
     "output_type": "display_data"
    },
    {
     "name": "stdout",
     "output_type": "stream",
     "text": [
      "This is a  7\n",
      "[ 0.]\n",
      "[ 0.]\n",
      "[ 0.]\n",
      "[ 0.]\n",
      "[ 0.]\n",
      "[ 0.]\n",
      "[ 0.]\n",
      "[ 1.]\n",
      "I guess this is a  7\n",
      "GUESSED !!!\n",
      "[ 0.]\n",
      "[ 0.]\n",
      "== [ 1.  1.  1.  1.  1.  0.  1.  1.  1.  0.  1.  1.  1.  1.  1.  1.  1.  1.\n",
      "  1.  1.  0.  1.  1.  1.  0.  1.  0.  1.  1.  1.  1.  1.  1.  1.  1.  1.\n",
      "  1.  0.  1.  1.  1.  1.  1.  0.  1.  1.  1.  1.  0.  0.  1.  1.  1.  1.\n",
      "  1.  1.  0.  1.  1.  0.  0.  1.  0.  1.  1.  1.  1.  1.  1.  1.  1.  1.\n",
      "  1.]\n"
     ]
    },
    {
     "data": {
      "image/png": "[encoded data removed]",
      "text/plain": [
       "<matplotlib.figure.Figure at 0x233480360f0>"
      ]
     },
     "metadata": {},
     "output_type": "display_data"
    },
    {
     "name": "stdout",
     "output_type": "stream",
     "text": [
      "This is a  2\n",
      "[ 0.]\n",
      "[ 0.]\n",
      "[ 1.]\n",
      "I guess this is a  2\n",
      "GUESSED !!!\n",
      "[ 0.]\n",
      "[ 0.]\n",
      "[ 0.]\n",
      "[ 0.]\n",
      "[ 0.]\n",
      "[ 0.]\n",
      "[ 0.]\n",
      "== [ 1.  1.  1.  1.  1.  0.  1.  1.  1.  0.  1.  1.  1.  1.  1.  1.  1.  1.\n",
      "  1.  1.  0.  1.  1.  1.  0.  1.  0.  1.  1.  1.  1.  1.  1.  1.  1.  1.\n",
      "  1.  0.  1.  1.  1.  1.  1.  0.  1.  1.  1.  1.  0.  0.  1.  1.  1.  1.\n",
      "  1.  1.  0.  1.  1.  0.  0.  1.  0.  1.  1.  1.  1.  1.  1.  1.  1.  1.\n",
      "  1.  1.]\n"
     ]
    },
    {
     "data": {
      "image/png": "[encoded data removed]",
      "text/plain": [
       "<matplotlib.figure.Figure at 0x23348042710>"
      ]
     },
     "metadata": {},
     "output_type": "display_data"
    },
    {
     "name": "stdout",
     "output_type": "stream",
     "text": [
      "This is a  8\n",
      "[ 0.]\n",
      "[ 0.]\n",
      "[ 1.]\n",
      "I guess this is a  2\n",
      "[ 0.]\n",
      "[ 0.]\n",
      "[ 0.]\n",
      "[ 0.]\n",
      "[ 0.]\n",
      "[ 1.]\n",
      "I guess this is a  8\n",
      "GUESSED !!!\n",
      "[ 0.]\n",
      "== [ 1.  1.  1.  1.  1.  0.  1.  1.  1.  0.  1.  1.  1.  1.  1.  1.  1.  1.\n",
      "  1.  1.  0.  1.  1.  1.  0.  1.  0.  1.  1.  1.  1.  1.  1.  1.  1.  1.\n",
      "  1.  0.  1.  1.  1.  1.  1.  0.  1.  1.  1.  1.  0.  0.  1.  1.  1.  1.\n",
      "  1.  1.  0.  1.  1.  0.  0.  1.  0.  1.  1.  1.  1.  1.  1.  1.  1.  1.\n",
      "  1.  1.  1.]\n"
     ]
    },
    {
     "data": {
      "image/png": "[encoded data removed]",
      "text/plain": [
       "<matplotlib.figure.Figure at 0x23348008b00>"
      ]
     },
     "metadata": {},
     "output_type": "display_data"
    },
    {
     "name": "stdout",
     "output_type": "stream",
     "text": [
      "This is a  2\n",
      "[ 0.]\n",
      "[ 1.]\n",
      "I guess this is a  1\n",
      "[ 1.]\n",
      "I guess this is a  2\n",
      "GUESSED !!!\n",
      "[ 0.]\n",
      "[ 0.]\n",
      "[ 0.]\n",
      "[ 0.]\n",
      "[ 0.]\n",
      "[ 0.]\n",
      "[ 0.]\n",
      "== [ 1.  1.  1.  1.  1.  0.  1.  1.  1.  0.  1.  1.  1.  1.  1.  1.  1.  1.\n",
      "  1.  1.  0.  1.  1.  1.  0.  1.  0.  1.  1.  1.  1.  1.  1.  1.  1.  1.\n",
      "  1.  0.  1.  1.  1.  1.  1.  0.  1.  1.  1.  1.  0.  0.  1.  1.  1.  1.\n",
      "  1.  1.  0.  1.  1.  0.  0.  1.  0.  1.  1.  1.  1.  1.  1.  1.  1.  1.\n",
      "  1.  1.  1.  1.]\n"
     ]
    },
    {
     "data": {
      "image/png": "[encoded data removed]",
      "text/plain": [
       "<matplotlib.figure.Figure at 0x23348243c88>"
      ]
     },
     "metadata": {},
     "output_type": "display_data"
    },
    {
     "name": "stdout",
     "output_type": "stream",
     "text": [
      "This is a  1\n",
      "[ 0.]\n",
      "[ 1.]\n",
      "I guess this is a  1\n",
      "GUESSED !!!\n",
      "[ 0.]\n",
      "[ 0.]\n",
      "[ 0.]\n",
      "[ 0.]\n",
      "[ 0.]\n",
      "[ 0.]\n",
      "[ 0.]\n",
      "[ 0.]\n",
      "== [ 1.  1.  1.  1.  1.  0.  1.  1.  1.  0.  1.  1.  1.  1.  1.  1.  1.  1.\n",
      "  1.  1.  0.  1.  1.  1.  0.  1.  0.  1.  1.  1.  1.  1.  1.  1.  1.  1.\n",
      "  1.  0.  1.  1.  1.  1.  1.  0.  1.  1.  1.  1.  0.  0.  1.  1.  1.  1.\n",
      "  1.  1.  0.  1.  1.  0.  0.  1.  0.  1.  1.  1.  1.  1.  1.  1.  1.  1.\n",
      "  1.  1.  1.  1.  1.]\n"
     ]
    },
    {
     "data": {
      "image/png": "[encoded data removed]",
      "text/plain": [
       "<matplotlib.figure.Figure at 0x233481fe828>"
      ]
     },
     "metadata": {},
     "output_type": "display_data"
    },
    {
     "name": "stdout",
     "output_type": "stream",
     "text": [
      "This is a  1\n",
      "[ 0.]\n",
      "[ 1.]\n",
      "I guess this is a  1\n",
      "GUESSED !!!\n",
      "[ 0.]\n",
      "[ 0.]\n",
      "[ 0.]\n",
      "[ 0.]\n",
      "[ 0.]\n",
      "[ 0.]\n",
      "[ 0.]\n",
      "[ 0.]\n",
      "== [ 1.  1.  1.  1.  1.  0.  1.  1.  1.  0.  1.  1.  1.  1.  1.  1.  1.  1.\n",
      "  1.  1.  0.  1.  1.  1.  0.  1.  0.  1.  1.  1.  1.  1.  1.  1.  1.  1.\n",
      "  1.  0.  1.  1.  1.  1.  1.  0.  1.  1.  1.  1.  0.  0.  1.  1.  1.  1.\n",
      "  1.  1.  0.  1.  1.  0.  0.  1.  0.  1.  1.  1.  1.  1.  1.  1.  1.  1.\n",
      "  1.  1.  1.  1.  1.  1.]\n"
     ]
    },
    {
     "data": {
      "image/png": "[encoded data removed]",
      "text/plain": [
       "<matplotlib.figure.Figure at 0x233482d3c18>"
      ]
     },
     "metadata": {},
     "output_type": "display_data"
    },
    {
     "name": "stdout",
     "output_type": "stream",
     "text": [
      "This is a  0\n",
      "[ 1.]\n",
      "I guess this is a  0\n",
      "GUESSED !!!\n",
      "[ 0.]\n",
      "[ 0.]\n",
      "[ 1.]\n",
      "I guess this is a  3\n",
      "[ 0.]\n",
      "[ 1.]\n",
      "I guess this is a  5\n",
      "[ 0.]\n",
      "[ 0.]\n",
      "[ 0.]\n",
      "[ 0.]\n",
      "== [ 1.  1.  1.  1.  1.  0.  1.  1.  1.  0.  1.  1.  1.  1.  1.  1.  1.  1.\n",
      "  1.  1.  0.  1.  1.  1.  0.  1.  0.  1.  1.  1.  1.  1.  1.  1.  1.  1.\n",
      "  1.  0.  1.  1.  1.  1.  1.  0.  1.  1.  1.  1.  0.  0.  1.  1.  1.  1.\n",
      "  1.  1.  0.  1.  1.  0.  0.  1.  0.  1.  1.  1.  1.  1.  1.  1.  1.  1.\n",
      "  1.  1.  1.  1.  1.  1.  1.]\n"
     ]
    },
    {
     "data": {
      "image/png": "[encoded data removed]",
      "text/plain": [
       "<matplotlib.figure.Figure at 0x2334807e630>"
      ]
     },
     "metadata": {},
     "output_type": "display_data"
    },
    {
     "name": "stdout",
     "output_type": "stream",
     "text": [
      "This is a  9\n",
      "[ 0.]\n",
      "[ 0.]\n",
      "[ 0.]\n",
      "[ 0.]\n",
      "[ 0.]\n",
      "[ 0.]\n",
      "[ 0.]\n",
      "[ 0.]\n",
      "[ 0.]\n",
      "[ 0.]\n",
      "== [ 1.  1.  1.  1.  1.  0.  1.  1.  1.  0.  1.  1.  1.  1.  1.  1.  1.  1.\n",
      "  1.  1.  0.  1.  1.  1.  0.  1.  0.  1.  1.  1.  1.  1.  1.  1.  1.  1.\n",
      "  1.  0.  1.  1.  1.  1.  1.  0.  1.  1.  1.  1.  0.  0.  1.  1.  1.  1.\n",
      "  1.  1.  0.  1.  1.  0.  0.  1.  0.  1.  1.  1.  1.  1.  1.  1.  1.  1.\n",
      "  1.  1.  1.  1.  1.  1.  1.  0.]\n"
     ]
    },
    {
     "data": {
      "image/png": "[encoded data removed]",
      "text/plain": [
       "<matplotlib.figure.Figure at 0x23347fd5710>"
      ]
     },
     "metadata": {},
     "output_type": "display_data"
    },
    {
     "name": "stdout",
     "output_type": "stream",
     "text": [
      "This is a  8\n",
      "[ 0.]\n",
      "[ 0.]\n",
      "[ 0.]\n",
      "[ 0.]\n",
      "[ 0.]\n",
      "[ 0.]\n",
      "[ 0.]\n",
      "[ 0.]\n",
      "[ 1.]\n",
      "I guess this is a  8\n",
      "GUESSED !!!\n",
      "[ 0.]\n",
      "== [ 1.  1.  1.  1.  1.  0.  1.  1.  1.  0.  1.  1.  1.  1.  1.  1.  1.  1.\n",
      "  1.  1.  0.  1.  1.  1.  0.  1.  0.  1.  1.  1.  1.  1.  1.  1.  1.  1.\n",
      "  1.  0.  1.  1.  1.  1.  1.  0.  1.  1.  1.  1.  0.  0.  1.  1.  1.  1.\n",
      "  1.  1.  0.  1.  1.  0.  0.  1.  0.  1.  1.  1.  1.  1.  1.  1.  1.  1.\n",
      "  1.  1.  1.  1.  1.  1.  1.  0.  1.]\n"
     ]
    },
    {
     "data": {
      "image/png": "[encoded data removed]",
      "text/plain": [
       "<matplotlib.figure.Figure at 0x2334571c828>"
      ]
     },
     "metadata": {},
     "output_type": "display_data"
    },
    {
     "name": "stdout",
     "output_type": "stream",
     "text": [
      "This is a  9\n",
      "[ 0.]\n",
      "[ 0.]\n",
      "[ 0.]\n",
      "[ 0.]\n",
      "[ 1.]\n",
      "I guess this is a  4\n",
      "[ 0.]\n",
      "[ 0.]\n",
      "[ 0.]\n",
      "[ 0.]\n",
      "[ 1.]\n",
      "I guess this is a  9\n",
      "GUESSED !!!\n",
      "== [ 1.  1.  1.  1.  1.  0.  1.  1.  1.  0.  1.  1.  1.  1.  1.  1.  1.  1.\n",
      "  1.  1.  0.  1.  1.  1.  0.  1.  0.  1.  1.  1.  1.  1.  1.  1.  1.  1.\n",
      "  1.  0.  1.  1.  1.  1.  1.  0.  1.  1.  1.  1.  0.  0.  1.  1.  1.  1.\n",
      "  1.  1.  0.  1.  1.  0.  0.  1.  0.  1.  1.  1.  1.  1.  1.  1.  1.  1.\n",
      "  1.  1.  1.  1.  1.  1.  1.  0.  1.  1.]\n"
     ]
    },
    {
     "data": {
      "image/png": "[encoded data removed]",
      "text/plain": [
       "<matplotlib.figure.Figure at 0x2334936ea20>"
      ]
     },
     "metadata": {},
     "output_type": "display_data"
    },
    {
     "name": "stdout",
     "output_type": "stream",
     "text": [
      "This is a  9\n",
      "[ 0.]\n",
      "[ 0.]\n",
      "[ 0.]\n",
      "[ 0.]\n",
      "[ 0.]\n",
      "[ 0.]\n",
      "[ 0.]\n",
      "[ 0.]\n",
      "[ 0.]\n",
      "[ 0.]\n",
      "== [ 1.  1.  1.  1.  1.  0.  1.  1.  1.  0.  1.  1.  1.  1.  1.  1.  1.  1.\n",
      "  1.  1.  0.  1.  1.  1.  0.  1.  0.  1.  1.  1.  1.  1.  1.  1.  1.  1.\n",
      "  1.  0.  1.  1.  1.  1.  1.  0.  1.  1.  1.  1.  0.  0.  1.  1.  1.  1.\n",
      "  1.  1.  0.  1.  1.  0.  0.  1.  0.  1.  1.  1.  1.  1.  1.  1.  1.  1.\n",
      "  1.  1.  1.  1.  1.  1.  1.  0.  1.  1.  0.]\n"
     ]
    },
    {
     "data": {
      "image/png": "[encoded data removed]",
      "text/plain": [
       "<matplotlib.figure.Figure at 0x23348098668>"
      ]
     },
     "metadata": {},
     "output_type": "display_data"
    },
    {
     "name": "stdout",
     "output_type": "stream",
     "text": [
      "This is a  8\n",
      "[ 0.]\n",
      "[ 0.]\n",
      "[ 0.]\n",
      "[ 0.]\n",
      "[ 0.]\n",
      "[ 0.]\n",
      "[ 0.]\n",
      "[ 0.]\n",
      "[ 0.]\n",
      "[ 0.]\n",
      "== [ 1.  1.  1.  1.  1.  0.  1.  1.  1.  0.  1.  1.  1.  1.  1.  1.  1.  1.\n",
      "  1.  1.  0.  1.  1.  1.  0.  1.  0.  1.  1.  1.  1.  1.  1.  1.  1.  1.\n",
      "  1.  0.  1.  1.  1.  1.  1.  0.  1.  1.  1.  1.  0.  0.  1.  1.  1.  1.\n",
      "  1.  1.  0.  1.  1.  0.  0.  1.  0.  1.  1.  1.  1.  1.  1.  1.  1.  1.\n",
      "  1.  1.  1.  1.  1.  1.  1.  0.  1.  1.  0.  0.]\n"
     ]
    },
    {
     "data": {
      "image/png": "[encoded data removed]",
      "text/plain": [
       "<matplotlib.figure.Figure at 0x233456767f0>"
      ]
     },
     "metadata": {},
     "output_type": "display_data"
    },
    {
     "name": "stdout",
     "output_type": "stream",
     "text": [
      "This is a  8\n",
      "[ 0.]\n",
      "[ 1.]\n",
      "I guess this is a  1\n",
      "[ 0.]\n",
      "[ 0.]\n",
      "[ 0.]\n",
      "[ 0.]\n",
      "[ 0.]\n",
      "[ 0.]\n",
      "[ 1.]\n",
      "I guess this is a  8\n",
      "GUESSED !!!\n",
      "[ 0.]\n",
      "== [ 1.  1.  1.  1.  1.  0.  1.  1.  1.  0.  1.  1.  1.  1.  1.  1.  1.  1.\n",
      "  1.  1.  0.  1.  1.  1.  0.  1.  0.  1.  1.  1.  1.  1.  1.  1.  1.  1.\n",
      "  1.  0.  1.  1.  1.  1.  1.  0.  1.  1.  1.  1.  0.  0.  1.  1.  1.  1.\n",
      "  1.  1.  0.  1.  1.  0.  0.  1.  0.  1.  1.  1.  1.  1.  1.  1.  1.  1.\n",
      "  1.  1.  1.  1.  1.  1.  1.  0.  1.  1.  0.  0.  1.]\n"
     ]
    },
    {
     "data": {
      "image/png": "[encoded data removed]",
      "text/plain": [
       "<matplotlib.figure.Figure at 0x23347ffe208>"
      ]
     },
     "metadata": {},
     "output_type": "display_data"
    },
    {
     "name": "stdout",
     "output_type": "stream",
     "text": [
      "This is a  3\n",
      "[ 0.]\n",
      "[ 0.]\n",
      "[ 0.]\n",
      "[ 1.]\n",
      "I guess this is a  3\n",
      "GUESSED !!!\n",
      "[ 0.]\n",
      "[ 0.]\n",
      "[ 0.]\n",
      "[ 0.]\n",
      "[ 0.]\n",
      "[ 0.]\n",
      "== [ 1.  1.  1.  1.  1.  0.  1.  1.  1.  0.  1.  1.  1.  1.  1.  1.  1.  1.\n",
      "  1.  1.  0.  1.  1.  1.  0.  1.  0.  1.  1.  1.  1.  1.  1.  1.  1.  1.\n",
      "  1.  0.  1.  1.  1.  1.  1.  0.  1.  1.  1.  1.  0.  0.  1.  1.  1.  1.\n",
      "  1.  1.  0.  1.  1.  0.  0.  1.  0.  1.  1.  1.  1.  1.  1.  1.  1.  1.\n",
      "  1.  1.  1.  1.  1.  1.  1.  0.  1.  1.  0.  0.  1.  1.]\n"
     ]
    },
    {
     "data": {
      "image/png": "[encoded data removed]",
      "text/plain": [
       "<matplotlib.figure.Figure at 0x233481a8ef0>"
      ]
     },
     "metadata": {},
     "output_type": "display_data"
    },
    {
     "name": "stdout",
     "output_type": "stream",
     "text": [
      "This is a  7\n",
      "[ 0.]\n",
      "[ 0.]\n",
      "[ 0.]\n",
      "[ 0.]\n",
      "[ 0.]\n",
      "[ 0.]\n",
      "[ 0.]\n",
      "[ 0.]\n",
      "[ 0.]\n",
      "[ 0.]\n",
      "== [ 1.  1.  1.  1.  1.  0.  1.  1.  1.  0.  1.  1.  1.  1.  1.  1.  1.  1.\n",
      "  1.  1.  0.  1.  1.  1.  0.  1.  0.  1.  1.  1.  1.  1.  1.  1.  1.  1.\n",
      "  1.  0.  1.  1.  1.  1.  1.  0.  1.  1.  1.  1.  0.  0.  1.  1.  1.  1.\n",
      "  1.  1.  0.  1.  1.  0.  0.  1.  0.  1.  1.  1.  1.  1.  1.  1.  1.  1.\n",
      "  1.  1.  1.  1.  1.  1.  1.  0.  1.  1.  0.  0.  1.  1.  0.]\n"
     ]
    },
    {
     "data": {
      "image/png": "[encoded data removed]",
      "text/plain": [
       "<matplotlib.figure.Figure at 0x2334801c860>"
      ]
     },
     "metadata": {},
     "output_type": "display_data"
    },
    {
     "name": "stdout",
     "output_type": "stream",
     "text": [
      "This is a  3\n",
      "[ 0.]\n",
      "[ 0.]\n",
      "[ 0.]\n",
      "[ 1.]\n",
      "I guess this is a  3\n",
      "GUESSED !!!\n",
      "[ 0.]\n",
      "[ 0.]\n",
      "[ 0.]\n",
      "[ 0.]\n",
      "[ 0.]\n",
      "[ 0.]\n",
      "== [ 1.  1.  1.  1.  1.  0.  1.  1.  1.  0.  1.  1.  1.  1.  1.  1.  1.  1.\n",
      "  1.  1.  0.  1.  1.  1.  0.  1.  0.  1.  1.  1.  1.  1.  1.  1.  1.  1.\n",
      "  1.  0.  1.  1.  1.  1.  1.  0.  1.  1.  1.  1.  0.  0.  1.  1.  1.  1.\n",
      "  1.  1.  0.  1.  1.  0.  0.  1.  0.  1.  1.  1.  1.  1.  1.  1.  1.  1.\n",
      "  1.  1.  1.  1.  1.  1.  1.  0.  1.  1.  0.  0.  1.  1.  0.  1.]\n"
     ]
    },
    {
     "data": {
      "image/png": "[encoded data removed]",
      "text/plain": [
       "<matplotlib.figure.Figure at 0x23347fdfbe0>"
      ]
     },
     "metadata": {},
     "output_type": "display_data"
    },
    {
     "name": "stdout",
     "output_type": "stream",
     "text": [
      "This is a  0\n",
      "[ 1.]\n",
      "I guess this is a  0\n",
      "GUESSED !!!\n",
      "[ 0.]\n",
      "[ 0.]\n",
      "[ 0.]\n",
      "[ 0.]\n",
      "[ 0.]\n",
      "[ 0.]\n",
      "[ 0.]\n",
      "[ 0.]\n",
      "[ 0.]\n",
      "== [ 1.  1.  1.  1.  1.  0.  1.  1.  1.  0.  1.  1.  1.  1.  1.  1.  1.  1.\n",
      "  1.  1.  0.  1.  1.  1.  0.  1.  0.  1.  1.  1.  1.  1.  1.  1.  1.  1.\n",
      "  1.  0.  1.  1.  1.  1.  1.  0.  1.  1.  1.  1.  0.  0.  1.  1.  1.  1.\n",
      "  1.  1.  0.  1.  1.  0.  0.  1.  0.  1.  1.  1.  1.  1.  1.  1.  1.  1.\n",
      "  1.  1.  1.  1.  1.  1.  1.  0.  1.  1.  0.  0.  1.  1.  0.  1.  1.]\n"
     ]
    },
    {
     "data": {
      "image/png": "[encoded data removed]",
      "text/plain": [
       "<matplotlib.figure.Figure at 0x233483499b0>"
      ]
     },
     "metadata": {},
     "output_type": "display_data"
    },
    {
     "name": "stdout",
     "output_type": "stream",
     "text": [
      "This is a  7\n",
      "[ 0.]\n",
      "[ 0.]\n",
      "[ 0.]\n",
      "[ 0.]\n",
      "[ 0.]\n",
      "[ 0.]\n",
      "[ 0.]\n",
      "[ 0.]\n",
      "[ 0.]\n",
      "[ 0.]\n",
      "== [ 1.  1.  1.  1.  1.  0.  1.  1.  1.  0.  1.  1.  1.  1.  1.  1.  1.  1.\n",
      "  1.  1.  0.  1.  1.  1.  0.  1.  0.  1.  1.  1.  1.  1.  1.  1.  1.  1.\n",
      "  1.  0.  1.  1.  1.  1.  1.  0.  1.  1.  1.  1.  0.  0.  1.  1.  1.  1.\n",
      "  1.  1.  0.  1.  1.  0.  0.  1.  0.  1.  1.  1.  1.  1.  1.  1.  1.  1.\n",
      "  1.  1.  1.  1.  1.  1.  1.  0.  1.  1.  0.  0.  1.  1.  0.  1.  1.  0.]\n"
     ]
    },
    {
     "data": {
      "image/png": "[encoded data removed]",
      "text/plain": [
       "<matplotlib.figure.Figure at 0x2334819f390>"
      ]
     },
     "metadata": {},
     "output_type": "display_data"
    },
    {
     "name": "stdout",
     "output_type": "stream",
     "text": [
      "This is a  8\n",
      "[ 0.]\n",
      "[ 0.]\n",
      "[ 0.]\n",
      "[ 0.]\n",
      "[ 0.]\n",
      "[ 0.]\n",
      "[ 0.]\n",
      "[ 0.]\n",
      "[ 0.]\n",
      "[ 0.]\n",
      "== [ 1.  1.  1.  1.  1.  0.  1.  1.  1.  0.  1.  1.  1.  1.  1.  1.  1.  1.\n",
      "  1.  1.  0.  1.  1.  1.  0.  1.  0.  1.  1.  1.  1.  1.  1.  1.  1.  1.\n",
      "  1.  0.  1.  1.  1.  1.  1.  0.  1.  1.  1.  1.  0.  0.  1.  1.  1.  1.\n",
      "  1.  1.  0.  1.  1.  0.  0.  1.  0.  1.  1.  1.  1.  1.  1.  1.  1.  1.\n",
      "  1.  1.  1.  1.  1.  1.  1.  0.  1.  1.  0.  0.  1.  1.  0.  1.  1.  0.\n",
      "  0.]\n"
     ]
    },
    {
     "data": {
      "image/png": "[encoded data removed]",
      "text/plain": [
       "<matplotlib.figure.Figure at 0x23348102cf8>"
      ]
     },
     "metadata": {},
     "output_type": "display_data"
    },
    {
     "name": "stdout",
     "output_type": "stream",
     "text": [
      "This is a  6\n",
      "[ 0.]\n",
      "[ 0.]\n",
      "[ 0.]\n",
      "[ 0.]\n",
      "[ 0.]\n",
      "[ 0.]\n",
      "[ 1.]\n",
      "I guess this is a  6\n",
      "GUESSED !!!\n",
      "[ 0.]\n",
      "[ 0.]\n",
      "[ 0.]\n",
      "== [ 1.  1.  1.  1.  1.  0.  1.  1.  1.  0.  1.  1.  1.  1.  1.  1.  1.  1.\n",
      "  1.  1.  0.  1.  1.  1.  0.  1.  0.  1.  1.  1.  1.  1.  1.  1.  1.  1.\n",
      "  1.  0.  1.  1.  1.  1.  1.  0.  1.  1.  1.  1.  0.  0.  1.  1.  1.  1.\n",
      "  1.  1.  0.  1.  1.  0.  0.  1.  0.  1.  1.  1.  1.  1.  1.  1.  1.  1.\n",
      "  1.  1.  1.  1.  1.  1.  1.  0.  1.  1.  0.  0.  1.  1.  0.  1.  1.  0.\n",
      "  0.  1.]\n"
     ]
    },
    {
     "data": {
      "image/png": "[encoded data removed]",
      "text/plain": [
       "<matplotlib.figure.Figure at 0x233456e3208>"
      ]
     },
     "metadata": {},
     "output_type": "display_data"
    },
    {
     "name": "stdout",
     "output_type": "stream",
     "text": [
      "This is a  9\n",
      "[ 0.]\n",
      "[ 0.]\n",
      "[ 0.]\n",
      "[ 0.]\n",
      "[ 0.]\n",
      "[ 0.]\n",
      "[ 0.]\n",
      "[ 0.]\n",
      "[ 0.]\n",
      "[ 1.]\n",
      "I guess this is a  9\n",
      "GUESSED !!!\n",
      "== [ 1.  1.  1.  1.  1.  0.  1.  1.  1.  0.  1.  1.  1.  1.  1.  1.  1.  1.\n",
      "  1.  1.  0.  1.  1.  1.  0.  1.  0.  1.  1.  1.  1.  1.  1.  1.  1.  1.\n",
      "  1.  0.  1.  1.  1.  1.  1.  0.  1.  1.  1.  1.  0.  0.  1.  1.  1.  1.\n",
      "  1.  1.  0.  1.  1.  0.  0.  1.  0.  1.  1.  1.  1.  1.  1.  1.  1.  1.\n",
      "  1.  1.  1.  1.  1.  1.  1.  0.  1.  1.  0.  0.  1.  1.  0.  1.  1.  0.\n",
      "  0.  1.  1.]\n"
     ]
    },
    {
     "data": {
      "image/png": "[encoded data removed]",
      "text/plain": [
       "<matplotlib.figure.Figure at 0x2334810a550>"
      ]
     },
     "metadata": {},
     "output_type": "display_data"
    },
    {
     "name": "stdout",
     "output_type": "stream",
     "text": [
      "This is a  0\n",
      "[ 1.]\n",
      "I guess this is a  0\n",
      "GUESSED !!!\n",
      "[ 0.]\n",
      "[ 0.]\n",
      "[ 0.]\n",
      "[ 0.]\n",
      "[ 0.]\n",
      "[ 0.]\n",
      "[ 0.]\n",
      "[ 0.]\n",
      "[ 0.]\n",
      "== [ 1.  1.  1.  1.  1.  0.  1.  1.  1.  0.  1.  1.  1.  1.  1.  1.  1.  1.\n",
      "  1.  1.  0.  1.  1.  1.  0.  1.  0.  1.  1.  1.  1.  1.  1.  1.  1.  1.\n",
      "  1.  0.  1.  1.  1.  1.  1.  0.  1.  1.  1.  1.  0.  0.  1.  1.  1.  1.\n",
      "  1.  1.  0.  1.  1.  0.  0.  1.  0.  1.  1.  1.  1.  1.  1.  1.  1.  1.\n",
      "  1.  1.  1.  1.  1.  1.  1.  0.  1.  1.  0.  0.  1.  1.  0.  1.  1.  0.\n",
      "  0.  1.  1.  1.]\n"
     ]
    },
    {
     "data": {
      "image/png": "[encoded data removed]",
      "text/plain": [
       "<matplotlib.figure.Figure at 0x233480360f0>"
      ]
     },
     "metadata": {},
     "output_type": "display_data"
    },
    {
     "name": "stdout",
     "output_type": "stream",
     "text": [
      "This is a  2\n",
      "[ 0.]\n",
      "[ 0.]\n",
      "[ 1.]\n",
      "I guess this is a  2\n",
      "GUESSED !!!\n",
      "[ 1.]\n",
      "I guess this is a  3\n",
      "[ 0.]\n",
      "[ 0.]\n",
      "[ 0.]\n",
      "[ 0.]\n",
      "[ 0.]\n",
      "[ 0.]\n",
      "== [ 1.  1.  1.  1.  1.  0.  1.  1.  1.  0.  1.  1.  1.  1.  1.  1.  1.  1.\n",
      "  1.  1.  0.  1.  1.  1.  0.  1.  0.  1.  1.  1.  1.  1.  1.  1.  1.  1.\n",
      "  1.  0.  1.  1.  1.  1.  1.  0.  1.  1.  1.  1.  0.  0.  1.  1.  1.  1.\n",
      "  1.  1.  0.  1.  1.  0.  0.  1.  0.  1.  1.  1.  1.  1.  1.  1.  1.  1.\n",
      "  1.  1.  1.  1.  1.  1.  1.  0.  1.  1.  0.  0.  1.  1.  0.  1.  1.  0.\n",
      "  0.  1.  1.  1.  1.]\n"
     ]
    },
    {
     "data": {
      "image/png": "[encoded data removed]",
      "text/plain": [
       "<matplotlib.figure.Figure at 0x23347fbddd8>"
      ]
     },
     "metadata": {},
     "output_type": "display_data"
    },
    {
     "name": "stdout",
     "output_type": "stream",
     "text": [
      "This is a  9\n",
      "[ 0.]\n",
      "[ 0.]\n",
      "[ 0.]\n",
      "[ 0.]\n",
      "[ 0.]\n",
      "[ 0.]\n",
      "[ 0.]\n",
      "[ 0.]\n",
      "[ 0.]\n",
      "[ 1.]\n",
      "I guess this is a  9\n",
      "GUESSED !!!\n",
      "== [ 1.  1.  1.  1.  1.  0.  1.  1.  1.  0.  1.  1.  1.  1.  1.  1.  1.  1.\n",
      "  1.  1.  0.  1.  1.  1.  0.  1.  0.  1.  1.  1.  1.  1.  1.  1.  1.  1.\n",
      "  1.  0.  1.  1.  1.  1.  1.  0.  1.  1.  1.  1.  0.  0.  1.  1.  1.  1.\n",
      "  1.  1.  0.  1.  1.  0.  0.  1.  0.  1.  1.  1.  1.  1.  1.  1.  1.  1.\n",
      "  1.  1.  1.  1.  1.  1.  1.  0.  1.  1.  0.  0.  1.  1.  0.  1.  1.  0.\n",
      "  0.  1.  1.  1.  1.  1.]\n"
     ]
    },
    {
     "data": {
      "image/png": "[encoded data removed]",
      "text/plain": [
       "<matplotlib.figure.Figure at 0x2334832af60>"
      ]
     },
     "metadata": {},
     "output_type": "display_data"
    },
    {
     "name": "stdout",
     "output_type": "stream",
     "text": [
      "This is a  2\n",
      "[ 0.]\n",
      "[ 0.]\n",
      "[ 1.]\n",
      "I guess this is a  2\n",
      "GUESSED !!!\n",
      "[ 1.]\n",
      "I guess this is a  3\n",
      "[ 0.]\n",
      "[ 0.]\n",
      "[ 0.]\n",
      "[ 0.]\n",
      "[ 0.]\n",
      "[ 0.]\n",
      "== [ 1.  1.  1.  1.  1.  0.  1.  1.  1.  0.  1.  1.  1.  1.  1.  1.  1.  1.\n",
      "  1.  1.  0.  1.  1.  1.  0.  1.  0.  1.  1.  1.  1.  1.  1.  1.  1.  1.\n",
      "  1.  0.  1.  1.  1.  1.  1.  0.  1.  1.  1.  1.  0.  0.  1.  1.  1.  1.\n",
      "  1.  1.  0.  1.  1.  0.  0.  1.  0.  1.  1.  1.  1.  1.  1.  1.  1.  1.\n",
      "  1.  1.  1.  1.  1.  1.  1.  0.  1.  1.  0.  0.  1.  1.  0.  1.  1.  0.\n",
      "  0.  1.  1.  1.  1.  1.  1.]\n"
     ]
    },
    {
     "data": {
      "image/png": "[encoded data removed]",
      "text/plain": [
       "<matplotlib.figure.Figure at 0x23348070048>"
      ]
     },
     "metadata": {},
     "output_type": "display_data"
    },
    {
     "name": "stdout",
     "output_type": "stream",
     "text": [
      "This is a  1\n",
      "[ 0.]\n",
      "[ 1.]\n",
      "I guess this is a  1\n",
      "GUESSED !!!\n",
      "[ 0.]\n",
      "[ 0.]\n",
      "[ 0.]\n",
      "[ 0.]\n",
      "[ 0.]\n",
      "[ 0.]\n",
      "[ 0.]\n",
      "[ 0.]\n",
      "== [ 1.  1.  1.  1.  1.  0.  1.  1.  1.  0.  1.  1.  1.  1.  1.  1.  1.  1.\n",
      "  1.  1.  0.  1.  1.  1.  0.  1.  0.  1.  1.  1.  1.  1.  1.  1.  1.  1.\n",
      "  1.  0.  1.  1.  1.  1.  1.  0.  1.  1.  1.  1.  0.  0.  1.  1.  1.  1.\n",
      "  1.  1.  0.  1.  1.  0.  0.  1.  0.  1.  1.  1.  1.  1.  1.  1.  1.  1.\n",
      "  1.  1.  1.  1.  1.  1.  1.  0.  1.  1.  0.  0.  1.  1.  0.  1.  1.  0.\n",
      "  0.  1.  1.  1.  1.  1.  1.  1.]\n"
     ]
    },
    {
     "data": {
      "image/png": "[encoded data removed]",
      "text/plain": [
       "<matplotlib.figure.Figure at 0x23348317e10>"
      ]
     },
     "metadata": {},
     "output_type": "display_data"
    },
    {
     "name": "stdout",
     "output_type": "stream",
     "text": [
      "This is a  7\n",
      "[ 0.]\n",
      "[ 0.]\n",
      "[ 0.]\n",
      "[ 0.]\n",
      "[ 0.]\n",
      "[ 0.]\n",
      "[ 0.]\n",
      "[ 1.]\n",
      "I guess this is a  7\n",
      "GUESSED !!!\n",
      "[ 1.]\n",
      "I guess this is a  8\n",
      "[ 0.]\n",
      "== [ 1.  1.  1.  1.  1.  0.  1.  1.  1.  0.  1.  1.  1.  1.  1.  1.  1.  1.\n",
      "  1.  1.  0.  1.  1.  1.  0.  1.  0.  1.  1.  1.  1.  1.  1.  1.  1.  1.\n",
      "  1.  0.  1.  1.  1.  1.  1.  0.  1.  1.  1.  1.  0.  0.  1.  1.  1.  1.\n",
      "  1.  1.  0.  1.  1.  0.  0.  1.  0.  1.  1.  1.  1.  1.  1.  1.  1.  1.\n",
      "  1.  1.  1.  1.  1.  1.  1.  0.  1.  1.  0.  0.  1.  1.  0.  1.  1.  0.\n",
      "  0.  1.  1.  1.  1.  1.  1.  1.  1.]\n"
     ]
    },
    {
     "data": {
      "image/png": "[encoded data removed]",
      "text/plain": [
       "<matplotlib.figure.Figure at 0x233481c0710>"
      ]
     },
     "metadata": {},
     "output_type": "display_data"
    },
    {
     "name": "stdout",
     "output_type": "stream",
     "text": [
      "This is a  4\n",
      "[ 0.]\n",
      "[ 0.]\n",
      "[ 0.]\n",
      "[ 0.]\n",
      "[ 1.]\n",
      "I guess this is a  4\n",
      "GUESSED !!!\n",
      "[ 0.]\n",
      "[ 0.]\n",
      "[ 0.]\n",
      "[ 0.]\n",
      "[ 0.]\n",
      "== [ 1.  1.  1.  1.  1.  0.  1.  1.  1.  0.  1.  1.  1.  1.  1.  1.  1.  1.\n",
      "  1.  1.  0.  1.  1.  1.  0.  1.  0.  1.  1.  1.  1.  1.  1.  1.  1.  1.\n",
      "  1.  0.  1.  1.  1.  1.  1.  0.  1.  1.  1.  1.  0.  0.  1.  1.  1.  1.\n",
      "  1.  1.  0.  1.  1.  0.  0.  1.  0.  1.  1.  1.  1.  1.  1.  1.  1.  1.\n",
      "  1.  1.  1.  1.  1.  1.  1.  0.  1.  1.  0.  0.  1.  1.  0.  1.  1.  0.\n",
      "  0.  1.  1.  1.  1.  1.  1.  1.  1.  1.]\n",
      "d [1 1 1 1 1 0 1 1 1 0 1 1 1 1 1 1 1 1 1 1 0 1 1 1 0 1 0 1 1 1 1 1 1 1 1 1 1\n",
      " 0 1 1 1 1 1 0 1 1 1 1 0 0 1 1 1 1 1 1 0 1 1 0 0 1 0 1 1 1 1 1 1 1 1 1 1 1\n",
      " 1 1 1 1 1 0 1 1 0 0 1 1 0 1 1 0 0 1 1 1 1 1 1 1 1 1]\n",
      "total :  [19 81]\n"
     ]
    }
   ],
   "source": [
    "def getRandomDigitFrom(n):\n",
    "    r = np.random.randint(0,1000)\n",
    "    img = mnist.data[3000+n*6000+r].reshape(28,28)    \n",
    "    return img\n",
    "\n",
    "guesses = np.array([])\n",
    "\n",
    "for ntest in range(100):\n",
    "    digit_to_guess = np.random.randint(0,10)\n",
    "    img = getRandomDigitFrom(digit_to_guess)\n",
    "    plt.axis('off')\n",
    "    plt.imshow(img,cmap=plt.cm.gray_r, interpolation='nearest')\n",
    "    plt.show()\n",
    "    img = img.reshape(1,-1)\n",
    "    guessed = 0\n",
    "    print('This is a ', digit_to_guess)\n",
    "    for i in range(len(lr_all)):\n",
    "        test = lr_all[i].predict(img) \n",
    "\n",
    "        print(test)\n",
    "        if test:\n",
    "            print('I guess this is a ', i)\n",
    "            if ( digit_to_guess == i):\n",
    "                print('GUESSED !!!')\n",
    "                guessed = 1\n",
    "    \n",
    "    guesses = np.append(guesses, guessed)\n",
    "    print('==', guesses)\n",
    "    \n",
    "w,d = np.unique(guesses, return_inverse=True)\n",
    "print('d', d)\n",
    "print('total : ', np.bincount(d))\n",
    "\n"
   ]
  },
  {
   "cell_type": "code",
   "execution_count": null,
   "metadata": {
    "collapsed": true
   },
   "outputs": [],
   "source": [
    "\n"
   ]
  }
 ],
 "metadata": {
  "kernelspec": {
   "display_name": "Python 3",
   "language": "python",
   "name": "python3"
  },
  "language_info": {
   "codemirror_mode": {
    "name": "ipython",
    "version": 3
   },
   "file_extension": ".py",
   "mimetype": "text/x-python",
   "name": "python",
   "nbconvert_exporter": "python",
   "pygments_lexer": "ipython3",
   "version": "3.5.1"
  }
 },
 "nbformat": 4,
 "nbformat_minor": 0
}
