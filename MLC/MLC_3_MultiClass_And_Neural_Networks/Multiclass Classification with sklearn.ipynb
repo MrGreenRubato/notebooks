{
 "cells": [
  {
   "cell_type": "markdown",
   "metadata": {},
   "source": [
    "# Multiclass Classification with sklearn\n"
   ]
  },
  {
   "cell_type": "code",
   "execution_count": 1,
   "metadata": {
    "collapsed": true
   },
   "outputs": [],
   "source": [
    "from sklearn import datasets\n",
    "from matplotlib import pyplot as plt\n",
    "%matplotlib inline\n",
    "import numpy as np"
   ]
  },
  {
   "cell_type": "code",
   "execution_count": 2,
   "metadata": {
    "collapsed": false
   },
   "outputs": [
    {
     "name": "stdout",
     "output_type": "stream",
     "text": [
      "[X] downloading data...\n"
     ]
    }
   ],
   "source": [
    "print(\"[X] downloading data...\")\n",
    "mnist = datasets.fetch_mldata(\"MNIST Original\")"
   ]
  },
  {
   "cell_type": "code",
   "execution_count": 3,
   "metadata": {
    "collapsed": false
   },
   "outputs": [
    {
     "name": "stdout",
     "output_type": "stream",
     "text": [
      "X_train size : (59500, 784)\n"
     ]
    }
   ],
   "source": [
    "from sklearn.cross_validation import train_test_split\n",
    "\n",
    "#Temporarily reduce the training set to speed up execution while testing...\n",
    "X_train, X_test, y_train, y_test = train_test_split(mnist.data, mnist.target, test_size = 0.15)\n",
    "print('X_train size :', X_train.shape)"
   ]
  },
  {
   "cell_type": "code",
   "execution_count": 4,
   "metadata": {
    "collapsed": false
   },
   "outputs": [
    {
     "name": "stdout",
     "output_type": "stream",
     "text": [
      "intercept = [-0.00212173]\n",
      "intercept = [-0.00212173]\n",
      "*** LR ALL ***\n",
      "lr_all[0] = [-0.00212173]\n",
      "Score on training set :  0.99381512605\n",
      "Score on test set :  0.990857142857\n",
      "intercept = [-0.00043388]\n",
      "intercept = [-0.00043388]\n",
      "*** LR ALL ***\n",
      "lr_all[0] = [-0.00212173]\n",
      "lr_all[1] = [-0.00043388]\n",
      "Score on training set :  0.994268907563\n",
      "Score on test set :  0.991904761905\n",
      "intercept = [-0.00162911]\n",
      "intercept = [-0.00162911]\n",
      "*** LR ALL ***\n",
      "lr_all[0] = [-0.00212173]\n",
      "lr_all[1] = [-0.00043388]\n",
      "lr_all[2] = [-0.00162911]\n",
      "Score on training set :  0.982537815126\n",
      "Score on test set :  0.978476190476\n",
      "intercept = [-0.00303884]\n",
      "intercept = [-0.00303884]\n",
      "*** LR ALL ***\n",
      "lr_all[0] = [-0.00212173]\n",
      "lr_all[1] = [-0.00043388]\n",
      "lr_all[2] = [-0.00162911]\n",
      "lr_all[3] = [-0.00303884]\n",
      "Score on training set :  0.976067226891\n",
      "Score on test set :  0.972380952381\n",
      "intercept = [-0.00181441]\n",
      "intercept = [-0.00181441]\n",
      "*** LR ALL ***\n",
      "lr_all[0] = [-0.00212173]\n",
      "lr_all[1] = [-0.00043388]\n",
      "lr_all[2] = [-0.00162911]\n",
      "lr_all[3] = [-0.00303884]\n",
      "lr_all[4] = [-0.00181441]\n",
      "Score on training set :  0.986218487395\n",
      "Score on test set :  0.984095238095\n",
      "intercept = [  8.76609334e-05]\n",
      "intercept = [  8.76609334e-05]\n",
      "*** LR ALL ***\n",
      "lr_all[0] = [-0.00212173]\n",
      "lr_all[1] = [-0.00043388]\n",
      "lr_all[2] = [-0.00162911]\n",
      "lr_all[3] = [-0.00303884]\n",
      "lr_all[4] = [-0.00181441]\n",
      "lr_all[5] = [  8.76609334e-05]\n",
      "Score on training set :  0.977210084034\n",
      "Score on test set :  0.979619047619\n",
      "intercept = [-0.00287984]\n",
      "intercept = [-0.00287984]\n",
      "*** LR ALL ***\n",
      "lr_all[0] = [-0.00212173]\n",
      "lr_all[1] = [-0.00043388]\n",
      "lr_all[2] = [-0.00162911]\n",
      "lr_all[3] = [-0.00303884]\n",
      "lr_all[4] = [-0.00181441]\n",
      "lr_all[5] = [  8.76609334e-05]\n",
      "lr_all[6] = [-0.00287984]\n",
      "Score on training set :  0.988571428571\n",
      "Score on test set :  0.984\n",
      "intercept = [-0.00074282]\n",
      "intercept = [-0.00074282]\n",
      "*** LR ALL ***\n",
      "lr_all[0] = [-0.00212173]\n",
      "lr_all[1] = [-0.00043388]\n",
      "lr_all[2] = [-0.00162911]\n",
      "lr_all[3] = [-0.00303884]\n",
      "lr_all[4] = [-0.00181441]\n",
      "lr_all[5] = [  8.76609334e-05]\n",
      "lr_all[6] = [-0.00287984]\n",
      "lr_all[7] = [-0.00074282]\n",
      "Score on training set :  0.987075630252\n",
      "Score on test set :  0.982857142857\n",
      "intercept = [-0.00380449]\n",
      "intercept = [-0.00380449]\n",
      "*** LR ALL ***\n",
      "lr_all[0] = [-0.00212173]\n",
      "lr_all[1] = [-0.00043388]\n",
      "lr_all[2] = [-0.00162911]\n",
      "lr_all[3] = [-0.00303884]\n",
      "lr_all[4] = [-0.00181441]\n",
      "lr_all[5] = [  8.76609334e-05]\n",
      "lr_all[6] = [-0.00287984]\n",
      "lr_all[7] = [-0.00074282]\n",
      "lr_all[8] = [-0.00380449]\n",
      "Score on training set :  0.950487394958\n",
      "Score on test set :  0.948952380952\n",
      "intercept = [-0.00240427]\n",
      "intercept = [-0.00240427]\n",
      "*** LR ALL ***\n",
      "lr_all[0] = [-0.00212173]\n",
      "lr_all[1] = [-0.00043388]\n",
      "lr_all[2] = [-0.00162911]\n",
      "lr_all[3] = [-0.00303884]\n",
      "lr_all[4] = [-0.00181441]\n",
      "lr_all[5] = [  8.76609334e-05]\n",
      "lr_all[6] = [-0.00287984]\n",
      "lr_all[7] = [-0.00074282]\n",
      "lr_all[8] = [-0.00380449]\n",
      "lr_all[9] = [-0.00240427]\n",
      "Score on training set :  0.96331092437\n",
      "Score on test set :  0.961714285714\n",
      "lr all[x] [-0.00212173]\n",
      "Test score for 0 : 0.9908571428571429\n",
      "lr all[x] [-0.00043388]\n",
      "Test score for 1 : 0.991904761904762\n",
      "lr all[x] [-0.00162911]\n",
      "Test score for 2 : 0.9784761904761905\n",
      "lr all[x] [-0.00303884]\n",
      "Test score for 3 : 0.9723809523809523\n",
      "lr all[x] [-0.00181441]\n",
      "Test score for 4 : 0.9840952380952381\n",
      "lr all[x] [  8.76609334e-05]\n",
      "Test score for 5 : 0.9796190476190476\n",
      "lr all[x] [-0.00287984]\n",
      "Test score for 6 : 0.984\n",
      "lr all[x] [-0.00074282]\n",
      "Test score for 7 : 0.9828571428571429\n",
      "lr all[x] [-0.00380449]\n",
      "Test score for 8 : 0.948952380952381\n",
      "lr all[x] [-0.00240427]\n",
      "Test score for 9 : 0.9617142857142857\n",
      "Mean performace on training set :  0.979956302521\n",
      "Mean performance on test set :  0.977485714286\n"
     ]
    }
   ],
   "source": [
    "from sklearn.linear_model import LogisticRegression\n",
    "\n",
    "Lambda = 1\n",
    "\n",
    "#lr = LogisticRegression(solver='lbfgs', C=1/Lambda)  # C = 1/lambda (default = 1, if lower, regularization is stronger)\n",
    "\n",
    "test_scores_for_all = np.array([])\n",
    "train_scores_for_all = np.array([])\n",
    "\n",
    "lr_all = [0,0,0,0,0,0,0,0,0,0]\n",
    "\n",
    "# One vs all algorithm\n",
    "for value in range(10):\n",
    "    y = np.copy(y_train)\n",
    "    y[y_train==value] = 1\n",
    "    y[y_train!=value] = 0\n",
    "\n",
    "    lr_all[value] = LogisticRegression(solver='lbfgs', C=1/Lambda)  # C = 1/lambda (default = 1, if lower, regularization is stronger)\n",
    "    lr_all[value].fit(X_train,y)\n",
    "    lr_all[value].get_params()\n",
    "\n",
    "    #print('Coeff = {}, intercept = {}'.format(lr.coef_[0], lr.intercept_ ))\n",
    "    print('intercept = {}'.format(lr_all[value].intercept_ ))\n",
    "    #lr_all = np.append(lr_all, np.copy(lr))\n",
    "    print('intercept = {}'.format(lr_all[value].intercept_ ))\n",
    "    print('*** LR ALL ***')\n",
    "    for i in range(value+1):\n",
    "        print('lr_all[{}] = {}'.format(i, lr_all[i].intercept_))\n",
    "    \n",
    "    train_score = lr_all[value].score(X_train, y)\n",
    "    train_scores_for_all = np.append(train_scores_for_all, train_score)\n",
    "    print('Score on training set : ', lr_all[value].score(X_train,y))\n",
    "    \n",
    "    y_test_one = np.copy(y_test)\n",
    "    y_test_one[y_test==value] = 1\n",
    "    y_test_one[y_test!=value] = 0\n",
    " \n",
    "    test_score = lr_all[value].score(X_test,y_test_one)\n",
    "    test_scores_for_all = np.append(test_scores_for_all, test_score)\n",
    "    \n",
    "    print('Score on test set : ', test_score)\n",
    "\n",
    "for value in range(10):\n",
    "    print('lr all[x]', lr_all[value].intercept_)\n",
    "    print('Test score for {} : {}'.format(value, test_scores_for_all[value]))\n",
    "\n",
    "print('Mean performace on training set : ', np.mean(train_scores_for_all))\n",
    "print('Mean performance on test set : ', np.mean(test_scores_for_all))\n",
    "\n",
    "#Note: for 15% datatest, score for training set is 98% and test set : 97.5%\n",
    "    "
   ]
  },
  {
   "cell_type": "markdown",
   "metadata": {},
   "source": [
    "## Predict values\n"
   ]
  },
  {
   "cell_type": "code",
   "execution_count": 53,
   "metadata": {
    "collapsed": false
   },
   "outputs": [
    {
     "name": "stdout",
     "output_type": "stream",
     "text": [
      "total :  [1333 8667]\n",
      "perf = 86.67%\n"
     ]
    },
    {
     "data": {
      "image/png": "[encoded data removed]",
      "text/plain": [
       "<matplotlib.figure.Figure at 0x1dbe40ae160>"
      ]
     },
     "metadata": {},
     "output_type": "display_data"
    },
    {
     "name": "stdout",
     "output_type": "stream",
     "text": [
      "8 has been missed 315 times\n",
      "9 has been missed 131 times\n",
      "5 has been missed 131 times\n",
      "3 has been missed 120 times\n",
      "2 has been missed 78 times\n",
      "7 has been missed 59 times\n",
      "6 has been missed 58 times\n",
      "4 has been missed 53 times\n",
      "0 has been missed 32 times\n",
      "1 has been missed 4 times\n",
      "Confusion :\n"
     ]
    },
    {
     "data": {
      "image/png": "[encoded data removed]",
      "text/plain": [
       "<matplotlib.figure.Figure at 0x1dbe4184b00>"
      ]
     },
     "metadata": {},
     "output_type": "display_data"
    }
   ],
   "source": [
    "def getRandomDigitFrom(n):\n",
    "    r = np.random.randint(0,1000)\n",
    "    img = mnist.data[3000+n*6000+r].reshape(28,28)    \n",
    "    return img\n",
    "\n",
    "guesses = np.array([])\n",
    "confusion = np.empty((0,2))\n",
    "not_found = np.array([])\n",
    "\n",
    "for ntest in range(10000):\n",
    "    digit_to_guess = np.random.randint(0,10)\n",
    "    img = getRandomDigitFrom(digit_to_guess)\n",
    "    #plt.axis('off')\n",
    "    #plt.imshow(img,cmap=plt.cm.gray_r, interpolation='nearest')\n",
    "    #plt.show()\n",
    "    img = img.reshape(1,-1)\n",
    "    guessed = 0\n",
    "    wrong_digit = -1\n",
    "    #print('This is a ', digit_to_guess)\n",
    "    for i in range(len(lr_all)):\n",
    "        test = lr_all[i].predict(img) \n",
    "\n",
    "        if test:\n",
    "            #print('I guess this is a ', i)\n",
    "            if ( digit_to_guess == i):\n",
    "                #print('GUESSED !!!')\n",
    "                guessed = 1\n",
    "            else:\n",
    "                wrong_digit = i\n",
    "    \n",
    "    guesses = np.append(guesses, guessed)\n",
    "    if(guessed == 0):\n",
    "        if wrong_digit >= 0:\n",
    "            conf = np.sort(np.array([digit_to_guess, wrong_digit]))\n",
    "            confusion = np.vstack((confusion, conf))\n",
    "        else:\n",
    "            not_found = np.append(not_found,digit_to_guess)\n",
    "        \n",
    "       \n",
    "    \n",
    "w,d = np.unique(guesses, return_inverse=True)\n",
    "#print('confusion: ', confusion)\n",
    "#print('d', d)\n",
    "print('total : ', np.bincount(d))\n",
    "print('perf = {}%'.format(np.bincount(d)[1] / (np.bincount(d)[0] + np.bincount(d)[1]) *100))\n",
    "\n",
    "# Stats on most not found digits:\n",
    "not_found_qty = np.bincount(list(not_found))\n",
    "fig, ax = plt.subplots()\n",
    "plt.bar(range(10), not_found_qty, align='center')\n",
    "plt.xlim(-1,10)\n",
    "ax.set_xticks(range(10))\n",
    "plt.show()\n",
    "\n",
    "not_found_idx = np.ma.argsort(not_found_qty)[::-1]\n",
    "for i in range(not_found_idx.size):\n",
    "    print('{} has been missed {} times'.format(not_found_idx[i], not_found_qty[not_found_idx[i]]))\n",
    "\n",
    "\n",
    "#Stats on confusion:\n",
    "print('Confusion :')\n",
    "plt.scatter(confusion[:,0], confusion[:,1], alpha=0.01)\n",
    "plt.scatter(confusion[:,1], confusion[:,0], alpha=0.01)\n",
    "plt.show()\n",
    "\n",
    "\n"
   ]
  },
  {
   "cell_type": "code",
   "execution_count": null,
   "metadata": {
    "collapsed": true
   },
   "outputs": [],
   "source": [
    "\n"
   ]
  }
 ],
 "metadata": {
  "kernelspec": {
   "display_name": "Python 3",
   "language": "python",
   "name": "python3"
  },
  "language_info": {
   "codemirror_mode": {
    "name": "ipython",
    "version": 3
   },
   "file_extension": ".py",
   "mimetype": "text/x-python",
   "name": "python",
   "nbconvert_exporter": "python",
   "pygments_lexer": "ipython3",
   "version": "3.5.1"
  }
 },
 "nbformat": 4,
 "nbformat_minor": 0
}
