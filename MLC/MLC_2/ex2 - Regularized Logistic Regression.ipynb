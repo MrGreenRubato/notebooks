{
 "cells": [
  {
   "cell_type": "markdown",
   "metadata": {},
   "source": [
    "# Programming Exercise 2: Logistic Regression with regularization\n",
    "\n",
    "Regularized Logistic regression is a classification algorithm "
   ]
  },
  {
   "cell_type": "code",
   "execution_count": 1,
   "metadata": {
    "collapsed": true
   },
   "outputs": [],
   "source": [
    "import numpy as np\n",
    "from matplotlib import pyplot as plt\n",
    "import pandas as pd\n",
    "%matplotlib inline\n",
    " "
   ]
  },
  {
   "cell_type": "code",
   "execution_count": 2,
   "metadata": {
    "collapsed": false
   },
   "outputs": [
    {
     "name": "stdout",
     "output_type": "stream",
     "text": [
      "Number of samples 118\n",
      "Number of parameters:  2\n",
      "y shape (118,)\n"
     ]
    },
    {
     "data": {
      "image/png": "[encoded data removed]",
      "text/plain": [
       "<matplotlib.figure.Figure at 0x104460550>"
      ]
     },
     "metadata": {},
     "output_type": "display_data"
    }
   ],
   "source": [
    "data = np.loadtxt('ex2data2.txt', delimiter=',')\n",
    "\n",
    "X = data[:,0:2]\n",
    "y = data[:,2]  # differs from y = data[:, 2:3]\n",
    "m,n = X.shape\n",
    "print('Number of samples', m)\n",
    "print('Number of parameters: ', n)\n",
    "print('y shape', y.shape)\n",
    "\n",
    "df = pd.DataFrame(dict(x=X[:,0], y=X[:,1], label=y))\n",
    "groups = df.groupby(y)\n",
    "plt.margins(0.15)\n",
    "for name, group in groups:\n",
    "    plt.plot(group.x, group.y, marker='o', linestyle='', ms=6, label=name)\n",
    "\n",
    "plt.xlabel('Exam 1')\n",
    "plt.ylabel('Exam 2')\n",
    "plt.legend()\n",
    "plt.show()\n"
   ]
  },
  {
   "cell_type": "markdown",
   "metadata": {},
   "source": [
    "## try solution directly from scikit learn"
   ]
  },
  {
   "cell_type": "code",
   "execution_count": 125,
   "metadata": {
    "collapsed": false
   },
   "outputs": [
    {
     "name": "stdout",
     "output_type": "stream",
     "text": [
      "Coeff = [[-0.28135718  0.03654246]], intercept = [ 0.01196357]\n",
      "Score on training set :  0.526785714286\n",
      "Score on test set :  0.666666666667\n",
      "Predict on small test :  [ 1.  1.  0.  0.  0.  1.  1.  0.]\n"
     ]
    }
   ],
   "source": [
    "from sklearn.linear_model import LogisticRegression\n",
    "from sklearn.cross_validation import train_test_split\n",
    "\n",
    "X_train, X_test, y_train, y_test = train_test_split(X, y, test_size=0.05)\n",
    "\n",
    "#lr = LogisticRegression() # default solver to 'liblinear\"\n",
    "\n",
    "# lbfgs seems to be Same as mine\n",
    "lr = LogisticRegression(solver='lbfgs', C=0.99)  # C = 1/lambda (default = 1, if lower, regularization is stronger)\n",
    "# lr = LogisticRegression(solver='sag', max_iter = 1000000000)  # ???\n",
    "#lr = LogisticRegression(solver='newton-cg', max_iter = 1000000000)  # seems quite the same as lbfgs\n",
    "\n",
    "lr.fit(X_train,y_train)\n",
    "lr.get_params()\n",
    "\n",
    "print('Coeff = {}, intercept = {}'.format(lr.coef_, lr.intercept_ ))\n",
    "\n",
    "print('Score on training set : ', lr.score(X_train,y_train))\n",
    "print('Score on test set : ', lr.score(X_test,y_test))\n",
    "\n",
    "\n",
    "X_small_test = [\n",
    "    [0,0],\n",
    "    [-0.25,0.25],\n",
    "    [0.2,0.5],\n",
    "    [1,-1],\n",
    "    [1,1],\n",
    "    [-0.25, 1.5],  # expected as human : 1 1 1 0 0 0  \n",
    "    [0,1],\n",
    "    [0,-1]]\n",
    "print('Predict on small test : ', lr.predict(X_small_test))\n"
   ]
  },
  {
   "cell_type": "markdown",
   "metadata": {},
   "source": [
    "Explanation for the equation :\n",
    "$z=w_{0} + w_{1}x_{1} + w_{2}x_{2}$\n",
    "\n",
    "Here, $x{_2}$ is on y axis, so we can define the equation as follows:\n",
    "$x_{2} = \\frac{w_{0}}{w_{2}} - \\frac{w_{1}}{w_{2}}x_{1}$\n"
   ]
  },
  {
   "cell_type": "code",
   "execution_count": 126,
   "metadata": {
    "collapsed": false
   },
   "outputs": [
    {
     "name": "stdout",
     "output_type": "stream",
     "text": [
      "Predict on small test :  [ 1.  1.  1.  0.  0.  1.  0.]\n",
      "[ 0.01196357 -0.28135718  0.03654246]\n"
     ]
    },
    {
     "data": {
      "image/png": "[encoded data removed]",
      "text/plain": [
       "<matplotlib.figure.Figure at 0x11ab62128>"
      ]
     },
     "metadata": {},
     "output_type": "display_data"
    }
   ],
   "source": [
    "def plotDecisionBoundary(theta, X):\n",
    "    # draw the line according to theta parameters\n",
    "    plot_x = [min(X[:,1])-1, max(X[:,1]+1)]\n",
    "    #print('plot_x:',plot_x)\n",
    "\n",
    "    plot_y = (-1/theta[2]) * (np.multiply(theta[1],plot_x) + theta[0])\n",
    "    #print('plot_y:',plot_y)\n",
    "\n",
    "    plt.plot(plot_x, plot_y)\n",
    "\n",
    "    #plt.show()\n",
    "    \n",
    "def plotDecisionBoundary2(lr):\n",
    "    w = lr.coef_[0]\n",
    "    a = -w[0] / w[1]\n",
    "    xx = np.linspace(-1, 1)\n",
    "    yy = a * xx - (lr.intercept_[0]) / w[1]\n",
    "    plt.plot(xx, yy, 'k-')\n",
    "    \n",
    "X_check = [\n",
    "    [0,0],\n",
    "    [-1,1],\n",
    "    [-1,-1],\n",
    "    [1,1],\n",
    "    [1,-1],\n",
    "    [0,1],\n",
    "    [0,-1]]\n",
    "print('Predict on small test : ', lr.predict(X_check))\n",
    "\n",
    "test = np.append(lr.intercept_, lr.coef_)\n",
    "print(test)\n",
    "plt.xlim(-1,1)\n",
    "plt.ylim(-2,2)\n",
    "for name, group in groups:\n",
    "    plt.plot(group.x, group.y, marker='o', linestyle='', ms=6, label=name)\n",
    "    \n",
    "\n",
    "plotDecisionBoundary(test, X_train)\n",
    "plotDecisionBoundary2(lr)\n",
    "plt.show()"
   ]
  },
  {
   "cell_type": "markdown",
   "metadata": {
    "collapsed": true
   },
   "source": [
    "To have a non-linear boundary, we need polynomials. For instance, 6 power :\n",
    "x1, x2, x1x2, x1^2*x2, x2^2*x1, x1^3 etc "
   ]
  },
  {
   "cell_type": "code",
   "execution_count": 127,
   "metadata": {
    "collapsed": false
   },
   "outputs": [],
   "source": [
    "# Take a 2 parameters (3 with the ones) and return a n parameters according to polynomials parameters \n",
    "def generatePolynomials(order, X):\n",
    "    #print('X:', X)\n",
    "    XP = np.array([]).reshape(len(X), 0) #np.empty((len(X),1), dtype=float)\n",
    "    print('XP :  ', XP)\n",
    "    for i in range(order+1):\n",
    "        for j in range(i+1):\n",
    "            #print('x1^{} * x2^{}'.format(j, i-j))\n",
    "            temp = np.power(X[:,0:1], j)\n",
    "            temp = np.power(X[:,1:2], i-j)\n",
    "            XP = np.hstack((XP, np.power(X[:,0:1], j) * np.power(X[:,1:2], i-j)))\n",
    "    return XP"
   ]
  },
  {
   "cell_type": "code",
   "execution_count": 128,
   "metadata": {
    "collapsed": false
   },
   "outputs": [
    {
     "name": "stdout",
     "output_type": "stream",
     "text": [
      "XP :   []\n",
      "XP :   []\n",
      "(112, 28)\n",
      "Coeff = [[  2.77412070e-05   1.14054704e+00   5.60750740e-01  -1.45677644e+00\n",
      "   -9.29428696e-01  -1.86758636e+00  -1.86231625e-01  -3.38532688e-01\n",
      "   -2.76599669e-01   6.07956571e-02  -1.18374856e+00  -2.61686236e-01\n",
      "   -5.51774121e-01  -6.77511145e-02  -1.41244075e+00  -4.44182126e-01\n",
      "   -2.72941964e-01  -2.22796913e-01  -5.05828524e-02  -1.83521077e-01\n",
      "   -2.65137918e-01  -8.99314672e-01  -1.19866170e-01  -2.83872444e-01\n",
      "    9.71145004e-03  -2.75400080e-01   2.74065247e-02  -1.03545451e+00]], intercept = [ 1.25048079]\n",
      "Score on training set :  0.839285714286\n",
      "Score on test set :  0.833333333333\n"
     ]
    }
   ],
   "source": [
    "XP_train = generatePolynomials(6, X_train)\n",
    "XP_test = generatePolynomials(6, X_test)\n",
    "\n",
    "#print(XP_train)\n",
    "print(XP_train.shape)\n",
    "\n",
    "lr.fit(XP_train,y_train)\n",
    "lr.get_params()\n",
    "\n",
    "print('Coeff = {}, intercept = {}'.format(lr.coef_, lr.intercept_ ))\n",
    "\n",
    "print('Score on training set : ', lr.score(XP_train,y_train))\n",
    "print('Score on test set : ', lr.score(XP_test,y_test))\n",
    "\n",
    "def plotDescisionBoundaryPoly(lr):\n",
    "    \n",
    "    h = .02\n",
    "    x_min, x_max = XP_train[:, 0].min() - 1, XP_train[:, 0].max() + 1\n",
    "    y_min, y_max = XP_train[:, 1].min() - 1, XP_train[:, 1].max() + 1\n",
    "    xx, yy = np.meshgrid(np.arange(x_min, x_max, h),\n",
    "                         np.arange(y_min, y_max, h))\n",
    "\n",
    "\n",
    "    # Plot the decision boundary. For that, we will assign a color to each\n",
    "    # point in the mesh [x_min, m_max]x[y_min, y_max].\n",
    "    Z = lr.predict(np.c_[xx.ravel(), yy.ravel()])\n",
    "\n",
    "    # Put the result into a color plot\n",
    "    Z = Z.reshape(xx.shape)\n",
    "    plt.contour(xx, yy, Z, cmap=plt.cm.Paired)\n",
    "\n",
    "    "
   ]
  },
  {
   "cell_type": "code",
   "execution_count": null,
   "metadata": {
    "collapsed": true
   },
   "outputs": [],
   "source": []
  },
  {
   "cell_type": "code",
   "execution_count": null,
   "metadata": {
    "collapsed": true
   },
   "outputs": [],
   "source": []
  }
 ],
 "metadata": {
  "kernelspec": {
   "display_name": "Python 3",
   "language": "python",
   "name": "python3"
  },
  "language_info": {
   "codemirror_mode": {
    "name": "ipython",
    "version": 3
   },
   "file_extension": ".py",
   "mimetype": "text/x-python",
   "name": "python",
   "nbconvert_exporter": "python",
   "pygments_lexer": "ipython3",
   "version": "3.5.1"
  }
 },
 "nbformat": 4,
 "nbformat_minor": 0
}
