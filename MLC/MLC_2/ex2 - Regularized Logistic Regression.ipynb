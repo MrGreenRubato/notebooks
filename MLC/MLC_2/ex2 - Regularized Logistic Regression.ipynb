{
 "cells": [
  {
   "cell_type": "markdown",
   "metadata": {},
   "source": [
    "# Programming Exercise 2: Logistic Regression with regularization\n",
    "\n",
    "Regularized Logistic regression is a classification algorithm "
   ]
  },
  {
   "cell_type": "code",
   "execution_count": 54,
   "metadata": {
    "collapsed": true
   },
   "outputs": [],
   "source": [
    "import numpy as np\n",
    "from matplotlib import pyplot as plt\n",
    "import pandas as pd\n",
    "%matplotlib inline\n",
    " "
   ]
  },
  {
   "cell_type": "code",
   "execution_count": 85,
   "metadata": {
    "collapsed": false
   },
   "outputs": [
    {
     "name": "stdout",
     "output_type": "stream",
     "text": [
      "Number of samples 118\n",
      "Number of parameters:  2\n",
      "y shape (118,)\n"
     ]
    },
    {
     "data": {
      "image/png": "[encoded data removed]",
      "text/plain": [
       "<matplotlib.figure.Figure at 0x296fae86940>"
      ]
     },
     "metadata": {},
     "output_type": "display_data"
    }
   ],
   "source": [
    "data = np.loadtxt('ex2data2.txt', delimiter=',')\n",
    "\n",
    "X = data[:,0:2]\n",
    "y = data[:,2]  # differs from y = data[:, 2:3]\n",
    "m,n = X.shape\n",
    "print('Number of samples', m)\n",
    "print('Number of parameters: ', n)\n",
    "print('y shape', y.shape)\n",
    "\n",
    "df = pd.DataFrame(dict(x=X[:,0], y=X[:,1], label=y))\n",
    "groups = df.groupby(y)\n",
    "plt.margins(0.15)\n",
    "for name, group in groups:\n",
    "    plt.plot(group.x, group.y, marker='o', linestyle='', ms=6, label=name)\n",
    "\n",
    "plt.xlabel('Exam 1')\n",
    "plt.ylabel('Exam 2')\n",
    "plt.legend()\n",
    "plt.show()\n"
   ]
  },
  {
   "cell_type": "markdown",
   "metadata": {},
   "source": [
    "## try solution directly from scikit learn"
   ]
  },
  {
   "cell_type": "code",
   "execution_count": 160,
   "metadata": {
    "collapsed": false
   },
   "outputs": [
    {
     "name": "stdout",
     "output_type": "stream",
     "text": [
      "Coeff = [[-0.21223195 -0.0292301 ]], intercept = [-0.03410786]\n",
      "Score on training set :  0.478632478632\n",
      "Score on test set :  0.0\n",
      "Predict on small test :  [ 0.  1.  0.  0.  0.  0.]\n"
     ]
    }
   ],
   "source": [
    "from sklearn.linear_model import LogisticRegression\n",
    "from sklearn.cross_validation import train_test_split\n",
    "\n",
    "X_train, X_test, y_train, y_test = train_test_split(X, y, test_size=0.001)\n",
    "\n",
    "#lr = LogisticRegression() # default solver to 'liblinear\"\n",
    "\n",
    "# lbfgs seems to be Same as mine\n",
    "lr = LogisticRegression(solver='lbfgs', C=0.4)  # C = 1/lambda (default = 1, if lower, regularization is stronger)\n",
    "# lr = LogisticRegression(solver='sag', max_iter = 1000000000)  # ???\n",
    "#lr = LogisticRegression(solver='newton-cg', max_iter = 1000000000)  # seems quite the same as lbfgs\n",
    "\n",
    "lr.fit(X_train,y_train)\n",
    "lr.get_params()\n",
    "\n",
    "print('Coeff = {}, intercept = {}'.format(lr.coef_, lr.intercept_ ))\n",
    "\n",
    "print('Score on training set : ', lr.score(X_train,y_train))\n",
    "print('Score on test set : ', lr.score(X_test,y_test))\n",
    "\n",
    "\n",
    "X_small_test = [\n",
    "    [0,0],\n",
    "    [-0.25,0.25],\n",
    "    [0.2,0.5],\n",
    "    [1,-1],\n",
    "    [1,1],\n",
    "    [-0.25, 1.5]]  # expected as human : 1 1 1 0 0 0  \n",
    "print('Predict on small test : ', lr.predict(X_small_test))\n"
   ]
  },
  {
   "cell_type": "code",
   "execution_count": null,
   "metadata": {
    "collapsed": true
   },
   "outputs": [],
   "source": []
  }
 ],
 "metadata": {
  "kernelspec": {
   "display_name": "Python 3",
   "language": "python",
   "name": "python3"
  },
  "language_info": {
   "codemirror_mode": {
    "name": "ipython",
    "version": 3
   },
   "file_extension": ".py",
   "mimetype": "text/x-python",
   "name": "python",
   "nbconvert_exporter": "python",
   "pygments_lexer": "ipython3",
   "version": "3.5.1"
  }
 },
 "nbformat": 4,
 "nbformat_minor": 0
}
