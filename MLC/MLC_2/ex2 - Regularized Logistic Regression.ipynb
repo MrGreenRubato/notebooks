{
 "cells": [
  {
   "cell_type": "markdown",
   "metadata": {},
   "source": [
    "# Programming Exercise 2: Logistic Regression with regularization\n",
    "\n",
    "Regularized Logistic regression is a classification algorithm "
   ]
  },
  {
   "cell_type": "code",
   "execution_count": 39,
   "metadata": {
    "collapsed": true
   },
   "outputs": [],
   "source": [
    "import numpy as np\n",
    "from matplotlib import pyplot as plt\n",
    "import pandas as pd\n",
    "%matplotlib inline\n",
    " "
   ]
  },
  {
   "cell_type": "code",
   "execution_count": 59,
   "metadata": {
    "collapsed": false
   },
   "outputs": [
    {
     "name": "stdout",
     "output_type": "stream",
     "text": [
      "Number of samples 118\n",
      "Number of parameters:  2\n",
      "y shape (118,)\n"
     ]
    },
    {
     "data": {
      "image/png": "[encoded data removed]",
      "text/plain": [
       "<matplotlib.figure.Figure at 0x2112d9eb5c0>"
      ]
     },
     "metadata": {},
     "output_type": "display_data"
    }
   ],
   "source": [
    "data = np.loadtxt('ex2data2.txt', delimiter=',')\n",
    "\n",
    "X = data[:,0:2]\n",
    "y = data[:,2]  # differs from y = data[:, 2:3]\n",
    "m,n = X.shape\n",
    "print('Number of samples', m)\n",
    "print('Number of parameters: ', n)\n",
    "print('y shape', y.shape)\n",
    "\n",
    "df = pd.DataFrame(dict(x=X[:,0], y=X[:,1], label=y))\n",
    "groups = df.groupby(y)\n",
    "plt.margins(0.15)\n",
    "for name, group in groups:\n",
    "    plt.plot(group.x, group.y, marker='o', linestyle='', ms=6, label=name)\n",
    "\n",
    "plt.xlabel('Exam 1')\n",
    "plt.ylabel('Exam 2')\n",
    "plt.legend()\n",
    "plt.show()\n"
   ]
  },
  {
   "cell_type": "markdown",
   "metadata": {},
   "source": [
    "## try solution directly from scikit learn"
   ]
  },
  {
   "cell_type": "code",
   "execution_count": 65,
   "metadata": {
    "collapsed": false
   },
   "outputs": [
    {
     "name": "stdout",
     "output_type": "stream",
     "text": [
      "Coeff = [[-0.3938763  -0.09820137]], intercept = [-0.03047309]\n",
      "Score on training set :  0.508928571429\n",
      "Score on test set :  0.0\n",
      "Predict on small test :  [ 0.  1.  0.  0.  0.  0.  0.  1.]\n"
     ]
    }
   ],
   "source": [
    "from sklearn.linear_model import LogisticRegression\n",
    "from sklearn.cross_validation import train_test_split\n",
    "\n",
    "X_train, X_test, y_train, y_test = train_test_split(X, y, test_size=0.05)\n",
    "\n",
    "#lr = LogisticRegression() # default solver to 'liblinear\"\n",
    "\n",
    "# lbfgs seems to be Same as mine\n",
    "lr = LogisticRegression(solver='lbfgs', C=0.99)  # C = 1/lambda (default = 1, if lower, regularization is stronger)\n",
    "#lr = LogisticRegression(solver='sag', max_iter = 1000000000)  # ???\n",
    "#lr = LogisticRegression(solver='newton-cg', max_iter = 1000000000)  # seems quite the same as lbfgs\n",
    "\n",
    "lr.fit(X_train,y_train)\n",
    "lr.get_params()\n",
    "\n",
    "print('Coeff = {}, intercept = {}'.format(lr.coef_, lr.intercept_ ))\n",
    "\n",
    "print('Score on training set : ', lr.score(X_train,y_train))\n",
    "print('Score on test set : ', lr.score(X_test,y_test))\n",
    "\n",
    "\n",
    "X_small_test = [\n",
    "    [0,0],\n",
    "    [-0.25,0.25],\n",
    "    [0.2,0.5],\n",
    "    [1,-1],\n",
    "    [1,1],\n",
    "    [-0.25, 1.5],  # expected as human : 1 1 1 0 0 0  \n",
    "    [0,1],\n",
    "    [0,-1]]\n",
    "print('Predict on small test : ', lr.predict(X_small_test))\n"
   ]
  },
  {
   "cell_type": "markdown",
   "metadata": {},
   "source": [
    "Explanation for the equation :\n",
    "$z=w_{0} + w_{1}x_{1} + w_{2}x_{2}$\n",
    "\n",
    "Here, $x{_2}$ is on y axis, so we can define the equation as follows:\n",
    "$x_{2} = \\frac{w_{0}}{w_{2}} - \\frac{w_{1}}{w_{2}}x_{1}$\n",
    "\n",
    "Obivously, this is not enough, simply because trying to define a linear boundary is not adapted to this problem"
   ]
  },
  {
   "cell_type": "code",
   "execution_count": 66,
   "metadata": {
    "collapsed": false
   },
   "outputs": [
    {
     "name": "stdout",
     "output_type": "stream",
     "text": [
      "Predict on small test :  [ 0.  1.  1.  0.  0.  0.  1.]\n",
      "[-0.03047309 -0.3938763  -0.09820137]\n"
     ]
    },
    {
     "data": {
      "image/png": "[encoded data removed]",
      "text/plain": [
       "<matplotlib.figure.Figure at 0x2112db06d68>"
      ]
     },
     "metadata": {},
     "output_type": "display_data"
    }
   ],
   "source": [
    "def plotDecisionBoundary(theta, X):\n",
    "    # draw the line according to theta parameters\n",
    "    plot_x = [min(X[:,1])-1, max(X[:,1]+1)]\n",
    "    #print('plot_x:',plot_x)\n",
    "\n",
    "    plot_y = (-1/theta[2]) * (np.multiply(theta[1],plot_x) + theta[0])\n",
    "    #print('plot_y:',plot_y)\n",
    "\n",
    "    plt.plot(plot_x, plot_y)\n",
    "\n",
    "    #plt.show()\n",
    "    \n",
    "def plotDecisionBoundary2(lr):\n",
    "    w = lr.coef_[0]\n",
    "    a = -w[0] / w[1]\n",
    "    xx = np.linspace(-1, 1)\n",
    "    yy = a * xx - (lr.intercept_[0]) / w[1]\n",
    "    plt.plot(xx, yy, 'k-')\n",
    "    \n",
    "X_check = [\n",
    "    [0,0],\n",
    "    [-1,1],\n",
    "    [-1,-1],\n",
    "    [1,1],\n",
    "    [1,-1],\n",
    "    [0,1],\n",
    "    [0,-1]]\n",
    "print('Predict on small test : ', lr.predict(X_check))\n",
    "\n",
    "test = np.append(lr.intercept_, lr.coef_)\n",
    "print(test)\n",
    "plt.xlim(-1,1)\n",
    "plt.ylim(-2,2)\n",
    "for name, group in groups:\n",
    "    plt.plot(group.x, group.y, marker='o', linestyle='', ms=6, label=name)\n",
    "    \n",
    "\n",
    "plotDecisionBoundary(test, X_train)\n",
    "plotDecisionBoundary2(lr)\n",
    "plt.show()"
   ]
  },
  {
   "cell_type": "markdown",
   "metadata": {
    "collapsed": true
   },
   "source": [
    "# Polynomial features\n",
    "To have a non-linear boundary, we need polynomials. For instance, 6 power :\n",
    "x1, x2, x1x2, x1^2*x2, x2^2*x1, x1^3 etc "
   ]
  },
  {
   "cell_type": "code",
   "execution_count": 67,
   "metadata": {
    "collapsed": false
   },
   "outputs": [],
   "source": [
    "# Take a 2 parameters (3 with the ones) and return a n parameters according to polynomials parameters \n",
    "def generatePolynomials(order, X):\n",
    "    #print('X:', X)\n",
    "    XP = np.array([]).reshape(len(X), 0) #np.empty((len(X),1), dtype=float)\n",
    "    #print('XP :  ', XP)\n",
    "    for i in range(order+1):\n",
    "        for j in range(i+1):\n",
    "            #print('x1^{} * x2^{}'.format(j, i-j))\n",
    "            temp = np.power(X[:,0:1], j)\n",
    "            temp = np.power(X[:,1:2], i-j)\n",
    "            XP = np.hstack((XP, np.power(X[:,0:1], j) * np.power(X[:,1:2], i-j)))\n",
    "    return XP"
   ]
  },
  {
   "cell_type": "code",
   "execution_count": 73,
   "metadata": {
    "collapsed": false
   },
   "outputs": [
    {
     "name": "stdout",
     "output_type": "stream",
     "text": [
      "(112, 28)\n",
      "Coeff = [[  5.65706045e-06   1.10679186e+00   4.74308987e-01  -1.54500649e+00\n",
      "   -8.49002011e-01  -1.94405020e+00  -1.37601658e-01  -3.82080211e-01\n",
      "   -3.72552480e-01   1.67004044e-01  -1.17446740e+00  -2.68682927e-01\n",
      "   -6.05762142e-01  -1.68086152e-02  -1.40264206e+00  -4.08231463e-01\n",
      "   -3.01667909e-01  -2.69262293e-01  -3.10487657e-02  -2.17299029e-01\n",
      "   -2.16504307e-01  -8.75148464e-01  -1.43907921e-01  -3.20301447e-01\n",
      "    2.17951009e-02  -2.78321832e-01   4.37943622e-02  -1.01208610e+00]], intercept = [ 1.26124397]\n",
      "Score on training set :  0.830357142857\n",
      "Score on test set :  0.833333333333\n",
      "[[-186.84399779 -169.33826011 -154.67161854 ..., -182.85713322\n",
      "  -200.77705418 -221.8935267 ]\n",
      " [-167.00490348 -149.87494068 -135.54570503 ..., -160.11849838\n",
      "  -177.53830611 -198.12543233]\n",
      " [-150.3177072  -133.5388388  -119.52434959 ..., -140.94961022\n",
      "  -157.91882605 -178.02895529]\n",
      " ..., \n",
      " [-154.79748136 -138.70215746 -125.16841835 ..., -183.07556474\n",
      "  -206.41417745 -233.79660512]\n",
      " [-174.32170092 -157.84183792 -143.95334743 ..., -205.0497645  -229.08306939\n",
      "  -257.22524381]\n",
      " [-197.58561534 -180.68534255 -166.40857093 ..., -230.82446463 -255.5940329\n",
      "  -284.54016027]]\n"
     ]
    },
    {
     "data": {
      "image/png": "[encoded data removed]",
      "text/plain": [
       "<matplotlib.figure.Figure at 0x2112d90a6a0>"
      ]
     },
     "metadata": {},
     "output_type": "display_data"
    }
   ],
   "source": [
    "XP_train = generatePolynomials(6, X_train)\n",
    "XP_test = generatePolynomials(6, X_test)\n",
    "\n",
    "#print(XP_train)\n",
    "print(XP_train.shape)\n",
    "\n",
    "lr.fit(XP_train,y_train)\n",
    "lr.get_params()\n",
    "\n",
    "print('Coeff = {}, intercept = {}'.format(lr.coef_, lr.intercept_ ))\n",
    "\n",
    "print('Score on training set : ', lr.score(XP_train,y_train))\n",
    "print('Score on test set : ', lr.score(XP_test,y_test))\n",
    "\n",
    "def plotDecisionBoundaryPoly(lr):\n",
    "    \n",
    "    h = .02\n",
    "    x_min, x_max = XP_train[:, 0].min() - 1, XP_train[:, 0].max() + 1\n",
    "    y_min, y_max = XP_train[:, 1].min() - 1, XP_train[:, 1].max() + 1\n",
    "    xx, yy = np.meshgrid(np.arange(x_min, x_max, h),\n",
    "                         np.arange(y_min, y_max, h))\n",
    "\n",
    "\n",
    "    # Plot the decision boundary. For that, we will assign a color to each\n",
    "    # point in the mesh [x_min, m_max]x[y_min, y_max].\n",
    "    Z = lr.predict(np.c_[xx.ravel(), yy.ravel()])\n",
    "\n",
    "    # Put the result into a color plot\n",
    "    Z = Z.reshape(xx.shape)\n",
    "    plt.contour(xx, yy, Z, cmap=plt.cm.Paired)\n",
    "\n",
    "\n",
    "def plotDecisionBoundaryPoly2(lr):\n",
    "    u = np.linspace(-2, 2, 50)\n",
    "    v = np.linspace(-2, 2, 50)\n",
    "    \n",
    "    z = np.zeros((len(u), len(v)))\n",
    "    \n",
    "    # for each tuple, evaluate z (after generating polynomials)\n",
    "    for i in range (len(u)):\n",
    "        for j in range (len(v)):\n",
    "            x = np.array([ u[i], v[j]]).reshape(1,2)\n",
    "            #print('u,v = ',x)\n",
    "            \n",
    "            temp = generatePolynomials(6, x)\n",
    "            #print('poly uv = ', temp)\n",
    "            zt = np.dot(temp,lr.coef_.transpose()) + lr.intercept_\n",
    "            #print('z', zt)\n",
    "            z[i,j] = zt\n",
    "    print(z)\n",
    "    cs = plt.contour(u, v, z)\n",
    "    plt.clabel(cs, inline=1, fontsize=10)\n",
    "    plt.title('Simplest default with labels')\n",
    "        \n",
    "plt.xlim(-1,1)\n",
    "plt.ylim(-2,2)\n",
    "for name, group in groups:\n",
    "    plt.plot(group.x, group.y, marker='o', linestyle='', ms=6, label=name)\n",
    "plotDecisionBoundaryPoly2(lr)  \n",
    "plt.legend()\n",
    "plt.show()"
   ]
  },
  {
   "cell_type": "code",
   "execution_count": 75,
   "metadata": {
    "collapsed": false
   },
   "outputs": [
    {
     "name": "stdout",
     "output_type": "stream",
     "text": [
      "[[-2.06155594]]\n",
      "[[ 1.31135809]]\n"
     ]
    }
   ],
   "source": [
    "x = np.array([ -0.5, 1]).reshape(1,2)\n",
    "temp = generatePolynomials(6, x)\n",
    "zt = np.dot(temp,lr.coef_.transpose()) + lr.intercept_\n",
    "print(zt)\n",
    "x = np.array([ 0, 0.5]).reshape(1,2)\n",
    "temp = generatePolynomials(6, x)\n",
    "zt = np.dot(temp,lr.coef_.transpose()) + lr.intercept_\n",
    "print(zt)\n"
   ]
  },
  {
   "cell_type": "code",
   "execution_count": null,
   "metadata": {
    "collapsed": true
   },
   "outputs": [],
   "source": []
  }
 ],
 "metadata": {
  "kernelspec": {
   "display_name": "Python 3",
   "language": "python",
   "name": "python3"
  },
  "language_info": {
   "codemirror_mode": {
    "name": "ipython",
    "version": 3
   },
   "file_extension": ".py",
   "mimetype": "text/x-python",
   "name": "python",
   "nbconvert_exporter": "python",
   "pygments_lexer": "ipython3",
   "version": "3.5.1"
  }
 },
 "nbformat": 4,
 "nbformat_minor": 0
}
