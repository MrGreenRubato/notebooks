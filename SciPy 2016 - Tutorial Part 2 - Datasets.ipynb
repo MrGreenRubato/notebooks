{
 "cells": [
  {
   "cell_type": "code",
   "execution_count": 1,
   "metadata": {
    "collapsed": false
   },
   "outputs": [
    {
     "name": "stdout",
     "output_type": "stream",
     "text": [
      "[0 0 0 0 0 0 0 0 0 0 0 0 0 0 0 0 0 0 0 0 0 0 0 0 0 0 0 0 0 0 0 0 0 0 0 0 0\n",
      " 0 0 0 0 0 0 0 0 0 0 0 0 0 1 1 1 1 1 1 1 1 1 1 1 1 1 1 1 1 1 1 1 1 1 1 1 1\n",
      " 1 1 1 1 1 1 1 1 1 1 1 1 1 1 1 1 1 1 1 1 1 1 1 1 1 1 2 2 2 2 2 2 2 2 2 2 2\n",
      " 2 2 2 2 2 2 2 2 2 2 2 2 2 2 2 2 2 2 2 2 2 2 2 2 2 2 2 2 2 2 2 2 2 2 2 2 2\n",
      " 2 2]\n"
     ]
    }
   ],
   "source": [
    "# Loading the data and the target (X and y)\n",
    "# The sets are ordered, so when splitting them into training and test set, we'll need to split them more randomly.\n",
    "import numpy as np\n",
    "from sklearn.datasets import load_iris\n",
    "from sklearn.neighbors import KNeighborsClassifier\n",
    "\n",
    "iris = load_iris()\n",
    "X, y = iris.data, iris.target\n",
    "\n",
    "classifier = KNeighborsClassifier()\n",
    "\n",
    "print(y)"
   ]
  },
  {
   "cell_type": "code",
   "execution_count": 3,
   "metadata": {
    "collapsed": false
   },
   "outputs": [
    {
     "name": "stdout",
     "output_type": "stream",
     "text": [
      "[1 1 0 2 2 0 0 1 1 2 0 0 1 0 1 2 0 2 0 0 1 0 0 1 2 1 1 1 0 0 1 2 0 0 1 1 1\n",
      " 2 1 1 1 2 0 0 1 2 2 2 2 0 1 0 1 1 0 1 2 1 2 2 0 1 0 2 2 1 1 2 2 1 0 1 1 2\n",
      " 2]\n",
      "All:  [ 33.33333333  33.33333333  33.33333333]\n",
      "Training:  [ 30.66666667  40.          29.33333333]\n",
      "Test:  [ 36.          26.66666667  37.33333333]\n",
      "All:  [ 33.33333333  33.33333333  33.33333333]\n",
      "Training:  [ 33.33333333  33.33333333  33.33333333]\n",
      "Test:  [ 33.33333333  33.33333333  33.33333333]\n",
      "train_y:  [1 1 1 0 0 2 1 1 1 0 1 0 2 0 0 2 0 2 1 1 0 0 2 1 2 1 0 1 1 1 2 1 2 2 0 0 2\n",
      " 2 0 0 2 2 2 2 0 2 0 2 1 1 0 2 2 0 2 1 2 1 2 1 1 0 0 1 2 0 0 2 2 1 0 1 0 0\n",
      " 1]\n",
      "test_y:  [0 2 1 0 2 0 1 2 0 0 2 1 2 0 1 2 2 2 2 2 1 2 1 1 2 2 0 0 1 0 0 2 0 1 0 0 1\n",
      " 1 2 2 0 1 0 1 1 2 0 1 1 1 0 2 2 2 1 0 0 1 1 0 2 1 0 2 0 2 1 1 2 0 2 1 0 0\n",
      " 1]\n",
      "pred_y:  [0 2 1 0 2 0 1 2 0 0 2 1 2 0 1 2 2 2 2 2 1 2 1 1 2 2 0 0 1 0 0 2 0 1 0 0 1\n",
      " 1 2 2 0 1 0 1 2 2 0 1 1 2 0 2 2 2 1 0 0 1 1 0 1 1 0 2 0 2 1 1 2 0 2 1 0 0\n",
      " 1]\n",
      "Fraction of correct predictions (accuracy): 0.96\n",
      "Fraction of correct predictions (accuracy): 0.96\n",
      "Samples correctly classified:  [ 0  1  2  3  4  5  6  7  8  9 10 11 12 13 14 15 16 17 18 19 20 21 22 23 24\n",
      " 25 26 27 28 29 30 31 32 33 34 35 36 37 38 39 40 41 42 43 45 46 47 48 50 51\n",
      " 52 53 54 55 56 57 58 59 61 62 63 64 65 66 67 68 69 70 71 72 73 74]\n",
      "Samples incorrecly classified:  [44 49 60]\n",
      "0\n",
      "darkblue\n",
      "1\n",
      "darkgreen\n",
      "2\n",
      "darkred\n"
     ]
    },
    {
     "data": {
      "text/plain": [
       "<matplotlib.collections.PathCollection at 0x26c80d75240>"
      ]
     },
     "execution_count": 3,
     "metadata": {},
     "output_type": "execute_result"
    },
    {
     "data": {
      "image/png": "[encoded data removed]",
      "text/plain": [
       "<matplotlib.figure.Figure at 0x26cffbe9b00>"
      ]
     },
     "metadata": {},
     "output_type": "display_data"
    }
   ],
   "source": [
    "from sklearn.cross_validation import train_test_split\n",
    "\n",
    "train_X, test_X, train_y, test_y = train_test_split(X, y, train_size = 0.5, random_state = 123)\n",
    "\n",
    "# train_test_split has randomly shuffled the samples before splitting them into training and testing set\n",
    "print(train_y) \n",
    "\n",
    "# Stratification : when splitting we may lose the proportion of different examples. The idea of stratification is\n",
    "# to keep this proportions the same.\n",
    "print('All: ', np.bincount(y) / float(len(y)) * 100)\n",
    "print('Training: ', np.bincount(train_y) / float(len(train_y)) * 100)\n",
    "print('Test: ', np.bincount(test_y) / float(len(test_y)) * 100)\n",
    "\n",
    "train_X, test_X, train_y, test_y = train_test_split(X, y, train_size = 0.5, random_state = 123, stratify = y)\n",
    "print('All: ', np.bincount(y) / float(len(y)) * 100)\n",
    "print('Training: ', np.bincount(train_y) / float(len(train_y)) * 100)\n",
    "print('Test: ', np.bincount(test_y) / float(len(test_y)) * 100)\n",
    "\n",
    "print('train_y: ', train_y)\n",
    "\n",
    "classifier.fit(train_X, train_y)\n",
    "pred_y = classifier.predict(test_X)\n",
    "\n",
    "print('test_y: ', test_y)\n",
    "print('pred_y: ', pred_y)\n",
    "\n",
    "print('Fraction of correct predictions (accuracy):', 1 - np.sum(np.abs(test_y-pred_y))/len(pred_y) )\n",
    "# A more python way to do it is :\n",
    "print('Fraction of correct predictions (accuracy):', np.sum(test_y == pred_y)/len(pred_y) )\n",
    "\n",
    "correct_idx = np.where(test_y == pred_y)[0]\n",
    "print('Samples correctly classified: ', correct_idx)\n",
    "\n",
    "incorrect_idx = np.where(test_y != pred_y)[0]\n",
    "print('Samples incorrecly classified: ', incorrect_idx)\n",
    "\n",
    "# plot incorrect predictions\n",
    "%matplotlib inline\n",
    "from matplotlib import pyplot as plt\n",
    "colors = ['darkblue', 'darkgreen', 'darkred']\n",
    "\n",
    "for n, color in enumerate(colors):\n",
    "    print(n)\n",
    "    print(color)\n",
    "    \n",
    "    idx = np.where(test_y == n)[0]\n",
    "    plt.scatter(test_X[idx, 1], test_X[idx, 2], color=color, label='class')\n",
    "\n",
    "plt.scatter(test_X[incorrect_idx, 1], test_X[incorrect_idx, 2], color='red')\n",
    "    "
   ]
  },
  {
   "cell_type": "code",
   "execution_count": null,
   "metadata": {
    "collapsed": true
   },
   "outputs": [],
   "source": []
  }
 ],
 "metadata": {
  "kernelspec": {
   "display_name": "Python 3",
   "language": "python",
   "name": "python3"
  },
  "language_info": {
   "codemirror_mode": {
    "name": "ipython",
    "version": 3
   },
   "file_extension": ".py",
   "mimetype": "text/x-python",
   "name": "python",
   "nbconvert_exporter": "python",
   "pygments_lexer": "ipython3",
   "version": "3.5.1"
  }
 },
 "nbformat": 4,
 "nbformat_minor": 0
}
