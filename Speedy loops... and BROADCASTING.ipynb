{
 "cells": [
  {
   "cell_type": "code",
   "execution_count": 1,
   "metadata": {
    "collapsed": false
   },
   "outputs": [
    {
     "name": "stdout",
     "output_type": "stream",
     "text": [
      "1 loop, best of 3: 249 ms per loop\n"
     ]
    }
   ],
   "source": [
    "# Python is slow for repeated low level execution tasks\n",
    "\n",
    "def func_python(N):\n",
    "    d = 0.0\n",
    "    for i in range(N):\n",
    "        d += (i % 3 - i) * i\n",
    "    return d\n",
    "\n",
    "%timeit func_python(1000000)\n"
   ]
  },
  {
   "cell_type": "code",
   "execution_count": 2,
   "metadata": {
    "collapsed": false
   },
   "outputs": [
    {
     "name": "stdout",
     "output_type": "stream",
     "text": [
      "100 loops, best of 3: 8.44 ms per loop\n",
      "[]\n"
     ]
    }
   ],
   "source": [
    "# Using NUMPY, ufunc\n",
    "a = list(range(100000)) #[1,3,2,4,3,1,4,2]\n",
    "b = []\n",
    "%timeit b = [val + 5 for val in a]\n",
    "print(b)\n"
   ]
  },
  {
   "cell_type": "code",
   "execution_count": 3,
   "metadata": {
    "collapsed": false
   },
   "outputs": [
    {
     "name": "stdout",
     "output_type": "stream",
     "text": [
      "10000 loops, best of 3: 84.8 µs per loop\n",
      "[]\n"
     ]
    }
   ],
   "source": [
    "import numpy as np\n",
    "a = np.array(a)\n",
    "%timeit b = a + 5\n",
    "print(b)"
   ]
  },
  {
   "cell_type": "code",
   "execution_count": 7,
   "metadata": {
    "collapsed": false
   },
   "outputs": [
    {
     "name": "stdout",
     "output_type": "stream",
     "text": [
      "1000 loops, best of 3: 1.51 ms per loop\n"
     ]
    }
   ],
   "source": [
    "# Using NUMPY aggregations (min, max, mean, sum...)\n",
    "from random import random\n",
    "c = [random() for i in range(100000)]\n",
    "%timeit min(c)\n"
   ]
  },
  {
   "cell_type": "code",
   "execution_count": 8,
   "metadata": {
    "collapsed": false
   },
   "outputs": [
    {
     "name": "stdout",
     "output_type": "stream",
     "text": [
      "The slowest run took 161.82 times longer than the fastest. This could mean that an intermediate result is being cached.\n",
      "10000 loops, best of 3: 23.3 µs per loop\n"
     ]
    }
   ],
   "source": [
    "c = np.array(c)\n",
    "%timeit c.min()\n"
   ]
  },
  {
   "cell_type": "code",
   "execution_count": 9,
   "metadata": {
    "collapsed": false
   },
   "outputs": [
    {
     "name": "stdout",
     "output_type": "stream",
     "text": [
      "100 loops, best of 3: 9.11 ms per loop\n"
     ]
    }
   ],
   "source": [
    "def func_pythonNP(N):\n",
    "    d = 0.0\n",
    "    n = np.arange(N)\n",
    "    #for i in range(N):\n",
    "    #    d += (i % 3 - i) * i\n",
    "    a = ((n % 3 - n) * n).sum()\n",
    "    \n",
    "    return a\n",
    "\n",
    "%timeit func_pythonNP(1000000)"
   ]
  },
  {
   "cell_type": "code",
   "execution_count": 10,
   "metadata": {
    "collapsed": false
   },
   "outputs": [],
   "source": [
    "# Broadcasting\n",
    "# rules by which ufuncs operates on arrays of different dimensions...\n",
    "\n"
   ]
  },
  {
   "cell_type": "code",
   "execution_count": 11,
   "metadata": {
    "collapsed": false
   },
   "outputs": [
    {
     "name": "stdout",
     "output_type": "stream",
     "text": [
      "[ True False False  True  True]\n",
      "[ 1  9 10]\n"
     ]
    }
   ],
   "source": [
    "# slicing, masking and fancy indexing.\n",
    "L = np.array([1,4,7,9,10])\n",
    "mask = (L < 4) | (L > 8)\n",
    "print(mask)\n",
    "print(L[mask])"
   ]
  },
  {
   "cell_type": "code",
   "execution_count": 12,
   "metadata": {
    "collapsed": false
   },
   "outputs": [
    {
     "data": {
      "text/plain": [
       "array([ 1, 10,  7])"
      ]
     },
     "execution_count": 12,
     "metadata": {},
     "output_type": "execute_result"
    }
   ],
   "source": [
    "# fancy indexin\n",
    "ind = [0,4,2]\n",
    "L[ind]\n"
   ]
  },
  {
   "cell_type": "code",
   "execution_count": 162,
   "metadata": {
    "collapsed": false
   },
   "outputs": [
    {
     "name": "stdout",
     "output_type": "stream",
     "text": [
      "[[ 0.486  0.632  0.277]\n",
      " [ 0.389  0.63   0.205]\n",
      " [ 0.589  0.97   0.056]\n",
      " [ 0.377  0.886  0.615]\n",
      " [ 0.967  0.073  0.983]\n",
      " [ 0.653  0.052  0.479]\n",
      " [ 0.038  0.503  0.637]\n",
      " [ 0.789  0.904  0.731]\n",
      " [ 0.849  0.021  0.3  ]\n",
      " [ 0.906  0.522  0.514]]\n",
      "argmin : 25\n",
      "argmin along row  : [6 8 2]\n",
      "argmin along col  : [2 2 2 0 1 1 0 2 1 2]\n",
      "a : [[[ 0  1  2  3]\n",
      "  [ 4  5  6  7]\n",
      "  [ 8  9 10 11]]\n",
      "\n",
      " [[12 13 14 15]\n",
      "  [16 17 18 19]\n",
      "  [20 21 22 23]]]\n",
      "b : [[[100 101 102 103]]\n",
      "\n",
      " [[104 105 106 107]]]\n",
      "a +  b : [[[100 102 104 106]\n",
      "  [104 106 108 110]\n",
      "  [108 110 112 114]]\n",
      "\n",
      " [[116 118 120 122]\n",
      "  [120 122 124 126]\n",
      "  [124 126 128 130]]]\n",
      "b +  a : [[[100 102 104 106]\n",
      "  [104 106 108 110]\n",
      "  [108 110 112 114]]\n",
      "\n",
      " [[116 118 120 122]\n",
      "  [120 122 124 126]\n",
      "  [124 126 128 130]]]\n",
      "Diff ----- \n",
      "a : [[ 1  2]\n",
      " [ 3  4]\n",
      " [ 5  6]\n",
      " [ 7  8]\n",
      " [ 9 10]\n",
      " [11 12]\n",
      " [13 14]\n",
      " [15 16]\n",
      " [17 18]\n",
      " [19 20]]\n",
      "aC : [[[ 1  2]]\n",
      "\n",
      " [[ 3  4]]\n",
      "\n",
      " [[ 5  6]]\n",
      "\n",
      " [[ 7  8]]\n",
      "\n",
      " [[ 9 10]]\n",
      "\n",
      " [[11 12]]\n",
      "\n",
      " [[13 14]]\n",
      "\n",
      " [[15 16]]\n",
      "\n",
      " [[17 18]]\n",
      "\n",
      " [[19 20]]]\n",
      "aC -  a : [[[  0   0]\n",
      "  [ -2  -2]\n",
      "  [ -4  -4]\n",
      "  [ -6  -6]\n",
      "  [ -8  -8]\n",
      "  [-10 -10]\n",
      "  [-12 -12]\n",
      "  [-14 -14]\n",
      "  [-16 -16]\n",
      "  [-18 -18]]\n",
      "\n",
      " [[  2   2]\n",
      "  [  0   0]\n",
      "  [ -2  -2]\n",
      "  [ -4  -4]\n",
      "  [ -6  -6]\n",
      "  [ -8  -8]\n",
      "  [-10 -10]\n",
      "  [-12 -12]\n",
      "  [-14 -14]\n",
      "  [-16 -16]]\n",
      "\n",
      " [[  4   4]\n",
      "  [  2   2]\n",
      "  [  0   0]\n",
      "  [ -2  -2]\n",
      "  [ -4  -4]\n",
      "  [ -6  -6]\n",
      "  [ -8  -8]\n",
      "  [-10 -10]\n",
      "  [-12 -12]\n",
      "  [-14 -14]]\n",
      "\n",
      " [[  6   6]\n",
      "  [  4   4]\n",
      "  [  2   2]\n",
      "  [  0   0]\n",
      "  [ -2  -2]\n",
      "  [ -4  -4]\n",
      "  [ -6  -6]\n",
      "  [ -8  -8]\n",
      "  [-10 -10]\n",
      "  [-12 -12]]\n",
      "\n",
      " [[  8   8]\n",
      "  [  6   6]\n",
      "  [  4   4]\n",
      "  [  2   2]\n",
      "  [  0   0]\n",
      "  [ -2  -2]\n",
      "  [ -4  -4]\n",
      "  [ -6  -6]\n",
      "  [ -8  -8]\n",
      "  [-10 -10]]\n",
      "\n",
      " [[ 10  10]\n",
      "  [  8   8]\n",
      "  [  6   6]\n",
      "  [  4   4]\n",
      "  [  2   2]\n",
      "  [  0   0]\n",
      "  [ -2  -2]\n",
      "  [ -4  -4]\n",
      "  [ -6  -6]\n",
      "  [ -8  -8]]\n",
      "\n",
      " [[ 12  12]\n",
      "  [ 10  10]\n",
      "  [  8   8]\n",
      "  [  6   6]\n",
      "  [  4   4]\n",
      "  [  2   2]\n",
      "  [  0   0]\n",
      "  [ -2  -2]\n",
      "  [ -4  -4]\n",
      "  [ -6  -6]]\n",
      "\n",
      " [[ 14  14]\n",
      "  [ 12  12]\n",
      "  [ 10  10]\n",
      "  [  8   8]\n",
      "  [  6   6]\n",
      "  [  4   4]\n",
      "  [  2   2]\n",
      "  [  0   0]\n",
      "  [ -2  -2]\n",
      "  [ -4  -4]]\n",
      "\n",
      " [[ 16  16]\n",
      "  [ 14  14]\n",
      "  [ 12  12]\n",
      "  [ 10  10]\n",
      "  [  8   8]\n",
      "  [  6   6]\n",
      "  [  4   4]\n",
      "  [  2   2]\n",
      "  [  0   0]\n",
      "  [ -2  -2]]\n",
      "\n",
      " [[ 18  18]\n",
      "  [ 16  16]\n",
      "  [ 14  14]\n",
      "  [ 12  12]\n",
      "  [ 10  10]\n",
      "  [  8   8]\n",
      "  [  6   6]\n",
      "  [  4   4]\n",
      "  [  2   2]\n",
      "  [  0   0]]]\n",
      "a -  aC : [[[  0   0]\n",
      "  [  2   2]\n",
      "  [  4   4]\n",
      "  [  6   6]\n",
      "  [  8   8]\n",
      "  [ 10  10]\n",
      "  [ 12  12]\n",
      "  [ 14  14]\n",
      "  [ 16  16]\n",
      "  [ 18  18]]\n",
      "\n",
      " [[ -2  -2]\n",
      "  [  0   0]\n",
      "  [  2   2]\n",
      "  [  4   4]\n",
      "  [  6   6]\n",
      "  [  8   8]\n",
      "  [ 10  10]\n",
      "  [ 12  12]\n",
      "  [ 14  14]\n",
      "  [ 16  16]]\n",
      "\n",
      " [[ -4  -4]\n",
      "  [ -2  -2]\n",
      "  [  0   0]\n",
      "  [  2   2]\n",
      "  [  4   4]\n",
      "  [  6   6]\n",
      "  [  8   8]\n",
      "  [ 10  10]\n",
      "  [ 12  12]\n",
      "  [ 14  14]]\n",
      "\n",
      " [[ -6  -6]\n",
      "  [ -4  -4]\n",
      "  [ -2  -2]\n",
      "  [  0   0]\n",
      "  [  2   2]\n",
      "  [  4   4]\n",
      "  [  6   6]\n",
      "  [  8   8]\n",
      "  [ 10  10]\n",
      "  [ 12  12]]\n",
      "\n",
      " [[ -8  -8]\n",
      "  [ -6  -6]\n",
      "  [ -4  -4]\n",
      "  [ -2  -2]\n",
      "  [  0   0]\n",
      "  [  2   2]\n",
      "  [  4   4]\n",
      "  [  6   6]\n",
      "  [  8   8]\n",
      "  [ 10  10]]\n",
      "\n",
      " [[-10 -10]\n",
      "  [ -8  -8]\n",
      "  [ -6  -6]\n",
      "  [ -4  -4]\n",
      "  [ -2  -2]\n",
      "  [  0   0]\n",
      "  [  2   2]\n",
      "  [  4   4]\n",
      "  [  6   6]\n",
      "  [  8   8]]\n",
      "\n",
      " [[-12 -12]\n",
      "  [-10 -10]\n",
      "  [ -8  -8]\n",
      "  [ -6  -6]\n",
      "  [ -4  -4]\n",
      "  [ -2  -2]\n",
      "  [  0   0]\n",
      "  [  2   2]\n",
      "  [  4   4]\n",
      "  [  6   6]]\n",
      "\n",
      " [[-14 -14]\n",
      "  [-12 -12]\n",
      "  [-10 -10]\n",
      "  [ -8  -8]\n",
      "  [ -6  -6]\n",
      "  [ -4  -4]\n",
      "  [ -2  -2]\n",
      "  [  0   0]\n",
      "  [  2   2]\n",
      "  [  4   4]]\n",
      "\n",
      " [[-16 -16]\n",
      "  [-14 -14]\n",
      "  [-12 -12]\n",
      "  [-10 -10]\n",
      "  [ -8  -8]\n",
      "  [ -6  -6]\n",
      "  [ -4  -4]\n",
      "  [ -2  -2]\n",
      "  [  0   0]\n",
      "  [  2   2]]\n",
      "\n",
      " [[-18 -18]\n",
      "  [-16 -16]\n",
      "  [-14 -14]\n",
      "  [-12 -12]\n",
      "  [-10 -10]\n",
      "  [ -8  -8]\n",
      "  [ -6  -6]\n",
      "  [ -4  -4]\n",
      "  [ -2  -2]\n",
      "  [  0   0]]]\n"
     ]
    }
   ],
   "source": [
    "# Broadcasting tests\n",
    "a = np.random.random((10,3))\n",
    "print(a)\n",
    "print('argmin : {}'.format(np.argmin(a)))\n",
    "print('argmin along row  : {}'.format(np.argmin(a,0)))\n",
    "print('argmin along col  : {}'.format(np.argmin(a,1)))\n",
    "\n",
    "a = np.arange(24)\n",
    "a = a.reshape([2,3,4])\n",
    "b = np.arange(100,108)\n",
    "b = b.reshape([2,1,4])\n",
    "print('a : {}'.format(a))\n",
    "print('b : {}'.format(b))\n",
    "c = a + b\n",
    "print('a +  b : {}'.format(a+b))\n",
    "print('b +  a : {}'.format(b+a))\n",
    "\n",
    "print('Diff ----- ')\n",
    "a = np.arange(1,21)\n",
    "a = a.reshape([10,2])\n",
    "aC = a.reshape(([10,1,2]))\n",
    "print('a : {}'.format(a))\n",
    "print('aC : {}'.format(aC))\n",
    "\n",
    "print('aC -  a : {}'.format(aC-a))\n",
    "print('a -  aC : {}'.format(a-aC))\n",
    "\n"
   ]
  },
  {
   "cell_type": "code",
   "execution_count": 166,
   "metadata": {
    "collapsed": false
   },
   "outputs": [
    {
     "name": "stdout",
     "output_type": "stream",
     "text": [
      "4 closest : [[ 0.495  0.627]\n",
      " [ 0.496  0.627]\n",
      " [ 0.224  0.303]\n",
      " [ 0.225  0.302]]\n"
     ]
    },
    {
     "data": {
      "text/plain": [
       "(-0.050521171076271569,\n",
       " 1.0519811103463719,\n",
       " -0.053219801606939843,\n",
       " 1.0533150544405783)"
      ]
     },
     "execution_count": 166,
     "metadata": {},
     "output_type": "execute_result"
    },
    {
     "data": {
      "image/png": "[encoded data removed]",
      "text/plain": [
       "<matplotlib.figure.Figure at 0x128d266a0>"
      ]
     },
     "metadata": {},
     "output_type": "display_data"
    }
   ],
   "source": [
    "# Full example : nearest neighbour\n",
    "NB_POINTS = 1000\n",
    "NB_DIM = 2\n",
    "\n",
    "np.set_printoptions( precision=3 )\n",
    "\n",
    "X = np.random.random((NB_POINTS, NB_DIM))\n",
    "\n",
    "#X = np.array([[ 0.06008564,  0.10100444],\n",
    "# [ 0.52398998,  0.48702044],\n",
    "# [ 0.35600764,  0.03634918],\n",
    "# [ 0.28153461,  0.8830437 ],\n",
    "# [ 0.0673205,   0.02907223],\n",
    "# [ 0.93253217,  0.37681945],\n",
    "# [ 0.3096921 ,  0.27999451],\n",
    "# [ 0.89215408,  0.60261101],\n",
    "# [ 0.82183965,  0.79738949],\n",
    "# [ 0.86286699,  0.01018274]])\n",
    "\n",
    "#print('X.shape : {}'.format(X.shape))\n",
    "XR = X.reshape(NB_POINTS,1,NB_DIM)\n",
    "#print('X : {}'.format(X))\n",
    "#print('XR : {}'.format(XR))\n",
    "diff = X - XR\n",
    "\n",
    "#print('Diff.shape : {}'.format(diff.shape))\n",
    "#print(diff)\n",
    "\n",
    "D = (diff **2).sum(2)\n",
    "D.shape\n",
    "\n",
    "i = np.arange(NB_POINTS)\n",
    "D[i,i] = np.inf\n",
    "#print('Distance:\\n {}'.format(D))\n",
    "\n",
    "i = np.argmin(D, 1)\n",
    "\n",
    "Dmin = np.sort(D,1)[:,0]\n",
    "#print('Dmin : {}'.format(Dmin))\n",
    "iminIndex = np.argsort(Dmin)\n",
    "#print('imin array : {}'.format(iminIndex))\n",
    "print('4 closest : {}'.format(X[iminIndex[:4],:]))\n",
    "\n",
    "#print('i[:n] : {}'.format(i[:10]))\n",
    "#print('X[i..] : {}'.format(X[i[:3]]))\n",
    "\n",
    "import matplotlib\n",
    "import matplotlib.pyplot as pl\n",
    "%matplotlib inline \n",
    "pl.figure(figsize=(15,10))\n",
    "\n",
    "pl.scatter(X[:,0], X[:,1], color='g', alpha='0.2')\n",
    "\n",
    "#display the 2 closest points\n",
    "pl.scatter(X[iminIndex[:2],0],X[iminIndex[:2],1],marker='x', color='r', s=250, label='closest')\n",
    "\n",
    "#display the n points having the closest neighbour\n",
    "pl.scatter(X[iminIndex[2:4],0],X[iminIndex[2:4],1],marker='x', color='coral', s=100, label='2nd closest')\n",
    "\n",
    "pl.legend()\n",
    "pl.axis('tight')\n",
    "\n",
    "\n",
    "\n",
    "\n"
   ]
  },
  {
   "cell_type": "code",
   "execution_count": 151,
   "metadata": {
    "collapsed": false
   },
   "outputs": [
    {
     "name": "stdout",
     "output_type": "stream",
     "text": [
      "[123 187 302]\n"
     ]
    }
   ],
   "source": [
    "from sklearn.neighbors import NearestNeighbors\n",
    "d, i = NearestNeighbors().fit(X).kneighbors(X,2)\n",
    "print(i[:3,1])\n"
   ]
  },
  {
   "cell_type": "code",
   "execution_count": null,
   "metadata": {
    "collapsed": true
   },
   "outputs": [],
   "source": []
  }
 ],
 "metadata": {
  "kernelspec": {
   "display_name": "Python 3",
   "language": "python",
   "name": "python3"
  },
  "language_info": {
   "codemirror_mode": {
    "name": "ipython",
    "version": 3
   },
   "file_extension": ".py",
   "mimetype": "text/x-python",
   "name": "python",
   "nbconvert_exporter": "python",
   "pygments_lexer": "ipython3",
   "version": "3.5.1"
  }
 },
 "nbformat": 4,
 "nbformat_minor": 0
}
