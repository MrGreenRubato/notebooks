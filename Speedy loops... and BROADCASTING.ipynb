{
 "cells": [
  {
   "cell_type": "code",
   "execution_count": 8,
   "metadata": {
    "collapsed": false
   },
   "outputs": [
    {
     "name": "stdout",
     "output_type": "stream",
     "text": [
      "1 loop, best of 3: 249 ms per loop\n"
     ]
    }
   ],
   "source": [
    "# Python is slow for repeated low level execution tasks\n",
    "\n",
    "def func_python(N):\n",
    "    d = 0.0\n",
    "    for i in range(N):\n",
    "        d += (i % 3 - i) * i\n",
    "    return d\n",
    "\n",
    "%timeit func_python(1000000)\n"
   ]
  },
  {
   "cell_type": "code",
   "execution_count": 21,
   "metadata": {
    "collapsed": false
   },
   "outputs": [
    {
     "name": "stdout",
     "output_type": "stream",
     "text": [
      "100 loops, best of 3: 8.89 ms per loop\n",
      "[6 8 7 9 8 6 9 7]\n"
     ]
    }
   ],
   "source": [
    "# Using NUMPY, ufunc\n",
    "a = list(range(100000)) #[1,3,2,4,3,1,4,2]\n",
    "%timeit b = [val + 5 for val in a]\n",
    "print(b)\n"
   ]
  },
  {
   "cell_type": "code",
   "execution_count": 22,
   "metadata": {
    "collapsed": false
   },
   "outputs": [
    {
     "name": "stdout",
     "output_type": "stream",
     "text": [
      "10000 loops, best of 3: 77.1 µs per loop\n",
      "[6 8 7 9 8 6 9 7]\n"
     ]
    }
   ],
   "source": [
    "import numpy as np\n",
    "a = np.array(a)\n",
    "%timeit b = a + 5\n",
    "print(b)"
   ]
  },
  {
   "cell_type": "code",
   "execution_count": 23,
   "metadata": {
    "collapsed": false
   },
   "outputs": [
    {
     "name": "stdout",
     "output_type": "stream",
     "text": [
      "100 loops, best of 3: 2.74 ms per loop\n"
     ]
    }
   ],
   "source": [
    "# Using NUMPY aggregations (min, max, mean, sum...)\n",
    "from random import random\n",
    "c = [random() for i in range(100000)]\n",
    "%timeit min(c)\n"
   ]
  },
  {
   "cell_type": "code",
   "execution_count": 24,
   "metadata": {
    "collapsed": false
   },
   "outputs": [
    {
     "name": "stdout",
     "output_type": "stream",
     "text": [
      "The slowest run took 11.14 times longer than the fastest. This could mean that an intermediate result is being cached.\n",
      "10000 loops, best of 3: 35 µs per loop\n"
     ]
    }
   ],
   "source": [
    "c = np.array(c)\n",
    "%timeit c.min()\n"
   ]
  },
  {
   "cell_type": "code",
   "execution_count": 30,
   "metadata": {
    "collapsed": false
   },
   "outputs": [
    {
     "name": "stdout",
     "output_type": "stream",
     "text": [
      "10 loops, best of 3: 22.7 ms per loop\n"
     ]
    }
   ],
   "source": [
    "def func_pythonNP(N):\n",
    "    d = 0.0\n",
    "    n = np.arange(N)\n",
    "    #for i in range(N):\n",
    "    #    d += (i % 3 - i) * i\n",
    "    a = ((n % 3 - n) * n).sum()\n",
    "    \n",
    "    return a\n",
    "\n",
    "%timeit func_pythonNP(1000000)"
   ]
  },
  {
   "cell_type": "code",
   "execution_count": 33,
   "metadata": {
    "collapsed": false
   },
   "outputs": [],
   "source": [
    "# Broadcasting\n",
    "# rules by which ufuncs operates on arrays of different dimensions...\n",
    "\n"
   ]
  },
  {
   "cell_type": "code",
   "execution_count": 36,
   "metadata": {
    "collapsed": false
   },
   "outputs": [
    {
     "name": "stdout",
     "output_type": "stream",
     "text": [
      "[ True False False  True  True]\n",
      "[ 1  9 10]\n"
     ]
    }
   ],
   "source": [
    "# slicing, masking and fancy indexing.\n",
    "L = np.array([1,4,7,9,10])\n",
    "mask = (L < 4) | (L > 8)\n",
    "print(mask)\n",
    "print(L[mask])"
   ]
  },
  {
   "cell_type": "code",
   "execution_count": 37,
   "metadata": {
    "collapsed": false
   },
   "outputs": [
    {
     "data": {
      "text/plain": [
       "array([ 1, 10,  7])"
      ]
     },
     "execution_count": 37,
     "metadata": {},
     "output_type": "execute_result"
    }
   ],
   "source": [
    "# fancy indexin\n",
    "ind = [0,4,2]\n",
    "L[ind]\n"
   ]
  },
  {
   "cell_type": "code",
   "execution_count": 76,
   "metadata": {
    "collapsed": false
   },
   "outputs": [
    {
     "name": "stdout",
     "output_type": "stream",
     "text": [
      "a : [[[ 0  1  2  3]\n",
      "  [ 4  5  6  7]\n",
      "  [ 8  9 10 11]]\n",
      "\n",
      " [[12 13 14 15]\n",
      "  [16 17 18 19]\n",
      "  [20 21 22 23]]]\n",
      "b : [[[100 101 102 103]]\n",
      "\n",
      " [[104 105 106 107]]]\n",
      "[[[100 102 104 106]\n",
      "  [104 106 108 110]\n",
      "  [108 110 112 114]]\n",
      "\n",
      " [[116 118 120 122]\n",
      "  [120 122 124 126]\n",
      "  [124 126 128 130]]]\n"
     ]
    }
   ],
   "source": [
    "# Broadcasting tests\n",
    "a = np.arange(24)\n",
    "a = a.reshape([2,3,4])\n",
    "b = np.arange(100,108)\n",
    "b = b.reshape([2,1,4])\n",
    "print('a : {}'.format(a))\n",
    "print('b : {}'.format(b))\n",
    "c = a + b\n",
    "print(c)"
   ]
  },
  {
   "cell_type": "code",
   "execution_count": 82,
   "metadata": {
    "collapsed": false
   },
   "outputs": [
    {
     "name": "stdout",
     "output_type": "stream",
     "text": [
      "X.shape : (4, 3)\n",
      "X : [[ 0.12560274  0.66523559  0.67566357]\n",
      " [ 0.80618213  0.24626322  0.41169285]\n",
      " [ 0.81150851  0.84453963  0.66452862]\n",
      " [ 0.51308103  0.31035441  0.22711236]]\n",
      "XR : [[[ 0.12560274  0.66523559  0.67566357]]\n",
      "\n",
      " [[ 0.80618213  0.24626322  0.41169285]]\n",
      "\n",
      " [[ 0.81150851  0.84453963  0.66452862]]\n",
      "\n",
      " [[ 0.51308103  0.31035441  0.22711236]]]\n",
      "Diff.shape : (4, 4, 3)\n",
      "[[[ 0.          0.          0.        ]\n",
      "  [-0.68057939  0.41897236  0.26397072]\n",
      "  [-0.68590577 -0.17930404  0.01113495]\n",
      "  [-0.38747829  0.35488118  0.4485512 ]]\n",
      "\n",
      " [[ 0.68057939 -0.41897236 -0.26397072]\n",
      "  [ 0.          0.          0.        ]\n",
      "  [-0.00532638 -0.5982764  -0.25283577]\n",
      "  [ 0.2931011  -0.06409119  0.18458048]]\n",
      "\n",
      " [[ 0.68590577  0.17930404 -0.01113495]\n",
      "  [ 0.00532638  0.5982764   0.25283577]\n",
      "  [ 0.          0.          0.        ]\n",
      "  [ 0.29842748  0.53418521  0.43741625]]\n",
      "\n",
      " [[ 0.38747829 -0.35488118 -0.4485512 ]\n",
      "  [-0.2931011   0.06409119 -0.18458048]\n",
      "  [-0.29842748 -0.53418521 -0.43741625]\n",
      "  [ 0.          0.          0.        ]]]\n",
      "[[[ 0.          0.          0.        ]]\n",
      "\n",
      " [[ 0.68057939 -0.41897236 -0.26397072]]\n",
      "\n",
      " [[ 0.68590577  0.17930404 -0.01113495]]\n",
      "\n",
      " [[ 0.38747829 -0.35488118 -0.4485512 ]]]\n",
      "Distance: [[ 0.          0.70840669  0.50274064  0.47727825]\n",
      " [ 0.70840669  0.          0.42188895  0.12408589]\n",
      " [ 0.50274064  0.42188895  0.          0.56574578]\n",
      " [ 0.47727825  0.12408589  0.56574578  0.        ]]\n",
      "[3 3 1 1]\n"
     ]
    }
   ],
   "source": [
    "# Full example : nearest neighbour\n",
    "X = np.random.random((4, 3))\n",
    "print('X.shape : {}'.format(X.shape))\n",
    "XR = X.reshape(4,1,3)\n",
    "print('X : {}'.format(X))\n",
    "print('XR : {}'.format(XR))\n",
    "diff = XR - X\n",
    "diff2 = XR - X[0]\n",
    "\n",
    "\n",
    "print('Diff.shape : {}'.format(diff.shape))\n",
    "print(diff)\n",
    "print(diff2)\n",
    "\n",
    "D = (diff **2).sum(2)\n",
    "print('Distance: {}'.format(D))\n",
    "D.shape\n",
    "\n",
    "i = np.arange(4)\n",
    "D[i,i] = np.inf\n",
    "\n",
    "i = np.argmin(D, 1)\n",
    "print(i[:10])"
   ]
  },
  {
   "cell_type": "code",
   "execution_count": 83,
   "metadata": {
    "collapsed": false
   },
   "outputs": [
    {
     "name": "stdout",
     "output_type": "stream",
     "text": [
      "[3 3 1 1]\n"
     ]
    }
   ],
   "source": [
    "from sklearn.neighbors import NearestNeighbors\n",
    "d, i = NearestNeighbors().fit(X).kneighbors(X,2)\n",
    "print(i[:10,1])\n"
   ]
  },
  {
   "cell_type": "code",
   "execution_count": null,
   "metadata": {
    "collapsed": true
   },
   "outputs": [],
   "source": []
  }
 ],
 "metadata": {
  "kernelspec": {
   "display_name": "Python 3",
   "language": "python",
   "name": "python3"
  },
  "language_info": {
   "codemirror_mode": {
    "name": "ipython",
    "version": 3
   },
   "file_extension": ".py",
   "mimetype": "text/x-python",
   "name": "python",
   "nbconvert_exporter": "python",
   "pygments_lexer": "ipython3",
   "version": "3.5.1"
  }
 },
 "nbformat": 4,
 "nbformat_minor": 0
}
