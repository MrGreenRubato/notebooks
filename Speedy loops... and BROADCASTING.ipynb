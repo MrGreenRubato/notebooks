{
 "cells": [
  {
   "cell_type": "code",
   "execution_count": 1,
   "metadata": {
    "collapsed": false
   },
   "outputs": [
    {
     "name": "stdout",
     "output_type": "stream",
     "text": [
      "1 loop, best of 3: 249 ms per loop\n"
     ]
    }
   ],
   "source": [
    "# Python is slow for repeated low level execution tasks\n",
    "\n",
    "def func_python(N):\n",
    "    d = 0.0\n",
    "    for i in range(N):\n",
    "        d += (i % 3 - i) * i\n",
    "    return d\n",
    "\n",
    "%timeit func_python(1000000)\n"
   ]
  },
  {
   "cell_type": "code",
   "execution_count": 2,
   "metadata": {
    "collapsed": false
   },
   "outputs": [
    {
     "name": "stdout",
     "output_type": "stream",
     "text": [
      "100 loops, best of 3: 8.44 ms per loop\n",
      "[]\n"
     ]
    }
   ],
   "source": [
    "# Using NUMPY, ufunc\n",
    "a = list(range(100000)) #[1,3,2,4,3,1,4,2]\n",
    "b = []\n",
    "%timeit b = [val + 5 for val in a]\n",
    "print(b)\n"
   ]
  },
  {
   "cell_type": "code",
   "execution_count": 3,
   "metadata": {
    "collapsed": false
   },
   "outputs": [
    {
     "name": "stdout",
     "output_type": "stream",
     "text": [
      "10000 loops, best of 3: 84.8 µs per loop\n",
      "[]\n"
     ]
    }
   ],
   "source": [
    "import numpy as np\n",
    "a = np.array(a)\n",
    "%timeit b = a + 5\n",
    "print(b)"
   ]
  },
  {
   "cell_type": "code",
   "execution_count": 7,
   "metadata": {
    "collapsed": false
   },
   "outputs": [
    {
     "name": "stdout",
     "output_type": "stream",
     "text": [
      "1000 loops, best of 3: 1.51 ms per loop\n"
     ]
    }
   ],
   "source": [
    "# Using NUMPY aggregations (min, max, mean, sum...)\n",
    "from random import random\n",
    "c = [random() for i in range(100000)]\n",
    "%timeit min(c)\n"
   ]
  },
  {
   "cell_type": "code",
   "execution_count": 8,
   "metadata": {
    "collapsed": false
   },
   "outputs": [
    {
     "name": "stdout",
     "output_type": "stream",
     "text": [
      "The slowest run took 161.82 times longer than the fastest. This could mean that an intermediate result is being cached.\n",
      "10000 loops, best of 3: 23.3 µs per loop\n"
     ]
    }
   ],
   "source": [
    "c = np.array(c)\n",
    "%timeit c.min()\n"
   ]
  },
  {
   "cell_type": "code",
   "execution_count": 9,
   "metadata": {
    "collapsed": false
   },
   "outputs": [
    {
     "name": "stdout",
     "output_type": "stream",
     "text": [
      "100 loops, best of 3: 9.11 ms per loop\n"
     ]
    }
   ],
   "source": [
    "def func_pythonNP(N):\n",
    "    d = 0.0\n",
    "    n = np.arange(N)\n",
    "    #for i in range(N):\n",
    "    #    d += (i % 3 - i) * i\n",
    "    a = ((n % 3 - n) * n).sum()\n",
    "    \n",
    "    return a\n",
    "\n",
    "%timeit func_pythonNP(1000000)"
   ]
  },
  {
   "cell_type": "code",
   "execution_count": 10,
   "metadata": {
    "collapsed": false
   },
   "outputs": [],
   "source": [
    "# Broadcasting\n",
    "# rules by which ufuncs operates on arrays of different dimensions...\n",
    "\n"
   ]
  },
  {
   "cell_type": "code",
   "execution_count": 11,
   "metadata": {
    "collapsed": false
   },
   "outputs": [
    {
     "name": "stdout",
     "output_type": "stream",
     "text": [
      "[ True False False  True  True]\n",
      "[ 1  9 10]\n"
     ]
    }
   ],
   "source": [
    "# slicing, masking and fancy indexing.\n",
    "L = np.array([1,4,7,9,10])\n",
    "mask = (L < 4) | (L > 8)\n",
    "print(mask)\n",
    "print(L[mask])"
   ]
  },
  {
   "cell_type": "code",
   "execution_count": 12,
   "metadata": {
    "collapsed": false
   },
   "outputs": [
    {
     "data": {
      "text/plain": [
       "array([ 1, 10,  7])"
      ]
     },
     "execution_count": 12,
     "metadata": {},
     "output_type": "execute_result"
    }
   ],
   "source": [
    "# fancy indexin\n",
    "ind = [0,4,2]\n",
    "L[ind]\n"
   ]
  },
  {
   "cell_type": "code",
   "execution_count": 4,
   "metadata": {
    "collapsed": false
   },
   "outputs": [
    {
     "name": "stdout",
     "output_type": "stream",
     "text": [
      "[[ 0.8061324   0.56249359  0.62578071]\n",
      " [ 0.48742013  0.77254568  0.00276244]\n",
      " [ 0.64377265  0.19156676  0.72396415]\n",
      " [ 0.85077039  0.96457306  0.70332591]\n",
      " [ 0.48413887  0.90999369  0.33087949]\n",
      " [ 0.687165    0.17630306  0.03112006]\n",
      " [ 0.51734994  0.63557935  0.33296445]\n",
      " [ 0.72868061  0.95755861  0.17632182]\n",
      " [ 0.53464178  0.87256436  0.42126636]\n",
      " [ 0.95187328  0.75117861  0.39270239]]\n",
      "argmin : 5\n",
      "argmin along row  : [4 5 1]\n",
      "argmin along col  : [1 2 1 2 2 2 2 2 2 2]\n",
      "a : [[[ 0  1  2  3]\n",
      "  [ 4  5  6  7]\n",
      "  [ 8  9 10 11]]\n",
      "\n",
      " [[12 13 14 15]\n",
      "  [16 17 18 19]\n",
      "  [20 21 22 23]]]\n",
      "b : [[[100 101 102 103]]\n",
      "\n",
      " [[104 105 106 107]]]\n",
      "a +  b : [[[100 102 104 106]\n",
      "  [104 106 108 110]\n",
      "  [108 110 112 114]]\n",
      "\n",
      " [[116 118 120 122]\n",
      "  [120 122 124 126]\n",
      "  [124 126 128 130]]]\n",
      "b +  a : [[[100 102 104 106]\n",
      "  [104 106 108 110]\n",
      "  [108 110 112 114]]\n",
      "\n",
      " [[116 118 120 122]\n",
      "  [120 122 124 126]\n",
      "  [124 126 128 130]]]\n",
      "Diff ----- \n",
      "a : [[ 1  2]\n",
      " [ 3  4]\n",
      " [ 5  6]\n",
      " [ 7  8]\n",
      " [ 9 10]\n",
      " [11 12]\n",
      " [13 14]\n",
      " [15 16]\n",
      " [17 18]\n",
      " [19 20]]\n",
      "aC : [[[ 1  2]]\n",
      "\n",
      " [[ 3  4]]\n",
      "\n",
      " [[ 5  6]]\n",
      "\n",
      " [[ 7  8]]\n",
      "\n",
      " [[ 9 10]]\n",
      "\n",
      " [[11 12]]\n",
      "\n",
      " [[13 14]]\n",
      "\n",
      " [[15 16]]\n",
      "\n",
      " [[17 18]]\n",
      "\n",
      " [[19 20]]]\n",
      "aC -  a : [[[  0   0]\n",
      "  [ -2  -2]\n",
      "  [ -4  -4]\n",
      "  [ -6  -6]\n",
      "  [ -8  -8]\n",
      "  [-10 -10]\n",
      "  [-12 -12]\n",
      "  [-14 -14]\n",
      "  [-16 -16]\n",
      "  [-18 -18]]\n",
      "\n",
      " [[  2   2]\n",
      "  [  0   0]\n",
      "  [ -2  -2]\n",
      "  [ -4  -4]\n",
      "  [ -6  -6]\n",
      "  [ -8  -8]\n",
      "  [-10 -10]\n",
      "  [-12 -12]\n",
      "  [-14 -14]\n",
      "  [-16 -16]]\n",
      "\n",
      " [[  4   4]\n",
      "  [  2   2]\n",
      "  [  0   0]\n",
      "  [ -2  -2]\n",
      "  [ -4  -4]\n",
      "  [ -6  -6]\n",
      "  [ -8  -8]\n",
      "  [-10 -10]\n",
      "  [-12 -12]\n",
      "  [-14 -14]]\n",
      "\n",
      " [[  6   6]\n",
      "  [  4   4]\n",
      "  [  2   2]\n",
      "  [  0   0]\n",
      "  [ -2  -2]\n",
      "  [ -4  -4]\n",
      "  [ -6  -6]\n",
      "  [ -8  -8]\n",
      "  [-10 -10]\n",
      "  [-12 -12]]\n",
      "\n",
      " [[  8   8]\n",
      "  [  6   6]\n",
      "  [  4   4]\n",
      "  [  2   2]\n",
      "  [  0   0]\n",
      "  [ -2  -2]\n",
      "  [ -4  -4]\n",
      "  [ -6  -6]\n",
      "  [ -8  -8]\n",
      "  [-10 -10]]\n",
      "\n",
      " [[ 10  10]\n",
      "  [  8   8]\n",
      "  [  6   6]\n",
      "  [  4   4]\n",
      "  [  2   2]\n",
      "  [  0   0]\n",
      "  [ -2  -2]\n",
      "  [ -4  -4]\n",
      "  [ -6  -6]\n",
      "  [ -8  -8]]\n",
      "\n",
      " [[ 12  12]\n",
      "  [ 10  10]\n",
      "  [  8   8]\n",
      "  [  6   6]\n",
      "  [  4   4]\n",
      "  [  2   2]\n",
      "  [  0   0]\n",
      "  [ -2  -2]\n",
      "  [ -4  -4]\n",
      "  [ -6  -6]]\n",
      "\n",
      " [[ 14  14]\n",
      "  [ 12  12]\n",
      "  [ 10  10]\n",
      "  [  8   8]\n",
      "  [  6   6]\n",
      "  [  4   4]\n",
      "  [  2   2]\n",
      "  [  0   0]\n",
      "  [ -2  -2]\n",
      "  [ -4  -4]]\n",
      "\n",
      " [[ 16  16]\n",
      "  [ 14  14]\n",
      "  [ 12  12]\n",
      "  [ 10  10]\n",
      "  [  8   8]\n",
      "  [  6   6]\n",
      "  [  4   4]\n",
      "  [  2   2]\n",
      "  [  0   0]\n",
      "  [ -2  -2]]\n",
      "\n",
      " [[ 18  18]\n",
      "  [ 16  16]\n",
      "  [ 14  14]\n",
      "  [ 12  12]\n",
      "  [ 10  10]\n",
      "  [  8   8]\n",
      "  [  6   6]\n",
      "  [  4   4]\n",
      "  [  2   2]\n",
      "  [  0   0]]]\n",
      "a -  aC : [[[  0   0]\n",
      "  [  2   2]\n",
      "  [  4   4]\n",
      "  [  6   6]\n",
      "  [  8   8]\n",
      "  [ 10  10]\n",
      "  [ 12  12]\n",
      "  [ 14  14]\n",
      "  [ 16  16]\n",
      "  [ 18  18]]\n",
      "\n",
      " [[ -2  -2]\n",
      "  [  0   0]\n",
      "  [  2   2]\n",
      "  [  4   4]\n",
      "  [  6   6]\n",
      "  [  8   8]\n",
      "  [ 10  10]\n",
      "  [ 12  12]\n",
      "  [ 14  14]\n",
      "  [ 16  16]]\n",
      "\n",
      " [[ -4  -4]\n",
      "  [ -2  -2]\n",
      "  [  0   0]\n",
      "  [  2   2]\n",
      "  [  4   4]\n",
      "  [  6   6]\n",
      "  [  8   8]\n",
      "  [ 10  10]\n",
      "  [ 12  12]\n",
      "  [ 14  14]]\n",
      "\n",
      " [[ -6  -6]\n",
      "  [ -4  -4]\n",
      "  [ -2  -2]\n",
      "  [  0   0]\n",
      "  [  2   2]\n",
      "  [  4   4]\n",
      "  [  6   6]\n",
      "  [  8   8]\n",
      "  [ 10  10]\n",
      "  [ 12  12]]\n",
      "\n",
      " [[ -8  -8]\n",
      "  [ -6  -6]\n",
      "  [ -4  -4]\n",
      "  [ -2  -2]\n",
      "  [  0   0]\n",
      "  [  2   2]\n",
      "  [  4   4]\n",
      "  [  6   6]\n",
      "  [  8   8]\n",
      "  [ 10  10]]\n",
      "\n",
      " [[-10 -10]\n",
      "  [ -8  -8]\n",
      "  [ -6  -6]\n",
      "  [ -4  -4]\n",
      "  [ -2  -2]\n",
      "  [  0   0]\n",
      "  [  2   2]\n",
      "  [  4   4]\n",
      "  [  6   6]\n",
      "  [  8   8]]\n",
      "\n",
      " [[-12 -12]\n",
      "  [-10 -10]\n",
      "  [ -8  -8]\n",
      "  [ -6  -6]\n",
      "  [ -4  -4]\n",
      "  [ -2  -2]\n",
      "  [  0   0]\n",
      "  [  2   2]\n",
      "  [  4   4]\n",
      "  [  6   6]]\n",
      "\n",
      " [[-14 -14]\n",
      "  [-12 -12]\n",
      "  [-10 -10]\n",
      "  [ -8  -8]\n",
      "  [ -6  -6]\n",
      "  [ -4  -4]\n",
      "  [ -2  -2]\n",
      "  [  0   0]\n",
      "  [  2   2]\n",
      "  [  4   4]]\n",
      "\n",
      " [[-16 -16]\n",
      "  [-14 -14]\n",
      "  [-12 -12]\n",
      "  [-10 -10]\n",
      "  [ -8  -8]\n",
      "  [ -6  -6]\n",
      "  [ -4  -4]\n",
      "  [ -2  -2]\n",
      "  [  0   0]\n",
      "  [  2   2]]\n",
      "\n",
      " [[-18 -18]\n",
      "  [-16 -16]\n",
      "  [-14 -14]\n",
      "  [-12 -12]\n",
      "  [-10 -10]\n",
      "  [ -8  -8]\n",
      "  [ -6  -6]\n",
      "  [ -4  -4]\n",
      "  [ -2  -2]\n",
      "  [  0   0]]]\n"
     ]
    }
   ],
   "source": [
    "# Broadcasting tests\n",
    "a = np.random.random((10,3))\n",
    "print(a)\n",
    "print('argmin : {}'.format(np.argmin(a)))\n",
    "print('argmin along row  : {}'.format(np.argmin(a,0)))\n",
    "print('argmin along col  : {}'.format(np.argmin(a,1)))\n",
    "\n",
    "a = np.arange(24)\n",
    "a = a.reshape([2,3,4])\n",
    "b = np.arange(100,108)\n",
    "b = b.reshape([2,1,4])\n",
    "print('a : {}'.format(a))\n",
    "print('b : {}'.format(b))\n",
    "c = a + b\n",
    "print('a +  b : {}'.format(a+b))\n",
    "print('b +  a : {}'.format(b+a))\n",
    "\n",
    "print('Diff ----- ')\n",
    "a = np.arange(1,21)\n",
    "a = a.reshape([10,2])\n",
    "aC = a.reshape(([10,1,2]))\n",
    "print('a : {}'.format(a))\n",
    "print('aC : {}'.format(aC))\n",
    "\n",
    "print('aC -  a : {}'.format(aC-a))\n",
    "print('a -  aC : {}'.format(a-aC))\n",
    "\n"
   ]
  },
  {
   "cell_type": "code",
   "execution_count": 88,
   "metadata": {
    "collapsed": false
   },
   "outputs": [
    {
     "name": "stdout",
     "output_type": "stream",
     "text": [
      "X : [[ 0.29245118  0.99062013]\n",
      " [ 0.50704657  0.18895116]\n",
      " [ 0.74147752  0.27170342]\n",
      " [ 0.5194391   0.41875188]\n",
      " [ 0.66361576  0.66262739]\n",
      " [ 0.30662262  0.19319723]\n",
      " [ 0.26719096  0.26442229]\n",
      " [ 0.1994848   0.28645888]\n",
      " [ 0.79521732  0.41275851]\n",
      " [ 0.76303537  0.38780015]]\n",
      "imin : [ 0.37855681  0.05296195  0.0227845   0.06029715  0.08026217  0.02017625\n",
      "  0.00662787  0.02017625  0.0227845   0.01394319]\n",
      "6\n",
      "i[:n] : [4 5 9 1 8 6 7 6 9 8]\n",
      "X[i..] : [[ 0.66361576  0.66262739]\n",
      " [ 0.30662262  0.19319723]\n",
      " [ 0.76303537  0.38780015]]\n"
     ]
    },
    {
     "data": {
      "text/plain": [
       "<matplotlib.collections.PathCollection at 0x119be5f98>"
      ]
     },
     "execution_count": 88,
     "metadata": {},
     "output_type": "execute_result"
    },
    {
     "data": {
      "image/png": "[encoded data removed]",
      "text/plain": [
       "<matplotlib.figure.Figure at 0x119838208>"
      ]
     },
     "metadata": {},
     "output_type": "display_data"
    }
   ],
   "source": [
    "# Full example : nearest neighbour\n",
    "NB_POINTS = 10\n",
    "NB_DIM = 2\n",
    "\n",
    "X = np.random.random((NB_POINTS, NB_DIM))\n",
    "#print('X.shape : {}'.format(X.shape))\n",
    "XR = X.reshape(NB_POINTS,1,NB_DIM)\n",
    "print('X : {}'.format(X))\n",
    "#print('XR : {}'.format(XR))\n",
    "diff = X - XR\n",
    "\n",
    "#print('Diff.shape : {}'.format(diff.shape))\n",
    "#print(diff)\n",
    "\n",
    "D = (diff **2).sum(2)\n",
    "D.shape\n",
    "\n",
    "i = np.arange(NB_POINTS)\n",
    "D[i,i] = np.inf\n",
    "#print('Distance:\\n {}'.format(D))\n",
    "\n",
    "i = np.argmin(D, 1)\n",
    "\n",
    "Dmin = np.sort(D,1)[:,1]\n",
    "print('imin : {}'.format(Dmin))\n",
    "imin = np.argmin(Dmin)\n",
    "print(imin)\n",
    "#print('i : {}'.format(i))\n",
    "print('i[:n] : {}'.format(i[:10]))\n",
    "\n",
    "print('X[i..] : {}'.format(X[i[:3]]))\n",
    "\n",
    "import matplotlib\n",
    "import matplotlib.pyplot as pl\n",
    "%matplotlib inline \n",
    "pl.scatter(X[:,0], X[:,1], color='g')\n",
    "pl.scatter(X[range(3),0],X[range(3),1], color='c')\n",
    "pl.scatter(X[i[:3],0],X[i[:3],1],marker='x', color='r')\n",
    "\n",
    "#display the 2 closest points\n",
    "pl.scatter(X[imin,0],X[imin,1],marker='^', color='r')\n",
    "\n"
   ]
  },
  {
   "cell_type": "code",
   "execution_count": 81,
   "metadata": {
    "collapsed": false
   },
   "outputs": [
    {
     "name": "stdout",
     "output_type": "stream",
     "text": [
      "[7 4 3]\n"
     ]
    }
   ],
   "source": [
    "from sklearn.neighbors import NearestNeighbors\n",
    "d, i = NearestNeighbors().fit(X).kneighbors(X,2)\n",
    "print(i[:3,1])\n"
   ]
  },
  {
   "cell_type": "code",
   "execution_count": null,
   "metadata": {
    "collapsed": true
   },
   "outputs": [],
   "source": []
  }
 ],
 "metadata": {
  "kernelspec": {
   "display_name": "Python 3",
   "language": "python",
   "name": "python3"
  },
  "language_info": {
   "codemirror_mode": {
    "name": "ipython",
    "version": 3
   },
   "file_extension": ".py",
   "mimetype": "text/x-python",
   "name": "python",
   "nbconvert_exporter": "python",
   "pygments_lexer": "ipython3",
   "version": "3.5.1"
  }
 },
 "nbformat": 4,
 "nbformat_minor": 0
}
