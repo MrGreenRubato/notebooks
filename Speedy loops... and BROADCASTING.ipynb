{
 "cells": [
  {
   "cell_type": "code",
   "execution_count": 2,
   "metadata": {
    "collapsed": false
   },
   "outputs": [
    {
     "name": "stdout",
     "output_type": "stream",
     "text": [
      "10 loops, best of 3: 184 ms per loop\n"
     ]
    }
   ],
   "source": [
    "# Python is slow for repeated low level execution tasks\n",
    "\n",
    "def func_python(N):\n",
    "    d = 0.0\n",
    "    for i in range(N):\n",
    "        d += (i % 3 - i) * i\n",
    "    return d\n",
    "\n",
    "%timeit func_python(1000000)\n"
   ]
  },
  {
   "cell_type": "code",
   "execution_count": 5,
   "metadata": {
    "collapsed": false
   },
   "outputs": [
    {
     "name": "stdout",
     "output_type": "stream",
     "text": [
      "100 loops, best of 3: 4.25 ms per loop\n",
      "[]\n"
     ]
    }
   ],
   "source": [
    "# Using NUMPY, ufunc\n",
    "a = list(range(100000)) #[1,3,2,4,3,1,4,2]\n",
    "b = []\n",
    "%timeit b = [val + 5 for val in a]\n",
    "print(b)\n"
   ]
  },
  {
   "cell_type": "code",
   "execution_count": 6,
   "metadata": {
    "collapsed": false
   },
   "outputs": [
    {
     "name": "stdout",
     "output_type": "stream",
     "text": [
      "10000 loops, best of 3: 43.1 µs per loop\n",
      "[]\n"
     ]
    }
   ],
   "source": [
    "import numpy as np\n",
    "a = np.array(a)\n",
    "%timeit b = a + 5\n",
    "print(b)"
   ]
  },
  {
   "cell_type": "code",
   "execution_count": 7,
   "metadata": {
    "collapsed": false
   },
   "outputs": [
    {
     "name": "stdout",
     "output_type": "stream",
     "text": [
      "1000 loops, best of 3: 1.51 ms per loop\n"
     ]
    }
   ],
   "source": [
    "# Using NUMPY aggregations (min, max, mean, sum...)\n",
    "from random import random\n",
    "c = [random() for i in range(100000)]\n",
    "%timeit min(c)\n"
   ]
  },
  {
   "cell_type": "code",
   "execution_count": 8,
   "metadata": {
    "collapsed": false
   },
   "outputs": [
    {
     "name": "stdout",
     "output_type": "stream",
     "text": [
      "The slowest run took 161.82 times longer than the fastest. This could mean that an intermediate result is being cached.\n",
      "10000 loops, best of 3: 23.3 µs per loop\n"
     ]
    }
   ],
   "source": [
    "c = np.array(c)\n",
    "%timeit c.min()\n"
   ]
  },
  {
   "cell_type": "code",
   "execution_count": 9,
   "metadata": {
    "collapsed": false
   },
   "outputs": [
    {
     "name": "stdout",
     "output_type": "stream",
     "text": [
      "100 loops, best of 3: 9.11 ms per loop\n"
     ]
    }
   ],
   "source": [
    "def func_pythonNP(N):\n",
    "    d = 0.0\n",
    "    n = np.arange(N)\n",
    "    #for i in range(N):\n",
    "    #    d += (i % 3 - i) * i\n",
    "    a = ((n % 3 - n) * n).sum()\n",
    "    \n",
    "    return a\n",
    "\n",
    "%timeit func_pythonNP(1000000)"
   ]
  },
  {
   "cell_type": "code",
   "execution_count": 10,
   "metadata": {
    "collapsed": false
   },
   "outputs": [],
   "source": [
    "# Broadcasting\n",
    "# rules by which ufuncs operates on arrays of different dimensions...\n",
    "\n"
   ]
  },
  {
   "cell_type": "code",
   "execution_count": 11,
   "metadata": {
    "collapsed": false
   },
   "outputs": [
    {
     "name": "stdout",
     "output_type": "stream",
     "text": [
      "[ True False False  True  True]\n",
      "[ 1  9 10]\n"
     ]
    }
   ],
   "source": [
    "# slicing, masking and fancy indexing.\n",
    "L = np.array([1,4,7,9,10])\n",
    "mask = (L < 4) | (L > 8)\n",
    "print(mask)\n",
    "print(L[mask])"
   ]
  },
  {
   "cell_type": "code",
   "execution_count": 12,
   "metadata": {
    "collapsed": false
   },
   "outputs": [
    {
     "data": {
      "text/plain": [
       "array([ 1, 10,  7])"
      ]
     },
     "execution_count": 12,
     "metadata": {},
     "output_type": "execute_result"
    }
   ],
   "source": [
    "# fancy indexin\n",
    "ind = [0,4,2]\n",
    "L[ind]\n"
   ]
  },
  {
   "cell_type": "code",
   "execution_count": 49,
   "metadata": {
    "collapsed": false
   },
   "outputs": [
    {
     "name": "stdout",
     "output_type": "stream",
     "text": [
      "[[ 0.6947258   0.36393919  0.43638258]\n",
      " [ 0.32590993  0.80631709  0.11262618]\n",
      " [ 0.2098056   0.02756665  0.6871352 ]\n",
      " [ 0.41056228  0.36958263  0.29266267]\n",
      " [ 0.91543312  0.2537593   0.79081027]\n",
      " [ 0.14080884  0.29070604  0.41662942]\n",
      " [ 0.10302157  0.29848245  0.75834246]\n",
      " [ 0.46940703  0.21541219  0.24779274]\n",
      " [ 0.3332061   0.6162073   0.9668033 ]\n",
      " [ 0.51777598  0.85851568  0.83598772]]\n",
      "argmin : 7\n",
      "argmin along row  : [6 2 1]\n",
      "argmin along col  : [1 2 1 2 1 0 0 1 0 0]\n",
      "a : [[[ 0  1  2  3]\n",
      "  [ 4  5  6  7]\n",
      "  [ 8  9 10 11]]\n",
      "\n",
      " [[12 13 14 15]\n",
      "  [16 17 18 19]\n",
      "  [20 21 22 23]]]\n",
      "b : [[[100 101 102 103]]\n",
      "\n",
      " [[104 105 106 107]]]\n",
      "c : [[[100 102 104 106]\n",
      "  [104 106 108 110]\n",
      "  [108 110 112 114]]\n",
      "\n",
      " [[116 118 120 122]\n",
      "  [120 122 124 126]\n",
      "  [124 126 128 130]]]\n"
     ]
    }
   ],
   "source": [
    "# Broadcasting tests\n",
    "a = np.random.random((10,3))\n",
    "print(a)\n",
    "print('argmin : {}'.format(np.argmin(a)))\n",
    "print('argmin along row  : {}'.format(np.argmin(a,0)))\n",
    "print('argmin along col  : {}'.format(np.argmin(a,1)))\n",
    "\n",
    "a = np.arange(24)\n",
    "a = a.reshape([2,3,4])\n",
    "b = np.arange(100,108)\n",
    "b = b.reshape([2,1,4])\n",
    "print('a : {}'.format(a))\n",
    "print('b : {}'.format(b))\n",
    "c = a + b\n",
    "print('a +  b : {}'.format(a+b))\n",
    "print('b +  a : {}'.format(b+a))"
   ]
  },
  {
   "cell_type": "code",
   "execution_count": 47,
   "metadata": {
    "collapsed": false
   },
   "outputs": [
    {
     "name": "stdout",
     "output_type": "stream",
     "text": [
      "X.shape : (3, 3)\n",
      "X : [[ 0.99425153  0.8142761   0.74002536]\n",
      " [ 0.62313503  0.05219316  0.14505512]\n",
      " [ 0.96967017  0.75060518  0.51321786]]\n",
      "XR : [[[ 0.99425153  0.8142761   0.74002536]]\n",
      "\n",
      " [[ 0.62313503  0.05219316  0.14505512]]\n",
      "\n",
      " [[ 0.96967017  0.75060518  0.51321786]]]\n",
      "Diff.shape : (3, 3, 3)\n",
      "[[[ 0.          0.          0.        ]\n",
      "  [ 0.37111649  0.76208294  0.59497023]\n",
      "  [ 0.02458136  0.06367092  0.2268075 ]]\n",
      "\n",
      " [[-0.37111649 -0.76208294 -0.59497023]\n",
      "  [ 0.          0.          0.        ]\n",
      "  [-0.34653513 -0.69841202 -0.36816274]]\n",
      "\n",
      " [[-0.02458136 -0.06367092 -0.2268075 ]\n",
      "  [ 0.34653513  0.69841202  0.36816274]\n",
      "  [ 0.          0.          0.        ]]]\n",
      "Distance:\n",
      " [[        inf  1.07248743  0.05609987]\n",
      " [ 1.07248743         inf  0.74340974]\n",
      " [ 0.05609987  0.74340974         inf]]\n",
      "i : [2 2 0]\n",
      "i[:n] : [2 2 0]\n"
     ]
    }
   ],
   "source": [
    "# Full example : nearest neighbour\n",
    "NB_POINTS = 3\n",
    "\n",
    "X = np.random.random((NB_POINTS, 3))\n",
    "print('X.shape : {}'.format(X.shape))\n",
    "XR = X.reshape(NB_POINTS,1,3)\n",
    "print('X : {}'.format(X))\n",
    "print('XR : {}'.format(XR))\n",
    "diff = XR - X\n",
    "\n",
    "print('Diff.shape : {}'.format(diff.shape))\n",
    "print(diff)\n",
    "\n",
    "D = (diff **2).sum(2)\n",
    "D.shape\n",
    "\n",
    "i = np.arange(NB_POINTS)\n",
    "D[i,i] = np.inf\n",
    "print('Distance:\\n {}'.format(D))\n",
    "\n",
    "i = np.argmin(D, 1)\n",
    "print('i : {}'.format(i))\n",
    "print('i[:n] : {}'.format(i[:10]))"
   ]
  },
  {
   "cell_type": "code",
   "execution_count": 42,
   "metadata": {
    "collapsed": false
   },
   "outputs": [
    {
     "name": "stdout",
     "output_type": "stream",
     "text": [
      "[1 0 1 1]\n"
     ]
    }
   ],
   "source": [
    "from sklearn.neighbors import NearestNeighbors\n",
    "d, i = NearestNeighbors().fit(X).kneighbors(X,2)\n",
    "print(i[:3,1])\n"
   ]
  },
  {
   "cell_type": "code",
   "execution_count": null,
   "metadata": {
    "collapsed": true
   },
   "outputs": [],
   "source": []
  }
 ],
 "metadata": {
  "kernelspec": {
   "display_name": "Python 3",
   "language": "python",
   "name": "python3"
  },
  "language_info": {
   "codemirror_mode": {
    "name": "ipython",
    "version": 3
   },
   "file_extension": ".py",
   "mimetype": "text/x-python",
   "name": "python",
   "nbconvert_exporter": "python",
   "pygments_lexer": "ipython3",
   "version": "3.5.1"
  }
 },
 "nbformat": 4,
 "nbformat_minor": 0
}
