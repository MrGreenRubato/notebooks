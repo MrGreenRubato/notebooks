{
 "cells": [
  {
   "cell_type": "markdown",
   "metadata": {},
   "source": [
    "## randomly create a map, with tree and flat square. \n",
    "### try to find the largest square in the map"
   ]
  },
  {
   "cell_type": "code",
   "execution_count": 68,
   "metadata": {
    "collapsed": false
   },
   "outputs": [
    {
     "name": "stdout",
     "output_type": "stream",
     "text": [
      "(4, 1)\n",
      "(5, 1)\n",
      "(0, 12)\n",
      "(4, 0)\n",
      "(1, 5)\n",
      "(4, 7)\n",
      "(9, 9)\n",
      "(3, 7)\n",
      "(4, 5)\n",
      "(0, 0)\n"
     ]
    }
   ],
   "source": [
    "import numpy as np\n",
    "import random\n",
    "mapsize = 12\n",
    "numTrees = 20\n",
    "np.zeros((mapsize,mapsize))\n",
    "\n",
    "x = random.sample(range(mapsize), 10)\n",
    "y = random.sample(range(mapsize), 10)\n",
    "\n",
    "def newTree(min,max):\n",
    "   return random.randint(min,max), random.randint(min, max)\n",
    "\n",
    "trees = (newTree(0, mapsize) for x in range(10))\n",
    "for point in points:\n",
    "   print(point)"
   ]
  },
  {
   "cell_type": "code",
   "execution_count": 60,
   "metadata": {
    "collapsed": false
   },
   "outputs": [
    {
     "data": {
      "text/plain": [
       "(63.17794185962808, 66.6341121789564)"
      ]
     },
     "execution_count": 60,
     "metadata": {},
     "output_type": "execute_result"
    }
   ],
   "source": [
    "x,y"
   ]
  },
  {
   "cell_type": "code",
   "execution_count": null,
   "metadata": {
    "collapsed": true
   },
   "outputs": [],
   "source": []
  }
 ],
 "metadata": {
  "kernelspec": {
   "display_name": "Python 3",
   "language": "python",
   "name": "python3"
  },
  "language_info": {
   "codemirror_mode": {
    "name": "ipython",
    "version": 3
   },
   "file_extension": ".py",
   "mimetype": "text/x-python",
   "name": "python",
   "nbconvert_exporter": "python",
   "pygments_lexer": "ipython3",
   "version": "3.5.2"
  }
 },
 "nbformat": 4,
 "nbformat_minor": 0
}
