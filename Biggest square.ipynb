{
 "cells": [
  {
   "cell_type": "markdown",
   "metadata": {},
   "source": [
    "## randomly create a map, with tree and flat square. \n",
    "### try to find the largest square in the map"
   ]
  },
  {
   "cell_type": "markdown",
   "metadata": {},
   "source": [
    "### Create the map of size mapSize having numTrees trees."
   ]
  },
  {
   "cell_type": "code",
   "execution_count": 178,
   "metadata": {
    "collapsed": false
   },
   "outputs": [
    {
     "name": "stdout",
     "output_type": "stream",
     "text": [
      "[[ 0.  0.  0.  0.  0.  0.  0.  0.  0.  0.  0.  0.  0.  0.  0.  0.  0.  0.\n",
      "   0.  0.]\n",
      " [ 0.  0.  0.  4.  0.  0.  4.  0.  0.  0.  0.  0.  0.  0.  0.  0.  0.  0.\n",
      "   0.  0.]\n",
      " [ 0.  0.  0.  0.  0.  0.  0.  0.  0.  0.  0.  0.  0.  0.  0.  0.  0.  0.\n",
      "   0.  0.]\n",
      " [ 0.  0.  4.  0.  0.  0.  4.  0.  0.  4.  0.  0.  0.  0.  0.  0.  0.  0.\n",
      "   0.  0.]\n",
      " [ 0.  0.  4.  0.  0.  0.  4.  4.  0.  0.  0.  0.  0.  4.  0.  4.  0.  0.\n",
      "   0.  0.]\n",
      " [ 4.  0.  0.  4.  4.  0.  0.  0.  0.  0.  0.  0.  0.  0.  0.  0.  0.  0.\n",
      "   0.  0.]\n",
      " [ 0.  0.  0.  0.  0.  0.  0.  0.  0.  0.  0.  0.  0.  0.  0.  4.  0.  0.\n",
      "   0.  0.]\n",
      " [ 0.  0.  0.  0.  0.  0.  0.  0.  0.  4.  0.  0.  0.  0.  0.  0.  4.  0.\n",
      "   0.  0.]\n",
      " [ 0.  4.  0.  0.  0.  0.  4.  0.  0.  0.  0.  0.  0.  0.  0.  0.  0.  0.\n",
      "   0.  0.]\n",
      " [ 4.  0.  4.  0.  0.  0.  0.  0.  0.  4.  4.  0.  0.  0.  0.  0.  0.  4.\n",
      "   0.  0.]\n",
      " [ 0.  4.  0.  0.  4.  0.  0.  0.  0.  0.  0.  0.  0.  0.  0.  0.  0.  0.\n",
      "   0.  0.]\n",
      " [ 0.  0.  0.  4.  0.  0.  0.  0.  0.  0.  0.  0.  0.  0.  0.  0.  0.  0.\n",
      "   0.  0.]\n",
      " [ 0.  0.  0.  0.  0.  0.  0.  0.  0.  0.  0.  0.  0.  0.  4.  0.  0.  0.\n",
      "   0.  0.]\n",
      " [ 0.  0.  0.  0.  0.  0.  0.  0.  0.  0.  0.  0.  0.  0.  0.  0.  0.  0.\n",
      "   0.  0.]\n",
      " [ 0.  0.  0.  0.  0.  0.  0.  0.  0.  0.  0.  0.  4.  0.  4.  0.  0.  0.\n",
      "   0.  0.]\n",
      " [ 0.  0.  4.  0.  0.  0.  0.  0.  0.  0.  0.  0.  0.  0.  0.  0.  4.  0.\n",
      "   4.  0.]\n",
      " [ 0.  0.  0.  0.  0.  0.  0.  0.  0.  0.  0.  0.  0.  0.  0.  0.  0.  0.\n",
      "   4.  0.]\n",
      " [ 0.  0.  0.  0.  0.  0.  0.  0.  0.  0.  0.  0.  0.  0.  0.  4.  0.  0.\n",
      "   0.  0.]\n",
      " [ 0.  4.  4.  0.  0.  0.  0.  0.  0.  0.  0.  0.  0.  0.  0.  0.  0.  0.\n",
      "   0.  0.]\n",
      " [ 0.  0.  0.  0.  0.  4.  0.  0.  0.  0.  4.  0.  0.  0.  0.  0.  4.  0.\n",
      "   0.  0.]]\n"
     ]
    }
   ],
   "source": [
    "import numpy as np\n",
    "import random\n",
    "mapSize = 20\n",
    "numTrees = 40\n",
    "map = np.zeros((mapSize,mapSize))\n",
    "\n",
    "\n",
    "def newTree(min,max):\n",
    "   return random.randint(min,max), random.randint(min, max)\n",
    "\n",
    "trees = (newTree(0, mapSize-1) for x in range(numTrees))\n",
    "for tree in trees:\n",
    "   #print(tree)\n",
    "   map[tree] = 4 \n",
    "    \n",
    "print(map)"
   ]
  },
  {
   "cell_type": "markdown",
   "metadata": {},
   "source": [
    "### Try to find the biggest square\n"
   ]
  },
  {
   "cell_type": "code",
   "execution_count": 179,
   "metadata": {
    "collapsed": false
   },
   "outputs": [
    {
     "name": "stdout",
     "output_type": "stream",
     "text": [
      "False\n"
     ]
    }
   ],
   "source": [
    "def isPlace(x, y, size):\n",
    "    for a in range(x,x+size):\n",
    "        for b in range(y, y+size):\n",
    "            #print('testing ({0},{1})'.format(a, b))\n",
    "            if a >= mapSize or b >= mapSize or map[a,b] != 0:\n",
    "                return False\n",
    "    return True\n",
    "\n",
    "def drawSquare(x, y, size):\n",
    "    for a in range(x,x+size):\n",
    "        for b in range(y, y+size):    \n",
    "            map[a,b] = 8\n",
    "\n",
    "\n",
    "\n",
    "print(isPlace(3,8,5))\n",
    "\n",
    "\n",
    "            "
   ]
  },
  {
   "cell_type": "code",
   "execution_count": 182,
   "metadata": {
    "collapsed": false
   },
   "outputs": [
    {
     "name": "stdout",
     "output_type": "stream",
     "text": [
      "Biggest square is 5 large and is at 7,11\n"
     ]
    },
    {
     "data": {
      "text/plain": [
       "<matplotlib.image.AxesImage at 0x27662510ba8>"
      ]
     },
     "execution_count": 182,
     "metadata": {},
     "output_type": "execute_result"
    },
    {
     "data": {
      "image/png": "[encoded data removed]",
      "text/plain": [
       "<matplotlib.figure.Figure at 0x276626e5588>"
      ]
     },
     "metadata": {},
     "output_type": "display_data"
    }
   ],
   "source": [
    "posBS = (0, 0)\n",
    "sizeBS = 1\n",
    "for i in range(0,mapSize-1):\n",
    "    for j in range(0, mapSize-1):\n",
    "        testSize = sizeBS\n",
    "        testSize = testSize + 1\n",
    "        #print('testing {0}, {1} of size {2}'.format(i, j, testSize))\n",
    "        if isPlace(i,j,testSize):\n",
    "            posBS = (i,j)\n",
    "            sizeBS = testSize\n",
    "            #print('Found square of size {0} at ({1},{2})'.format(sizeBS, i, j))\n",
    "\n",
    "#print(map)\n",
    "print('Biggest square is {0} large and is at {1},{2}'.format(sizeBS, posBS[0], posBS[1]))\n",
    "drawSquare(posBS[0], posBS[1], sizeBS)\n",
    "#print(map)\n",
    "\n",
    "import matplotlib.pyplot as plt\n",
    "%matplotlib inline\n",
    "\n",
    "plt.figure(figsize=(15,15))\n",
    "plt.imshow(map, interpolation='none')\n"
   ]
  },
  {
   "cell_type": "code",
   "execution_count": null,
   "metadata": {
    "collapsed": true
   },
   "outputs": [],
   "source": []
  },
  {
   "cell_type": "code",
   "execution_count": null,
   "metadata": {
    "collapsed": true
   },
   "outputs": [],
   "source": []
  }
 ],
 "metadata": {
  "kernelspec": {
   "display_name": "Python 3",
   "language": "python",
   "name": "python3"
  },
  "language_info": {
   "codemirror_mode": {
    "name": "ipython",
    "version": 3
   },
   "file_extension": ".py",
   "mimetype": "text/x-python",
   "name": "python",
   "nbconvert_exporter": "python",
   "pygments_lexer": "ipython3",
   "version": "3.5.2"
  }
 },
 "nbformat": 4,
 "nbformat_minor": 0
}
