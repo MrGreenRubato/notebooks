{
 "cells": [
  {
   "cell_type": "markdown",
   "metadata": {},
   "source": [
    "## Inverse, eigen value and vector"
   ]
  },
  {
   "cell_type": "code",
   "execution_count": 66,
   "metadata": {
    "collapsed": true
   },
   "outputs": [],
   "source": [
    "%matplotlib inline\n",
    "\n",
    "import sys\n",
    "import matplotlib\n",
    "import numpy as np\n",
    "import scipy as sp\n",
    "import matplotlib.pyplot as pl\n",
    "from numpy import *\n",
    "from math import *\n",
    "from scipy import *\n",
    "import numpy.linalg as linalg\n",
    "from math import factorial\n",
    "from math import exp\n",
    "from math import log\n",
    "\n",
    "\n",
    "def ang_cos(v1, v2):\n",
    "    \"\"\" Get cos for similarity between two vectors\"\"\"\n",
    "    cosang = np.dot(v1, v2)/(linalg.norm(v1) * linalg.norm(v2))\n",
    "    return cosang\n",
    "\n",
    "\n",
    "# Create a myDiag function to do the job\n",
    "def createDiagonalMatrix(v):\n",
    "    M = zeros((v.size, v.size))\n",
    "    for i in range(v.size):\n",
    "        M[i,i] = v[i]\n",
    "    return M\n",
    "\n",
    "def extractDiagonal(M):\n",
    "    # TODO  : create a variable length vector.. ??\n",
    "    v = np.zeros((1,M.shape[0]))\n",
    "    for i in range (M.shape[0]):\n",
    "        v[0,i] = M[i,i]\n",
    "    return v\n"
   ]
  },
  {
   "cell_type": "code",
   "execution_count": 67,
   "metadata": {
    "collapsed": false
   },
   "outputs": [
    {
     "name": "stdout",
     "output_type": "stream",
     "text": [
      "inverse of A: \n",
      " [[ 1. -2. -1.]\n",
      " [ 0.  1.  0.]\n",
      " [ 0.  0.  1.]]\n",
      "check: \n",
      " [[ 1.  0.  0.]\n",
      " [ 0.  1.  0.]\n",
      " [ 0.  0.  1.]]\n"
     ]
    }
   ],
   "source": [
    "A = array([\n",
    "        1, 2, 1,\n",
    "        0, 1, 0,\n",
    "        0, 0, 1\n",
    "    ])\n",
    "\n",
    "A.shape = (3,3)\n",
    "\n",
    "if linalg.cond(A) < 1/sys.float_info.epsilon:\n",
    "    Ai = linalg.inv(A)\n",
    "    print('inverse of A: \\n', Ai) \n",
    "    print('check: \\n', Ai.dot(A))\n",
    "else:\n",
    "    print('This matrix can''t be inverted')"
   ]
  },
  {
   "cell_type": "code",
   "execution_count": 68,
   "metadata": {
    "collapsed": false
   },
   "outputs": [
    {
     "name": "stdout",
     "output_type": "stream",
     "text": [
      "This matrix cant be inverted\n"
     ]
    }
   ],
   "source": [
    "B = array([\n",
    "        3,4,2,\n",
    "        1,0,2,\n",
    "        2,1,3\n",
    "    ])\n",
    "\n",
    "B.shape = (3,3)\n",
    "if linalg.cond(B) < 1/sys.float_info.epsilon:\n",
    "    Bi = linalg.inv(B)\n",
    "    print('inverse of B: \\n', Bi) \n",
    "    print('check: \\n', Bi.dot(B))\n",
    "else:\n",
    "    print('This matrix can''t be inverted')\n",
    "    \n"
   ]
  },
  {
   "cell_type": "code",
   "execution_count": 69,
   "metadata": {
    "collapsed": false
   },
   "outputs": [
    {
     "ename": "ValueError",
     "evalue": "setting an array element with a sequence.",
     "output_type": "error",
     "traceback": [
      "\u001b[1;31m---------------------------------------------------------------------------\u001b[0m",
      "\u001b[1;31mValueError\u001b[0m                                Traceback (most recent call last)",
      "\u001b[1;32m<ipython-input-69-18851b6d1439>\u001b[0m in \u001b[0;36m<module>\u001b[1;34m()\u001b[0m\n\u001b[0;32m      1\u001b[0m \u001b[0mv\u001b[0m \u001b[1;33m=\u001b[0m \u001b[0marray\u001b[0m\u001b[1;33m(\u001b[0m\u001b[1;33m[\u001b[0m\u001b[1;36m1\u001b[0m\u001b[1;33m,\u001b[0m\u001b[1;36m0.5\u001b[0m\u001b[1;33m,\u001b[0m\u001b[1;36m4\u001b[0m\u001b[1;33m]\u001b[0m\u001b[1;33m)\u001b[0m\u001b[1;33m\u001b[0m\u001b[0m\n\u001b[0;32m      2\u001b[0m \u001b[0mv\u001b[0m\u001b[1;33m.\u001b[0m\u001b[0mshape\u001b[0m \u001b[1;33m=\u001b[0m \u001b[1;33m(\u001b[0m\u001b[1;36m1\u001b[0m\u001b[1;33m,\u001b[0m\u001b[1;36m3\u001b[0m\u001b[1;33m)\u001b[0m\u001b[1;33m\u001b[0m\u001b[0m\n\u001b[1;32m----> 3\u001b[1;33m \u001b[0mM\u001b[0m \u001b[1;33m=\u001b[0m \u001b[0mcreateDiagonalMatrix\u001b[0m\u001b[1;33m(\u001b[0m\u001b[0mv\u001b[0m\u001b[1;33m)\u001b[0m\u001b[1;33m\u001b[0m\u001b[0m\n\u001b[0m\u001b[0;32m      4\u001b[0m \u001b[0mMi\u001b[0m \u001b[1;33m=\u001b[0m \u001b[0mlinalg\u001b[0m\u001b[1;33m.\u001b[0m\u001b[0minv\u001b[0m\u001b[1;33m(\u001b[0m\u001b[0mM\u001b[0m\u001b[1;33m)\u001b[0m\u001b[1;33m\u001b[0m\u001b[0m\n\u001b[0;32m      5\u001b[0m \u001b[0mprint\u001b[0m\u001b[1;33m(\u001b[0m\u001b[1;34m'inverse of diagonal matrix \\n '\u001b[0m\u001b[1;33m,\u001b[0m \u001b[0mM\u001b[0m\u001b[1;33m,\u001b[0m \u001b[1;34m' = \\n'\u001b[0m\u001b[1;33m,\u001b[0m \u001b[0mMi\u001b[0m\u001b[1;33m)\u001b[0m\u001b[1;33m\u001b[0m\u001b[0m\n",
      "\u001b[1;32m<ipython-input-66-dc7d0621efc9>\u001b[0m in \u001b[0;36mcreateDiagonalMatrix\u001b[1;34m(v)\u001b[0m\n\u001b[0;32m     25\u001b[0m     \u001b[0mM\u001b[0m \u001b[1;33m=\u001b[0m \u001b[0mzeros\u001b[0m\u001b[1;33m(\u001b[0m\u001b[1;33m(\u001b[0m\u001b[0mv\u001b[0m\u001b[1;33m.\u001b[0m\u001b[0msize\u001b[0m\u001b[1;33m,\u001b[0m \u001b[0mv\u001b[0m\u001b[1;33m.\u001b[0m\u001b[0msize\u001b[0m\u001b[1;33m)\u001b[0m\u001b[1;33m)\u001b[0m\u001b[1;33m\u001b[0m\u001b[0m\n\u001b[0;32m     26\u001b[0m     \u001b[1;32mfor\u001b[0m \u001b[0mi\u001b[0m \u001b[1;32min\u001b[0m \u001b[0mrange\u001b[0m\u001b[1;33m(\u001b[0m\u001b[0mv\u001b[0m\u001b[1;33m.\u001b[0m\u001b[0msize\u001b[0m\u001b[1;33m)\u001b[0m\u001b[1;33m:\u001b[0m\u001b[1;33m\u001b[0m\u001b[0m\n\u001b[1;32m---> 27\u001b[1;33m         \u001b[0mM\u001b[0m\u001b[1;33m[\u001b[0m\u001b[0mi\u001b[0m\u001b[1;33m,\u001b[0m\u001b[0mi\u001b[0m\u001b[1;33m]\u001b[0m \u001b[1;33m=\u001b[0m \u001b[0mv\u001b[0m\u001b[1;33m[\u001b[0m\u001b[0mi\u001b[0m\u001b[1;33m]\u001b[0m\u001b[1;33m\u001b[0m\u001b[0m\n\u001b[0m\u001b[0;32m     28\u001b[0m     \u001b[1;32mreturn\u001b[0m \u001b[0mM\u001b[0m\u001b[1;33m\u001b[0m\u001b[0m\n\u001b[0;32m     29\u001b[0m \u001b[1;33m\u001b[0m\u001b[0m\n",
      "\u001b[1;31mValueError\u001b[0m: setting an array element with a sequence."
     ]
    }
   ],
   "source": [
    "v = array([1,0.5,4])\n",
    "v.shape = (1,3)\n",
    "M = createDiagonalMatrix(v)\n",
    "Mi = linalg.inv(M)\n",
    "print('inverse of diagonal matrix \\n ', M, ' = \\n', Mi)\n",
    "print('simply inverse of each diagonal term')\n",
    "\n"
   ]
  },
  {
   "cell_type": "code",
   "execution_count": 70,
   "metadata": {
    "collapsed": false
   },
   "outputs": [
    {
     "name": "stdout",
     "output_type": "stream",
     "text": [
      "AT.A :\n",
      " [[ 1.  0.  0.  0.]\n",
      " [ 0.  1.  0.  0.]\n",
      " [ 0.  0.  1.  0.]\n",
      " [ 0.  0.  0.  1.]]\n",
      "AT.A == A.AT == I [[ True  True  True  True]\n",
      " [ True  True  True  True]\n",
      " [ True  True  True  True]\n",
      " [ True  True  True  True]]\n"
     ]
    }
   ],
   "source": [
    "#Orthonormal matrix\n",
    "A = array([\n",
    "        .5, -.5, -.5, -.5,\n",
    "        .5, .5, -.5, .5,\n",
    "        .5, -.5, .5, .5,\n",
    "        .5, .5, .5, -.5\n",
    "    ])\n",
    "\n",
    "A.shape = (4,4)\n",
    "\n",
    "print('AT.A :\\n', A.transpose().dot(A))\n",
    "print('AT.A == A.AT == I', A.transpose().dot(A) == A.dot(A.transpose()))\n"
   ]
  },
  {
   "cell_type": "code",
   "execution_count": 71,
   "metadata": {
    "collapsed": false
   },
   "outputs": [
    {
     "name": "stdout",
     "output_type": "stream",
     "text": [
      "Eigen values:   [ 4. -1.]\n",
      "Eigen vectors:  [[ 0.83205029 -0.70710678]\n",
      " [ 0.5547002   0.70710678]]\n",
      "Axu =  [ 3.32820118  2.21880078]\n",
      "lu =  [ 3.32820118  2.21880078]\n"
     ]
    }
   ],
   "source": [
    "# Eigen vector/Value (Abdi - P.93)\n",
    "# Au = lU \n",
    "\n",
    "A = array([2,3,2,1])\n",
    "A.shape = (2,2)\n",
    "\n",
    "(eigValues, eigVectors) = linalg.eig(A)\n",
    "\n",
    "print('Eigen values:  ', eigValues)\n",
    "print('Eigen vectors: ',eigVectors)\n",
    "\n",
    "# Careful : we need to transpose it before taking the first \"column\"\n",
    "print('Axu = ', A.dot(eigVectors.transpose()[0]))\n",
    "print('lu = ', eigValues[0]*eigVectors.transpose()[0])\n"
   ]
  },
  {
   "cell_type": "code",
   "execution_count": 72,
   "metadata": {
    "collapsed": false
   },
   "outputs": [
    {
     "data": {
      "text/plain": [
       "array([[ 2.,  3.],\n",
       "       [ 2.,  1.]])"
      ]
     },
     "execution_count": 72,
     "metadata": {},
     "output_type": "execute_result"
    }
   ],
   "source": [
    "# Abdi - P.95\n",
    "Aprime = eigVectors.dot(createDiagonalMatrix(eigValues)).dot(linalg.inv(eigVectors))\n",
    "Aprime"
   ]
  },
  {
   "cell_type": "code",
   "execution_count": 86,
   "metadata": {
    "collapsed": false
   },
   "outputs": [
    {
     "name": "stdout",
     "output_type": "stream",
     "text": [
      "Diagonal :  [[ 1.  5.  9.]]\n",
      "15.0\n",
      "sum of lambas =  15.0\n"
     ]
    }
   ],
   "source": [
    "#Trace\n",
    "A = array([1,2,3,4,5,6,7,8,9])\n",
    "A.shape = (3,3)\n",
    "ADiag = extractDiagonal(A)\n",
    "print('Diagonal : ', ADiag)\n",
    "trace = sum(ADiag)\n",
    "print(trace)\n",
    "\n",
    "(eigValues, eigVectors) = linalg.eig(A)\n",
    "print('sum of lambas = ', sum(eigValues))"
   ]
  },
  {
   "cell_type": "code",
   "execution_count": null,
   "metadata": {
    "collapsed": true
   },
   "outputs": [],
   "source": []
  }
 ],
 "metadata": {
  "kernelspec": {
   "display_name": "Python 3",
   "language": "python",
   "name": "python3"
  },
  "language_info": {
   "codemirror_mode": {
    "name": "ipython",
    "version": 3
   },
   "file_extension": ".py",
   "mimetype": "text/x-python",
   "name": "python",
   "nbconvert_exporter": "python",
   "pygments_lexer": "ipython3",
   "version": "3.5.1"
  }
 },
 "nbformat": 4,
 "nbformat_minor": 0
}
