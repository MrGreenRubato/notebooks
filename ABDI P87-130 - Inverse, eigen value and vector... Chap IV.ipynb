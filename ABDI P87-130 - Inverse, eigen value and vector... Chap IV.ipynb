{
 "cells": [
  {
   "cell_type": "markdown",
   "metadata": {},
   "source": [
    "## Inverse, eigen value and vector"
   ]
  },
  {
   "cell_type": "code",
   "execution_count": 18,
   "metadata": {
    "collapsed": true
   },
   "outputs": [],
   "source": [
    "%matplotlib inline\n",
    "\n",
    "import sys\n",
    "import matplotlib\n",
    "import numpy as np\n",
    "import scipy as sp\n",
    "import matplotlib.pyplot as pl\n",
    "from numpy import *\n",
    "from math import *\n",
    "from scipy import *\n",
    "import numpy.linalg as linalg\n",
    "from math import factorial\n",
    "from math import exp\n",
    "from math import log\n",
    "\n",
    "\n",
    "def ang_cos(v1, v2):\n",
    "    \"\"\" Get cos for similarity between two vectors\"\"\"\n",
    "    cosang = np.dot(v1, v2)/(linalg.norm(v1) * linalg.norm(v2))\n",
    "    return cosang\n",
    "\n",
    "\n",
    "# Create a myDiag function to do the job\n",
    "def createDiagonalMatrix(v):\n",
    "    M = zeros((v.size, v.size))\n",
    "    for i in range(v.size):\n",
    "        M[i,i] = v[0,i]\n",
    "    return M\n",
    "\n",
    "def extractDiagonal(M):\n",
    "    # TODO  : create a variable length vector.. ??\n",
    "    v = np.zeros((1,M.shape[0]))\n",
    "    for i in range (M.shape[0]):\n",
    "        v[0,i] = M[i,i]\n",
    "    return v\n"
   ]
  },
  {
   "cell_type": "code",
   "execution_count": 19,
   "metadata": {
    "collapsed": false
   },
   "outputs": [
    {
     "name": "stdout",
     "output_type": "stream",
     "text": [
      "inverse of A: \n",
      " [[ 1. -2. -1.]\n",
      " [ 0.  1.  0.]\n",
      " [ 0.  0.  1.]]\n",
      "check: \n",
      " [[ 1.  0.  0.]\n",
      " [ 0.  1.  0.]\n",
      " [ 0.  0.  1.]]\n"
     ]
    }
   ],
   "source": [
    "A = array([\n",
    "        1, 2, 1,\n",
    "        0, 1, 0,\n",
    "        0, 0, 1\n",
    "    ])\n",
    "\n",
    "A.shape = (3,3)\n",
    "\n",
    "if linalg.cond(A) < 1/sys.float_info.epsilon:\n",
    "    Ai = linalg.inv(A)\n",
    "    print('inverse of A: \\n', Ai) \n",
    "    print('check: \\n', Ai.dot(A))\n",
    "else:\n",
    "    print('This matrix can''t be inverted')"
   ]
  },
  {
   "cell_type": "code",
   "execution_count": 20,
   "metadata": {
    "collapsed": false
   },
   "outputs": [
    {
     "name": "stdout",
     "output_type": "stream",
     "text": [
      "This matrix cant be inverted\n"
     ]
    }
   ],
   "source": [
    "B = array([\n",
    "        3,4,2,\n",
    "        1,0,2,\n",
    "        2,1,3\n",
    "    ])\n",
    "\n",
    "B.shape = (3,3)\n",
    "if linalg.cond(B) < 1/sys.float_info.epsilon:\n",
    "    Bi = linalg.inv(B)\n",
    "    print('inverse of B: \\n', Bi) \n",
    "    print('check: \\n', Bi.dot(B))\n",
    "else:\n",
    "    print('This matrix can''t be inverted')\n",
    "    \n"
   ]
  },
  {
   "cell_type": "code",
   "execution_count": 30,
   "metadata": {
    "collapsed": false
   },
   "outputs": [
    {
     "name": "stdout",
     "output_type": "stream",
     "text": [
      "inverse of diagonal matrix \n",
      "  [[ 1.   0.   0. ]\n",
      " [ 0.   0.5  0. ]\n",
      " [ 0.   0.   4. ]]  = \n",
      " [[ 1.    0.    0.  ]\n",
      " [ 0.    2.    0.  ]\n",
      " [ 0.    0.    0.25]]\n",
      "simply inverse of each diagonal term\n",
      "inverse :  [[ 1.     inf   inf]\n",
      " [  inf  2.     inf]\n",
      " [  inf   inf  0.25]]\n"
     ]
    },
    {
     "name": "stderr",
     "output_type": "stream",
     "text": [
      "C:\\Users\\nmauger\\AppData\\Local\\Continuum\\Anaconda3\\lib\\site-packages\\ipykernel\\__main__.py:7: RuntimeWarning: divide by zero encountered in true_divide\n"
     ]
    }
   ],
   "source": [
    "v = array([1,0.5,4])\n",
    "v.shape = (1,3)\n",
    "M = createDiagonalMatrix(v)\n",
    "Mi = linalg.inv(M)\n",
    "print('inverse of diagonal matrix \\n ', M, ' = \\n', Mi)\n",
    "print('simply inverse of each diagonal term')\n",
    "\n"
   ]
  },
  {
   "cell_type": "code",
   "execution_count": 38,
   "metadata": {
    "collapsed": false
   },
   "outputs": [
    {
     "name": "stdout",
     "output_type": "stream",
     "text": [
      "AT.A :\n",
      " [[ 1.  0.  0.  0.]\n",
      " [ 0.  1.  0.  0.]\n",
      " [ 0.  0.  1.  0.]\n",
      " [ 0.  0.  0.  1.]]\n",
      "AT.A == A.AT == I [[ True  True  True  True]\n",
      " [ True  True  True  True]\n",
      " [ True  True  True  True]\n",
      " [ True  True  True  True]]\n"
     ]
    }
   ],
   "source": [
    "#Orthonormal matrix\n",
    "A = array([\n",
    "        .5, -.5, -.5, -.5,\n",
    "        .5, .5, -.5, .5,\n",
    "        .5, -.5, .5, .5,\n",
    "        .5, .5, .5, -.5\n",
    "    ])\n",
    "\n",
    "A.shape = (4,4)\n",
    "\n",
    "print('AT.A :\\n', A.transpose().dot(A))\n",
    "print('AT.A == A.AT == I', A.transpose().dot(A) == A.dot(A.transpose()))\n"
   ]
  },
  {
   "cell_type": "code",
   "execution_count": null,
   "metadata": {
    "collapsed": true
   },
   "outputs": [],
   "source": []
  }
 ],
 "metadata": {
  "kernelspec": {
   "display_name": "Python 3",
   "language": "python",
   "name": "python3"
  },
  "language_info": {
   "codemirror_mode": {
    "name": "ipython",
    "version": 3
   },
   "file_extension": ".py",
   "mimetype": "text/x-python",
   "name": "python",
   "nbconvert_exporter": "python",
   "pygments_lexer": "ipython3",
   "version": "3.5.1"
  }
 },
 "nbformat": 4,
 "nbformat_minor": 0
}
