{
 "cells": [
  {
   "cell_type": "markdown",
   "metadata": {},
   "source": [
    "## Inverse, eigen value and vector"
   ]
  },
  {
   "cell_type": "code",
   "execution_count": 2,
   "metadata": {
    "collapsed": true
   },
   "outputs": [],
   "source": [
    "%matplotlib inline\n",
    "\n",
    "import matplotlib\n",
    "import numpy as np\n",
    "import scipy as sp\n",
    "import matplotlib.pyplot as pl\n",
    "from numpy import *\n",
    "from math import *\n",
    "from scipy import *\n",
    "import numpy.linalg as linalg\n",
    "from math import factorial\n",
    "from math import exp\n",
    "from math import log\n",
    "\n",
    "def ang_cos(v1, v2):\n",
    "    \"\"\" Get cos for similarity between two vectors\"\"\"\n",
    "    cosang = np.dot(v1, v2)/(linalg.norm(v1) * linalg.norm(v2))\n",
    "    return cosang\n",
    "\n",
    "\n"
   ]
  },
  {
   "cell_type": "code",
   "execution_count": 8,
   "metadata": {
    "collapsed": false
   },
   "outputs": [
    {
     "name": "stdout",
     "output_type": "stream",
     "text": [
      "inverse of A: \n",
      " [[ 1. -2. -1.]\n",
      " [ 0.  1.  0.]\n",
      " [ 0.  0.  1.]]\n",
      "check: \n",
      " [[ 1.  0.  0.]\n",
      " [ 0.  1.  0.]\n",
      " [ 0.  0.  1.]]\n"
     ]
    }
   ],
   "source": [
    "A = array([\n",
    "        1, 2, 1,\n",
    "        0, 1, 0,\n",
    "        0, 0, 1\n",
    "    ])\n",
    "\n",
    "A.shape = (3,3)\n",
    "\n",
    "Ai = linalg.inv(A)\n",
    "print('inverse of A: \\n', Ai)\n",
    "\n",
    "print('check: \\n', Ai.dot(A))"
   ]
  },
  {
   "cell_type": "code",
   "execution_count": null,
   "metadata": {
    "collapsed": true
   },
   "outputs": [],
   "source": []
  }
 ],
 "metadata": {
  "kernelspec": {
   "display_name": "Python 3",
   "language": "python",
   "name": "python3"
  },
  "language_info": {
   "codemirror_mode": {
    "name": "ipython",
    "version": 3
   },
   "file_extension": ".py",
   "mimetype": "text/x-python",
   "name": "python",
   "nbconvert_exporter": "python",
   "pygments_lexer": "ipython3",
   "version": "3.5.1"
  }
 },
 "nbformat": 4,
 "nbformat_minor": 0
}
