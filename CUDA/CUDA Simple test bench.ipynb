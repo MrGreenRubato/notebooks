{
 "cells": [
  {
   "cell_type": "markdown",
   "metadata": {},
   "source": [
    "# CUDA Simple test bench\n"
   ]
  },
  {
   "cell_type": "code",
   "execution_count": null,
   "metadata": {
    "collapsed": true
   },
   "outputs": [],
   "source": [
    "# import the necessary packages\n",
    "from sklearn.cross_validation import train_test_split\n",
    "from sklearn.metrics import classification_report\n",
    "from sklearn import datasets\n",
    "from nolearn.dbn import DBN\n",
    "import numpy as np\n",
    "\n",
    "# grab the MNIST dataset (if this is the first time you are running\n",
    "# this script, this make take a minute -- the 55mb MNIST digit dataset\n",
    "# will be downloaded)\n",
    "print(\"[X] downloading data...\")\n",
    "dataset = datasets.fetch_mldata(\"MNIST Original\")\n",
    "\n",
    "# scale the data to the range [0, 1] and then construct the training\n",
    "# and testing splits\n",
    "(trainX, testX, trainY, testY) = train_test_split(\n",
    "\tdataset.data / 255.0, dataset.target.astype(\"int0\"), test_size = 0.33)\n",
    "\n",
    "# train the Deep Belief Network with 784 input units (the flattened,\n",
    "#  28x28 grayscale image), 800 hidden units in the 1st hidden layer,\n",
    "# 800 hidden nodes in the 2nd hidden layer, and 10 output units (one\n",
    "# for each possible output classification, which are the digits 1-10)\n",
    "dbn = DBN([trainX.shape[1], 800, 800, 10],learn_rates = 0.3,learn_rate_decays = 0.9,epochs = 10,verbose = 1)\n",
    "dbn.fit(trainX, trainY)\n",
    "\n",
    "# compute the predictions for the test data and show a classification\n",
    "# report\n",
    "preds = dbn.predict(testX)\n",
    "print(classification_report(testY, preds))"
   ]
  }
 ],
 "metadata": {
  "kernelspec": {
   "display_name": "Python 3",
   "language": "python",
   "name": "python3"
  },
  "language_info": {
   "codemirror_mode": {
    "name": "ipython",
    "version": 3
   },
   "file_extension": ".py",
   "mimetype": "text/x-python",
   "name": "python",
   "nbconvert_exporter": "python",
   "pygments_lexer": "ipython3",
   "version": "3.5.1"
  }
 },
 "nbformat": 4,
 "nbformat_minor": 0
}
