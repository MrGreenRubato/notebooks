{
 "cells": [
  {
   "cell_type": "markdown",
   "metadata": {},
   "source": [
    "# Stocks reader\n"
   ]
  },
  {
   "cell_type": "code",
   "execution_count": 52,
   "metadata": {
    "collapsed": false
   },
   "outputs": [
    {
     "name": "stdout",
     "output_type": "stream",
     "text": [
      "           PE change_pct    last  short_ratio    time\n",
      "GLE.PA  7.633    +0.098%  35.595          0.0  1:35pm\n"
     ]
    }
   ],
   "source": [
    "import pandas as pd\n",
    "import pandas_datareader.data as web\n",
    "\n",
    "GLE = web.get_quote_yahoo('GLE.PA')\n",
    "print(GLE)"
   ]
  },
  {
   "cell_type": "markdown",
   "metadata": {},
   "source": [
    "## Fetch whole datasets for further use\n"
   ]
  },
  {
   "cell_type": "code",
   "execution_count": 53,
   "metadata": {
    "collapsed": false
   },
   "outputs": [
    {
     "name": "stdout",
     "output_type": "stream",
     "text": [
      "Done\n"
     ]
    }
   ],
   "source": [
    "def update_stocks():\n",
    "    start = datetime.datetime(2000, 1, 1)\n",
    "    end = datetime.datetime(2016, 10, 30)\n",
    "\n",
    "    GLE = web.DataReader('GLE.PA', 'yahoo', start, end)\n",
    "    GLE.to_pickle('GLE.pdata')\n",
    "    GLE = web.DataReader('RNO.PA', 'yahoo', start, end)\n",
    "    GLE.to_pickle('RNO.pdata')\n",
    "    GLE = web.DataReader('UG.PA', 'yahoo', start, end)\n",
    "    GLE.to_pickle('UG.pdata')\n",
    "    GLE = web.DataReader('ALEZV.PA', 'yahoo', start, end)\n",
    "    GLE.to_pickle('ALEZV.pdata')\n",
    "    GLE = web.DataReader('ALEHT.PA', 'yahoo', start, end)\n",
    "    GLE.to_pickle('ALEHT.pdata')\n",
    "    GLE = web.DataReader('ONXEO.PA', 'yahoo', start, end)\n",
    "    GLE.to_pickle('ONXEO.pdata')\n",
    "    print('Done')\n",
    "\n",
    "\n",
    "\n",
    "\n",
    "\n",
    "update_stocks()\n"
   ]
  },
  {
   "cell_type": "markdown",
   "metadata": {},
   "source": [
    "## Load and display data"
   ]
  },
  {
   "cell_type": "code",
   "execution_count": 55,
   "metadata": {
    "collapsed": false
   },
   "outputs": [
    {
     "name": "stdout",
     "output_type": "stream",
     "text": [
      "Open             78.75\n",
      "High             79.79\n",
      "Low              78.02\n",
      "Close            79.40\n",
      "Volume       863600.00\n",
      "Adj Close        79.40\n",
      "Name: 2016-10-28 00:00:00, dtype: float64\n",
      "Open              13.610\n",
      "High              13.855\n",
      "Low               13.480\n",
      "Close             13.785\n",
      "Volume       3343600.000\n",
      "Adj Close         13.785\n",
      "Name: 2016-10-28 00:00:00, dtype: float64\n",
      "Open              36.140\n",
      "High              36.315\n",
      "Low               35.605\n",
      "Close             36.105\n",
      "Volume       3619300.000\n",
      "Adj Close         36.105\n",
      "Name: 2016-10-28 00:00:00, dtype: float64\n",
      "Open         25.5\n",
      "High         25.5\n",
      "Low          25.5\n",
      "Close        25.5\n",
      "Volume        0.0\n",
      "Adj Close    25.5\n",
      "Name: 2016-10-28 00:00:00, dtype: float64\n",
      "Open              0.31\n",
      "High              0.32\n",
      "Low               0.30\n",
      "Close             0.30\n",
      "Volume       122000.00\n",
      "Adj Close         0.30\n",
      "Name: 2016-10-28 00:00:00, dtype: float64\n",
      "Open              2.42\n",
      "High              2.50\n",
      "Low               2.37\n",
      "Close             2.41\n",
      "Volume       303200.00\n",
      "Adj Close         2.41\n",
      "Name: 2016-10-28 00:00:00, dtype: float64\n"
     ]
    }
   ],
   "source": [
    "RNO = pd.read_pickle('RNO.pdata')\n",
    "print(RNO.loc['2016-10-28'])\n",
    "\n",
    "UG = pd.read_pickle('UG.pdata')\n",
    "print(UG.loc['2016-10-28'])\n",
    "\n",
    "GLE = pd.read_pickle('GLE.pdata')\n",
    "print(GLE.loc['2016-10-28'])\n",
    "\n",
    "ALEZV = pd.read_pickle('ALEZV.pdata')\n",
    "print(ALEZV.loc['2016-10-28'])\n",
    "\n",
    "ALEHT = pd.read_pickle('ALEHT.pdata')\n",
    "print(ALEHT.loc['2016-10-28'])\n",
    "\n",
    "ONXEO = pd.read_pickle('ONXEO.pdata')\n",
    "print(ONXEO.loc['2016-10-28'])"
   ]
  },
  {
   "cell_type": "code",
   "execution_count": null,
   "metadata": {
    "collapsed": true
   },
   "outputs": [],
   "source": []
  }
 ],
 "metadata": {
  "kernelspec": {
   "display_name": "Python 3",
   "language": "python",
   "name": "python3"
  },
  "language_info": {
   "codemirror_mode": {
    "name": "ipython",
    "version": 3
   },
   "file_extension": ".py",
   "mimetype": "text/x-python",
   "name": "python",
   "nbconvert_exporter": "python",
   "pygments_lexer": "ipython3",
   "version": "3.5.1"
  }
 },
 "nbformat": 4,
 "nbformat_minor": 0
}
