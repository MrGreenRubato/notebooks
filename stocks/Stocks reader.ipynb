{
 "cells": [
  {
   "cell_type": "markdown",
   "metadata": {},
   "source": [
    "# Stocks reader\n"
   ]
  },
  {
   "cell_type": "code",
   "execution_count": 2,
   "metadata": {
    "collapsed": true
   },
   "outputs": [],
   "source": [
    "import pandas as pd\n",
    "\n"
   ]
  },
  {
   "cell_type": "code",
   "execution_count": 31,
   "metadata": {
    "collapsed": false
   },
   "outputs": [],
   "source": [
    "\n",
    "dateformat = '%Y-%m-%d'\n",
    "rno = pd.read_csv('EPA-RNO.csv', sep=';', index_col=0, header=None, parse_dates=0, dayfirst=True)\n",
    "ug = pd.read_csv('EPA-UG.csv', sep=';', index_col=0, header=None, parse_dates=0, dayfirst=True)\n",
    "#print(rno)\n",
    "#print(ug)\n",
    "##rno.strftime(date_format)\n",
    "dji = pd.read_csv('DJIA.csv', sep=';', index_col=0, header=None, parse_dates=0, dayfirst=True, infer_datetime_format=True)\n",
    "#print(dji)\n",
    "cac = pd.read_csv('CAC40.csv', sep=';', index_col=0, header=None, parse_dates=0, dayfirst=True, infer_datetime_format=True)\n",
    "#print(cac)\n",
    "\n",
    "\n",
    "\n"
   ]
  },
  {
   "cell_type": "code",
   "execution_count": null,
   "metadata": {
    "collapsed": false
   },
   "outputs": [],
   "source": [
    "\n",
    "   "
   ]
  },
  {
   "cell_type": "code",
   "execution_count": 32,
   "metadata": {
    "collapsed": true
   },
   "outputs": [],
   "source": [
    "## 1 - fetch data automatically : http://stackoverflow.com/questions/12433076/download-history-stock-prices-automatically-from-yahoo-finance-in-python\n",
    "## 2 - Display DJI / CAC40 and Some stocks\n",
    "## 3 - Try to find correlations\n"
   ]
  },
  {
   "cell_type": "code",
   "execution_count": null,
   "metadata": {
    "collapsed": true
   },
   "outputs": [],
   "source": []
  }
 ],
 "metadata": {
  "kernelspec": {
   "display_name": "Python 3",
   "language": "python",
   "name": "python3"
  },
  "language_info": {
   "codemirror_mode": {
    "name": "ipython",
    "version": 3
   },
   "file_extension": ".py",
   "mimetype": "text/x-python",
   "name": "python",
   "nbconvert_exporter": "python",
   "pygments_lexer": "ipython3",
   "version": "3.5.1"
  }
 },
 "nbformat": 4,
 "nbformat_minor": 0
}
