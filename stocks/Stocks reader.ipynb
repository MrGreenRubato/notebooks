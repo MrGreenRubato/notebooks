{
 "cells": [
  {
   "cell_type": "markdown",
   "metadata": {},
   "source": [
    "# Stocks reader\n"
   ]
  },
  {
   "cell_type": "code",
   "execution_count": 1,
   "metadata": {
    "collapsed": false
   },
   "outputs": [
    {
     "name": "stdout",
     "output_type": "stream",
     "text": [
      "          PE change_pct   last  short_ratio     time\n",
      "GLE.PA  7.37     -1.84%  34.37          0.0  12:54pm\n"
     ]
    }
   ],
   "source": [
    "import pandas as pd\n",
    "import pandas_datareader.data as web\n",
    "\n",
    "GLE = web.get_quote_yahoo('GLE.PA')\n",
    "print(GLE)"
   ]
  },
  {
   "cell_type": "markdown",
   "metadata": {},
   "source": [
    "## Fetch whole datasets for further use\n"
   ]
  },
  {
   "cell_type": "code",
   "execution_count": 3,
   "metadata": {
    "collapsed": false
   },
   "outputs": [
    {
     "name": "stdout",
     "output_type": "stream",
     "text": [
      "Done\n"
     ]
    }
   ],
   "source": [
    "def update_stocks():\n",
    "    import datetime as datetime\n",
    "    start = datetime.datetime(2000, 1, 1)\n",
    "    end = datetime.datetime(2016, 10, 30)\n",
    "\n",
    "    GLE = web.DataReader('GLE.PA', 'yahoo', start, end)\n",
    "    GLE.to_pickle('GLE.pdata')\n",
    "    GLE = web.DataReader('RNO.PA', 'yahoo', start, end)\n",
    "    GLE.to_pickle('RNO.pdata')\n",
    "    GLE = web.DataReader('UG.PA', 'yahoo', start, end)\n",
    "    GLE.to_pickle('UG.pdata')\n",
    "    GLE = web.DataReader('ALEZV.PA', 'yahoo', start, end)\n",
    "    GLE.to_pickle('ALEZV.pdata')\n",
    "    GLE = web.DataReader('ALEHT.PA', 'yahoo', start, end)\n",
    "    GLE.to_pickle('ALEHT.pdata')\n",
    "    GLE = web.DataReader('ONXEO.PA', 'yahoo', start, end)\n",
    "    GLE.to_pickle('ONXEO.pdata')\n",
    "    print('Done')\n",
    "\n",
    "\n",
    "\n",
    "\n",
    "\n",
    "update_stocks()\n"
   ]
  },
  {
   "cell_type": "markdown",
   "metadata": {},
   "source": [
    "## Load and display data"
   ]
  },
  {
   "cell_type": "code",
   "execution_count": 4,
   "metadata": {
    "collapsed": false
   },
   "outputs": [
    {
     "name": "stdout",
     "output_type": "stream",
     "text": [
      "Open             78.75\n",
      "High             79.79\n",
      "Low              78.02\n",
      "Close            79.40\n",
      "Volume       863600.00\n",
      "Adj Close        79.40\n",
      "Name: 2016-10-28 00:00:00, dtype: float64\n",
      "Open              13.610\n",
      "High              13.855\n",
      "Low               13.480\n",
      "Close             13.785\n",
      "Volume       3343600.000\n",
      "Adj Close         13.785\n",
      "Name: 2016-10-28 00:00:00, dtype: float64\n",
      "Open              36.140\n",
      "High              36.315\n",
      "Low               35.605\n",
      "Close             36.105\n",
      "Volume       3619300.000\n",
      "Adj Close         36.105\n",
      "Name: 2016-10-28 00:00:00, dtype: float64\n",
      "Open         25.5\n",
      "High         25.5\n",
      "Low          25.5\n",
      "Close        25.5\n",
      "Volume        0.0\n",
      "Adj Close    25.5\n",
      "Name: 2016-10-28 00:00:00, dtype: float64\n",
      "Open              0.31\n",
      "High              0.32\n",
      "Low               0.30\n",
      "Close             0.30\n",
      "Volume       122000.00\n",
      "Adj Close         0.30\n",
      "Name: 2016-10-28 00:00:00, dtype: float64\n",
      "Open              2.42\n",
      "High              2.50\n",
      "Low               2.37\n",
      "Close             2.41\n",
      "Volume       303200.00\n",
      "Adj Close         2.41\n",
      "Name: 2016-10-28 00:00:00, dtype: float64\n"
     ]
    },
    {
     "data": {
      "text/html": [
       "<div>\n",
       "<table border=\"1\" class=\"dataframe\">\n",
       "  <thead>\n",
       "    <tr style=\"text-align: right;\">\n",
       "      <th></th>\n",
       "      <th>Open</th>\n",
       "      <th>High</th>\n",
       "      <th>Low</th>\n",
       "      <th>Close</th>\n",
       "      <th>Volume</th>\n",
       "      <th>Adj Close</th>\n",
       "    </tr>\n",
       "    <tr>\n",
       "      <th>Date</th>\n",
       "      <th></th>\n",
       "      <th></th>\n",
       "      <th></th>\n",
       "      <th></th>\n",
       "      <th></th>\n",
       "      <th></th>\n",
       "    </tr>\n",
       "  </thead>\n",
       "  <tbody>\n",
       "    <tr>\n",
       "      <th>2016-10-17</th>\n",
       "      <td>12.800</td>\n",
       "      <td>13.250</td>\n",
       "      <td>12.730</td>\n",
       "      <td>13.135</td>\n",
       "      <td>4792800</td>\n",
       "      <td>13.135</td>\n",
       "    </tr>\n",
       "    <tr>\n",
       "      <th>2016-10-18</th>\n",
       "      <td>13.220</td>\n",
       "      <td>13.310</td>\n",
       "      <td>13.085</td>\n",
       "      <td>13.185</td>\n",
       "      <td>4042300</td>\n",
       "      <td>13.185</td>\n",
       "    </tr>\n",
       "    <tr>\n",
       "      <th>2016-10-19</th>\n",
       "      <td>13.190</td>\n",
       "      <td>13.285</td>\n",
       "      <td>13.110</td>\n",
       "      <td>13.145</td>\n",
       "      <td>3352100</td>\n",
       "      <td>13.145</td>\n",
       "    </tr>\n",
       "    <tr>\n",
       "      <th>2016-10-20</th>\n",
       "      <td>13.175</td>\n",
       "      <td>13.365</td>\n",
       "      <td>13.165</td>\n",
       "      <td>13.325</td>\n",
       "      <td>3417300</td>\n",
       "      <td>13.325</td>\n",
       "    </tr>\n",
       "    <tr>\n",
       "      <th>2016-10-21</th>\n",
       "      <td>13.335</td>\n",
       "      <td>13.435</td>\n",
       "      <td>13.115</td>\n",
       "      <td>13.270</td>\n",
       "      <td>3190500</td>\n",
       "      <td>13.270</td>\n",
       "    </tr>\n",
       "    <tr>\n",
       "      <th>2016-10-24</th>\n",
       "      <td>13.330</td>\n",
       "      <td>13.590</td>\n",
       "      <td>13.330</td>\n",
       "      <td>13.460</td>\n",
       "      <td>3202500</td>\n",
       "      <td>13.460</td>\n",
       "    </tr>\n",
       "    <tr>\n",
       "      <th>2016-10-25</th>\n",
       "      <td>13.500</td>\n",
       "      <td>13.595</td>\n",
       "      <td>13.200</td>\n",
       "      <td>13.290</td>\n",
       "      <td>4141200</td>\n",
       "      <td>13.290</td>\n",
       "    </tr>\n",
       "    <tr>\n",
       "      <th>2016-10-26</th>\n",
       "      <td>12.700</td>\n",
       "      <td>13.685</td>\n",
       "      <td>12.600</td>\n",
       "      <td>13.660</td>\n",
       "      <td>7934500</td>\n",
       "      <td>13.660</td>\n",
       "    </tr>\n",
       "    <tr>\n",
       "      <th>2016-10-27</th>\n",
       "      <td>13.615</td>\n",
       "      <td>13.750</td>\n",
       "      <td>13.375</td>\n",
       "      <td>13.735</td>\n",
       "      <td>3815500</td>\n",
       "      <td>13.735</td>\n",
       "    </tr>\n",
       "    <tr>\n",
       "      <th>2016-10-28</th>\n",
       "      <td>13.610</td>\n",
       "      <td>13.855</td>\n",
       "      <td>13.480</td>\n",
       "      <td>13.785</td>\n",
       "      <td>3343600</td>\n",
       "      <td>13.785</td>\n",
       "    </tr>\n",
       "  </tbody>\n",
       "</table>\n",
       "</div>"
      ],
      "text/plain": [
       "              Open    High     Low   Close   Volume  Adj Close\n",
       "Date                                                          \n",
       "2016-10-17  12.800  13.250  12.730  13.135  4792800     13.135\n",
       "2016-10-18  13.220  13.310  13.085  13.185  4042300     13.185\n",
       "2016-10-19  13.190  13.285  13.110  13.145  3352100     13.145\n",
       "2016-10-20  13.175  13.365  13.165  13.325  3417300     13.325\n",
       "2016-10-21  13.335  13.435  13.115  13.270  3190500     13.270\n",
       "2016-10-24  13.330  13.590  13.330  13.460  3202500     13.460\n",
       "2016-10-25  13.500  13.595  13.200  13.290  4141200     13.290\n",
       "2016-10-26  12.700  13.685  12.600  13.660  7934500     13.660\n",
       "2016-10-27  13.615  13.750  13.375  13.735  3815500     13.735\n",
       "2016-10-28  13.610  13.855  13.480  13.785  3343600     13.785"
      ]
     },
     "execution_count": 4,
     "metadata": {},
     "output_type": "execute_result"
    }
   ],
   "source": [
    "RNO = pd.read_pickle('RNO.pdata')\n",
    "UG = pd.read_pickle('UG.pdata')\n",
    "GLE = pd.read_pickle('GLE.pdata')\n",
    "ALEZV = pd.read_pickle('ALEZV.pdata')\n",
    "ALEHT = pd.read_pickle('ALEHT.pdata')\n",
    "ONXEO = pd.read_pickle('ONXEO.pdata')\n",
    "\n",
    "print(RNO.loc['2016-10-28'])\n",
    "print(UG.loc['2016-10-28'])\n",
    "print(GLE.loc['2016-10-28'])\n",
    "print(ALEZV.loc['2016-10-28'])\n",
    "print(ALEHT.loc['2016-10-28'])\n",
    "print(ONXEO.loc['2016-10-28'])\n",
    "\n",
    "UG.tail(10)"
   ]
  },
  {
   "cell_type": "code",
   "execution_count": 5,
   "metadata": {
    "collapsed": false
   },
   "outputs": [
    {
     "data": {
      "text/html": [
       "<div>\n",
       "<table border=\"1\" class=\"dataframe\">\n",
       "  <thead>\n",
       "    <tr style=\"text-align: right;\">\n",
       "      <th></th>\n",
       "      <th>Open</th>\n",
       "      <th>High</th>\n",
       "      <th>Low</th>\n",
       "      <th>Close</th>\n",
       "      <th>Volume</th>\n",
       "      <th>Adj Close</th>\n",
       "    </tr>\n",
       "  </thead>\n",
       "  <tbody>\n",
       "    <tr>\n",
       "      <th>count</th>\n",
       "      <td>4369.000000</td>\n",
       "      <td>4369.000000</td>\n",
       "      <td>4369.000000</td>\n",
       "      <td>4369.000000</td>\n",
       "      <td>4.369000e+03</td>\n",
       "      <td>4369.000000</td>\n",
       "    </tr>\n",
       "    <tr>\n",
       "      <th>mean</th>\n",
       "      <td>36.147731</td>\n",
       "      <td>36.675114</td>\n",
       "      <td>35.611909</td>\n",
       "      <td>36.142732</td>\n",
       "      <td>3.029052e+06</td>\n",
       "      <td>26.557742</td>\n",
       "    </tr>\n",
       "    <tr>\n",
       "      <th>std</th>\n",
       "      <td>45.736069</td>\n",
       "      <td>46.457660</td>\n",
       "      <td>45.120598</td>\n",
       "      <td>45.824327</td>\n",
       "      <td>2.673867e+06</td>\n",
       "      <td>28.209790</td>\n",
       "    </tr>\n",
       "    <tr>\n",
       "      <th>min</th>\n",
       "      <td>3.672440</td>\n",
       "      <td>3.700560</td>\n",
       "      <td>3.573190</td>\n",
       "      <td>3.636050</td>\n",
       "      <td>0.000000e+00</td>\n",
       "      <td>3.636050</td>\n",
       "    </tr>\n",
       "    <tr>\n",
       "      <th>25%</th>\n",
       "      <td>13.169700</td>\n",
       "      <td>13.385000</td>\n",
       "      <td>12.935100</td>\n",
       "      <td>13.137200</td>\n",
       "      <td>1.363400e+06</td>\n",
       "      <td>12.826130</td>\n",
       "    </tr>\n",
       "    <tr>\n",
       "      <th>50%</th>\n",
       "      <td>25.740300</td>\n",
       "      <td>26.296100</td>\n",
       "      <td>25.271100</td>\n",
       "      <td>25.870300</td>\n",
       "      <td>2.408600e+06</td>\n",
       "      <td>19.702370</td>\n",
       "    </tr>\n",
       "    <tr>\n",
       "      <th>75%</th>\n",
       "      <td>35.441700</td>\n",
       "      <td>35.802600</td>\n",
       "      <td>35.080800</td>\n",
       "      <td>35.448900</td>\n",
       "      <td>3.944200e+06</td>\n",
       "      <td>26.430480</td>\n",
       "    </tr>\n",
       "    <tr>\n",
       "      <th>max</th>\n",
       "      <td>249.174000</td>\n",
       "      <td>252.351000</td>\n",
       "      <td>247.659000</td>\n",
       "      <td>249.463000</td>\n",
       "      <td>3.692670e+07</td>\n",
       "      <td>158.919590</td>\n",
       "    </tr>\n",
       "  </tbody>\n",
       "</table>\n",
       "</div>"
      ],
      "text/plain": [
       "              Open         High          Low        Close        Volume  \\\n",
       "count  4369.000000  4369.000000  4369.000000  4369.000000  4.369000e+03   \n",
       "mean     36.147731    36.675114    35.611909    36.142732  3.029052e+06   \n",
       "std      45.736069    46.457660    45.120598    45.824327  2.673867e+06   \n",
       "min       3.672440     3.700560     3.573190     3.636050  0.000000e+00   \n",
       "25%      13.169700    13.385000    12.935100    13.137200  1.363400e+06   \n",
       "50%      25.740300    26.296100    25.271100    25.870300  2.408600e+06   \n",
       "75%      35.441700    35.802600    35.080800    35.448900  3.944200e+06   \n",
       "max     249.174000   252.351000   247.659000   249.463000  3.692670e+07   \n",
       "\n",
       "         Adj Close  \n",
       "count  4369.000000  \n",
       "mean     26.557742  \n",
       "std      28.209790  \n",
       "min       3.636050  \n",
       "25%      12.826130  \n",
       "50%      19.702370  \n",
       "75%      26.430480  \n",
       "max     158.919590  "
      ]
     },
     "execution_count": 5,
     "metadata": {},
     "output_type": "execute_result"
    }
   ],
   "source": [
    "#Standard variation between high and close\n",
    "#print(UG.columns)\n",
    "#UG.index\n",
    "UG.describe()\n",
    "\n"
   ]
  },
  {
   "cell_type": "code",
   "execution_count": 6,
   "metadata": {
    "collapsed": false
   },
   "outputs": [
    {
     "data": {
      "text/html": [
       "<div>\n",
       "<table border=\"1\" class=\"dataframe\">\n",
       "  <thead>\n",
       "    <tr style=\"text-align: right;\">\n",
       "      <th></th>\n",
       "      <th>High</th>\n",
       "      <th>Close</th>\n",
       "    </tr>\n",
       "    <tr>\n",
       "      <th>Date</th>\n",
       "      <th></th>\n",
       "      <th></th>\n",
       "    </tr>\n",
       "  </thead>\n",
       "  <tbody>\n",
       "    <tr>\n",
       "      <th>2016-10-17</th>\n",
       "      <td>13.250</td>\n",
       "      <td>13.135</td>\n",
       "    </tr>\n",
       "    <tr>\n",
       "      <th>2016-10-18</th>\n",
       "      <td>13.310</td>\n",
       "      <td>13.185</td>\n",
       "    </tr>\n",
       "    <tr>\n",
       "      <th>2016-10-19</th>\n",
       "      <td>13.285</td>\n",
       "      <td>13.145</td>\n",
       "    </tr>\n",
       "    <tr>\n",
       "      <th>2016-10-20</th>\n",
       "      <td>13.365</td>\n",
       "      <td>13.325</td>\n",
       "    </tr>\n",
       "    <tr>\n",
       "      <th>2016-10-21</th>\n",
       "      <td>13.435</td>\n",
       "      <td>13.270</td>\n",
       "    </tr>\n",
       "    <tr>\n",
       "      <th>2016-10-24</th>\n",
       "      <td>13.590</td>\n",
       "      <td>13.460</td>\n",
       "    </tr>\n",
       "    <tr>\n",
       "      <th>2016-10-25</th>\n",
       "      <td>13.595</td>\n",
       "      <td>13.290</td>\n",
       "    </tr>\n",
       "    <tr>\n",
       "      <th>2016-10-26</th>\n",
       "      <td>13.685</td>\n",
       "      <td>13.660</td>\n",
       "    </tr>\n",
       "    <tr>\n",
       "      <th>2016-10-27</th>\n",
       "      <td>13.750</td>\n",
       "      <td>13.735</td>\n",
       "    </tr>\n",
       "    <tr>\n",
       "      <th>2016-10-28</th>\n",
       "      <td>13.855</td>\n",
       "      <td>13.785</td>\n",
       "    </tr>\n",
       "  </tbody>\n",
       "</table>\n",
       "</div>"
      ],
      "text/plain": [
       "              High   Close\n",
       "Date                      \n",
       "2016-10-17  13.250  13.135\n",
       "2016-10-18  13.310  13.185\n",
       "2016-10-19  13.285  13.145\n",
       "2016-10-20  13.365  13.325\n",
       "2016-10-21  13.435  13.270\n",
       "2016-10-24  13.590  13.460\n",
       "2016-10-25  13.595  13.290\n",
       "2016-10-26  13.685  13.660\n",
       "2016-10-27  13.750  13.735\n",
       "2016-10-28  13.855  13.785"
      ]
     },
     "execution_count": 6,
     "metadata": {},
     "output_type": "execute_result"
    }
   ],
   "source": [
    "UG.High.tail(5)\n",
    "UG.loc[:,['High', 'Close']].tail(10)"
   ]
  },
  {
   "cell_type": "code",
   "execution_count": 7,
   "metadata": {
    "collapsed": false
   },
   "outputs": [
    {
     "data": {
      "text/html": [
       "<div>\n",
       "<table border=\"1\" class=\"dataframe\">\n",
       "  <thead>\n",
       "    <tr style=\"text-align: right;\">\n",
       "      <th></th>\n",
       "      <th>High</th>\n",
       "      <th>Close</th>\n",
       "    </tr>\n",
       "    <tr>\n",
       "      <th>Date</th>\n",
       "      <th></th>\n",
       "      <th></th>\n",
       "    </tr>\n",
       "  </thead>\n",
       "  <tbody>\n",
       "    <tr>\n",
       "      <th>2016-10-03</th>\n",
       "      <td>13.570</td>\n",
       "      <td>13.420</td>\n",
       "    </tr>\n",
       "    <tr>\n",
       "      <th>2016-10-04</th>\n",
       "      <td>13.920</td>\n",
       "      <td>13.840</td>\n",
       "    </tr>\n",
       "    <tr>\n",
       "      <th>2016-10-05</th>\n",
       "      <td>14.240</td>\n",
       "      <td>14.150</td>\n",
       "    </tr>\n",
       "    <tr>\n",
       "      <th>2016-10-06</th>\n",
       "      <td>14.395</td>\n",
       "      <td>14.200</td>\n",
       "    </tr>\n",
       "    <tr>\n",
       "      <th>2016-10-07</th>\n",
       "      <td>14.170</td>\n",
       "      <td>13.665</td>\n",
       "    </tr>\n",
       "    <tr>\n",
       "      <th>2016-10-10</th>\n",
       "      <td>13.780</td>\n",
       "      <td>13.615</td>\n",
       "    </tr>\n",
       "    <tr>\n",
       "      <th>2016-10-11</th>\n",
       "      <td>13.620</td>\n",
       "      <td>13.100</td>\n",
       "    </tr>\n",
       "    <tr>\n",
       "      <th>2016-10-12</th>\n",
       "      <td>13.395</td>\n",
       "      <td>13.195</td>\n",
       "    </tr>\n",
       "    <tr>\n",
       "      <th>2016-10-13</th>\n",
       "      <td>13.080</td>\n",
       "      <td>12.895</td>\n",
       "    </tr>\n",
       "    <tr>\n",
       "      <th>2016-10-14</th>\n",
       "      <td>13.090</td>\n",
       "      <td>12.880</td>\n",
       "    </tr>\n",
       "    <tr>\n",
       "      <th>2016-10-17</th>\n",
       "      <td>13.250</td>\n",
       "      <td>13.135</td>\n",
       "    </tr>\n",
       "    <tr>\n",
       "      <th>2016-10-18</th>\n",
       "      <td>13.310</td>\n",
       "      <td>13.185</td>\n",
       "    </tr>\n",
       "    <tr>\n",
       "      <th>2016-10-19</th>\n",
       "      <td>13.285</td>\n",
       "      <td>13.145</td>\n",
       "    </tr>\n",
       "    <tr>\n",
       "      <th>2016-10-20</th>\n",
       "      <td>13.365</td>\n",
       "      <td>13.325</td>\n",
       "    </tr>\n",
       "    <tr>\n",
       "      <th>2016-10-21</th>\n",
       "      <td>13.435</td>\n",
       "      <td>13.270</td>\n",
       "    </tr>\n",
       "    <tr>\n",
       "      <th>2016-10-24</th>\n",
       "      <td>13.590</td>\n",
       "      <td>13.460</td>\n",
       "    </tr>\n",
       "    <tr>\n",
       "      <th>2016-10-25</th>\n",
       "      <td>13.595</td>\n",
       "      <td>13.290</td>\n",
       "    </tr>\n",
       "    <tr>\n",
       "      <th>2016-10-26</th>\n",
       "      <td>13.685</td>\n",
       "      <td>13.660</td>\n",
       "    </tr>\n",
       "    <tr>\n",
       "      <th>2016-10-27</th>\n",
       "      <td>13.750</td>\n",
       "      <td>13.735</td>\n",
       "    </tr>\n",
       "    <tr>\n",
       "      <th>2016-10-28</th>\n",
       "      <td>13.855</td>\n",
       "      <td>13.785</td>\n",
       "    </tr>\n",
       "  </tbody>\n",
       "</table>\n",
       "</div>"
      ],
      "text/plain": [
       "              High   Close\n",
       "Date                      \n",
       "2016-10-03  13.570  13.420\n",
       "2016-10-04  13.920  13.840\n",
       "2016-10-05  14.240  14.150\n",
       "2016-10-06  14.395  14.200\n",
       "2016-10-07  14.170  13.665\n",
       "2016-10-10  13.780  13.615\n",
       "2016-10-11  13.620  13.100\n",
       "2016-10-12  13.395  13.195\n",
       "2016-10-13  13.080  12.895\n",
       "2016-10-14  13.090  12.880\n",
       "2016-10-17  13.250  13.135\n",
       "2016-10-18  13.310  13.185\n",
       "2016-10-19  13.285  13.145\n",
       "2016-10-20  13.365  13.325\n",
       "2016-10-21  13.435  13.270\n",
       "2016-10-24  13.590  13.460\n",
       "2016-10-25  13.595  13.290\n",
       "2016-10-26  13.685  13.660\n",
       "2016-10-27  13.750  13.735\n",
       "2016-10-28  13.855  13.785"
      ]
     },
     "execution_count": 7,
     "metadata": {},
     "output_type": "execute_result"
    }
   ],
   "source": [
    "UG.loc['2016-10-01':'2016-10-28', ['High', 'Close']]"
   ]
  },
  {
   "cell_type": "code",
   "execution_count": 8,
   "metadata": {
    "collapsed": false
   },
   "outputs": [
    {
     "data": {
      "text/plain": [
       "13.25"
      ]
     },
     "execution_count": 8,
     "metadata": {},
     "output_type": "execute_result"
    }
   ],
   "source": [
    "UG.loc['2016-10-17', 'High']"
   ]
  },
  {
   "cell_type": "code",
   "execution_count": 9,
   "metadata": {
    "collapsed": false
   },
   "outputs": [
    {
     "data": {
      "text/html": [
       "<div>\n",
       "<table border=\"1\" class=\"dataframe\">\n",
       "  <thead>\n",
       "    <tr style=\"text-align: right;\">\n",
       "      <th></th>\n",
       "      <th>Open</th>\n",
       "      <th>High</th>\n",
       "      <th>Low</th>\n",
       "      <th>Close</th>\n",
       "      <th>Volume</th>\n",
       "      <th>Adj Close</th>\n",
       "    </tr>\n",
       "    <tr>\n",
       "      <th>Date</th>\n",
       "      <th></th>\n",
       "      <th></th>\n",
       "      <th></th>\n",
       "      <th></th>\n",
       "      <th></th>\n",
       "      <th></th>\n",
       "    </tr>\n",
       "  </thead>\n",
       "  <tbody>\n",
       "    <tr>\n",
       "      <th>2016-10-24</th>\n",
       "      <td>13.330</td>\n",
       "      <td>13.590</td>\n",
       "      <td>13.330</td>\n",
       "      <td>13.460</td>\n",
       "      <td>3202500</td>\n",
       "      <td>13.460</td>\n",
       "    </tr>\n",
       "    <tr>\n",
       "      <th>2016-10-25</th>\n",
       "      <td>13.500</td>\n",
       "      <td>13.595</td>\n",
       "      <td>13.200</td>\n",
       "      <td>13.290</td>\n",
       "      <td>4141200</td>\n",
       "      <td>13.290</td>\n",
       "    </tr>\n",
       "    <tr>\n",
       "      <th>2016-10-26</th>\n",
       "      <td>12.700</td>\n",
       "      <td>13.685</td>\n",
       "      <td>12.600</td>\n",
       "      <td>13.660</td>\n",
       "      <td>7934500</td>\n",
       "      <td>13.660</td>\n",
       "    </tr>\n",
       "    <tr>\n",
       "      <th>2016-10-27</th>\n",
       "      <td>13.615</td>\n",
       "      <td>13.750</td>\n",
       "      <td>13.375</td>\n",
       "      <td>13.735</td>\n",
       "      <td>3815500</td>\n",
       "      <td>13.735</td>\n",
       "    </tr>\n",
       "    <tr>\n",
       "      <th>2016-10-28</th>\n",
       "      <td>13.610</td>\n",
       "      <td>13.855</td>\n",
       "      <td>13.480</td>\n",
       "      <td>13.785</td>\n",
       "      <td>3343600</td>\n",
       "      <td>13.785</td>\n",
       "    </tr>\n",
       "  </tbody>\n",
       "</table>\n",
       "</div>"
      ],
      "text/plain": [
       "              Open    High     Low   Close   Volume  Adj Close\n",
       "Date                                                          \n",
       "2016-10-24  13.330  13.590  13.330  13.460  3202500     13.460\n",
       "2016-10-25  13.500  13.595  13.200  13.290  4141200     13.290\n",
       "2016-10-26  12.700  13.685  12.600  13.660  7934500     13.660\n",
       "2016-10-27  13.615  13.750  13.375  13.735  3815500     13.735\n",
       "2016-10-28  13.610  13.855  13.480  13.785  3343600     13.785"
      ]
     },
     "execution_count": 9,
     "metadata": {},
     "output_type": "execute_result"
    }
   ],
   "source": [
    "UG.iloc[-5:,:]"
   ]
  },
  {
   "cell_type": "code",
   "execution_count": 10,
   "metadata": {
    "collapsed": false
   },
   "outputs": [
    {
     "data": {
      "text/plain": [
       "Open         7\n",
       "High         7\n",
       "Low          7\n",
       "Close        7\n",
       "Volume       7\n",
       "Adj Close    7\n",
       "dtype: int64"
      ]
     },
     "execution_count": 10,
     "metadata": {},
     "output_type": "execute_result"
    }
   ],
   "source": [
    "UG.iloc[-7:,:].count()"
   ]
  },
  {
   "cell_type": "code",
   "execution_count": 12,
   "metadata": {
    "collapsed": false
   },
   "outputs": [
    {
     "name": "stdout",
     "output_type": "stream",
     "text": [
      "#days where Close where % Lower than Open:  18\n",
      "              Open   Close    Volume\n",
      "Date                                \n",
      "2016-01-04  15.950  15.470   4211100\n",
      "2016-01-06  15.535  14.790   5314800\n",
      "2016-01-13  15.230  14.750   3599200\n",
      "2016-01-14  14.525  14.005  12003000\n",
      "2016-02-02  13.570  13.105   3744500\n",
      "2016-02-04  13.080  12.675   6871200\n",
      "2016-02-08  12.835  12.305   4978800\n",
      "2016-02-24  14.370  13.865  10584900\n",
      "2016-02-25  14.280  13.475  13581600\n",
      "2016-03-10  14.720  14.140   6318400\n",
      "2016-05-03  13.925  13.455   3973500\n",
      "2016-05-17  13.575  12.990   5927000\n",
      "2016-06-03  14.400  13.895   3896400\n",
      "2016-06-27  11.900  10.655  16739100\n",
      "2016-07-04  11.650  11.230   4098400\n",
      "2016-07-05  11.115  10.620   6718800\n",
      "2016-10-07  14.165  13.665   7369000\n",
      "2016-10-11  13.615  13.100   8297500\n",
      "#days where Close where % higher than Open:  21\n",
      "              Open   Close    Volume\n",
      "Date                                \n",
      "2016-01-12  14.310  14.975   5075000\n",
      "2016-01-21  13.210  13.895   6195900\n",
      "2016-01-26  13.450  14.160   4176400\n",
      "2016-02-17  12.830  13.380   4127500\n",
      "2016-03-01  13.865  14.475   5561700\n",
      "2016-03-03  14.585  15.030   4807300\n",
      "2016-03-11  14.480  14.945   6637700\n",
      "2016-04-19  13.845  14.300   5565900\n",
      "2016-04-28  13.950  14.490   4482300\n",
      "2016-05-24  13.000  13.475   3472400\n",
      "2016-06-17  12.795  13.180   6461400\n",
      "2016-06-23  13.705  14.310   5063600\n",
      "2016-06-24  10.350  11.710  22957300\n",
      "2016-07-01  10.865  11.540   8723300\n",
      "2016-07-08  10.470  11.020   5777700\n",
      "2016-07-12  11.260  11.895   8589400\n",
      "2016-07-27  13.120  13.640  13179200\n",
      "2016-08-05  12.780  13.215   3497600\n",
      "2016-09-30  13.195  13.595   3963800\n",
      "2016-10-05  13.700  14.150   5772100\n",
      "2016-10-26  12.700  13.660   7934500\n"
     ]
    }
   ],
   "source": [
    "threshold = 0.03\n",
    "UG_2016 = UG.loc['2016-01-01':, ['Open', 'Close', 'Volume']]\n",
    "df = UG_2016\n",
    "#print('#days where High > Close:', UG[UG.High>UG.Close].High.count())\n",
    "#print('#days where Low < Close:', UG[UG.Low==UG.Close].Close.count())\n",
    "print('#days where Close where % Lower than Open: ', df[df.Close<df.Open*(1-threshold)].Open.count())\n",
    "print(df[df.Close<df.Open*(1-threshold)])\n",
    "print('#days where Close where % higher than Open: ', df[df.Close>df.Open*(1+threshold)].Open.count())\n",
    "print(df[df.Close>df.Open*(1+threshold)])\n",
    "\n"
   ]
  },
  {
   "cell_type": "markdown",
   "metadata": {},
   "source": [
    "## Simple idea: Search pattern\n",
    "\n",
    "Find all days where var > %3%, then search pattern in [1, 2, 3... 10] previous days.\n"
   ]
  },
  {
   "cell_type": "code",
   "execution_count": 78,
   "metadata": {
    "collapsed": false
   },
   "outputs": [
    {
     "name": "stdout",
     "output_type": "stream",
     "text": [
      "#days where Close is x% higher than Open:  39\n",
      "#days where Close is x% higher than Open:  113\n"
     ]
    }
   ],
   "source": [
    "threshold = 0.03\n",
    "UG_2015_16 = UG.loc['2015-01-01':, ['Open', 'Close', 'Volume']]\n",
    "df = UG_2015_16\n",
    "\n",
    "print('#days where Close is x% higher than Open: ', df[df.Close>df.Open*(1+threshold)].Open.count())\n",
    "#print(df[df.Close>=df.Open*(1+threshold)])\n",
    "\n",
    "RNO_2015_16 = RNO.loc['2010-01-01':, ['Open', 'Close', 'Volume']]\n",
    "df = RNO_2015_16\n",
    "\n",
    "print('#days where Close is x% higher than Open: ', df[df.Close>df.Open*(1+threshold)].Open.count())\n",
    "#print(df[df.Close>=df.Open*(1+threshold)])\n",
    "\n"
   ]
  },
  {
   "cell_type": "code",
   "execution_count": 119,
   "metadata": {
    "collapsed": false
   },
   "outputs": [
    {
     "data": {
      "text/plain": [
       "masked_array(data = [-- -- -- -- -- -- -- -- -- -- -- -- -- -- -- 12.09 -- -- -- -- -- -- -- --\n",
       " -- -- -- -- 13.29 -- -- -- -- -- -- -- -- -- -- -- 14.91 -- -- -- 15.175\n",
       " -- -- -- -- 16.775 -- -- -- -- -- -- -- -- -- -- 15.435 -- -- -- -- -- --\n",
       " -- -- -- -- -- -- -- -- -- -- -- -- -- -- -- -- -- -- 16.9 -- -- -- -- --\n",
       " -- -- -- -- -- -- -- -- -- -- -- -- -- 19.475 -- -- -- -- -- -- -- -- --\n",
       " -- -- -- -- -- -- -- 18.02 -- -- -- -- -- 18.7 -- -- -- -- -- -- -- 17.855\n",
       " -- -- -- -- -- -- -- -- -- -- -- -- -- -- -- -- -- -- -- -- -- -- -- -- --\n",
       " -- -- -- -- -- -- -- 15.505 -- -- -- -- -- -- 15.69 -- -- -- -- -- -- --\n",
       " -- -- -- -- -- -- -- -- -- -- 12.645 -- -- -- -- 14.02 -- -- -- -- -- --\n",
       " -- -- -- -- -- 15.845 -- -- -- -- -- -- 16.285 -- -- -- -- -- -- -- -- --\n",
       " -- -- -- -- -- -- -- -- -- -- 16.91 -- -- -- -- -- -- -- -- -- -- -- -- --\n",
       " -- -- -- -- -- -- -- -- -- -- -- -- -- -- -- -- -- 14.975 -- -- -- -- --\n",
       " -- 13.895 -- -- 14.16 -- -- -- -- -- -- -- -- -- -- -- -- -- -- -- 13.38\n",
       " -- -- -- -- -- -- -- -- 14.475 -- 15.03 -- -- -- -- -- 14.945 -- -- -- --\n",
       " -- -- -- -- -- -- -- -- -- -- -- -- -- -- -- -- -- -- -- -- -- -- 14.3 --\n",
       " -- -- -- -- -- 14.49 -- -- -- -- -- -- -- -- -- -- -- -- -- -- -- -- --\n",
       " 13.475 -- -- -- -- -- -- -- -- -- -- -- -- -- -- -- -- -- 13.18 -- -- --\n",
       " 14.31 11.71 -- -- -- -- 11.54 -- -- -- -- 11.02 -- 11.895 -- -- -- -- --\n",
       " -- -- -- -- -- 13.64 -- -- -- -- -- -- 13.215 -- -- -- -- -- -- -- -- --\n",
       " -- -- -- -- -- -- -- -- -- -- -- -- -- -- -- -- -- -- -- -- -- -- -- -- --\n",
       " -- -- -- -- -- 13.595 -- -- 14.15 -- -- -- -- -- -- -- -- -- -- -- -- --\n",
       " -- 13.66 -- --],\n",
       "             mask = [ True  True  True  True  True  True  True  True  True  True  True  True\n",
       "  True  True  True False  True  True  True  True  True  True  True  True\n",
       "  True  True  True  True False  True  True  True  True  True  True  True\n",
       "  True  True  True  True False  True  True  True False  True  True  True\n",
       "  True False  True  True  True  True  True  True  True  True  True  True\n",
       " False  True  True  True  True  True  True  True  True  True  True  True\n",
       "  True  True  True  True  True  True  True  True  True  True  True  True\n",
       "  True False  True  True  True  True  True  True  True  True  True  True\n",
       "  True  True  True  True  True  True  True  True False  True  True  True\n",
       "  True  True  True  True  True  True  True  True  True  True  True  True\n",
       "  True False  True  True  True  True  True False  True  True  True  True\n",
       "  True  True  True False  True  True  True  True  True  True  True  True\n",
       "  True  True  True  True  True  True  True  True  True  True  True  True\n",
       "  True  True  True  True  True  True  True  True  True  True  True  True\n",
       " False  True  True  True  True  True  True False  True  True  True  True\n",
       "  True  True  True  True  True  True  True  True  True  True  True  True\n",
       "  True False  True  True  True  True False  True  True  True  True  True\n",
       "  True  True  True  True  True  True False  True  True  True  True  True\n",
       "  True False  True  True  True  True  True  True  True  True  True  True\n",
       "  True  True  True  True  True  True  True  True  True False  True  True\n",
       "  True  True  True  True  True  True  True  True  True  True  True  True\n",
       "  True  True  True  True  True  True  True  True  True  True  True  True\n",
       "  True  True  True  True False  True  True  True  True  True  True False\n",
       "  True  True False  True  True  True  True  True  True  True  True  True\n",
       "  True  True  True  True  True  True False  True  True  True  True  True\n",
       "  True  True  True False  True False  True  True  True  True  True False\n",
       "  True  True  True  True  True  True  True  True  True  True  True  True\n",
       "  True  True  True  True  True  True  True  True  True  True  True  True\n",
       "  True  True False  True  True  True  True  True  True False  True  True\n",
       "  True  True  True  True  True  True  True  True  True  True  True  True\n",
       "  True  True  True False  True  True  True  True  True  True  True  True\n",
       "  True  True  True  True  True  True  True  True  True False  True  True\n",
       "  True False False  True  True  True  True False  True  True  True  True\n",
       " False  True False  True  True  True  True  True  True  True  True  True\n",
       "  True False  True  True  True  True  True  True False  True  True  True\n",
       "  True  True  True  True  True  True  True  True  True  True  True  True\n",
       "  True  True  True  True  True  True  True  True  True  True  True  True\n",
       "  True  True  True  True  True  True  True  True  True  True  True  True\n",
       " False  True  True False  True  True  True  True  True  True  True  True\n",
       "  True  True  True  True  True  True False  True  True],\n",
       "       fill_value = 1e+20)"
      ]
     },
     "execution_count": 119,
     "metadata": {},
     "output_type": "execute_result"
    }
   ],
   "source": [
    "import numpy as np\n",
    "import numpy.ma as ma\n",
    "\n",
    "df = UG_2015_16\n",
    "df['up'] = np.where(df.Close>df.Open*(1+threshold), 1, 0)\n",
    "\n",
    "df_mark = df[df.Close>df.Open*(1+threshold)]\n",
    "\n",
    "mask_up = ma.masked_where(df.Close<df.Open*(1+threshold), df.Close)\n",
    "mask_up\n"
   ]
  },
  {
   "cell_type": "code",
   "execution_count": 123,
   "metadata": {
    "collapsed": false
   },
   "outputs": [
    {
     "data": {
      "text/plain": [
       "<matplotlib.collections.PathCollection at 0x1c9c731f6d8>"
      ]
     },
     "execution_count": 123,
     "metadata": {},
     "output_type": "execute_result"
    },
    {
     "data": {
      "image/png": "[encoded data removed]",
      "text/plain": [
       "<matplotlib.figure.Figure at 0x1c9c5dcd550>"
      ]
     },
     "metadata": {},
     "output_type": "display_data"
    }
   ],
   "source": [
    "import matplotlib.pyplot as plt\n",
    "%matplotlib inline\n",
    "\n",
    "plt.figure(figsize=(16,10))\n",
    "plt.plot(df.index, df['Close'], 'b', df.index, mask_up, 'x')\n",
    "plt.plot(df.index, mask_up, 'x')\n",
    "\n",
    "plt.scatter(df_mark.index, df_mark['Close'], c='green', linewidths=0, s=45)\n",
    "\n"
   ]
  },
  {
   "cell_type": "code",
   "execution_count": null,
   "metadata": {
    "collapsed": true
   },
   "outputs": [],
   "source": []
  },
  {
   "cell_type": "code",
   "execution_count": null,
   "metadata": {
    "collapsed": true
   },
   "outputs": [],
   "source": []
  }
 ],
 "metadata": {
  "kernelspec": {
   "display_name": "Python 3",
   "language": "python",
   "name": "python3"
  },
  "language_info": {
   "codemirror_mode": {
    "name": "ipython",
    "version": 3
   },
   "file_extension": ".py",
   "mimetype": "text/x-python",
   "name": "python",
   "nbconvert_exporter": "python",
   "pygments_lexer": "ipython3",
   "version": "3.5.2"
  }
 },
 "nbformat": 4,
 "nbformat_minor": 0
}
