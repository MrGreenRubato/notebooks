{
 "cells": [
  {
   "cell_type": "code",
   "execution_count": 1,
   "metadata": {
    "collapsed": true
   },
   "outputs": [],
   "source": [
    "import numpy as np\n",
    "import pandas as pd\n",
    "import matplotlib.pyplot as plt\n"
   ]
  },
  {
   "cell_type": "markdown",
   "metadata": {},
   "source": [
    "## Creating a serie a let pandas create the index\n"
   ]
  },
  {
   "cell_type": "code",
   "execution_count": 3,
   "metadata": {
    "collapsed": false
   },
   "outputs": [
    {
     "data": {
      "text/plain": [
       "0     1.0\n",
       "1     3.0\n",
       "2     7.0\n",
       "3     NaN\n",
       "4     9.0\n",
       "5    10.0\n",
       "dtype: float64"
      ]
     },
     "execution_count": 3,
     "metadata": {},
     "output_type": "execute_result"
    }
   ],
   "source": [
    "s = pd.Series([1,3,7,np.nan, 9, 10])\n",
    "s"
   ]
  },
  {
   "cell_type": "markdown",
   "metadata": {},
   "source": [
    "## Dates\n"
   ]
  },
  {
   "cell_type": "code",
   "execution_count": 9,
   "metadata": {
    "collapsed": false
   },
   "outputs": [
    {
     "name": "stdout",
     "output_type": "stream",
     "text": [
      "DatetimeIndex(['2016-10-06', '2016-10-07', '2016-10-08', '2016-10-09',\n",
      "               '2016-10-10', '2016-10-11'],\n",
      "              dtype='datetime64[ns]', freq='D')\n",
      "                   A         B         C         D\n",
      "2016-10-06  1.114974 -1.414888 -0.415034  1.157864\n",
      "2016-10-07  0.895094 -0.445768  0.323698  0.943734\n",
      "2016-10-08 -0.086677  1.264045 -0.022873 -0.855546\n",
      "2016-10-09  0.172448 -2.000734 -0.359776 -0.379633\n",
      "2016-10-10 -0.713382 -1.717050 -0.567398 -0.178038\n",
      "2016-10-11  0.089541 -0.517185  0.345298  0.632937\n"
     ]
    }
   ],
   "source": [
    "dates = pd.date_range('20161006', periods=6)\n",
    "print(dates)\n",
    "\n",
    "df = pd.DataFrame(np.random.randn(6,4), index=dates, columns=list('ABCD'))\n",
    "print(df)\n"
   ]
  },
  {
   "cell_type": "code",
   "execution_count": 11,
   "metadata": {
    "collapsed": false
   },
   "outputs": [
    {
     "name": "stdout",
     "output_type": "stream",
     "text": [
      "     A          B    C  D      E    F\n",
      "0  1.0 2013-01-02  1.0  3   test  foo\n",
      "1  1.0 2013-01-02  1.0  3  train  foo\n",
      "2  1.0 2013-01-02  1.0  3   test  foo\n",
      "3  1.0 2013-01-02  1.0  3  train  foo\n",
      "A           float64\n",
      "B    datetime64[ns]\n",
      "C           float32\n",
      "D             int32\n",
      "E          category\n",
      "F            object\n",
      "dtype: object\n"
     ]
    }
   ],
   "source": [
    "df2 = pd.DataFrame({'A' : 1.,\n",
    "                    'B' : pd.Timestamp('20130102'),\n",
    "                    'C' : pd.Series(1,index=list(range(4)),dtype='float32'),\n",
    "                    'D' : np.array([3] * 4,dtype='int32'),\n",
    "                    'E' : pd.Categorical([\"test\",\"train\",\"test\",\"train\"]),\n",
    "                    'F' : 'foo' })\n",
    "print(df2)\n",
    "print(df2.dtypes)"
   ]
  },
  {
   "cell_type": "markdown",
   "metadata": {},
   "source": [
    "## Data visualization"
   ]
  },
  {
   "cell_type": "code",
   "execution_count": 13,
   "metadata": {
    "collapsed": false
   },
   "outputs": [
    {
     "data": {
      "text/html": [
       "<div>\n",
       "<table border=\"1\" class=\"dataframe\">\n",
       "  <thead>\n",
       "    <tr style=\"text-align: right;\">\n",
       "      <th></th>\n",
       "      <th>A</th>\n",
       "      <th>B</th>\n",
       "      <th>C</th>\n",
       "      <th>D</th>\n",
       "    </tr>\n",
       "  </thead>\n",
       "  <tbody>\n",
       "    <tr>\n",
       "      <th>2016-10-06</th>\n",
       "      <td>1.114974</td>\n",
       "      <td>-1.414888</td>\n",
       "      <td>-0.415034</td>\n",
       "      <td>1.157864</td>\n",
       "    </tr>\n",
       "    <tr>\n",
       "      <th>2016-10-07</th>\n",
       "      <td>0.895094</td>\n",
       "      <td>-0.445768</td>\n",
       "      <td>0.323698</td>\n",
       "      <td>0.943734</td>\n",
       "    </tr>\n",
       "    <tr>\n",
       "      <th>2016-10-08</th>\n",
       "      <td>-0.086677</td>\n",
       "      <td>1.264045</td>\n",
       "      <td>-0.022873</td>\n",
       "      <td>-0.855546</td>\n",
       "    </tr>\n",
       "  </tbody>\n",
       "</table>\n",
       "</div>"
      ],
      "text/plain": [
       "                   A         B         C         D\n",
       "2016-10-06  1.114974 -1.414888 -0.415034  1.157864\n",
       "2016-10-07  0.895094 -0.445768  0.323698  0.943734\n",
       "2016-10-08 -0.086677  1.264045 -0.022873 -0.855546"
      ]
     },
     "execution_count": 13,
     "metadata": {},
     "output_type": "execute_result"
    }
   ],
   "source": [
    "df.head(3)"
   ]
  },
  {
   "cell_type": "code",
   "execution_count": 14,
   "metadata": {
    "collapsed": false
   },
   "outputs": [
    {
     "data": {
      "text/html": [
       "<div>\n",
       "<table border=\"1\" class=\"dataframe\">\n",
       "  <thead>\n",
       "    <tr style=\"text-align: right;\">\n",
       "      <th></th>\n",
       "      <th>A</th>\n",
       "      <th>B</th>\n",
       "      <th>C</th>\n",
       "      <th>D</th>\n",
       "    </tr>\n",
       "  </thead>\n",
       "  <tbody>\n",
       "    <tr>\n",
       "      <th>2016-10-09</th>\n",
       "      <td>0.172448</td>\n",
       "      <td>-2.000734</td>\n",
       "      <td>-0.359776</td>\n",
       "      <td>-0.379633</td>\n",
       "    </tr>\n",
       "    <tr>\n",
       "      <th>2016-10-10</th>\n",
       "      <td>-0.713382</td>\n",
       "      <td>-1.717050</td>\n",
       "      <td>-0.567398</td>\n",
       "      <td>-0.178038</td>\n",
       "    </tr>\n",
       "    <tr>\n",
       "      <th>2016-10-11</th>\n",
       "      <td>0.089541</td>\n",
       "      <td>-0.517185</td>\n",
       "      <td>0.345298</td>\n",
       "      <td>0.632937</td>\n",
       "    </tr>\n",
       "  </tbody>\n",
       "</table>\n",
       "</div>"
      ],
      "text/plain": [
       "                   A         B         C         D\n",
       "2016-10-09  0.172448 -2.000734 -0.359776 -0.379633\n",
       "2016-10-10 -0.713382 -1.717050 -0.567398 -0.178038\n",
       "2016-10-11  0.089541 -0.517185  0.345298  0.632937"
      ]
     },
     "execution_count": 14,
     "metadata": {},
     "output_type": "execute_result"
    }
   ],
   "source": [
    "df.tail(3)"
   ]
  },
  {
   "cell_type": "code",
   "execution_count": 16,
   "metadata": {
    "collapsed": false
   },
   "outputs": [
    {
     "name": "stdout",
     "output_type": "stream",
     "text": [
      "index:  DatetimeIndex(['2016-10-06', '2016-10-07', '2016-10-08', '2016-10-09',\n",
      "               '2016-10-10', '2016-10-11'],\n",
      "              dtype='datetime64[ns]', freq='D')\n",
      "columns:  Index(['A', 'B', 'C', 'D'], dtype='object')\n",
      "values:  [[ 1.11497387 -1.41488821 -0.41503401  1.1578644 ]\n",
      " [ 0.89509361 -0.44576817  0.32369795  0.94373422]\n",
      " [-0.08667659  1.26404468 -0.02287254 -0.85554615]\n",
      " [ 0.17244794 -2.00073427 -0.35977586 -0.37963263]\n",
      " [-0.71338178 -1.71705026 -0.56739824 -0.17803813]\n",
      " [ 0.08954054 -0.5171846   0.3452983   0.63293729]]\n"
     ]
    }
   ],
   "source": [
    "print('index: ', df.index)\n",
    "print('columns: ', df.columns)\n",
    "print('values: ', df.values)"
   ]
  },
  {
   "cell_type": "code",
   "execution_count": 17,
   "metadata": {
    "collapsed": false
   },
   "outputs": [
    {
     "name": "stdout",
     "output_type": "stream",
     "text": [
      "describe (quick statistics):               A         B         C         D\n",
      "count  6.000000  6.000000  6.000000  6.000000\n",
      "mean   0.245333 -0.805263 -0.116014  0.220220\n",
      "std    0.668941  1.193852  0.391768  0.806063\n",
      "min   -0.713382 -2.000734 -0.567398 -0.855546\n",
      "25%   -0.042622 -1.641510 -0.401219 -0.329234\n",
      "50%    0.130994 -0.966036 -0.191324  0.227450\n",
      "75%    0.714432 -0.463622  0.237055  0.866035\n",
      "max    1.114974  1.264045  0.345298  1.157864\n"
     ]
    }
   ],
   "source": [
    "print('describe (quick statistics):', df.describe())"
   ]
  },
  {
   "cell_type": "markdown",
   "metadata": {},
   "source": [
    "### transposing data"
   ]
  },
  {
   "cell_type": "code",
   "execution_count": 18,
   "metadata": {
    "collapsed": false
   },
   "outputs": [
    {
     "name": "stdout",
     "output_type": "stream",
     "text": [
      "df.transpose()    2016-10-06  2016-10-07  2016-10-08  2016-10-09  2016-10-10  2016-10-11\n",
      "A    1.114974    0.895094   -0.086677    0.172448   -0.713382    0.089541\n",
      "B   -1.414888   -0.445768    1.264045   -2.000734   -1.717050   -0.517185\n",
      "C   -0.415034    0.323698   -0.022873   -0.359776   -0.567398    0.345298\n",
      "D    1.157864    0.943734   -0.855546   -0.379633   -0.178038    0.632937\n"
     ]
    }
   ],
   "source": [
    "print('df.transpose()', df.T)"
   ]
  },
  {
   "cell_type": "markdown",
   "metadata": {},
   "source": [
    "## Sorting by an axis\n"
   ]
  },
  {
   "cell_type": "code",
   "execution_count": 27,
   "metadata": {
    "collapsed": false
   },
   "outputs": [
    {
     "name": "stdout",
     "output_type": "stream",
     "text": [
      "sort col in reverse order: \n",
      "\n"
     ]
    },
    {
     "data": {
      "text/html": [
       "<div>\n",
       "<table border=\"1\" class=\"dataframe\">\n",
       "  <thead>\n",
       "    <tr style=\"text-align: right;\">\n",
       "      <th></th>\n",
       "      <th>D</th>\n",
       "      <th>C</th>\n",
       "      <th>B</th>\n",
       "      <th>A</th>\n",
       "    </tr>\n",
       "  </thead>\n",
       "  <tbody>\n",
       "    <tr>\n",
       "      <th>2016-10-06</th>\n",
       "      <td>1.157864</td>\n",
       "      <td>-0.415034</td>\n",
       "      <td>-1.414888</td>\n",
       "      <td>1.114974</td>\n",
       "    </tr>\n",
       "    <tr>\n",
       "      <th>2016-10-07</th>\n",
       "      <td>0.943734</td>\n",
       "      <td>0.323698</td>\n",
       "      <td>-0.445768</td>\n",
       "      <td>0.895094</td>\n",
       "    </tr>\n",
       "    <tr>\n",
       "      <th>2016-10-08</th>\n",
       "      <td>-0.855546</td>\n",
       "      <td>-0.022873</td>\n",
       "      <td>1.264045</td>\n",
       "      <td>-0.086677</td>\n",
       "    </tr>\n",
       "    <tr>\n",
       "      <th>2016-10-09</th>\n",
       "      <td>-0.379633</td>\n",
       "      <td>-0.359776</td>\n",
       "      <td>-2.000734</td>\n",
       "      <td>0.172448</td>\n",
       "    </tr>\n",
       "    <tr>\n",
       "      <th>2016-10-10</th>\n",
       "      <td>-0.178038</td>\n",
       "      <td>-0.567398</td>\n",
       "      <td>-1.717050</td>\n",
       "      <td>-0.713382</td>\n",
       "    </tr>\n",
       "    <tr>\n",
       "      <th>2016-10-11</th>\n",
       "      <td>0.632937</td>\n",
       "      <td>0.345298</td>\n",
       "      <td>-0.517185</td>\n",
       "      <td>0.089541</td>\n",
       "    </tr>\n",
       "  </tbody>\n",
       "</table>\n",
       "</div>"
      ],
      "text/plain": [
       "                   D         C         B         A\n",
       "2016-10-06  1.157864 -0.415034 -1.414888  1.114974\n",
       "2016-10-07  0.943734  0.323698 -0.445768  0.895094\n",
       "2016-10-08 -0.855546 -0.022873  1.264045 -0.086677\n",
       "2016-10-09 -0.379633 -0.359776 -2.000734  0.172448\n",
       "2016-10-10 -0.178038 -0.567398 -1.717050 -0.713382\n",
       "2016-10-11  0.632937  0.345298 -0.517185  0.089541"
      ]
     },
     "execution_count": 27,
     "metadata": {},
     "output_type": "execute_result"
    }
   ],
   "source": [
    "print('sort col in reverse order: \\n')\n",
    "df.sort_index(axis=1, ascending=False)"
   ]
  },
  {
   "cell_type": "code",
   "execution_count": 28,
   "metadata": {
    "collapsed": false
   },
   "outputs": [
    {
     "name": "stdout",
     "output_type": "stream",
     "text": [
      "sort rows in reverse order: \n",
      "\n"
     ]
    },
    {
     "data": {
      "text/html": [
       "<div>\n",
       "<table border=\"1\" class=\"dataframe\">\n",
       "  <thead>\n",
       "    <tr style=\"text-align: right;\">\n",
       "      <th></th>\n",
       "      <th>A</th>\n",
       "      <th>B</th>\n",
       "      <th>C</th>\n",
       "      <th>D</th>\n",
       "    </tr>\n",
       "  </thead>\n",
       "  <tbody>\n",
       "    <tr>\n",
       "      <th>2016-10-11</th>\n",
       "      <td>0.089541</td>\n",
       "      <td>-0.517185</td>\n",
       "      <td>0.345298</td>\n",
       "      <td>0.632937</td>\n",
       "    </tr>\n",
       "    <tr>\n",
       "      <th>2016-10-10</th>\n",
       "      <td>-0.713382</td>\n",
       "      <td>-1.717050</td>\n",
       "      <td>-0.567398</td>\n",
       "      <td>-0.178038</td>\n",
       "    </tr>\n",
       "    <tr>\n",
       "      <th>2016-10-09</th>\n",
       "      <td>0.172448</td>\n",
       "      <td>-2.000734</td>\n",
       "      <td>-0.359776</td>\n",
       "      <td>-0.379633</td>\n",
       "    </tr>\n",
       "    <tr>\n",
       "      <th>2016-10-08</th>\n",
       "      <td>-0.086677</td>\n",
       "      <td>1.264045</td>\n",
       "      <td>-0.022873</td>\n",
       "      <td>-0.855546</td>\n",
       "    </tr>\n",
       "    <tr>\n",
       "      <th>2016-10-07</th>\n",
       "      <td>0.895094</td>\n",
       "      <td>-0.445768</td>\n",
       "      <td>0.323698</td>\n",
       "      <td>0.943734</td>\n",
       "    </tr>\n",
       "    <tr>\n",
       "      <th>2016-10-06</th>\n",
       "      <td>1.114974</td>\n",
       "      <td>-1.414888</td>\n",
       "      <td>-0.415034</td>\n",
       "      <td>1.157864</td>\n",
       "    </tr>\n",
       "  </tbody>\n",
       "</table>\n",
       "</div>"
      ],
      "text/plain": [
       "                   A         B         C         D\n",
       "2016-10-11  0.089541 -0.517185  0.345298  0.632937\n",
       "2016-10-10 -0.713382 -1.717050 -0.567398 -0.178038\n",
       "2016-10-09  0.172448 -2.000734 -0.359776 -0.379633\n",
       "2016-10-08 -0.086677  1.264045 -0.022873 -0.855546\n",
       "2016-10-07  0.895094 -0.445768  0.323698  0.943734\n",
       "2016-10-06  1.114974 -1.414888 -0.415034  1.157864"
      ]
     },
     "execution_count": 28,
     "metadata": {},
     "output_type": "execute_result"
    }
   ],
   "source": [
    "print('sort rows in reverse order: \\n')\n",
    "df.sort_index(axis=0, ascending=False)"
   ]
  },
  {
   "cell_type": "markdown",
   "metadata": {},
   "source": [
    "## Sort by values"
   ]
  },
  {
   "cell_type": "code",
   "execution_count": 29,
   "metadata": {
    "collapsed": false
   },
   "outputs": [
    {
     "name": "stdout",
     "output_type": "stream",
     "text": [
      "sort by B column:\n"
     ]
    },
    {
     "data": {
      "text/html": [
       "<div>\n",
       "<table border=\"1\" class=\"dataframe\">\n",
       "  <thead>\n",
       "    <tr style=\"text-align: right;\">\n",
       "      <th></th>\n",
       "      <th>A</th>\n",
       "      <th>B</th>\n",
       "      <th>C</th>\n",
       "      <th>D</th>\n",
       "    </tr>\n",
       "  </thead>\n",
       "  <tbody>\n",
       "    <tr>\n",
       "      <th>2016-10-09</th>\n",
       "      <td>0.172448</td>\n",
       "      <td>-2.000734</td>\n",
       "      <td>-0.359776</td>\n",
       "      <td>-0.379633</td>\n",
       "    </tr>\n",
       "    <tr>\n",
       "      <th>2016-10-10</th>\n",
       "      <td>-0.713382</td>\n",
       "      <td>-1.717050</td>\n",
       "      <td>-0.567398</td>\n",
       "      <td>-0.178038</td>\n",
       "    </tr>\n",
       "    <tr>\n",
       "      <th>2016-10-06</th>\n",
       "      <td>1.114974</td>\n",
       "      <td>-1.414888</td>\n",
       "      <td>-0.415034</td>\n",
       "      <td>1.157864</td>\n",
       "    </tr>\n",
       "    <tr>\n",
       "      <th>2016-10-11</th>\n",
       "      <td>0.089541</td>\n",
       "      <td>-0.517185</td>\n",
       "      <td>0.345298</td>\n",
       "      <td>0.632937</td>\n",
       "    </tr>\n",
       "    <tr>\n",
       "      <th>2016-10-07</th>\n",
       "      <td>0.895094</td>\n",
       "      <td>-0.445768</td>\n",
       "      <td>0.323698</td>\n",
       "      <td>0.943734</td>\n",
       "    </tr>\n",
       "    <tr>\n",
       "      <th>2016-10-08</th>\n",
       "      <td>-0.086677</td>\n",
       "      <td>1.264045</td>\n",
       "      <td>-0.022873</td>\n",
       "      <td>-0.855546</td>\n",
       "    </tr>\n",
       "  </tbody>\n",
       "</table>\n",
       "</div>"
      ],
      "text/plain": [
       "                   A         B         C         D\n",
       "2016-10-09  0.172448 -2.000734 -0.359776 -0.379633\n",
       "2016-10-10 -0.713382 -1.717050 -0.567398 -0.178038\n",
       "2016-10-06  1.114974 -1.414888 -0.415034  1.157864\n",
       "2016-10-11  0.089541 -0.517185  0.345298  0.632937\n",
       "2016-10-07  0.895094 -0.445768  0.323698  0.943734\n",
       "2016-10-08 -0.086677  1.264045 -0.022873 -0.855546"
      ]
     },
     "execution_count": 29,
     "metadata": {},
     "output_type": "execute_result"
    }
   ],
   "source": [
    "print('sort by B column:')\n",
    "df.sort_values(by='B')"
   ]
  },
  {
   "cell_type": "markdown",
   "metadata": {},
   "source": [
    "## Selection"
   ]
  },
  {
   "cell_type": "code",
   "execution_count": 30,
   "metadata": {
    "collapsed": false
   },
   "outputs": [
    {
     "data": {
      "text/plain": [
       "2016-10-06    1.114974\n",
       "2016-10-07    0.895094\n",
       "2016-10-08   -0.086677\n",
       "2016-10-09    0.172448\n",
       "2016-10-10   -0.713382\n",
       "2016-10-11    0.089541\n",
       "Freq: D, Name: A, dtype: float64"
      ]
     },
     "execution_count": 30,
     "metadata": {},
     "output_type": "execute_result"
    }
   ],
   "source": [
    "df['A']"
   ]
  },
  {
   "cell_type": "code",
   "execution_count": 31,
   "metadata": {
    "collapsed": false
   },
   "outputs": [
    {
     "data": {
      "text/html": [
       "<div>\n",
       "<table border=\"1\" class=\"dataframe\">\n",
       "  <thead>\n",
       "    <tr style=\"text-align: right;\">\n",
       "      <th></th>\n",
       "      <th>A</th>\n",
       "      <th>B</th>\n",
       "      <th>C</th>\n",
       "      <th>D</th>\n",
       "    </tr>\n",
       "  </thead>\n",
       "  <tbody>\n",
       "    <tr>\n",
       "      <th>2016-10-06</th>\n",
       "      <td>1.114974</td>\n",
       "      <td>-1.414888</td>\n",
       "      <td>-0.415034</td>\n",
       "      <td>1.157864</td>\n",
       "    </tr>\n",
       "    <tr>\n",
       "      <th>2016-10-07</th>\n",
       "      <td>0.895094</td>\n",
       "      <td>-0.445768</td>\n",
       "      <td>0.323698</td>\n",
       "      <td>0.943734</td>\n",
       "    </tr>\n",
       "  </tbody>\n",
       "</table>\n",
       "</div>"
      ],
      "text/plain": [
       "                   A         B         C         D\n",
       "2016-10-06  1.114974 -1.414888 -0.415034  1.157864\n",
       "2016-10-07  0.895094 -0.445768  0.323698  0.943734"
      ]
     },
     "execution_count": 31,
     "metadata": {},
     "output_type": "execute_result"
    }
   ],
   "source": [
    "df[0:2]"
   ]
  },
  {
   "cell_type": "code",
   "execution_count": 32,
   "metadata": {
    "collapsed": false
   },
   "outputs": [
    {
     "data": {
      "text/html": [
       "<div>\n",
       "<table border=\"1\" class=\"dataframe\">\n",
       "  <thead>\n",
       "    <tr style=\"text-align: right;\">\n",
       "      <th></th>\n",
       "      <th>A</th>\n",
       "      <th>B</th>\n",
       "      <th>C</th>\n",
       "      <th>D</th>\n",
       "    </tr>\n",
       "  </thead>\n",
       "  <tbody>\n",
       "    <tr>\n",
       "      <th>2016-10-08</th>\n",
       "      <td>-0.086677</td>\n",
       "      <td>1.264045</td>\n",
       "      <td>-0.022873</td>\n",
       "      <td>-0.855546</td>\n",
       "    </tr>\n",
       "    <tr>\n",
       "      <th>2016-10-09</th>\n",
       "      <td>0.172448</td>\n",
       "      <td>-2.000734</td>\n",
       "      <td>-0.359776</td>\n",
       "      <td>-0.379633</td>\n",
       "    </tr>\n",
       "    <tr>\n",
       "      <th>2016-10-10</th>\n",
       "      <td>-0.713382</td>\n",
       "      <td>-1.717050</td>\n",
       "      <td>-0.567398</td>\n",
       "      <td>-0.178038</td>\n",
       "    </tr>\n",
       "  </tbody>\n",
       "</table>\n",
       "</div>"
      ],
      "text/plain": [
       "                   A         B         C         D\n",
       "2016-10-08 -0.086677  1.264045 -0.022873 -0.855546\n",
       "2016-10-09  0.172448 -2.000734 -0.359776 -0.379633\n",
       "2016-10-10 -0.713382 -1.717050 -0.567398 -0.178038"
      ]
     },
     "execution_count": 32,
     "metadata": {},
     "output_type": "execute_result"
    }
   ],
   "source": [
    "df['20161008':'20161010']"
   ]
  },
  {
   "cell_type": "code",
   "execution_count": 34,
   "metadata": {
    "collapsed": false
   },
   "outputs": [
    {
     "data": {
      "text/plain": [
       "A   -0.086677\n",
       "B    1.264045\n",
       "C   -0.022873\n",
       "D   -0.855546\n",
       "Name: 2016-10-08 00:00:00, dtype: float64"
      ]
     },
     "execution_count": 34,
     "metadata": {},
     "output_type": "execute_result"
    }
   ],
   "source": [
    "df.loc[dates[2]]"
   ]
  },
  {
   "cell_type": "code",
   "execution_count": 35,
   "metadata": {
    "collapsed": false
   },
   "outputs": [
    {
     "data": {
      "text/html": [
       "<div>\n",
       "<table border=\"1\" class=\"dataframe\">\n",
       "  <thead>\n",
       "    <tr style=\"text-align: right;\">\n",
       "      <th></th>\n",
       "      <th>A</th>\n",
       "      <th>B</th>\n",
       "    </tr>\n",
       "  </thead>\n",
       "  <tbody>\n",
       "    <tr>\n",
       "      <th>2016-10-06</th>\n",
       "      <td>1.114974</td>\n",
       "      <td>-1.414888</td>\n",
       "    </tr>\n",
       "    <tr>\n",
       "      <th>2016-10-07</th>\n",
       "      <td>0.895094</td>\n",
       "      <td>-0.445768</td>\n",
       "    </tr>\n",
       "    <tr>\n",
       "      <th>2016-10-08</th>\n",
       "      <td>-0.086677</td>\n",
       "      <td>1.264045</td>\n",
       "    </tr>\n",
       "    <tr>\n",
       "      <th>2016-10-09</th>\n",
       "      <td>0.172448</td>\n",
       "      <td>-2.000734</td>\n",
       "    </tr>\n",
       "    <tr>\n",
       "      <th>2016-10-10</th>\n",
       "      <td>-0.713382</td>\n",
       "      <td>-1.717050</td>\n",
       "    </tr>\n",
       "    <tr>\n",
       "      <th>2016-10-11</th>\n",
       "      <td>0.089541</td>\n",
       "      <td>-0.517185</td>\n",
       "    </tr>\n",
       "  </tbody>\n",
       "</table>\n",
       "</div>"
      ],
      "text/plain": [
       "                   A         B\n",
       "2016-10-06  1.114974 -1.414888\n",
       "2016-10-07  0.895094 -0.445768\n",
       "2016-10-08 -0.086677  1.264045\n",
       "2016-10-09  0.172448 -2.000734\n",
       "2016-10-10 -0.713382 -1.717050\n",
       "2016-10-11  0.089541 -0.517185"
      ]
     },
     "execution_count": 35,
     "metadata": {},
     "output_type": "execute_result"
    }
   ],
   "source": [
    "df.loc[:,['A','B']]"
   ]
  },
  {
   "cell_type": "code",
   "execution_count": 36,
   "metadata": {
    "collapsed": false
   },
   "outputs": [
    {
     "data": {
      "text/html": [
       "<div>\n",
       "<table border=\"1\" class=\"dataframe\">\n",
       "  <thead>\n",
       "    <tr style=\"text-align: right;\">\n",
       "      <th></th>\n",
       "      <th>B</th>\n",
       "      <th>C</th>\n",
       "    </tr>\n",
       "  </thead>\n",
       "  <tbody>\n",
       "    <tr>\n",
       "      <th>2016-10-08</th>\n",
       "      <td>1.264045</td>\n",
       "      <td>-0.022873</td>\n",
       "    </tr>\n",
       "    <tr>\n",
       "      <th>2016-10-09</th>\n",
       "      <td>-2.000734</td>\n",
       "      <td>-0.359776</td>\n",
       "    </tr>\n",
       "    <tr>\n",
       "      <th>2016-10-10</th>\n",
       "      <td>-1.717050</td>\n",
       "      <td>-0.567398</td>\n",
       "    </tr>\n",
       "  </tbody>\n",
       "</table>\n",
       "</div>"
      ],
      "text/plain": [
       "                   B         C\n",
       "2016-10-08  1.264045 -0.022873\n",
       "2016-10-09 -2.000734 -0.359776\n",
       "2016-10-10 -1.717050 -0.567398"
      ]
     },
     "execution_count": 36,
     "metadata": {},
     "output_type": "execute_result"
    }
   ],
   "source": [
    "df.loc['20161008':'20161010', ['B', 'C']]"
   ]
  },
  {
   "cell_type": "code",
   "execution_count": 37,
   "metadata": {
    "collapsed": false
   },
   "outputs": [
    {
     "data": {
      "text/plain": [
       "A    0.089541\n",
       "B   -0.517185\n",
       "Name: 2016-10-11 00:00:00, dtype: float64"
      ]
     },
     "execution_count": 37,
     "metadata": {},
     "output_type": "execute_result"
    }
   ],
   "source": [
    "df.loc['20161011', ['A', 'B']]"
   ]
  },
  {
   "cell_type": "code",
   "execution_count": 40,
   "metadata": {
    "collapsed": false
   },
   "outputs": [
    {
     "name": "stdout",
     "output_type": "stream",
     "text": [
      "-0.445768170264\n",
      "or even faster\n",
      "-0.445768170264\n"
     ]
    }
   ],
   "source": [
    "print(df.loc[dates[1], 'B'])\n",
    "print('or even faster')\n",
    "print(df.at[dates[1], 'B'])"
   ]
  },
  {
   "cell_type": "markdown",
   "metadata": {},
   "source": [
    "## Selection by position\n"
   ]
  },
  {
   "cell_type": "code",
   "execution_count": 41,
   "metadata": {
    "collapsed": false
   },
   "outputs": [
    {
     "data": {
      "text/plain": [
       "A    0.172448\n",
       "B   -2.000734\n",
       "C   -0.359776\n",
       "D   -0.379633\n",
       "Name: 2016-10-09 00:00:00, dtype: float64"
      ]
     },
     "execution_count": 41,
     "metadata": {},
     "output_type": "execute_result"
    }
   ],
   "source": [
    "df.iloc[3]"
   ]
  },
  {
   "cell_type": "code",
   "execution_count": 42,
   "metadata": {
    "collapsed": false
   },
   "outputs": [
    {
     "data": {
      "text/plain": [
       "2016-10-06   -0.415034\n",
       "2016-10-07    0.323698\n",
       "2016-10-08   -0.022873\n",
       "2016-10-09   -0.359776\n",
       "2016-10-10   -0.567398\n",
       "2016-10-11    0.345298\n",
       "Freq: D, Name: C, dtype: float64"
      ]
     },
     "execution_count": 42,
     "metadata": {},
     "output_type": "execute_result"
    }
   ],
   "source": [
    "df.iloc[:, 2]"
   ]
  },
  {
   "cell_type": "markdown",
   "metadata": {},
   "source": [
    "### slicing (similar to python)\n",
    "\n"
   ]
  },
  {
   "cell_type": "code",
   "execution_count": 44,
   "metadata": {
    "collapsed": false
   },
   "outputs": [
    {
     "data": {
      "text/html": [
       "<div>\n",
       "<table border=\"1\" class=\"dataframe\">\n",
       "  <thead>\n",
       "    <tr style=\"text-align: right;\">\n",
       "      <th></th>\n",
       "      <th>B</th>\n",
       "      <th>C</th>\n",
       "    </tr>\n",
       "  </thead>\n",
       "  <tbody>\n",
       "    <tr>\n",
       "      <th>2016-10-08</th>\n",
       "      <td>1.264045</td>\n",
       "      <td>-0.022873</td>\n",
       "    </tr>\n",
       "    <tr>\n",
       "      <th>2016-10-09</th>\n",
       "      <td>-2.000734</td>\n",
       "      <td>-0.359776</td>\n",
       "    </tr>\n",
       "  </tbody>\n",
       "</table>\n",
       "</div>"
      ],
      "text/plain": [
       "                   B         C\n",
       "2016-10-08  1.264045 -0.022873\n",
       "2016-10-09 -2.000734 -0.359776"
      ]
     },
     "execution_count": 44,
     "metadata": {},
     "output_type": "execute_result"
    }
   ],
   "source": [
    "df.iloc[2:4,1:3]"
   ]
  },
  {
   "cell_type": "code",
   "execution_count": 49,
   "metadata": {
    "collapsed": false
   },
   "outputs": [
    {
     "data": {
      "text/html": [
       "<div>\n",
       "<table border=\"1\" class=\"dataframe\">\n",
       "  <thead>\n",
       "    <tr style=\"text-align: right;\">\n",
       "      <th></th>\n",
       "      <th>B</th>\n",
       "      <th>C</th>\n",
       "    </tr>\n",
       "  </thead>\n",
       "  <tbody>\n",
       "    <tr>\n",
       "      <th>2016-10-07</th>\n",
       "      <td>-0.445768</td>\n",
       "      <td>0.323698</td>\n",
       "    </tr>\n",
       "    <tr>\n",
       "      <th>2016-10-09</th>\n",
       "      <td>-2.000734</td>\n",
       "      <td>-0.359776</td>\n",
       "    </tr>\n",
       "    <tr>\n",
       "      <th>2016-10-11</th>\n",
       "      <td>-0.517185</td>\n",
       "      <td>0.345298</td>\n",
       "    </tr>\n",
       "  </tbody>\n",
       "</table>\n",
       "</div>"
      ],
      "text/plain": [
       "                   B         C\n",
       "2016-10-07 -0.445768  0.323698\n",
       "2016-10-09 -2.000734 -0.359776\n",
       "2016-10-11 -0.517185  0.345298"
      ]
     },
     "execution_count": 49,
     "metadata": {},
     "output_type": "execute_result"
    }
   ],
   "source": [
    "df.iloc[[1,3,5], [1,2]]"
   ]
  },
  {
   "cell_type": "code",
   "execution_count": null,
   "metadata": {
    "collapsed": true
   },
   "outputs": [],
   "source": []
  }
 ],
 "metadata": {
  "kernelspec": {
   "display_name": "Python 3",
   "language": "python",
   "name": "python3"
  },
  "language_info": {
   "codemirror_mode": {
    "name": "ipython",
    "version": 3
   },
   "file_extension": ".py",
   "mimetype": "text/x-python",
   "name": "python",
   "nbconvert_exporter": "python",
   "pygments_lexer": "ipython3",
   "version": "3.5.1"
  }
 },
 "nbformat": 4,
 "nbformat_minor": 0
}
