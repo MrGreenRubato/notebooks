{
 "cells": [
  {
   "cell_type": "markdown",
   "metadata": {},
   "source": [
    "# Moyenne, Etendue et Médiane"
   ]
  },
  {
   "cell_type": "code",
   "execution_count": 17,
   "metadata": {
    "collapsed": false
   },
   "outputs": [
    {
     "name": "stdout",
     "output_type": "stream",
     "text": [
      "Notes : [ 17.29   8.03  20.     8.97  13.32  20.     1.09   4.9   14.25   8.04   0.\n",
      "   9.54   7.69  19.24   0.  ]\n"
     ]
    }
   ],
   "source": [
    "import numpy as np\n",
    "\n",
    "import matplotlib.pyplot as plt\n",
    "%matplotlib inline\n",
    "\n",
    "np.set_printoptions(precision=2)\n",
    "nb_notes = 15\n",
    "moyenne_voulue = 12\n",
    "ecart_type = 12\n",
    "\n",
    "np.random.seed(5)\n",
    "#notes = np.random.random_integers(1, 20, 10)\n",
    "notes = np.random.normal(moyenne_voulue, ecart_type, nb_notes)\n",
    "\n",
    "for i in range(len(notes)):\n",
    "    if notes[i]<0:\n",
    "        notes[i] = 0\n",
    "    if notes[i]>20:\n",
    "        notes[i] = 20\n",
    "    notes[i] = np.round(notes[i],2)\n",
    "        \n",
    "print('Notes :', notes)"
   ]
  },
  {
   "cell_type": "markdown",
   "metadata": {},
   "source": [
    "### Moyenne arithmétique\n",
    "\n",
    "$\\displaystyle \\overline{x} = \\frac{1}{n} \\sum_{i=1}^{n}x_{i} $\n"
   ]
  },
  {
   "cell_type": "code",
   "execution_count": 20,
   "metadata": {
    "collapsed": false
   },
   "outputs": [
    {
     "name": "stdout",
     "output_type": "stream",
     "text": [
      "Nombre de notes : 15\n",
      "Total des notes : 152.36\n",
      "Moyenne des notes : 10.157333333333334\n"
     ]
    }
   ],
   "source": [
    "nombre_de_notes = len(notes)\n",
    "print('Nombre de notes :', nombre_de_notes)\n",
    "total_des_notes = sum(notes)\n",
    "print('Total des notes :', total_des_notes)\n",
    "moyenne = total_des_notes / nombre_de_notes\n",
    "print('Moyenne des notes :', np.array([moyenne][0]))"
   ]
  },
  {
   "cell_type": "markdown",
   "metadata": {},
   "source": [
    "### Médiane"
   ]
  },
  {
   "cell_type": "code",
   "execution_count": 21,
   "metadata": {
    "collapsed": false
   },
   "outputs": [
    {
     "name": "stdout",
     "output_type": "stream",
     "text": [
      "notes triées : [  0.     0.     1.09   4.9    7.69   8.03   8.04   8.97   9.54  13.32\n",
      "  14.25  17.29  19.24  20.    20.  ]\n",
      "Médiane: 9.54\n"
     ]
    }
   ],
   "source": [
    "# On trie les notes\n",
    "notes_triees = np.sort(notes)\n",
    "print('notes triées :', notes_triees)\n",
    "\n",
    "# la médiane est définie différemment si le nombre d'éléments est pair ou impair\n",
    "if ( len(notes_triees) % 2 != 0):\n",
    "    # (n+1)/2 ème valeur si n est impair\n",
    "    mediane = notes_triees[np.int((nombre_de_notes+1)/2)]\n",
    "else: \n",
    "    # (n/2)+1 ème valeur si n est pair\n",
    "    val1 = notes_triees[np.int((nombre_de_notes/2)-1)]\n",
    "    val2 = notes_triees[np.int((nombre_de_notes/2))]\n",
    "    mediane = (val1 + val2) / 2\n",
    "                     \n",
    "print('Médiane:', mediane)\n"
   ]
  },
  {
   "cell_type": "code",
   "execution_count": 22,
   "metadata": {
    "collapsed": false
   },
   "outputs": [
    {
     "data": {
      "image/png": "[encoded data removed]",
      "text/plain": [
       "<matplotlib.figure.Figure at 0x12aeea75f28>"
      ]
     },
     "metadata": {},
     "output_type": "display_data"
    }
   ],
   "source": [
    "plt.plot(range(len(notes)), notes, 'r--')\n",
    "plt.ylim(ymin=0, ymax=20)\n",
    "plt.xlabel('Contrôle')\n",
    "plt.ylabel('Note')\n",
    "\n",
    "mean_line = plt.plot(range(len(notes)), np.full(len(notes),moyenne), label='Moyenne', linestyle='--')\n",
    "med_line = plt.plot(range(len(notes)), np.full(len(notes),mediane), label='Médiane', linestyle='--')\n",
    "plt.legend(loc='best')\n",
    "\n",
    "plt.show()"
   ]
  },
  {
   "cell_type": "code",
   "execution_count": null,
   "metadata": {
    "collapsed": true
   },
   "outputs": [],
   "source": []
  },
  {
   "cell_type": "code",
   "execution_count": null,
   "metadata": {
    "collapsed": true
   },
   "outputs": [],
   "source": []
  }
 ],
 "metadata": {
  "kernelspec": {
   "display_name": "Python 3",
   "language": "python",
   "name": "python3"
  },
  "language_info": {
   "codemirror_mode": {
    "name": "ipython",
    "version": 3
   },
   "file_extension": ".py",
   "mimetype": "text/x-python",
   "name": "python",
   "nbconvert_exporter": "python",
   "pygments_lexer": "ipython3",
   "version": "3.5.1"
  }
 },
 "nbformat": 4,
 "nbformat_minor": 0
}
