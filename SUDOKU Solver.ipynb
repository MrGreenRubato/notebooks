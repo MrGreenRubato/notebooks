{
 "cells": [
  {
   "cell_type": "code",
   "execution_count": 56,
   "metadata": {
    "collapsed": false
   },
   "outputs": [
    {
     "name": "stdout",
     "output_type": "stream",
     "text": [
      "||================||\n",
      "|| 3 | 0 || 4 | 0 || \n",
      "||----------------||\n",
      "|| 0 | 1 || 0 | 0 || \n",
      "||================||\n",
      "|| 0 | 0 || 2 | 0 || \n",
      "||----------------||\n",
      "|| 0 | 3 || 0 | 4 || \n",
      "||================||\n"
     ]
    }
   ],
   "source": [
    "from numpy import array\n",
    "\n",
    "\n",
    "\n",
    "# If a file is defined, we try to load it, redefining boardsize and squaresize\n",
    "\n",
    "\n",
    "# If no file, we use a predefined embed game\n",
    "\n",
    "# Define the Basic square size. Doing so, it defines easily the BOARDSize (squaresize **2)\n",
    "SQUARESIZE = 2\n",
    "BoardSize = SQUARESIZE**2\n",
    "Board = array([ \n",
    "    [3,0,4,0],\n",
    "    [0,1,0,0],\n",
    "    [0,0,2,0],\n",
    "    [0,3,0,4]])\n",
    "\n",
    "\n",
    "def DisplayBoard(B):\n",
    "    def printSeparatorLine(sep='-'):\n",
    "        # print a line\n",
    "        print('||', end='')\n",
    "        if ( i % SQUARESIZE == 0 ):\n",
    "            sep = '='\n",
    "        for z in range(B.shape[1]*4 -2 + SQUARESIZE):\n",
    "            print(sep, end='')\n",
    "        print('||')        \n",
    "\n",
    "    for i in range(B.shape[0]):\n",
    "        printSeparatorLine()\n",
    "        for j in range(B.shape[1]):\n",
    "            if ( j % SQUARESIZE == 0 ):\n",
    "                print('|', end='')\n",
    "            print('|',B[i,j],'', end='')\n",
    "        print('|| \\n', end='')\n",
    "    printSeparatorLine('=')\n",
    "    \n",
    "# MAIN\n",
    "DisplayBoard(Board)\n",
    "\n",
    "\n"
   ]
  },
  {
   "cell_type": "code",
   "execution_count": null,
   "metadata": {
    "collapsed": true
   },
   "outputs": [],
   "source": []
  },
  {
   "cell_type": "code",
   "execution_count": null,
   "metadata": {
    "collapsed": true
   },
   "outputs": [],
   "source": []
  }
 ],
 "metadata": {
  "kernelspec": {
   "display_name": "Python 3",
   "language": "python",
   "name": "python3"
  },
  "language_info": {
   "codemirror_mode": {
    "name": "ipython",
    "version": 3
   },
   "file_extension": ".py",
   "mimetype": "text/x-python",
   "name": "python",
   "nbconvert_exporter": "python",
   "pygments_lexer": "ipython3",
   "version": "3.5.1"
  }
 },
 "nbformat": 4,
 "nbformat_minor": 0
}
