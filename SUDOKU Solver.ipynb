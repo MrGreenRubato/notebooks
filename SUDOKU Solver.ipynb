{
 "cells": [
  {
   "cell_type": "code",
   "execution_count": 95,
   "metadata": {
    "collapsed": false
   },
   "outputs": [
    {
     "name": "stdout",
     "output_type": "stream",
     "text": [
      "||================||\n",
      "|| 3 |   || 4 |   || \n",
      "||----------------||\n",
      "||   | 1 ||   |   || \n",
      "||================||\n",
      "||   |   || 2 |   || \n",
      "||----------------||\n",
      "||   | 3 ||   | 4 || \n",
      "||================||\n",
      "||================||\n",
      "|| 3 | 1 || 4 | 1 || \n",
      "||----------------||\n",
      "|| 1 | 1 || 1 | 1 || \n",
      "||================||\n",
      "|| 1 | 1 || 2 | 1 || \n",
      "||----------------||\n",
      "|| 1 | 3 || 1 | 4 || \n",
      "||================||\n"
     ]
    }
   ],
   "source": [
    "import numpy as np\n",
    "from numpy import array\n",
    "\n",
    "from colorama import Fore, Style\n",
    "\n",
    "\n",
    "# If a file is defined, we try to load it, redefining boardsize and squaresize\n",
    "\n",
    "\n",
    "# If no file, we use a predefined embed game\n",
    "\n",
    "# Define the Basic square size. Doing so, it defines easily the BOARDSize (squaresize **2)\n",
    "Board = array([\n",
    "        [3,0,4,0],\n",
    "        [0,1,0,0],\n",
    "        [0,0,2,0],\n",
    "        [0,3,0,4]])\n",
    "\n",
    "#Board = array([\n",
    "#        [8,0,0,5,6,0,0,7,2],\n",
    "#        [7,2,0,1,0,0,9,0,0],\n",
    "#        [0,1,6,0,7,0,0,0,0],\n",
    "#        [0,0,0,2,0,0,3,0,0],\n",
    "#        [0,8,9,7,3,4,5,6,0],\n",
    "#        [0,0,4,0,0,1,0,0,0],\n",
    "#        [0,0,0,0,9,0,6,1,0],\n",
    "#        [0,0,1,0,0,3,0,4,7],\n",
    "#        [3,6,0,0,1,7,0,0,9]\n",
    "#        \n",
    "#    ])\n",
    "\n",
    "\n",
    "def DisplayBoard(B):\n",
    "    def printSeparatorLine(sep='-'):\n",
    "        # print a line\n",
    "        print('||', end='')\n",
    "        if ( i % SquareSize == 0 ):\n",
    "            sep = '='\n",
    "        for z in range(B.shape[1]*4 -2 + SquareSize):\n",
    "            print(sep, end='')\n",
    "        print('||')        \n",
    "\n",
    "    for i in range(B.shape[0]):\n",
    "        printSeparatorLine()\n",
    "        for j in range(B.shape[1]):\n",
    "            if ( j % SquareSize == 0 ):\n",
    "                print('|', end='')\n",
    "            if ( B[i,j] == 0 ):\n",
    "                print('|',' ','', end='')\n",
    "            else:\n",
    "                print('|',B[i,j],'', end='')\n",
    "        print('|| \\n', end='')\n",
    "    printSeparatorLine('=')\n",
    "    \n",
    "def Solve(B):\n",
    "    for i in range(BoardLength):\n",
    "        for j in range(BoardLength):\n",
    "            if (B[i,j] == 0):\n",
    "                for t in range(1,BoardLength+1):\n",
    "                    B[i,j] = t\n",
    "                    if Solve(B) == True:\n",
    "                        return True\n",
    "                    else:\n",
    "                        return False\n",
    "                return False   \n",
    "    return True    \n",
    "\n",
    "\n",
    "\n",
    "# MAIN\n",
    "# board must be square.\n",
    "BoardSize = Board.size\n",
    "BoardLength = np.int(np.sqrt(Board.size))\n",
    "SquareSize = np.int(np.sqrt(BoardLength))\n",
    "\n",
    "\n",
    "DisplayBoard(Board)\n",
    "\n",
    "Solve(Board)\n",
    "\n",
    "DisplayBoard(Board)"
   ]
  },
  {
   "cell_type": "code",
   "execution_count": null,
   "metadata": {
    "collapsed": true
   },
   "outputs": [],
   "source": []
  },
  {
   "cell_type": "code",
   "execution_count": null,
   "metadata": {
    "collapsed": true
   },
   "outputs": [],
   "source": []
  }
 ],
 "metadata": {
  "kernelspec": {
   "display_name": "Python 3",
   "language": "python",
   "name": "python3"
  },
  "language_info": {
   "codemirror_mode": {
    "name": "ipython",
    "version": 3
   },
   "file_extension": ".py",
   "mimetype": "text/x-python",
   "name": "python",
   "nbconvert_exporter": "python",
   "pygments_lexer": "ipython3",
   "version": "3.5.1"
  }
 },
 "nbformat": 4,
 "nbformat_minor": 0
}
