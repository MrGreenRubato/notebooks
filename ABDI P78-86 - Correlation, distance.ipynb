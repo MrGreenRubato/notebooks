{
 "cells": [
  {
   "cell_type": "code",
   "execution_count": 1,
   "metadata": {
    "collapsed": true
   },
   "outputs": [],
   "source": [
    "%matplotlib inline\n",
    "\n",
    "import matplotlib\n",
    "import numpy as np\n",
    "import scipy as sp\n",
    "import matplotlib.pyplot as pl\n",
    "from numpy import *\n",
    "from math import *\n",
    "from scipy import *\n",
    "import numpy.linalg as linalg\n",
    "from math import factorial\n",
    "from math import exp\n",
    "from math import log\n",
    "\n",
    "def ang_cos(v1, v2):\n",
    "    \"\"\" Get cos for similarity between two vectors\"\"\"\n",
    "    cosang = np.dot(v1, v2)/(linalg.norm(v1) * linalg.norm(v2))\n",
    "    return cosang\n",
    "\n",
    "\n"
   ]
  },
  {
   "cell_type": "code",
   "execution_count": 31,
   "metadata": {
    "collapsed": false
   },
   "outputs": [
    {
     "name": "stdout",
     "output_type": "stream",
     "text": [
      "Mean :  [[ 4.3  4.2  5.4  5.4]]\n",
      "Deviation matrix: \n",
      " [[-1.3 -2.2  1.6  0.6]\n",
      " [ 2.7  1.8  2.6  1.6]\n",
      " [-2.3 -1.2  0.6  2.6]\n",
      " [-3.3 -2.2 -4.4 -2.4]\n",
      " [-0.3  0.8 -1.4 -3.4]\n",
      " [ 1.7  3.8 -4.4 -3.4]\n",
      " [ 3.7  2.8  2.6  1.6]\n",
      " [-1.3 -3.2 -0.4  0.6]\n",
      " [-0.3 -2.2  1.6  2.6]\n",
      " [ 0.7  1.8  1.6 -0.4]]\n"
     ]
    }
   ],
   "source": [
    "# ABDI P78\n",
    "# Correlation\n",
    "\n",
    "Notes = array([3,2,7,6,\n",
    "             7,6,8,7,\n",
    "             2,3,6,8,\n",
    "             1,2,1,3,\n",
    "             4,5,4,2,\n",
    "             6,8,1,2,\n",
    "             8,7,8,7,\n",
    "             3,1,5,6,\n",
    "             4,2,7,8,\n",
    "             5,6,7,5])\n",
    "\n",
    "Notes.shape = (10,4)\n",
    "\n",
    "# Abdi method :\n",
    "U = ones((1,10))\n",
    "aMean = U.dot(Notes) / 10\n",
    "print('Mean : ', aMean)\n",
    "\n",
    "# Faster method from numpy\n",
    "m = Notes.mean(0) # 0 to compute column wise mean (1 would have computed mean on lines)\n",
    "m.shape = (1,4)\n",
    "U = ones((10,1))\n",
    "M = U.dot(m)\n",
    "# Deviation Matrix is D = Notes - M\n",
    "\n",
    "D = Notes - M\n",
    "print('Deviation matrix: \\n', D)\n",
    "\n"
   ]
  },
  {
   "cell_type": "code",
   "execution_count": 32,
   "metadata": {
    "collapsed": false
   },
   "outputs": [
    {
     "name": "stdout",
     "output_type": "stream",
     "text": [
      "Variance:  [[ 4.41  5.56  6.24  4.84]]\n",
      "Ecart-type:  [[ 2.1         2.35796522  2.4979992   2.2       ]]\n",
      "inverse of Ecart-Type:  [[ 0.47619048  0.42409446  0.40032038  0.45454545]]\n"
     ]
    }
   ],
   "source": [
    "# Lets compute the \"variance\" of the matrix\n",
    "# Then the \"ecart type\"\n",
    "I = ones((1,10))\n",
    "s = I.dot((D*D))/10\n",
    "print('Variance: ' , s)\n",
    "t = sqrt(s)\n",
    "print('Ecart-type: ', t)\n",
    "u = 1/t\n",
    "print('inverse of Ecart-Type: ', u)\n"
   ]
  },
  {
   "cell_type": "code",
   "execution_count": 104,
   "metadata": {
    "collapsed": false
   },
   "outputs": [
    {
     "name": "stdout",
     "output_type": "stream",
     "text": [
      "diag(u):  [ 0.47619048]\n",
      "diag(u):  [[ 0.47619048  0.          0.          0.        ]\n",
      " [ 0.          0.42409446  0.          0.        ]\n",
      " [ 0.          0.          0.40032038  0.        ]\n",
      " [ 0.          0.          0.          0.45454545]]\n",
      "my diag(u) : [[ 0.47619048  0.          0.          0.        ]\n",
      " [ 0.          0.42409446  0.          0.        ]\n",
      " [ 0.          0.          0.40032038  0.        ]\n",
      " [ 0.          0.          0.          0.45454545]]\n",
      "vx: 0.47619047619  /  4\n",
      "vx: 0.42409446484  /  4\n",
      "vx: 0.400320384513  /  4\n",
      "vx: 0.454545454545  /  4\n",
      "diag(diag(u)) : [[ 0.47619048  0.42409446  0.40032038  0.45454545]]\n",
      "Z Notes:  [[-0.61904762 -0.93300782  0.64051262  0.27272727]\n",
      " [ 1.28571429  0.76337004  1.040833    0.72727273]\n",
      " [-1.0952381  -0.50891336  0.24019223  1.18181818]\n",
      " [-1.57142857 -0.93300782 -1.76140969 -1.09090909]\n",
      " [-0.14285714  0.33927557 -0.56044854 -1.54545455]\n",
      " [ 0.80952381  1.61155897 -1.76140969 -1.54545455]\n",
      " [ 1.76190476  1.1874645   1.040833    0.72727273]\n",
      " [-0.61904762 -1.35710229 -0.16012815  0.27272727]\n",
      " [-0.14285714 -0.93300782  0.64051262  1.18181818]\n",
      " [ 0.33333333  0.76337004  0.64051262 -0.18181818]]\n"
     ]
    }
   ],
   "source": [
    "# Z Matrix\n",
    "\n",
    "# how to create a diagonal matrix from a vector ? \n",
    "# TODO :  don't know, so first, do it manually\n",
    "du = diag(u) # --> This do not work\n",
    "print('diag(u): ',du)\n",
    "# Let's do it manually\n",
    "du = zeros((4,4))\n",
    "for i in range(u.size):\n",
    "    du[i,i] = u[0,i]\n",
    "print('diag(u): ',du)\n",
    "\n",
    "# Create a myDiag function to do the job\n",
    "def myDiag(v):\n",
    "    M = zeros((v.size, v.size))\n",
    "    for i in range(v.size):\n",
    "        M[i,i] = v[0,i]\n",
    "    return M\n",
    "\n",
    "def extractDiag(M):\n",
    "    # TODO  : create a variable length vector.. ??\n",
    "    v = np.zeros((1,M.shape[0]))\n",
    "    for i in range (M.shape[0]):\n",
    "        v[0,i] = M[i,i]\n",
    "        print('vx:', v[0,i], ' / ', M.shape[0])\n",
    "    return v\n",
    "\n",
    "print('my diag(u) :', myDiag(u))\n",
    "print('diag(diag(u)) :', extractDiag(du))\n",
    "Z = D.dot(du)\n",
    "print('Z Notes: ', Z)\n"
   ]
  },
  {
   "cell_type": "code",
   "execution_count": 95,
   "metadata": {
    "collapsed": true
   },
   "outputs": [],
   "source": [
    "# Correlation matrix: Cross product of Z divided by the number of notes.\n",
    "# R = 1/10 ZtZ"
   ]
  },
  {
   "cell_type": "code",
   "execution_count": 55,
   "metadata": {
    "collapsed": false
   },
   "outputs": [
    {
     "name": "stdout",
     "output_type": "stream",
     "text": [
      "R Matrix:  [[ 1.          0.81587697  0.41557068  0.1038961 ]\n",
      " [ 0.81587697  1.          0.00339547 -0.30457693]\n",
      " [ 0.41557068  0.00339547  1.          0.80791932]\n",
      " [ 0.1038961  -0.30457693  0.80791932  1.        ]]\n"
     ]
    }
   ],
   "source": [
    "R = (Z.transpose().dot(Z))/10\n",
    "print('R Matrix: ', R)"
   ]
  },
  {
   "cell_type": "code",
   "execution_count": 59,
   "metadata": {
    "collapsed": false
   },
   "outputs": [
    {
     "name": "stdout",
     "output_type": "stream",
     "text": [
      "S:  [[ 4  0  2  0  0]\n",
      " [ 0  4 -2  0  0]\n",
      " [ 2 -2  4 -2 -2]\n",
      " [ 0  0 -2  4  4]\n",
      " [ 0  0 -2  4  4]]\n"
     ]
    }
   ],
   "source": [
    "# Comparing observations\n",
    "X = array([\n",
    "        1,1,1,-1,\n",
    "        -1,-1,1,-1,\n",
    "        -1,-1,-1,-1,\n",
    "        1,-1,-1,1,\n",
    "        -1,1,-1,-1\n",
    "    ])\n",
    "\n",
    "X.shape = (4,5)\n",
    "S = X.transpose().dot(X)\n",
    "print('S: ', S)\n"
   ]
  },
  {
   "cell_type": "code",
   "execution_count": null,
   "metadata": {
    "collapsed": true
   },
   "outputs": [],
   "source": []
  }
 ],
 "metadata": {
  "kernelspec": {
   "display_name": "Python 3",
   "language": "python",
   "name": "python3"
  },
  "language_info": {
   "codemirror_mode": {
    "name": "ipython",
    "version": 3
   },
   "file_extension": ".py",
   "mimetype": "text/x-python",
   "name": "python",
   "nbconvert_exporter": "python",
   "pygments_lexer": "ipython3",
   "version": "3.5.1"
  }
 },
 "nbformat": 4,
 "nbformat_minor": 0
}
