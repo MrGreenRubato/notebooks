{
 "cells": [
  {
   "cell_type": "markdown",
   "metadata": {},
   "source": [
    "## Title for Correlation and Distance."
   ]
  },
  {
   "cell_type": "code",
   "execution_count": 1,
   "metadata": {
    "collapsed": true
   },
   "outputs": [],
   "source": [
    "%matplotlib inline\n",
    "\n",
    "import matplotlib\n",
    "import numpy as np\n",
    "import scipy as sp\n",
    "import matplotlib.pyplot as pl\n",
    "from numpy import *\n",
    "from math import *\n",
    "from scipy import *\n",
    "import numpy.linalg as linalg\n",
    "from math import factorial\n",
    "from math import exp\n",
    "from math import log\n",
    "\n",
    "def ang_cos(v1, v2):\n",
    "    \"\"\" Get cos for similarity between two vectors\"\"\"\n",
    "    cosang = np.dot(v1, v2)/(linalg.norm(v1) * linalg.norm(v2))\n",
    "    return cosang\n",
    "\n",
    "\n"
   ]
  },
  {
   "cell_type": "code",
   "execution_count": 15,
   "metadata": {
    "collapsed": false
   },
   "outputs": [
    {
     "name": "stdout",
     "output_type": "stream",
     "text": [
      "Mean :  [[ 4.3  4.2  5.4  5.4]]\n",
      "Deviation matrix: \n",
      " [[-1.3 -2.2  1.6  0.6]\n",
      " [ 2.7  1.8  2.6  1.6]\n",
      " [-2.3 -1.2  0.6  2.6]\n",
      " [-3.3 -2.2 -4.4 -2.4]\n",
      " [-0.3  0.8 -1.4 -3.4]\n",
      " [ 1.7  3.8 -4.4 -3.4]\n",
      " [ 3.7  2.8  2.6  1.6]\n",
      " [-1.3 -3.2 -0.4  0.6]\n",
      " [-0.3 -2.2  1.6  2.6]\n",
      " [ 0.7  1.8  1.6 -0.4]]\n"
     ]
    }
   ],
   "source": [
    "# ABDI P78\n",
    "# Correlation\n",
    "\n",
    "Notes = array([3,2,7,6,\n",
    "             7,6,8,7,\n",
    "             2,3,6,8,\n",
    "             1,2,1,3,\n",
    "             4,5,4,2,\n",
    "             6,8,1,2,\n",
    "             8,7,8,7,\n",
    "             3,1,5,6,\n",
    "             4,2,7,8,\n",
    "             5,6,7,5])\n",
    "\n",
    "Notes.shape = (10,4)\n",
    "\n",
    "# Abdi method :\n",
    "U = ones((1,10))\n",
    "aMean = U.dot(Notes) / 10\n",
    "print('Mean : ', aMean)\n",
    "\n",
    "# Faster method from numpy\n",
    "m = Notes.mean(0) # 0 to compute column wise mean (1 would have computed mean on lines)\n",
    "m.shape = (1,4)\n",
    "U = ones((10,1))\n",
    "M = U.dot(m)\n",
    "# Deviation Matrix is D = Notes - M\n",
    "\n",
    "D = Notes - M\n",
    "print('Deviation matrix: \\n', D)\n",
    "\n"
   ]
  },
  {
   "cell_type": "code",
   "execution_count": null,
   "metadata": {
    "collapsed": false
   },
   "outputs": [],
   "source": []
  }
 ],
 "metadata": {
  "kernelspec": {
   "display_name": "Python 3",
   "language": "python",
   "name": "python3"
  },
  "language_info": {
   "codemirror_mode": {
    "name": "ipython",
    "version": 3
   },
   "file_extension": ".py",
   "mimetype": "text/x-python",
   "name": "python",
   "nbconvert_exporter": "python",
   "pygments_lexer": "ipython3",
   "version": "3.5.1"
  }
 },
 "nbformat": 4,
 "nbformat_minor": 0
}
