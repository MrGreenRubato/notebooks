{
 "cells": [
  {
   "cell_type": "code",
   "execution_count": 1,
   "metadata": {
    "collapsed": false
   },
   "outputs": [
    {
     "name": "stdout",
     "output_type": "stream",
     "text": [
      "[[10 20 30]\n",
      " [40 50 60]]\n",
      "['', '/Users/norbertmauger/anaconda/envs/py35/lib/python35.zip', '/Users/norbertmauger/anaconda/envs/py35/lib/python3.5', '/Users/norbertmauger/anaconda/envs/py35/lib/python3.5/plat-darwin', '/Users/norbertmauger/anaconda/envs/py35/lib/python3.5/lib-dynload', '/Users/norbertmauger/anaconda/envs/py35/lib/python3.5/site-packages/Sphinx-1.3.5-py3.5.egg', '/Users/norbertmauger/anaconda/envs/py35/lib/python3.5/site-packages/setuptools-20.3-py3.5.egg', '/Users/norbertmauger/anaconda/envs/py35/lib/python3.5/site-packages', '/Users/norbertmauger/anaconda/envs/py35/lib/python3.5/site-packages/aeosa', '/Users/norbertmauger/anaconda/envs/py35/lib/python3.5/site-packages/IPython/extensions', '/Users/norbertmauger/.ipython']\n"
     ]
    }
   ],
   "source": [
    "import numpy as np\n",
    "\n",
    "a = np.asarray([[1,2,3],[4,5,6]]);\n",
    "b = np.asarray([[10]]);\n",
    "\n",
    "res = a*b;\n",
    "\n",
    "print(res);\n",
    "\n",
    "import sys;\n",
    "print(sys.path)\n"
   ]
  },
  {
   "cell_type": "code",
   "execution_count": 11,
   "metadata": {
    "collapsed": false
   },
   "outputs": [
    {
     "name": "stdout",
     "output_type": "stream",
     "text": [
      "(x + y)\n"
     ]
    }
   ],
   "source": [
    "import numpy as np;\n",
    "\n",
    "import theano.tensor as T;\n",
    "from theano import function;\n",
    "from theano import pp;\n",
    "\n",
    "x = T.scalar('x');\n",
    "y = T.scalar('y');\n",
    "\n",
    "z = x + y;\n",
    "z2 = x * y;\n",
    "print(pp(z));\n",
    "f = function([x,y],z)\n",
    "f2 = function([x,y],[z,z2])\n",
    "\n",
    "\n"
   ]
  },
  {
   "cell_type": "code",
   "execution_count": 35,
   "metadata": {
    "collapsed": false
   },
   "outputs": [
    {
     "name": "stdout",
     "output_type": "stream",
     "text": [
      "5.0\n",
      "[array(5.0), array(6.0)]\n"
     ]
    },
    {
     "data": {
      "text/plain": [
       "True"
      ]
     },
     "execution_count": 35,
     "metadata": {},
     "output_type": "execute_result"
    }
   ],
   "source": [
    "print(f(2,3))\n",
    "print(f2(2,3))\n",
    "np.allclose(f(2.34,5.67), 8.01)\n",
    "\n",
    "np.allclose([3,3.9,5], [3,4,5.1],atol=0.1)\n"
   ]
  },
  {
   "cell_type": "code",
   "execution_count": 39,
   "metadata": {
    "collapsed": false
   },
   "outputs": [
    {
     "data": {
      "text/plain": [
       "array([[ 32.,  13.],\n",
       "       [ 54.,  37.]])"
      ]
     },
     "execution_count": 39,
     "metadata": {},
     "output_type": "execute_result"
    }
   ],
   "source": [
    "x = T.dmatrix('x');\n",
    "y = T.dmatrix('y');\n",
    "\n",
    "z = x + y;\n",
    "f = function([x,y],z)\n",
    "\n",
    "f([[2,3],[4,7]], [[30,10],[50,30]])"
   ]
  },
  {
   "cell_type": "code",
   "execution_count": 45,
   "metadata": {
    "collapsed": false
   },
   "outputs": [
    {
     "data": {
      "text/plain": [
       "array([  4.90000000e+01,   4.00000000e+00,   1.26025000e+05])"
      ]
     },
     "execution_count": 45,
     "metadata": {},
     "output_type": "execute_result"
    }
   ],
   "source": [
    "import theano\n",
    "a = theano.tensor.vector()\n",
    "b = theano.tensor.vector()\n",
    "out = a**2 + b**2 + 2*a*b\n",
    "f = theano.function([a,b],out)\n",
    "f([3,1,34],[4,1,321])"
   ]
  },
  {
   "cell_type": "code",
   "execution_count": 58,
   "metadata": {
    "collapsed": false
   },
   "outputs": [
    {
     "data": {
      "text/plain": [
       "array([[ 0.5       ,  0.73105858,  0.        ],\n",
       "       [ 0.88079708,  0.95257413,  1.        ]])"
      ]
     },
     "execution_count": 58,
     "metadata": {},
     "output_type": "execute_result"
    }
   ],
   "source": [
    "import theano\n",
    "import theano.tensor as T\n",
    "x = T.matrix('x')\n",
    "s = 1 / (1 + T.exp(-x))\n",
    "\n",
    "sigmoid = function([x], s)\n",
    "sigmoid([[0,1,-1000],[2,3,1000]])"
   ]
  },
  {
   "cell_type": "code",
   "execution_count": 65,
   "metadata": {
    "collapsed": false
   },
   "outputs": [
    {
     "data": {
      "text/plain": [
       "[array([[ 0., -2.]]), array([[ 0.,  2.]]), array([[ 0.,  4.]])]"
      ]
     },
     "execution_count": 65,
     "metadata": {},
     "output_type": "execute_result"
    }
   ],
   "source": [
    "# possible de créer plusieurs variable de type matrice en même temps via dmatrices\n",
    "# Possible ensuite de faire faire plusieurs calculs simultanément à une fonction\n",
    "a, b = T.dmatrices('a','b')\n",
    "diff = a - b\n",
    "absdiff = abs(diff)\n",
    "sqrdiff = diff**2\n",
    "\n",
    "dif_func = function([a,b], [diff, absdiff, sqrdiff])\n",
    "\n",
    "dif_func([[2,3]],[[2,5]])"
   ]
  },
  {
   "cell_type": "code",
   "execution_count": null,
   "metadata": {
    "collapsed": true
   },
   "outputs": [],
   "source": []
  }
 ],
 "metadata": {
  "kernelspec": {
   "display_name": "Python 3",
   "language": "python",
   "name": "python3"
  },
  "language_info": {
   "codemirror_mode": {
    "name": "ipython",
    "version": 3
   },
   "file_extension": ".py",
   "mimetype": "text/x-python",
   "name": "python",
   "nbconvert_exporter": "python",
   "pygments_lexer": "ipython3",
   "version": "3.5.1"
  }
 },
 "nbformat": 4,
 "nbformat_minor": 0
}
