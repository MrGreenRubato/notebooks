{
 "cells": [
  {
   "cell_type": "code",
   "execution_count": 33,
   "metadata": {
    "collapsed": true
   },
   "outputs": [],
   "source": [
    "%matplotlib inline\n",
    "import six.moves.cPickle as cPickle, gzip, numpy as np\n",
    "import matplotlib.pyplot as pl\n",
    "import matplotlib.image as mpimg\n",
    "from IPython import display\n"
   ]
  },
  {
   "cell_type": "code",
   "execution_count": 34,
   "metadata": {
    "collapsed": false
   },
   "outputs": [
    {
     "data": {
      "text/plain": [
       "array([[  6.1101 ,  17.592  ],\n",
       "       [  5.5277 ,   9.1302 ],\n",
       "       [  8.5186 ,  13.662  ],\n",
       "       [  7.0032 ,  11.854  ],\n",
       "       [  5.8598 ,   6.8233 ],\n",
       "       [  8.3829 ,  11.886  ],\n",
       "       [  7.4764 ,   4.3483 ],\n",
       "       [  8.5781 ,  12.     ],\n",
       "       [  6.4862 ,   6.5987 ],\n",
       "       [  5.0546 ,   3.8166 ],\n",
       "       [  5.7107 ,   3.2522 ],\n",
       "       [ 14.164  ,  15.505  ],\n",
       "       [  5.734  ,   3.1551 ],\n",
       "       [  8.4084 ,   7.2258 ],\n",
       "       [  5.6407 ,   0.71618],\n",
       "       [  5.3794 ,   3.5129 ],\n",
       "       [  6.3654 ,   5.3048 ],\n",
       "       [  5.1301 ,   0.56077],\n",
       "       [  6.4296 ,   3.6518 ],\n",
       "       [  7.0708 ,   5.3893 ],\n",
       "       [  6.1891 ,   3.1386 ],\n",
       "       [ 20.27   ,  21.767  ],\n",
       "       [  5.4901 ,   4.263  ],\n",
       "       [  6.3261 ,   5.1875 ],\n",
       "       [  5.5649 ,   3.0825 ],\n",
       "       [ 18.945  ,  22.638  ],\n",
       "       [ 12.828  ,  13.501  ],\n",
       "       [ 10.957  ,   7.0467 ],\n",
       "       [ 13.176  ,  14.692  ],\n",
       "       [ 22.203  ,  24.147  ],\n",
       "       [  5.2524 ,  -1.22   ],\n",
       "       [  6.5894 ,   5.9966 ],\n",
       "       [  9.2482 ,  12.134  ],\n",
       "       [  5.8918 ,   1.8495 ],\n",
       "       [  8.2111 ,   6.5426 ],\n",
       "       [  7.9334 ,   4.5623 ],\n",
       "       [  8.0959 ,   4.1164 ],\n",
       "       [  5.6063 ,   3.3928 ],\n",
       "       [ 12.836  ,  10.117  ],\n",
       "       [  6.3534 ,   5.4974 ],\n",
       "       [  5.4069 ,   0.55657],\n",
       "       [  6.8825 ,   3.9115 ],\n",
       "       [ 11.708  ,   5.3854 ],\n",
       "       [  5.7737 ,   2.4406 ],\n",
       "       [  7.8247 ,   6.7318 ],\n",
       "       [  7.0931 ,   1.0463 ],\n",
       "       [  5.0702 ,   5.1337 ],\n",
       "       [  5.8014 ,   1.844  ],\n",
       "       [ 11.7    ,   8.0043 ],\n",
       "       [  5.5416 ,   1.0179 ],\n",
       "       [  7.5402 ,   6.7504 ],\n",
       "       [  5.3077 ,   1.8396 ],\n",
       "       [  7.4239 ,   4.2885 ],\n",
       "       [  7.6031 ,   4.9981 ],\n",
       "       [  6.3328 ,   1.4233 ],\n",
       "       [  6.3589 ,  -1.4211 ],\n",
       "       [  6.2742 ,   2.4756 ],\n",
       "       [  5.6397 ,   4.6042 ],\n",
       "       [  9.3102 ,   3.9624 ],\n",
       "       [  9.4536 ,   5.4141 ],\n",
       "       [  8.8254 ,   5.1694 ],\n",
       "       [  5.1793 ,  -0.74279],\n",
       "       [ 21.279  ,  17.929  ],\n",
       "       [ 14.908  ,  12.054  ],\n",
       "       [ 18.959  ,  17.054  ],\n",
       "       [  7.2182 ,   4.8852 ],\n",
       "       [  8.2951 ,   5.7442 ],\n",
       "       [ 10.236  ,   7.7754 ],\n",
       "       [  5.4994 ,   1.0173 ],\n",
       "       [ 20.341  ,  20.992  ],\n",
       "       [ 10.136  ,   6.6799 ],\n",
       "       [  7.3345 ,   4.0259 ],\n",
       "       [  6.0062 ,   1.2784 ],\n",
       "       [  7.2259 ,   3.3411 ],\n",
       "       [  5.0269 ,  -2.6807 ],\n",
       "       [  6.5479 ,   0.29678],\n",
       "       [  7.5386 ,   3.8845 ],\n",
       "       [  5.0365 ,   5.7014 ],\n",
       "       [ 10.274  ,   6.7526 ],\n",
       "       [  5.1077 ,   2.0576 ],\n",
       "       [  5.7292 ,   0.47953],\n",
       "       [  5.1884 ,   0.20421],\n",
       "       [  6.3557 ,   0.67861],\n",
       "       [  9.7687 ,   7.5435 ],\n",
       "       [  6.5159 ,   5.3436 ],\n",
       "       [  8.5172 ,   4.2415 ],\n",
       "       [  9.1802 ,   6.7981 ],\n",
       "       [  6.002  ,   0.92695],\n",
       "       [  5.5204 ,   0.152  ],\n",
       "       [  5.0594 ,   2.8214 ],\n",
       "       [  5.7077 ,   1.8451 ],\n",
       "       [  7.6366 ,   4.2959 ],\n",
       "       [  5.8707 ,   7.2029 ],\n",
       "       [  5.3054 ,   1.9869 ],\n",
       "       [  8.2934 ,   0.14454],\n",
       "       [ 13.394  ,   9.0551 ],\n",
       "       [  5.4369 ,   0.61705]])"
      ]
     },
     "execution_count": 34,
     "metadata": {},
     "output_type": "execute_result"
    }
   ],
   "source": [
    "data = np.loadtxt('course_lib/ex1data1.txt', delimiter=',')\n",
    "\n",
    "data"
   ]
  },
  {
   "cell_type": "code",
   "execution_count": 43,
   "metadata": {
    "collapsed": false
   },
   "outputs": [
    {
     "data": {
      "text/plain": [
       "<matplotlib.text.Text at 0x8cbc954a58>"
      ]
     },
     "execution_count": 43,
     "metadata": {},
     "output_type": "execute_result"
    },
    {
     "data": {
      "image/png": "[encoded data removed]",
      "text/plain": [
       "<matplotlib.figure.Figure at 0x8cbc8f5828>"
      ]
     },
     "metadata": {},
     "output_type": "display_data"
    }
   ],
   "source": [
    "X = data[:,0];\n",
    "y = data[:,1];\n",
    "\n",
    "m = len(y[:])\n",
    "\n",
    "pl.figure(figsize=(10,4))\n",
    "pl.plot(X,y,marker='.',ls='')\n",
    "pl.title('dataSet for linear regression')\n",
    "\n",
    "pl.xlabel('xlabel')\n",
    "pl.ylabel('ylabel')\n"
   ]
  },
  {
   "cell_type": "code",
   "execution_count": 126,
   "metadata": {
    "collapsed": false
   },
   "outputs": [],
   "source": [
    "def computeCost(X, y, theta):\n",
    "    # Compute cost for linear regression\n",
    "    # computes the cost of using theta as the parameter for linear regression to fit the data points in X and y\n",
    "\n",
    "    m = len(y); # number of training examples\n",
    "    y.shape = (m,1)\n",
    "\n",
    "    H = (X.dot(theta) - y)\n",
    "    J = (H.transpose().dot(H)) /(2*m)\n",
    "    \n",
    "    return J\n",
    "\n",
    "\n",
    "def gradientDescent(X, y, theta, alpha, num_iters):\n",
    "    #GRADIENTDESCENT Performs gradient descent to learn theta\n",
    "\n",
    "    m = len(y); # umber of training examples\n",
    "    y.shape = (m,1)\n",
    "    J_history = np.zeros((num_iters, 1));\n",
    "    \n",
    "    for iter in (1,num_iters-1):\n",
    "\n",
    "        H = (X.dot(theta) - y);\n",
    "        J = (H.transpose().dot(H)) /(m)\n",
    "        theta = theta - alpha * J;\n",
    "\n",
    "    \n",
    "        % Save the cost J in every iteration    \n",
    "        J_history[iter] = computeCost(X, y, theta);\n",
    "        \n",
    "        return theta\n",
    "    \n",
    "\n",
    "\n"
   ]
  },
  {
   "cell_type": "code",
   "execution_count": 127,
   "metadata": {
    "collapsed": false
   },
   "outputs": [
    {
     "name": "stdout",
     "output_type": "stream",
     "text": [
      "Initial cost:  [[ 32.07273388]]\n",
      "Theta found by gradient descent: \n",
      "\n",
      " [-0.64145468] [-0.64145468]\n"
     ]
    },
    {
     "name": "stderr",
     "output_type": "stream",
     "text": [
      "ERROR: Line magic function `%Save` not found.\n"
     ]
    }
   ],
   "source": [
    "ouane = np.ones((m,1))\n",
    "X = np.c_[ouane, data[:,1]] # usefull to stack columns (concatenate, column_stack) and row_stack s_\n",
    "\n",
    "theta = np.zeros((2, 1));\n",
    "\n",
    "# print(' X Matrix: \\n', X)\n",
    "\n",
    "# Some gradient descent settings\n",
    "iterations = 1500;\n",
    "alpha = 0.01;\n",
    "\n",
    "# compute and display initial cost\n",
    "J = computeCost(X, y, theta)\n",
    "print(\"Initial cost: \", J)\n",
    "\n",
    "theta = gradientDescent(X, y, theta, alpha, iterations);\n",
    "\n",
    "print('Theta found by gradient descent: ')\n",
    "print('\\n', theta[0], theta[1])\n",
    "\n"
   ]
  },
  {
   "cell_type": "code",
   "execution_count": null,
   "metadata": {
    "collapsed": true
   },
   "outputs": [],
   "source": []
  },
  {
   "cell_type": "code",
   "execution_count": null,
   "metadata": {
    "collapsed": true
   },
   "outputs": [],
   "source": []
  }
 ],
 "metadata": {
  "kernelspec": {
   "display_name": "Python 3",
   "language": "python",
   "name": "python3"
  },
  "language_info": {
   "codemirror_mode": {
    "name": "ipython",
    "version": 3
   },
   "file_extension": ".py",
   "mimetype": "text/x-python",
   "name": "python",
   "nbconvert_exporter": "python",
   "pygments_lexer": "ipython3",
   "version": "3.5.1"
  }
 },
 "nbformat": 4,
 "nbformat_minor": 0
}
