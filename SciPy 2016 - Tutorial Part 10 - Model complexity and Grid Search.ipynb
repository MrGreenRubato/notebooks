{
 "cells": [
  {
   "cell_type": "markdown",
   "metadata": {},
   "source": [
    "<H2>Model complexity and Graid Search</H2>\n",
    "\n",
    "Too much training can lead to overfitting : the model will perform well on the training dataset but poorly on the test and validation dataset. So there is a sweetspot where we have to stop the training of the model."
   ]
  },
  {
   "cell_type": "code",
   "execution_count": 2,
   "metadata": {
    "collapsed": true
   },
   "outputs": [],
   "source": [
    "%matplotlib inline\n",
    "import matplotlib.pyplot as plt\n",
    "import numpy as np\n"
   ]
  },
  {
   "cell_type": "code",
   "execution_count": 24,
   "metadata": {
    "collapsed": false
   },
   "outputs": [
    {
     "name": "stdout",
     "output_type": "stream",
     "text": [
      "dict_keys(['n_neighbors', 'metric', 'p', 'leaf_size', 'algorithm', 'weights', 'metric_params', 'n_jobs'])\n",
      "n_neighbors: 1, average score: 0.579472\n",
      "dict_keys(['n_neighbors', 'metric', 'p', 'leaf_size', 'algorithm', 'weights', 'metric_params', 'n_jobs'])\n",
      "n_neighbors: 3, average score: 0.709425\n",
      "dict_keys(['n_neighbors', 'metric', 'p', 'leaf_size', 'algorithm', 'weights', 'metric_params', 'n_jobs'])\n",
      "n_neighbors: 5, average score: 0.732916\n",
      "dict_keys(['n_neighbors', 'metric', 'p', 'leaf_size', 'algorithm', 'weights', 'metric_params', 'n_jobs'])\n",
      "n_neighbors: 10, average score: 0.671591\n",
      "dict_keys(['n_neighbors', 'metric', 'p', 'leaf_size', 'algorithm', 'weights', 'metric_params', 'n_jobs'])\n",
      "n_neighbors: 20, average score: 0.546276\n"
     ]
    }
   ],
   "source": [
    "from sklearn.cross_validation import cross_val_score, KFold\n",
    "from sklearn.neighbors import KNeighborsRegressor\n",
    "# create a toy dataset\n",
    "x = np.linspace(-3,3,100)\n",
    "rng = np.random.RandomState(42)\n",
    "#print(x)\n",
    "#sinusoidal function with some normal random noise\n",
    "y = np.sin(4*x) + x + rng.normal(size=(len(x)))\n",
    "# this two next lines are equivalent\n",
    "X = x[:, np.newaxis]\n",
    "X = x.reshape(len(x), 1)\n",
    "\n",
    "cv = KFold(n=len(x), shuffle=True)\n",
    "\n",
    "for n_neighbors in [1,3,5,10,20]:\n",
    "    print(KNeighborsRegressor(n_neighbors=n_neighbors).get_params().keys())\n",
    "    scores = cross_val_score(KNeighborsRegressor(n_neighbors=n_neighbors), X, y, cv=cv)\n",
    "    print(\"n_neighbors: %d, average score: %f\" % (n_neighbors, np.mean(scores)))"
   ]
  },
  {
   "cell_type": "code",
   "execution_count": 28,
   "metadata": {
    "collapsed": false
   },
   "outputs": [
    {
     "data": {
      "text/plain": [
       "<matplotlib.legend.Legend at 0x255f21ad668>"
      ]
     },
     "execution_count": 28,
     "metadata": {},
     "output_type": "execute_result"
    },
    {
     "data": {
      "image/png": "[encoded data removed]",
      "text/plain": [
       "<matplotlib.figure.Figure at 0x255f2120da0>"
      ]
     },
     "metadata": {},
     "output_type": "display_data"
    }
   ],
   "source": [
    "from sklearn.learning_curve import validation_curve\n",
    "n_neighbors = [1,3,5,10,20, 50]\n",
    "train_errors, test_errors = validation_curve(KNeighborsRegressor(), X, y, param_name='n_neighbors', param_range=n_neighbors, cv=cv )\n",
    "\n",
    "plt.plot(n_neighbors, train_errors.mean(axis=1), label=\"train error\")\n",
    "plt.plot(n_neighbors, test_errors.mean(axis=1), label=\"test error\")\n",
    "plt.legend(loc='best')"
   ]
  },
  {
   "cell_type": "code",
   "execution_count": null,
   "metadata": {
    "collapsed": true
   },
   "outputs": [],
   "source": []
  }
 ],
 "metadata": {
  "kernelspec": {
   "display_name": "Python 3",
   "language": "python",
   "name": "python3"
  },
  "language_info": {
   "codemirror_mode": {
    "name": "ipython",
    "version": 3
   },
   "file_extension": ".py",
   "mimetype": "text/x-python",
   "name": "python",
   "nbconvert_exporter": "python",
   "pygments_lexer": "ipython3",
   "version": "3.5.1"
  }
 },
 "nbformat": 4,
 "nbformat_minor": 0
}
