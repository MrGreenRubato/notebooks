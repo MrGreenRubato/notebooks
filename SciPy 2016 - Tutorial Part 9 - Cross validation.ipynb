{
 "cells": [
  {
   "cell_type": "markdown",
   "metadata": {},
   "source": [
    "<h2>Cross validation </h2>\n",
    "\n",
    "the idea is to use not only a training and test set, but also a validation set. Using a test set to adapt the Model is kind of cheating, that means that the model will more or less overfit the test set whereas it should not.\n",
    "For each iteration we can also split the validation set (k-fold cross validation set - or even better Nested K-fold validation set) .If 5 iterations, validation set is 1/5th of the total training set.\n",
    "Validation Set allow to evaluate performance of the model.\n"
   ]
  },
  {
   "cell_type": "code",
   "execution_count": 11,
   "metadata": {
    "collapsed": false
   },
   "outputs": [],
   "source": [
    "from sklearn.datasets import load_iris\n",
    "from sklearn.neighbors import KNeighborsClassifier\n",
    "\n",
    "iris = load_iris()\n",
    "X, y = iris.data, iris.target\n",
    "\n",
    "classifier = KNeighborsClassifier()\n",
    "\n",
    "# Warning, the dataset is sorted, so, plitting it would result in a bad range of values, especially targets\n",
    "import numpy as np\n",
    "rng = np.random.RandomState(0)\n",
    "\n",
    "permutation = rng.permutation(len(X))\n",
    "\n",
    "X, y = X[permutation], y[permutation]\n",
    "\n",
    "k = 5\n",
    "n_samples = len(X)\n",
    "fold_size = n_samples // k\n",
    "scores = []\n",
    "masks = []\n",
    "\n",
    "for fold in range(k):\n",
    "    # generate a boolean mask for the test set in this fold\n",
    "    test_mask = np.zeros(n_samples, dtype=bool)\n",
    "    test_mask[fold * fold_size : (fold + 1) * fold_size] = True\n",
    "\n",
    "    # store the mask for visualization\n",
    "    masks.append(test_mask)\n",
    "    \n",
    "    # create training and test set using this mask\n",
    "    X_test, y_test = X[test_mask], y[test_mask]\n",
    "    X_train, y_train = X[~test_mask], y[~test_mask]\n",
    "    \n",
    "    # fit the classifier\n",
    "    classifier.fit(X_train, y_train)\n",
    "    \n",
    "    # Compute the score and record it\n",
    "    scores.append(classifier.score(X_test, y_test))\n",
    "    "
   ]
  },
  {
   "cell_type": "code",
   "execution_count": null,
   "metadata": {
    "collapsed": true
   },
   "outputs": [],
   "source": []
  }
 ],
 "metadata": {
  "kernelspec": {
   "display_name": "Python 3",
   "language": "python",
   "name": "python3"
  },
  "language_info": {
   "codemirror_mode": {
    "name": "ipython",
    "version": 3
   },
   "file_extension": ".py",
   "mimetype": "text/x-python",
   "name": "python",
   "nbconvert_exporter": "python",
   "pygments_lexer": "ipython3",
   "version": "3.5.1"
  }
 },
 "nbformat": 4,
 "nbformat_minor": 0
}
