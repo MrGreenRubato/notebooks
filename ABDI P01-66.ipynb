{
 "cells": [
  {
   "cell_type": "markdown",
   "metadata": {},
   "source": [
    "# Tutorial Python for science\n",
    "\n",
    "Resource reference :\n",
    "http://nbviewer.jupyter.org/gist/rpmuller/5920182\n"
   ]
  },
  {
   "cell_type": "code",
   "execution_count": 1,
   "metadata": {
    "collapsed": false
   },
   "outputs": [],
   "source": [
    "%matplotlib inline\n",
    "\n",
    "import matplotlib\n",
    "import numpy as np\n",
    "import scipy as sp\n",
    "import matplotlib.pyplot as pl\n",
    "from numpy import *\n",
    "from math import *\n",
    "from scipy import *\n",
    "import numpy.linalg as linalg\n",
    "from math import factorial\n",
    "from math import exp\n",
    "from math import log\n",
    "\n"
   ]
  },
  {
   "cell_type": "markdown",
   "metadata": {},
   "source": [
    "# Matrix and vectors"
   ]
  },
  {
   "cell_type": "code",
   "execution_count": 2,
   "metadata": {
    "collapsed": false
   },
   "outputs": [],
   "source": [
    "#Matrix and vectors\n",
    "v = array([2,5,7])\n",
    "m = array([[1,1,2],[3,0,3],[10,10,-1]])\n",
    "i = identity(3)"
   ]
  },
  {
   "cell_type": "code",
   "execution_count": 3,
   "metadata": {
    "collapsed": false
   },
   "outputs": [
    {
     "name": "stdout",
     "output_type": "stream",
     "text": [
      "Let one vector v : \n",
      " [2 5 7]  \n",
      "and a matrix m : \n",
      " [[ 1  1  2]\n",
      " [ 3  0  3]\n",
      " [10 10 -1]]\n"
     ]
    }
   ],
   "source": [
    "print('Let one vector v : \\n', v, ' \\nand a matrix m : \\n', m)"
   ]
  },
  {
   "cell_type": "code",
   "execution_count": 4,
   "metadata": {
    "collapsed": false
   },
   "outputs": [
    {
     "name": "stdout",
     "output_type": "stream",
     "text": [
      "Transpose m : \n",
      " [[ 1  3 10]\n",
      " [ 1  0 10]\n",
      " [ 2  3 -1]]\n"
     ]
    }
   ],
   "source": [
    "#(Abdi p.11)\n",
    "mt = transpose(m)\n",
    "print('Transpose m : \\n', mt)"
   ]
  },
  {
   "cell_type": "code",
   "execution_count": 5,
   "metadata": {
    "collapsed": false
   },
   "outputs": [
    {
     "name": "stdout",
     "output_type": "stream",
     "text": [
      "n :\n",
      " [[  3.   2.   4.]\n",
      " [  6.   1.   6.]\n",
      " [ 20.  20.  -1.]]\n",
      "sum of m and : \n",
      " [[  4.   3.   6.]\n",
      " [  9.   1.   9.]\n",
      " [ 30.  30.  -2.]]\n"
     ]
    }
   ],
   "source": [
    "#(Abdi p.12)\n",
    "n = m*2 + i\n",
    "print('n :\\n',n)\n",
    "\n",
    "mn = m+n\n",
    "print('sum of m and : \\n', mn)"
   ]
  },
  {
   "cell_type": "code",
   "execution_count": 6,
   "metadata": {
    "collapsed": false
   },
   "outputs": [
    {
     "name": "stdout",
     "output_type": "stream",
     "text": [
      "Hadamar product of m and n : \n",
      " [[   3.    2.    8.]\n",
      " [  18.    0.   18.]\n",
      " [ 200.  200.    1.]]\n"
     ]
    }
   ],
   "source": [
    "#Hadamar product (Abdi p.13)\n",
    "mn = m*n\n",
    "print('Hadamar product of m and n : \\n', mn)"
   ]
  },
  {
   "cell_type": "code",
   "execution_count": 7,
   "metadata": {
    "collapsed": false
   },
   "outputs": [
    {
     "name": "stdout",
     "output_type": "stream",
     "text": [
      "Hadamar division of m by n : \n",
      " [[ 0.33333333  0.5         0.5       ]\n",
      " [ 0.5         0.          0.5       ]\n",
      " [ 0.5         0.5         1.        ]]\n"
     ]
    }
   ],
   "source": [
    "#Hadamar division (Abdi p.13)\n",
    "mn = m/n\n",
    "print('Hadamar division of m by n : \\n', mn)"
   ]
  },
  {
   "cell_type": "code",
   "execution_count": 8,
   "metadata": {
    "collapsed": false
   },
   "outputs": [
    {
     "name": "stdout",
     "output_type": "stream",
     "text": [
      "matrices of different but conformable dimension : \n",
      "A:\n",
      " [[1 2 3]\n",
      " [4 5 6]] \n",
      "B:\n",
      " [[1 2]\n",
      " [3 4]\n",
      " [5 6]]\n",
      "Standard product A*B : \n",
      " [[22 28]\n",
      " [49 64]]\n",
      "Standard product B*A (not commutative !): \n",
      " [[ 9 12 15]\n",
      " [19 26 33]\n",
      " [29 40 51]]\n",
      "Kron product A*B: \n",
      " [[ 1  2  2  4  3  6]\n",
      " [ 3  4  6  8  9 12]\n",
      " [ 5  6 10 12 15 18]\n",
      " [ 4  8  5 10  6 12]\n",
      " [12 16 15 20 18 24]\n",
      " [20 24 25 30 30 36]]\n",
      "Kron product B*A: \n",
      " [[ 1  2  3  2  4  6]\n",
      " [ 4  5  6  8 10 12]\n",
      " [ 3  6  9  4  8 12]\n",
      " [12 15 18 16 20 24]\n",
      " [ 5 10 15  6 12 18]\n",
      " [20 25 30 24 30 36]]\n"
     ]
    }
   ],
   "source": [
    "#Caley or standard product (Abdi p.15)\n",
    "A = array([[1,2,3],[4,5,6]])\n",
    "B = array([[1,2],[3,4],[5,6]])\n",
    "\n",
    "print('matrices of different but conformable dimension : \\nA:\\n', A, '\\nB:\\n', B)\n",
    "\n",
    "PAB = dot(A,B)\n",
    "print('Standard product A*B : \\n', PAB)\n",
    "\n",
    "PBA = dot(B,A)\n",
    "print('Standard product B*A (not commutative !): \\n', PBA)\n",
    "\n",
    "#Kronecker product (Abdi p.16)\n",
    "KRONAB = kron(A,B)\n",
    "print('Kron product A*B: \\n', KRONAB)\n",
    "\n",
    "KRONBA = kron(B,A)\n",
    "print('Kron product B*A: \\n', KRONBA)\n"
   ]
  },
  {
   "cell_type": "code",
   "execution_count": 9,
   "metadata": {
    "collapsed": false
   },
   "outputs": [
    {
     "name": "stdout",
     "output_type": "stream",
     "text": [
      "diagflat creates a diagonal matrix from an array :\n",
      " [[1 0 0]\n",
      " [0 2 0]\n",
      " [0 0 5]]\n",
      "diagonal extract the diagonal from any matrix :\n",
      " [1 4 9]\n"
     ]
    }
   ],
   "source": [
    "#Diagonals Abdi (p.19)\n",
    "m_diag = diagflat([1,2,5])\n",
    "print('diagflat creates a diagonal matrix from an array :\\n', m_diag )\n",
    "ex_diag = diagonal([[1,2,4],[3,4,6], [9,9,9]])\n",
    "print('diagonal extract the diagonal from any matrix :\\n', ex_diag)"
   ]
  },
  {
   "cell_type": "code",
   "execution_count": 10,
   "metadata": {
    "collapsed": false
   },
   "outputs": [
    {
     "name": "stdout",
     "output_type": "stream",
     "text": [
      "BA : \n",
      " [[ 2  4  6]\n",
      " [20 25 30]]\n",
      "AC : \n",
      " [[ 2  8 18]\n",
      " [ 8 20 36]]\n",
      "BAC : \n",
      " [[  4  16  36]\n",
      " [ 40 100 180]]\n",
      "B(AC) : \n",
      " [[  4  16  36]\n",
      " [ 40 100 180]]\n"
     ]
    }
   ],
   "source": [
    "#diagonal product matrices Abdi (p.20)\n",
    "A = array([[1,2,3],[4,5,6]])\n",
    "B = array([[2,0],[0,5]])\n",
    "C = array([[2,0,0],[0,4,0],[0,0,6]])\n",
    "\n",
    "BA = dot(B,A)\n",
    "print('BA : \\n', BA)\n",
    "\n",
    "AC = dot(A,C)\n",
    "print('AC : \\n', AC)\n",
    "\n",
    "BAC = dot(dot(B,A),C)\n",
    "print('BAC : \\n',BAC)\n",
    "\n",
    "B_AC = dot(B,dot(A,C))\n",
    "print('B(AC) : \\n',B_AC)"
   ]
  },
  {
   "cell_type": "code",
   "execution_count": 11,
   "metadata": {
    "collapsed": false
   },
   "outputs": [
    {
     "data": {
      "text/plain": [
       "array([[ 1.,  0.,  0.],\n",
       "       [ 0.,  1.,  0.],\n",
       "       [ 0.,  0.,  1.]])"
      ]
     },
     "execution_count": 11,
     "metadata": {},
     "output_type": "execute_result"
    }
   ],
   "source": [
    "identity(3)\n"
   ]
  },
  {
   "cell_type": "code",
   "execution_count": 12,
   "metadata": {
    "collapsed": false
   },
   "outputs": [
    {
     "name": "stdout",
     "output_type": "stream",
     "text": [
      "vec(a) [[1]\n",
      " [2]\n",
      " [3]]\n",
      "b: [[7]\n",
      " [8]\n",
      " [9]]\n",
      "res1 : [[ 7  8  9]\n",
      " [14 16 18]\n",
      " [21 24 27]]\n",
      "res2 : [[ 7 14 21]\n",
      " [ 8 16 24]\n",
      " [ 9 18 27]]\n",
      "vec{abT} : [ 7 14 21  8 16 24  9 18 27]\n",
      "kron(b,a) :  [ 7 14 21  8 16 24  9 18 27]\n",
      "[[3312 5976 9792]\n",
      " [ 644 1162 1904]\n",
      " [ 782 1411 2312]] \n",
      "vec{AabTC} :  [3312  644  782 5976 1162 1411 9792 1904 2312] \n",
      "\n",
      "(CT(x)A vec{abT}) :  [3312  644  782 5976 1162 1411 9792 1904 2312]\n",
      "vec{ABC} :  [1080  204  226 1944  366  401 3186  600  658]\n",
      "(CT(x)A)vec{B} [1080  204  226 1944  366  401 3186  600  658]\n"
     ]
    }
   ],
   "source": [
    "#Kronecker and Vec Abdi (p.35)\n",
    "a = np.array([1,2,3])\n",
    "b = np.array([7,8,9])\n",
    "\n",
    "a.shape = (3,1)\n",
    "b.shape = (3,1)\n",
    "print('vec(a)', a)\n",
    "print('b:', b)\n",
    "\n",
    "res1 = a.dot(b.transpose())\n",
    "print('res1 :', res1)\n",
    "res2 = res1.transpose()\n",
    "print('res2 :', res2)\n",
    "res3 = res2.flatten()\n",
    "#res2.shape = (size(res1),1)\n",
    "print('vec{abT} :',res3)\n",
    "\n",
    "res3bis = kron(b,a)\n",
    "print('kron(b,a) : ',res3bis.flatten())\n",
    "\n",
    "A = array([2,5,20,1,2,3,6,1,3])\n",
    "A.shape = (3,3)\n",
    "C = array([3,6,10,2,4,6,1,1,2])\n",
    "C.shape = (3,3)\n",
    "\n",
    "#Abdi (P.35 II.32)\n",
    "resA = dot(A,dot(a,dot(b.transpose(), C)))\n",
    "print(resA, '\\nvec{AabTC} : ', resA.transpose().flatten(), '\\n')\n",
    "\n",
    "resB = a.dot(b.transpose()).transpose().flatten()\n",
    "resBB = dot(kron(C.transpose(),A), resB)\n",
    "print('(CT(x)A vec{abT}) : ', resBB)\n",
    "\n",
    "#Note\n",
    "#Vec of a matrix is A.transpose().flatten()\n",
    "\n",
    "#Abdi (P.35 II.35)\n",
    "B = array([1,2,3,4,5,6,7,8,9])\n",
    "B.shape = (3,3)\n",
    "\n",
    "resM = dot(dot(A,B),C).transpose().flatten()\n",
    "resK = dot(kron(C.transpose(), A), B.transpose().flatten())\n",
    "\n",
    "print('vec{ABC} : ', resM)\n",
    "print('(CT(x)A)vec{B}', resK)"
   ]
  },
  {
   "cell_type": "code",
   "execution_count": 13,
   "metadata": {
    "collapsed": false
   },
   "outputs": [
    {
     "name": "stdout",
     "output_type": "stream",
     "text": [
      "\n",
      " A : \n",
      " [[1 3 4]\n",
      " [2 4 5]\n",
      " [3 5 6]] \n",
      " Perm : \n",
      " [[1 0 0]\n",
      " [0 0 1]\n",
      " [0 1 0]]\n",
      "\n",
      " Line permutation: \n",
      " [[1 3 4]\n",
      " [3 5 6]\n",
      " [2 4 5]]\n",
      "\n",
      " Column permutation: \n",
      " [[1 4 3]\n",
      " [2 5 4]\n",
      " [3 6 5]]\n"
     ]
    }
   ],
   "source": [
    "#Matrix permutation (switch) between line 2 and 3 \n",
    "#Matrix permutation between columns is also possible with the same matrix\n",
    "A = array([1,3,4,2,4,5,3,5,6])\n",
    "A.shape = (3,3)\n",
    "\n",
    "P = array([1,0,0,0,0,1,0,1,0])\n",
    "P.shape = (3,3)\n",
    "\n",
    "print('\\n A : \\n', A, '\\n Perm : \\n', P)\n",
    "print('\\n Line permutation: \\n', dot(P,A))\n",
    "print('\\n Column permutation: \\n', dot(A,P))\n"
   ]
  },
  {
   "cell_type": "code",
   "execution_count": 14,
   "metadata": {
    "collapsed": false
   },
   "outputs": [
    {
     "name": "stdout",
     "output_type": "stream",
     "text": [
      "Norm computed manually (square root of dot product of the vector by itself) :  5.47722557505\n",
      "Norm calculated via linalg library : 5.47722557505\n"
     ]
    }
   ],
   "source": [
    "#Norm of a vector (Abdi p.39)\n",
    "b = array([1,2,3,4])\n",
    "b.shape = (1,4)\n",
    "normb = sqrt(dot(b,b.transpose()))\n",
    "print('Norm computed manually (square root of dot product of the vector by itself) : ', normb[0][0])\n",
    "print('Norm calculated via linalg library :', linalg.norm(b))\n"
   ]
  },
  {
   "cell_type": "code",
   "execution_count": 15,
   "metadata": {
    "collapsed": false
   },
   "outputs": [
    {
     "name": "stdout",
     "output_type": "stream",
     "text": [
      "notes : [14 13 17 10  6 19 20 19]\n",
      "WRONG : Variance of notes :  239.0\n",
      "To calculate the variance of a vector, it must be centered...\n",
      "mean value of notes : 14.75\n",
      "Centered notes : [-0.75 -1.75  2.25 -4.75 -8.75  4.25  5.25  4.25]\n",
      "Variance of notes :  21.4375\n",
      "Standard deviation of notes manually calculated :  4.63006479436\n",
      "np.std of the library, does the centering job before, so the result is the same\n",
      "Standard deviation of notes :  4.63006479436 \n",
      "Standard deviation of centered notes :  4.63006479436\n"
     ]
    }
   ],
   "source": [
    "notes = array([14,13,17,10,6,19,20,19])\n",
    "notes.shape = (size(notes))\n",
    "\n",
    "print('notes :', notes)\n",
    "\n",
    "#Variance : mean of the norm\n",
    "varNotes = square(linalg.norm(notes)) / size(notes)\n",
    "print('WRONG : Variance of notes : ', varNotes)\n",
    "print('To calculate the variance of a vector, it must be centered...')\n",
    "\n",
    "v1 = ones(size(notes))\n",
    "mean = dot(notes,v1)/(size(notes))\n",
    "print('mean value of notes :', mean)\n",
    "notesC = notes - mean\n",
    "print('Centered notes :', notesC)\n",
    "varNotesC = square(linalg.norm(notesC)) / size(notesC)\n",
    "print('Variance of notes : ', varNotesC)\n",
    "print('Standard deviation of notes manually calculated : ', sqrt(varNotesC))\n",
    "print('np.std of the library, does the centering job before, so the result is the same')\n",
    "print('Standard deviation of notes : ',np.std(notes),'\\nStandard deviation of centered notes : ', np.std(notesC))\n",
    "\n"
   ]
  },
  {
   "cell_type": "code",
   "execution_count": 16,
   "metadata": {
    "collapsed": false
   },
   "outputs": [
    {
     "name": "stdout",
     "output_type": "stream",
     "text": [
      "notes :  [[13 12 13]\n",
      " [15  9 16]\n",
      " [19 13 11]\n",
      " [20 20 15]\n",
      " [16 18 12]\n",
      " [18 15  9]]\n",
      "Lets compute standard deviation for each student :  [ 2.40947205  3.6855574   2.3570226 ]\n",
      "Lets compute standard deviation for each exam :  [ 0.47140452  3.09120617  3.39934634  2.3570226   2.49443826  3.74165739]\n",
      "Now, the mean for each student,  [ 16.83333333  14.5         12.66666667]\n",
      "and the mean of each exam :  [ 12.66666667  13.33333333  14.33333333  18.33333333  15.33333333  14.        ]\n"
     ]
    },
    {
     "data": {
      "text/plain": [
       "[<matplotlib.lines.Line2D at 0x10a232470>]"
      ]
     },
     "execution_count": 16,
     "metadata": {},
     "output_type": "execute_result"
    },
    {
     "data": {
      "image/png": "[encoded data removed]",
      "text/plain": [
       "<matplotlib.figure.Figure at 0x10a232710>"
      ]
     },
     "metadata": {},
     "output_type": "display_data"
    }
   ],
   "source": [
    "# Variance of a matrix (for instance, many students notes)\n",
    "notes = array([13,12,13,15,9,16,19,13,11,20,20,15,16,18,12,18,15,9])\n",
    "notes.shape = (size(notes)//3,3)\n",
    "print('notes : ', notes)\n",
    "\n",
    "print('Lets compute standard deviation for each student : ', np.std(notes,axis = 0))\n",
    "print('Lets compute standard deviation for each exam : ', np.std(notes, axis = 1))\n",
    "print('Now, the mean for each student, ', np.mean(notes, axis = 0))\n",
    "print('and the mean of each exam : ', np.mean(notes, axis = 1))\n",
    "\n",
    "pl.plot(notes)\n",
    "pl.plot(np.mean(notes, axis = 1), linewidth=3)"
   ]
  },
  {
   "cell_type": "code",
   "execution_count": 17,
   "metadata": {
    "collapsed": false
   },
   "outputs": [
    {
     "name": "stdout",
     "output_type": "stream",
     "text": [
      "b : [[1]\n",
      " [2]\n",
      " [3]\n",
      " [4]]\n",
      "minkowski distance (l=1 - Manhattan):  3.000\n",
      "minkoski norm (l=1) 3.0\n",
      "minkowski distance (l=2 - Euclidian):  1.732\n",
      "minkoski norm (l=2) 1.7320508075688772\n",
      "minkowski distance (l=4):  1.316\n",
      "minkoski norm (l=4) 1.3160740129524924\n",
      "minkowski distance (l=oo (99)):  1.011\n",
      "minkoski norm (l=99) 1.0011003169056312\n",
      "\n",
      "minkowski distance (l=1 - Manhattan):  10.000\n",
      "minkowski distance (l=2 - Euclidian):  5.477\n",
      "minkowski distance (l=4):  4.338\n",
      "minkoski norm(l=4):  4.337613136533361\n",
      "minkowski distance (l=oo (99)):  4.000\n",
      "minkoski norm(l=4):  4.000000000000018\n"
     ]
    }
   ],
   "source": [
    "#Minkowski norms (Abdi p.40)\n",
    "a = array([1,1,1])\n",
    "a.shape = (3,1)\n",
    "b = array([1,2,3,4])\n",
    "b.shape = (4,1)\n",
    "\n",
    "print('b :', b)\n",
    "\n",
    "#from https://dataaspirant.com/2015/04/11/five-most-popular-similarity-measures-implementation-in-python/\n",
    "from decimal import Decimal\n",
    "\n",
    "def nth_root(value, n_root):\n",
    " \n",
    " root_value = 1/float(n_root)\n",
    " return round (Decimal(value) ** Decimal(root_value),3)\n",
    " \n",
    "def minkowski_distance(x,y,p_value):\n",
    " \n",
    " return nth_root(sum(pow(abs(a-b),p_value) for a,b in zip(x, y)),p_value)\n",
    "\n",
    "#To just have the norm, I oversimplified\n",
    "def minkowski_norm(x,l):\n",
    "    val = sum(pow(a, l) for a in x)\n",
    "    return pow(val,1/l)\n",
    " \n",
    "# :\n",
    "\n",
    "print('minkowski distance (l=1 - Manhattan): ', minkowski_distance(a,[0,0,0],1))\n",
    "print('minkoski norm (l=1)', minkowski_norm(a,1))\n",
    "print('minkowski distance (l=2 - Euclidian): ', minkowski_distance(a,[0,0,0],2))\n",
    "print('minkoski norm (l=2)', minkowski_norm(a,2))\n",
    "print('minkowski distance (l=4): ', minkowski_distance(a,[0,0,0],4))\n",
    "print('minkoski norm (l=4)', minkowski_norm(a,4))\n",
    "print('minkowski distance (l=oo (99)): ', minkowski_distance(a,[0,0,0],99))\n",
    "print('minkoski norm (l=99)', minkowski_norm(a,999))\n",
    "\n",
    "\n",
    "\n",
    "print('\\nminkowski distance (l=1 - Manhattan): ', minkowski_distance(b,[0,0,0,0],1))\n",
    "print('minkowski distance (l=2 - Euclidian): ', minkowski_distance(b,[0,0,0,0],2))\n",
    "print('minkowski distance (l=4): ', minkowski_distance(b,[0,0,0,0],4))\n",
    "print('minkoski norm(l=4): ', minkowski_norm(b,4))\n",
    "print('minkowski distance (l=oo (99)): ', minkowski_distance(b,[0,0,0,0],99))\n",
    "print('minkoski norm(l=4): ', minkowski_norm(b,99))"
   ]
  },
  {
   "cell_type": "code",
   "execution_count": 18,
   "metadata": {
    "collapsed": false
   },
   "outputs": [
    {
     "name": "stdout",
     "output_type": "stream",
     "text": [
      "a :  [[1]\n",
      " [1]\n",
      " [1]\n",
      " [1]] a normalized  [[ 0.5]\n",
      " [ 0.5]\n",
      " [ 0.5]\n",
      " [ 0.5]]  and of course norm a_norm = 1 :  1.0\n"
     ]
    }
   ],
   "source": [
    "#Vector normalization (Abdi p44)\n",
    "a = array([1,1,1,1])\n",
    "a.shape = (4,1)\n",
    "\n",
    "a_norm = a / linalg.norm(a)\n",
    "print('a : ', a, 'a normalized ', a_norm, ' and of course norm a_norm = 1 : ', linalg.norm(a_norm))"
   ]
  },
  {
   "cell_type": "code",
   "execution_count": 20,
   "metadata": {
    "collapsed": false
   },
   "outputs": [
    {
     "name": "stdout",
     "output_type": "stream",
     "text": [
      "a mean:  6.0\n",
      "a Z:  [ 1.5   0.75 -1.25 -0.75 -0.25]\n"
     ]
    }
   ],
   "source": [
    "# Notes Z (reduct, centered) Abdi (p.45)\n",
    "\n",
    "a = array([12,9,1,3,5])\n",
    "ma = np.mean(a)\n",
    "print('a mean: ', ma)\n",
    "aZ = (a - ma) / np.std(a)\n",
    "print('a Z: ', aZ)\n"
   ]
  },
  {
   "cell_type": "code",
   "execution_count": 21,
   "metadata": {
    "collapsed": false
   },
   "outputs": [
    {
     "name": "stdout",
     "output_type": "stream",
     "text": [
      "b normalized:  [ 0.53452248  0.26726124  0.80178373]\n",
      "norm :  0.999999094847\n",
      "cos : 0.8\n",
      "36.8698976458\n",
      "0.107221439342\n"
     ]
    }
   ],
   "source": [
    "# Some checkings\n",
    "b = array([2,1,3])\n",
    "newB= b / linalg.norm(b)\n",
    "print('b normalized: ', newB)\n",
    "bNormalized = array([0.534522, 0.267261, 0.801783])\n",
    "print('norm : ', linalg.norm(bNormalized))\n",
    "\n",
    "# Finding angle between 2 vectors (Cosinus, Abdi )\n",
    "def ang_vec(v1, v2):\n",
    "    \"\"\" Returns the angle in radians between vectors 'v1' and 'v2'    \"\"\"\n",
    "    cosang = np.dot(v1, v2)\n",
    "    sinang = linalg.norm(np.cross(v1, v2))\n",
    "    return np.arctan2(sinang, cosang)\n",
    "\n",
    "def ang_vec2(v1, v2):\n",
    "    \"\"\" Returns the angle in degrees between vectors 'v1' and 'v2' \"\"\"\n",
    "    cosang = np.dot(v1, v2)/(linalg.norm(v1) * linalg.norm(v2))\n",
    "    if cosang > 1.0:\n",
    "        cosang = 1\n",
    "    print('cos :', cosang)\n",
    "    return np.arccos(cosang) * (180 / math.pi)\n",
    "print(ang_vec2([2,1], [1,2]))\n",
    "\n",
    "def ang_cos(v1, v2):\n",
    "    \"\"\" Get cos for similarity between two vectors\"\"\"\n",
    "    cosang = np.dot(v1, v2)/(linalg.norm(v1) * linalg.norm(v2))\n",
    "    return cosang\n",
    "\n",
    "# When the cos of two vectors is near 1, it means that the vectors are very similar.\n",
    "print(ang_cos([3,2.8], [-1.5,2]))\n"
   ]
  },
  {
   "cell_type": "code",
   "execution_count": 22,
   "metadata": {
    "collapsed": false
   },
   "outputs": [
    {
     "name": "stdout",
     "output_type": "stream",
     "text": [
      "[[ 1.         0.9653987]\n",
      " [ 0.9653987  1.       ]]\n",
      "[[ 1.          0.98115578]\n",
      " [ 0.98115578  1.        ]]\n",
      "correlation coefficient of v1,v2 :  0.965398697559\n",
      "correlation coefficient of v1b, v2 :  0.981155781039\n",
      "correlation coefficient of v1,v1c :  [[ 1.  1.]\n",
      " [ 1.  1.]]\n"
     ]
    }
   ],
   "source": [
    "#Correlation coefficient (Abdi p.47)\n",
    "v1 = array([2,5,10,20])\n",
    "v1b = array([2,4,5,8])\n",
    "v2 = array([1,2,3,4])\n",
    "\n",
    "print(np.corrcoef(v1, v2))\n",
    "\n",
    "print(np.corrcoef(v1b, v2))\n",
    "\n",
    "\n",
    "## This function is simply the cos of the two centered vectors\n",
    "# Center the vectors\n",
    "\n",
    "v1c = v1 - np.mean(v1)\n",
    "v1bc = v1b - np.mean(v1b)\n",
    "v2c = v2 - np.mean(v2)\n",
    "\n",
    "print('correlation coefficient of v1,v2 : ', ang_cos(v1c,v2c))\n",
    "print('correlation coefficient of v1b, v2 : ', ang_cos(v1bc, v2c))\n",
    "\n",
    "print('correlation coefficient of v1,v1c : ', np.corrcoef(v1,v1c))\n",
    "\n",
    "\n"
   ]
  },
  {
   "cell_type": "code",
   "execution_count": 23,
   "metadata": {
    "collapsed": false
   },
   "outputs": [
    {
     "name": "stdout",
     "output_type": "stream",
     "text": [
      "AtA is diagonal so this matrix is orthogonal:\n",
      "  [[ 1 -1 -1]\n",
      " [ 1  1 -1]\n",
      " [ 1 -1  1]\n",
      " [ 1  1  1]]\n",
      "BtB is not diagonal so this matrix is not orthogonal:\n",
      "  [[ 1 -1 -1]\n",
      " [ 1  1 -1]\n",
      " [ 1 -1  1]\n",
      " [ 1  1  2]]\n"
     ]
    }
   ],
   "source": [
    "# Orthogonal maxtrix (Abdi p.48)\n",
    "A = array([1,-1,-1,1,1,-1,1,-1,1,1,1,1])\n",
    "A.shape = (4,3)\n",
    "B = array([1,-1,-1,1,1,-1,1,-1,1,1,1,2])\n",
    "B.shape = (4,3)\n",
    "\n",
    "\n",
    "ADiag = np.dot(A.transpose(),A)\n",
    "if np.allclose(ADiag, np.diag(np.diag(ADiag))):\n",
    "    print('AtA is diagonal so this matrix is orthogonal:\\n ', A)\n",
    "else:\n",
    "    print('AtA is not diagonal so this matrix is not orthogonal:\\n ', A)\n",
    "    \n",
    "BDiag = np.dot(B.transpose(),B)\n",
    "if np.allclose(BDiag, np.diag(np.diag(BDiag))):\n",
    "    print('BtB is diagonal so this matrix is orthogonal:\\n ', B)\n",
    "else:\n",
    "    print('BtB is not diagonal so this matrix is not orthogonal:\\n ', B)\n",
    "\n"
   ]
  },
  {
   "cell_type": "code",
   "execution_count": 24,
   "metadata": {
    "collapsed": false
   },
   "outputs": [
    {
     "name": "stdout",
     "output_type": "stream",
     "text": [
      "test: 0.0\n",
      "projection of a on b:  [ 3.83018868  1.09433962]\n",
      "angle between them:  0.0\n",
      "cos : 1\n",
      "angle between them:  0.0\n"
     ]
    }
   ],
   "source": [
    "# Projection of a vector onto another vector (Abdi p.49)\n",
    "#Proj of a on b = (aTb/bTb)b = ||a||/||b|| x cos(a,b) x b\n",
    "\n",
    "a = array([3,4])\n",
    "b = array([7,2])\n",
    "\n",
    "projaonb = dot(linalg.norm(a)/linalg.norm(b) * ang_cos(a,b), b)\n",
    "\n",
    "print('test:', np.arccos(1.0))\n",
    "print('projection of a on b: ', projaonb)\n",
    "#Works\n",
    "print('angle between them: ', ang_vec(b, projaonb))\n",
    "#Doesn't work (warning with arccos) (fixed)\n",
    "print('angle between them: ', ang_vec2(b, projaonb))"
   ]
  },
  {
   "cell_type": "code",
   "execution_count": 25,
   "metadata": {
    "collapsed": false
   },
   "outputs": [
    {
     "data": {
      "text/plain": [
       "array([ 3.83018868,  1.09433962])"
      ]
     },
     "execution_count": 25,
     "metadata": {},
     "output_type": "execute_result"
    }
   ],
   "source": [
    "#refresher :\n",
    "# projb(a) = (aTa/bTb)b\n",
    "\n",
    "(dot(a.transpose(), b) / dot(b.transpose(), b)) * b\n"
   ]
  },
  {
   "cell_type": "code",
   "execution_count": 26,
   "metadata": {
    "collapsed": false
   },
   "outputs": [
    {
     "name": "stdout",
     "output_type": "stream",
     "text": [
      "distance of a to b: 17.7482393493 squared :  315.00000000000006\n"
     ]
    },
    {
     "data": {
      "text/plain": [
       "315.0"
      ]
     },
     "execution_count": 26,
     "metadata": {},
     "output_type": "execute_result"
    }
   ],
   "source": [
    "#Distance between 2 vectors (Abdi p.51)\n",
    "a = array([2,5,10,20])\n",
    "b = array([1,2,3,4])\n",
    "print('distance of a to b:', linalg.norm(a-b), 'squared : ', math.pow(linalg.norm(a-b),2))\n",
    "\n",
    "# This Euclidian distance is also expressed by the relation : ||a||² + ||b||² - 2||a||||b|| x cos(a,b)\n",
    "math.pow(linalg.norm(a),2) + math.pow(linalg.norm(b),2) - 2 * linalg.norm(a) * linalg.norm(b) * ang_cos(a,b)"
   ]
  },
  {
   "cell_type": "code",
   "execution_count": 27,
   "metadata": {
    "collapsed": false
   },
   "outputs": [
    {
     "name": "stdout",
     "output_type": "stream",
     "text": [
      "x1:  [[ 1]\n",
      " [ 1]\n",
      " [ 1]\n",
      " [-1]]\n",
      "W1:  [[ 1  1  1 -1]\n",
      " [ 1  1  1 -1]\n",
      " [ 1  1  1 -1]\n",
      " [-1 -1 -1  1]]\n",
      "W2:  [[ 2  2  0  0]\n",
      " [ 2  2  0  0]\n",
      " [ 0  0  2 -2]\n",
      " [ 0  0 -2  2]]\n",
      "x 0 :  [ 1  1  1 -1]\n",
      "x 1 :  [-1 -1  1 -1]\n",
      "x 2 :  [-1 -1 -1 -1]\n",
      "x 3 :  [ 1 -1 -1  1]\n",
      "x 4 :  [-1  1 -1 -1]\n",
      "x 5 :  [ 1 -1  1  1]\n",
      "x 6 :  [1 1 1 1]\n",
      "x 7 :  [-1 -1 -1  1]\n",
      "x 8 :  [-1  1  1 -1]\n",
      "x 9 :  [ 1  1 -1  1]\n",
      "W for 10 faces:\n",
      " [[ 10.   2.   2.   6.]\n",
      " [  2.  10.   2.  -2.]\n",
      " [  2.   2.  10.  -2.]\n",
      " [  6.  -2.  -2.  10.]]\n",
      "W for 10 faces:\n",
      " [[10  2  2  6]\n",
      " [ 2 10  2 -2]\n",
      " [ 2  2 10 -2]\n",
      " [ 6 -2 -2 10]]\n",
      "Diff :  [[ 0.  0.  0.  0.]\n",
      " [ 0.  0.  0.  0.]\n",
      " [ 0.  0.  0.  0.]\n",
      " [ 0.  0.  0.  0.]]\n",
      "x 0 :  [ 1  1  1 -1]\n",
      "x 1 :  [-1 -1  1 -1]\n",
      "x 2 :  [-1 -1 -1 -1]\n",
      "x 3 :  [ 1 -1 -1  1]\n",
      "x 4 :  [-1  1 -1 -1]\n",
      "x 5 :  [ 1 -1  1  1]\n",
      "x 6 :  [1 1 1 1]\n",
      "x 7 :  [-1 -1 -1  1]\n",
      "x 8 :  [-1  1  1 -1]\n",
      "x 9 :  [ 1  1 -1  1]\n",
      "WP:  [[ 2.5  0.5  0.5  1.5]\n",
      " [ 0.5  2.5  0.5 -0.5]\n",
      " [ 0.5  0.5  2.5 -0.5]\n",
      " [ 1.5 -0.5 -0.5  2.5]]\n",
      "remember 1:  [[ 8]\n",
      " [16]\n",
      " [16]\n",
      " [-8]]\n",
      "remember 1 from WP (adjusted coeffs:  [[ 2.]\n",
      " [ 4.]\n",
      " [ 4.]\n",
      " [-2.]]\n",
      "similarity of well-known face:  [[ 0.9486833]]\n",
      "remember unknown ? :  [ 0 -8 -8  0]\n",
      "remember unknown from WP ? :  [ 0. -2. -2.  0.]\n",
      "similarity of unknown face:  0.707106781187\n"
     ]
    }
   ],
   "source": [
    "# Associative memory Hebb learning (Abdi p. 58)\n",
    "faces = array([1,1,1,-1,\n",
    "            -1,-1,1,-1,\n",
    "           -1,-1,-1,-1,\n",
    "           1,-1,-1,1,\n",
    "           -1,1,-1,-1,\n",
    "           1,-1,1,1,\n",
    "           1,1,1,1,\n",
    "           -1,-1,-1,1,\n",
    "           -1,1,1,-1,\n",
    "           1,1,-1,1])\n",
    "faces.shape = (10,4)\n",
    "faces = faces.transpose()\n",
    "\n",
    "x1 = faces[:,0]\n",
    "x1.shape = (4,1)\n",
    "print('x1: ', x1)\n",
    "x2 = faces[:,1]\n",
    "x2.shape = (4,1)\n",
    "W1 = x1.dot(x1.transpose())\n",
    "print('W1: ', W1)\n",
    "W2 = W1 + x2.dot(x2.transpose())\n",
    "print('W2: ', W2)\n",
    "\n",
    "# now compute the associative Matrix iteratively\n",
    "\n",
    "W = np.zeros((4,4))\n",
    "for i in range(0,10):\n",
    "    x = faces[:,i]\n",
    "    print('x',i,': ', x)\n",
    "    x.shape = (4,1)\n",
    "    W = W + x.dot(x.transpose())\n",
    "\n",
    "print('W for 10 faces:\\n', W)\n",
    "\n",
    "# A quicker way to compute this matrix is simply to multiply faces by face.transpose :\n",
    "WProd = faces.dot(faces.transpose())\n",
    "print('W for 10 faces:\\n', WProd)\n",
    "\n",
    "print('Diff : ', W - WProd)\n",
    "\n",
    "# Hebb method, but divide by p (number of vectors) to keep matrix small \n",
    "WP = np.zeros((4,4))\n",
    "for i in range(0,10):\n",
    "    x = faces[:,i]\n",
    "    print('x',i,': ', x)\n",
    "    x.shape = (4,1)\n",
    "    WP = WP + x.dot(x.transpose()) / 4\n",
    "\n",
    "print('WP: ', WP)\n",
    "\n",
    "\n",
    "# Now let's see if the memory can recall a well known face :\n",
    "# To do so, we premultiply one of the faces by the connection matrix :\n",
    "rem_1 = dot(WProd,x1)\n",
    "print('remember 1: ', rem_1)\n",
    "\n",
    "rem_1 = dot(WP,x1)\n",
    "print('remember 1 from WP (adjusted coeffs: ', rem_1)\n",
    "\n",
    "# To check the similarity with the original face, we just have to compute the cosine of the two vectors.\n",
    "print('similarity of well-known face: ', ang_cos(x1.transpose(),rem_1))\n",
    "\n",
    "# Now let's present an unknown face\n",
    "unknown = array([1,-1,-1,-1])\n",
    "rem_unknown = dot(WProd, unknown)\n",
    "print('remember unknown ? : ', rem_unknown)\n",
    "rem_unknown = dot(WP, unknown)\n",
    "print('remember unknown from WP ? : ', rem_unknown)\n",
    "\n",
    "\n",
    "print('similarity of unknown face: ', ang_cos(unknown.transpose(), rem_unknown))\n",
    "\n",
    "# This Hebb method is not perfect as the remembrance is modified from the original (cos is not == 1)\n",
    "# The Widrow-Hoff learning method allows better performances because the weight of connections is adjusted until memory performance is maximal\n",
    "# More in the next cell..."
   ]
  },
  {
   "cell_type": "code",
   "execution_count": null,
   "metadata": {
    "collapsed": true
   },
   "outputs": [],
   "source": []
  }
 ],
 "metadata": {
  "celltoolbar": "Raw Cell Format",
  "kernelspec": {
   "display_name": "Python 3",
   "language": "python",
   "name": "python3"
  },
  "language_info": {
   "codemirror_mode": {
    "name": "ipython",
    "version": 3
   },
   "file_extension": ".py",
   "mimetype": "text/x-python",
   "name": "python",
   "nbconvert_exporter": "python",
   "pygments_lexer": "ipython3",
   "version": "3.5.1"
  }
 },
 "nbformat": 4,
 "nbformat_minor": 0
}
