{
 "cells": [
  {
   "cell_type": "code",
   "execution_count": 12,
   "metadata": {
    "collapsed": false
   },
   "outputs": [
    {
     "name": "stdout",
     "output_type": "stream",
     "text": [
      "mean:  3.0\n",
      "standard deviation:  1.41421356237\n",
      "Standard deviation of the standardized array: 1.0\n",
      "Mean of the new standardized array: 0.0\n"
     ]
    }
   ],
   "source": [
    "# Let's recall :\n",
    "import numpy as np\n",
    "arr = np.array([1,2,3,4,5])\n",
    "print('mean: ', arr.mean())\n",
    "print('standard deviation: ', arr.std())\n",
    "arr = (arr - arr.mean()) / arr.std() \n",
    "arr\n",
    "print('Standard deviation of the standardized array:', arr.std())\n",
    "print('Mean of the new standardized array:',arr.mean())"
   ]
  },
  {
   "cell_type": "code",
   "execution_count": null,
   "metadata": {
    "collapsed": true
   },
   "outputs": [],
   "source": []
  }
 ],
 "metadata": {
  "kernelspec": {
   "display_name": "Python 3",
   "language": "python",
   "name": "python3"
  },
  "language_info": {
   "codemirror_mode": {
    "name": "ipython",
    "version": 3
   },
   "file_extension": ".py",
   "mimetype": "text/x-python",
   "name": "python",
   "nbconvert_exporter": "python",
   "pygments_lexer": "ipython3",
   "version": "3.5.1"
  }
 },
 "nbformat": 4,
 "nbformat_minor": 0
}
