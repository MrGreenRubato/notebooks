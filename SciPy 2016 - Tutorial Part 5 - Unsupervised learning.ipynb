{
 "cells": [
  {
   "cell_type": "code",
   "execution_count": 12,
   "metadata": {
    "collapsed": false
   },
   "outputs": [
    {
     "name": "stdout",
     "output_type": "stream",
     "text": [
      "mean:  3.0\n",
      "standard deviation:  1.41421356237\n",
      "Standard deviation of the standardized array: 1.0\n",
      "Mean of the new standardized array: 0.0\n"
     ]
    }
   ],
   "source": [
    "# Let's recall :\n",
    "import numpy as np\n",
    "arr = np.array([1,2,3,4,5])\n",
    "print('mean: ', arr.mean())\n",
    "print('standard deviation: ', arr.std())\n",
    "arr = (arr - arr.mean()) / arr.std() \n",
    "arr\n",
    "print('Standard deviation of the standardized array:', arr.std())\n",
    "print('Mean of the new standardized array:',arr.mean())"
   ]
  },
  {
   "cell_type": "code",
   "execution_count": 35,
   "metadata": {
    "collapsed": false
   },
   "outputs": [
    {
     "name": "stdout",
     "output_type": "stream",
     "text": [
      "Whole dataset: (150, 4)\n",
      "Train dataset: (112, 4)\n",
      "mean of X_Train columns (features): [ 5.84017857  3.075       3.71607143  1.1875    ]\n",
      "standard deviation of X_train columns (features): [ 0.83564131  0.43925668  1.78613477  0.77114537]\n",
      "mean of X_Train columns (features): [ -1.58206781e-15   1.61595687e-15   2.57730345e-17  -2.65660509e-16]\n",
      "standard deviation of X_train columns (features): [ 1.  1.  1.  1.]\n",
      "Scaled dataset dimensions: (112, 4)\n",
      "mean of X_test columns (features): [ 0.01490234 -0.18871594  0.09413573  0.05716036]\n",
      "standard deviation of X_test columns (features): [ 0.95013213  0.92013764  0.93397499  0.94364503]\n"
     ]
    },
    {
     "ename": "ImportError",
     "evalue": "cannot import name 'plot_relative_scaling'",
     "output_type": "error",
     "traceback": [
      "\u001b[1;31m---------------------------------------------------------------------------\u001b[0m",
      "\u001b[1;31mImportError\u001b[0m                               Traceback (most recent call last)",
      "\u001b[1;32m<ipython-input-35-c5a7c99b7e7f>\u001b[0m in \u001b[0;36m<module>\u001b[1;34m()\u001b[0m\n\u001b[0;32m     33\u001b[0m \u001b[1;33m\u001b[0m\u001b[0m\n\u001b[0;32m     34\u001b[0m \u001b[1;31m# scaling can be displayed\u001b[0m\u001b[1;33m\u001b[0m\u001b[1;33m\u001b[0m\u001b[0m\n\u001b[1;32m---> 35\u001b[1;33m \u001b[1;32mfrom\u001b[0m \u001b[0mfigures\u001b[0m \u001b[1;32mimport\u001b[0m \u001b[0mplot_relative_scaling\u001b[0m\u001b[1;33m\u001b[0m\u001b[0m\n\u001b[0m\u001b[0;32m     36\u001b[0m \u001b[0mplot_relative_scaling\u001b[0m\u001b[1;33m(\u001b[0m\u001b[1;33m)\u001b[0m\u001b[1;33m\u001b[0m\u001b[0m\n",
      "\u001b[1;31mImportError\u001b[0m: cannot import name 'plot_relative_scaling'"
     ]
    }
   ],
   "source": [
    "from sklearn.datasets import load_iris\n",
    "from sklearn.cross_validation import train_test_split\n",
    "iris = load_iris()\n",
    "print('Whole dataset:', iris.data.shape)\n",
    "\n",
    "X_train, X_test, y_train, y_test = train_test_split(iris.data, iris.target, test_size=0.25, random_state=10)\n",
    "print('Train dataset:', X_train.shape)\n",
    "\n",
    "# the iris dataset is not centered (it is not standardized at all)\n",
    "print('mean of X_Train columns (features):', X_train.mean(axis=0))\n",
    "print('standard deviation of X_train columns (features):', X_train.std(axis=0))\n",
    "\n",
    "#so we can use a preprocessing method to scale this (only X, not y)\n",
    "from sklearn.preprocessing import StandardScaler\n",
    "scaler = StandardScaler()\n",
    "scaler.fit(X_train)\n",
    "X_train_standardized = scaler.transform(X_train)\n",
    "\n",
    "# The dataset is now standardized\n",
    "print('mean of X_Train columns (features):', X_train_standardized.mean(axis=0))\n",
    "print('standard deviation of X_train columns (features):', X_train_standardized.std(axis=0))\n",
    "\n",
    "# The standardized dataset has also exactly the same dimensions\n",
    "print('Scaled dataset dimensions:', X_train_standardized.shape)\n",
    "\n",
    "# The same transformation is also applied on the test set... with the parameters of the training one, so... this\n",
    "# test set is not standardized really\n",
    "X_test_standardized = scaler.transform(X_test)\n",
    "\n",
    "# The dataset is now standardized\n",
    "print('mean of X_test columns (features):', X_test_standardized.mean(axis=0))\n",
    "print('standard deviation of X_test columns (features):', X_test_standardized.std(axis=0))\n",
    "\n",
    "# scaling can be displayed\n",
    "from figures import plot_relative_scaling\n",
    "plot_relative_scaling()"
   ]
  },
  {
   "cell_type": "code",
   "execution_count": null,
   "metadata": {
    "collapsed": true
   },
   "outputs": [],
   "source": []
  }
 ],
 "metadata": {
  "kernelspec": {
   "display_name": "Python 3",
   "language": "python",
   "name": "python3"
  },
  "language_info": {
   "codemirror_mode": {
    "name": "ipython",
    "version": 3
   },
   "file_extension": ".py",
   "mimetype": "text/x-python",
   "name": "python",
   "nbconvert_exporter": "python",
   "pygments_lexer": "ipython3",
   "version": "3.5.1"
  }
 },
 "nbformat": 4,
 "nbformat_minor": 0
}
